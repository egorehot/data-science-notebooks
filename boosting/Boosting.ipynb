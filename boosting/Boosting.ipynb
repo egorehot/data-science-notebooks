{
 "cells": [
  {
   "cell_type": "markdown",
   "metadata": {},
   "source": [
    "# Определение стоимости автомобилей"
   ]
  },
  {
   "cell_type": "markdown",
   "metadata": {},
   "source": [
    "Сервис по продаже автомобилей с пробегом «Не бит, не крашен» разрабатывает приложение для привлечения новых клиентов. В нём можно быстро узнать рыночную стоимость своего автомобиля. В вашем распоряжении исторические данные: технические характеристики, комплектации и цены автомобилей. Вам нужно построить модель для определения стоимости. \n",
    "\n",
    "Заказчику важны:\n",
    "\n",
    "- качество предсказания;\n",
    "- скорость предсказания;\n",
    "- время обучения."
   ]
  },
  {
   "cell_type": "markdown",
   "metadata": {},
   "source": [
    "## Подготовка данных"
   ]
  },
  {
   "cell_type": "code",
   "execution_count": 1,
   "metadata": {},
   "outputs": [],
   "source": [
    "import pandas as pd\n",
    "import numpy as np\n",
    "import matplotlib.pyplot as plt\n",
    "from sklearn.model_selection import train_test_split, GridSearchCV\n",
    "from sklearn.linear_model import LinearRegression\n",
    "from sklearn.tree import DecisionTreeRegressor\n",
    "from sklearn.ensemble import RandomForestRegressor, GradientBoostingRegressor\n",
    "from lightgbm import LGBMRegressor\n",
    "import xgboost as xgb\n",
    "from catboost import CatBoostRegressor, Pool\n",
    "import time\n",
    "import seaborn as sns\n",
    "%matplotlib inline\n",
    "from sklearn.metrics import mean_squared_error, make_scorer\n",
    "import warnings\n",
    "from sklearn.preprocessing import LabelEncoder\n",
    "warnings.filterwarnings('ignore')"
   ]
  },
  {
   "cell_type": "code",
   "execution_count": 2,
   "metadata": {
    "scrolled": true
   },
   "outputs": [
    {
     "data": {
      "text/html": [
       "<div>\n",
       "<style scoped>\n",
       "    .dataframe tbody tr th:only-of-type {\n",
       "        vertical-align: middle;\n",
       "    }\n",
       "\n",
       "    .dataframe tbody tr th {\n",
       "        vertical-align: top;\n",
       "    }\n",
       "\n",
       "    .dataframe thead th {\n",
       "        text-align: right;\n",
       "    }\n",
       "</style>\n",
       "<table border=\"1\" class=\"dataframe\">\n",
       "  <thead>\n",
       "    <tr style=\"text-align: right;\">\n",
       "      <th></th>\n",
       "      <th>DateCrawled</th>\n",
       "      <th>Price</th>\n",
       "      <th>VehicleType</th>\n",
       "      <th>RegistrationYear</th>\n",
       "      <th>Gearbox</th>\n",
       "      <th>Power</th>\n",
       "      <th>Model</th>\n",
       "      <th>Kilometer</th>\n",
       "      <th>RegistrationMonth</th>\n",
       "      <th>FuelType</th>\n",
       "      <th>Brand</th>\n",
       "      <th>NotRepaired</th>\n",
       "      <th>DateCreated</th>\n",
       "      <th>NumberOfPictures</th>\n",
       "      <th>PostalCode</th>\n",
       "      <th>LastSeen</th>\n",
       "    </tr>\n",
       "  </thead>\n",
       "  <tbody>\n",
       "    <tr>\n",
       "      <td>0</td>\n",
       "      <td>2016-03-24 11:52:17</td>\n",
       "      <td>480</td>\n",
       "      <td>NaN</td>\n",
       "      <td>1993</td>\n",
       "      <td>manual</td>\n",
       "      <td>0</td>\n",
       "      <td>golf</td>\n",
       "      <td>150000</td>\n",
       "      <td>0</td>\n",
       "      <td>petrol</td>\n",
       "      <td>volkswagen</td>\n",
       "      <td>NaN</td>\n",
       "      <td>2016-03-24 00:00:00</td>\n",
       "      <td>0</td>\n",
       "      <td>70435</td>\n",
       "      <td>2016-04-07 03:16:57</td>\n",
       "    </tr>\n",
       "    <tr>\n",
       "      <td>1</td>\n",
       "      <td>2016-03-24 10:58:45</td>\n",
       "      <td>18300</td>\n",
       "      <td>coupe</td>\n",
       "      <td>2011</td>\n",
       "      <td>manual</td>\n",
       "      <td>190</td>\n",
       "      <td>NaN</td>\n",
       "      <td>125000</td>\n",
       "      <td>5</td>\n",
       "      <td>gasoline</td>\n",
       "      <td>audi</td>\n",
       "      <td>yes</td>\n",
       "      <td>2016-03-24 00:00:00</td>\n",
       "      <td>0</td>\n",
       "      <td>66954</td>\n",
       "      <td>2016-04-07 01:46:50</td>\n",
       "    </tr>\n",
       "    <tr>\n",
       "      <td>2</td>\n",
       "      <td>2016-03-14 12:52:21</td>\n",
       "      <td>9800</td>\n",
       "      <td>suv</td>\n",
       "      <td>2004</td>\n",
       "      <td>auto</td>\n",
       "      <td>163</td>\n",
       "      <td>grand</td>\n",
       "      <td>125000</td>\n",
       "      <td>8</td>\n",
       "      <td>gasoline</td>\n",
       "      <td>jeep</td>\n",
       "      <td>NaN</td>\n",
       "      <td>2016-03-14 00:00:00</td>\n",
       "      <td>0</td>\n",
       "      <td>90480</td>\n",
       "      <td>2016-04-05 12:47:46</td>\n",
       "    </tr>\n",
       "    <tr>\n",
       "      <td>3</td>\n",
       "      <td>2016-03-17 16:54:04</td>\n",
       "      <td>1500</td>\n",
       "      <td>small</td>\n",
       "      <td>2001</td>\n",
       "      <td>manual</td>\n",
       "      <td>75</td>\n",
       "      <td>golf</td>\n",
       "      <td>150000</td>\n",
       "      <td>6</td>\n",
       "      <td>petrol</td>\n",
       "      <td>volkswagen</td>\n",
       "      <td>no</td>\n",
       "      <td>2016-03-17 00:00:00</td>\n",
       "      <td>0</td>\n",
       "      <td>91074</td>\n",
       "      <td>2016-03-17 17:40:17</td>\n",
       "    </tr>\n",
       "    <tr>\n",
       "      <td>4</td>\n",
       "      <td>2016-03-31 17:25:20</td>\n",
       "      <td>3600</td>\n",
       "      <td>small</td>\n",
       "      <td>2008</td>\n",
       "      <td>manual</td>\n",
       "      <td>69</td>\n",
       "      <td>fabia</td>\n",
       "      <td>90000</td>\n",
       "      <td>7</td>\n",
       "      <td>gasoline</td>\n",
       "      <td>skoda</td>\n",
       "      <td>no</td>\n",
       "      <td>2016-03-31 00:00:00</td>\n",
       "      <td>0</td>\n",
       "      <td>60437</td>\n",
       "      <td>2016-04-06 10:17:21</td>\n",
       "    </tr>\n",
       "  </tbody>\n",
       "</table>\n",
       "</div>"
      ],
      "text/plain": [
       "           DateCrawled  Price VehicleType  RegistrationYear Gearbox  Power  \\\n",
       "0  2016-03-24 11:52:17    480         NaN              1993  manual      0   \n",
       "1  2016-03-24 10:58:45  18300       coupe              2011  manual    190   \n",
       "2  2016-03-14 12:52:21   9800         suv              2004    auto    163   \n",
       "3  2016-03-17 16:54:04   1500       small              2001  manual     75   \n",
       "4  2016-03-31 17:25:20   3600       small              2008  manual     69   \n",
       "\n",
       "   Model  Kilometer  RegistrationMonth  FuelType       Brand NotRepaired  \\\n",
       "0   golf     150000                  0    petrol  volkswagen         NaN   \n",
       "1    NaN     125000                  5  gasoline        audi         yes   \n",
       "2  grand     125000                  8  gasoline        jeep         NaN   \n",
       "3   golf     150000                  6    petrol  volkswagen          no   \n",
       "4  fabia      90000                  7  gasoline       skoda          no   \n",
       "\n",
       "           DateCreated  NumberOfPictures  PostalCode             LastSeen  \n",
       "0  2016-03-24 00:00:00                 0       70435  2016-04-07 03:16:57  \n",
       "1  2016-03-24 00:00:00                 0       66954  2016-04-07 01:46:50  \n",
       "2  2016-03-14 00:00:00                 0       90480  2016-04-05 12:47:46  \n",
       "3  2016-03-17 00:00:00                 0       91074  2016-03-17 17:40:17  \n",
       "4  2016-03-31 00:00:00                 0       60437  2016-04-06 10:17:21  "
      ]
     },
     "metadata": {},
     "output_type": "display_data"
    },
    {
     "name": "stdout",
     "output_type": "stream",
     "text": [
      "<class 'pandas.core.frame.DataFrame'>\n",
      "RangeIndex: 354369 entries, 0 to 354368\n",
      "Data columns (total 16 columns):\n",
      "DateCrawled          354369 non-null object\n",
      "Price                354369 non-null int64\n",
      "VehicleType          316879 non-null object\n",
      "RegistrationYear     354369 non-null int64\n",
      "Gearbox              334536 non-null object\n",
      "Power                354369 non-null int64\n",
      "Model                334664 non-null object\n",
      "Kilometer            354369 non-null int64\n",
      "RegistrationMonth    354369 non-null int64\n",
      "FuelType             321474 non-null object\n",
      "Brand                354369 non-null object\n",
      "NotRepaired          283215 non-null object\n",
      "DateCreated          354369 non-null object\n",
      "NumberOfPictures     354369 non-null int64\n",
      "PostalCode           354369 non-null int64\n",
      "LastSeen             354369 non-null object\n",
      "dtypes: int64(7), object(9)\n",
      "memory usage: 43.3+ MB\n"
     ]
    }
   ],
   "source": [
    "data = pd.read_csv('/datasets/autos.csv')\n",
    "display(data.head())\n",
    "data.info()"
   ]
  },
  {
   "cell_type": "code",
   "execution_count": 3,
   "metadata": {
    "scrolled": true
   },
   "outputs": [
    {
     "name": "stdout",
     "output_type": "stream",
     "text": [
      "<class 'pandas.core.frame.DataFrame'>\n",
      "RangeIndex: 354369 entries, 0 to 354368\n",
      "Data columns (total 16 columns):\n",
      "DateCrawled          354369 non-null datetime64[ns]\n",
      "Price                354369 non-null int64\n",
      "VehicleType          316879 non-null object\n",
      "RegistrationYear     354369 non-null int64\n",
      "Gearbox              334536 non-null object\n",
      "Power                354369 non-null int64\n",
      "Model                334664 non-null object\n",
      "Kilometer            354369 non-null int64\n",
      "RegistrationMonth    354369 non-null int64\n",
      "FuelType             321474 non-null object\n",
      "Brand                354369 non-null object\n",
      "NotRepaired          283215 non-null object\n",
      "DateCreated          354369 non-null datetime64[ns]\n",
      "NumberOfPictures     354369 non-null int64\n",
      "PostalCode           354369 non-null int64\n",
      "LastSeen             354369 non-null datetime64[ns]\n",
      "dtypes: datetime64[ns](3), int64(7), object(6)\n",
      "memory usage: 43.3+ MB\n"
     ]
    }
   ],
   "source": [
    "data['DateCrawled'] = pd.to_datetime(data['DateCrawled'], format = '%Y-%m-%d')\n",
    "data['DateCreated'] = pd.to_datetime(data['DateCreated'], format = '%Y-%m-%d')\n",
    "data['LastSeen'] = pd.to_datetime(data['LastSeen'], format = '%Y-%m-%d')\n",
    "data.info()"
   ]
  },
  {
   "cell_type": "code",
   "execution_count": 4,
   "metadata": {},
   "outputs": [
    {
     "data": {
      "text/plain": [
       "count                  354369\n",
       "unique                    109\n",
       "top       2016-04-03 00:00:00\n",
       "freq                    13719\n",
       "first     2014-03-10 00:00:00\n",
       "last      2016-04-07 00:00:00\n",
       "Name: DateCreated, dtype: object"
      ]
     },
     "metadata": {},
     "output_type": "display_data"
    }
   ],
   "source": [
    "display(data.DateCreated.describe())"
   ]
  },
  {
   "cell_type": "code",
   "execution_count": 5,
   "metadata": {},
   "outputs": [
    {
     "name": "stdout",
     "output_type": "stream",
     "text": [
      "Описание количественных переменных\n",
      "               Price  RegistrationYear          Power      Kilometer  \\\n",
      "count  354369.000000     354369.000000  354369.000000  354369.000000   \n",
      "mean     4416.656776       2004.234448     110.094337  128211.172535   \n",
      "std      4514.158514         90.227958     189.850405   37905.341530   \n",
      "min         0.000000       1000.000000       0.000000    5000.000000   \n",
      "25%      1050.000000       1999.000000      69.000000  125000.000000   \n",
      "50%      2700.000000       2003.000000     105.000000  150000.000000   \n",
      "75%      6400.000000       2008.000000     143.000000  150000.000000   \n",
      "max     20000.000000       9999.000000   20000.000000  150000.000000   \n",
      "\n",
      "       RegistrationMonth  NumberOfPictures     PostalCode  \n",
      "count      354369.000000          354369.0  354369.000000  \n",
      "mean            5.714645               0.0   50508.689087  \n",
      "std             3.726421               0.0   25783.096248  \n",
      "min             0.000000               0.0    1067.000000  \n",
      "25%             3.000000               0.0   30165.000000  \n",
      "50%             6.000000               0.0   49413.000000  \n",
      "75%             9.000000               0.0   71083.000000  \n",
      "max            12.000000               0.0   99998.000000  \n",
      "--------------------------------------------------\n",
      "Количество дубликатов в таблице = 4\n"
     ]
    }
   ],
   "source": [
    "print('Описание количественных переменных')\n",
    "print(data.describe())\n",
    "print(50*'-')\n",
    "print(f'Количество дубликатов в таблице = {data.duplicated().sum()}')"
   ]
  },
  {
   "cell_type": "code",
   "execution_count": 6,
   "metadata": {},
   "outputs": [
    {
     "data": {
      "text/plain": [
       "0    354369\n",
       "Name: NumberOfPictures, dtype: int64"
      ]
     },
     "metadata": {},
     "output_type": "display_data"
    }
   ],
   "source": [
    "display(data.NumberOfPictures.value_counts())"
   ]
  },
  {
   "cell_type": "markdown",
   "metadata": {},
   "source": [
    "### Замечания после первичного анализа данных:\n",
    "\n",
    "<b>Пропуски:</b>\n",
    "    - VehicleType, Gearbox, Model, FuelType, Brand, NotRepaired.\n",
    "\n",
    "<b>Анализ численных данных на адекватность:</b>\n",
    "    - Price = 0. Удалим эти строки, так как цена быть должна;\n",
    "    - Power, 20000 лс слишком много. Но для этого нужно более детально понимание о мощностях всех моделей автомобилей, т.к. есть двигатели двс мощностью свыше 100.000 лс;\n",
    "    - Kilometer, медиана совпадает с max, что странно;\n",
    "    - RegistrationMonth [1, 12], т.е. 0 быть не должно;\n",
    "    - NumberOfPictures везде = 0. По-моему значимость данного признака нулевая, т.е. фичу вовсе можно удалить.\n",
    "\n",
    "<b>Анализ остальных колонок:</b>\n",
    "    - признаки DateCrawled, DateCreated, LastSeen не будут использоваться, т.к. не несут никакой полезной информации.\n",
    "\n",
    "Так же на первой стадии выявлено 4 дубликата.\n",
    "\n",
    "Алгоритм обработки данных:\n",
    "\n",
    "- удалить колонку с числом изображений (NumberOfPictures);\n",
    "- изменить типы данных на Date;\n",
    "- проработать выбросы, NaN значения и дубликаты."
   ]
  },
  {
   "cell_type": "code",
   "execution_count": 7,
   "metadata": {},
   "outputs": [
    {
     "data": {
      "text/html": [
       "<div>\n",
       "<style scoped>\n",
       "    .dataframe tbody tr th:only-of-type {\n",
       "        vertical-align: middle;\n",
       "    }\n",
       "\n",
       "    .dataframe tbody tr th {\n",
       "        vertical-align: top;\n",
       "    }\n",
       "\n",
       "    .dataframe thead th {\n",
       "        text-align: right;\n",
       "    }\n",
       "</style>\n",
       "<table border=\"1\" class=\"dataframe\">\n",
       "  <thead>\n",
       "    <tr style=\"text-align: right;\">\n",
       "      <th></th>\n",
       "      <th>DateCrawled</th>\n",
       "      <th>Price</th>\n",
       "      <th>VehicleType</th>\n",
       "      <th>RegistrationYear</th>\n",
       "      <th>Gearbox</th>\n",
       "      <th>Power</th>\n",
       "      <th>Model</th>\n",
       "      <th>Kilometer</th>\n",
       "      <th>RegistrationMonth</th>\n",
       "      <th>FuelType</th>\n",
       "      <th>Brand</th>\n",
       "      <th>NotRepaired</th>\n",
       "      <th>DateCreated</th>\n",
       "      <th>PostalCode</th>\n",
       "      <th>LastSeen</th>\n",
       "    </tr>\n",
       "  </thead>\n",
       "  <tbody>\n",
       "    <tr>\n",
       "      <td>0</td>\n",
       "      <td>2016-03-24 11:52:17</td>\n",
       "      <td>480</td>\n",
       "      <td>NaN</td>\n",
       "      <td>1993</td>\n",
       "      <td>manual</td>\n",
       "      <td>0</td>\n",
       "      <td>golf</td>\n",
       "      <td>150000</td>\n",
       "      <td>0</td>\n",
       "      <td>petrol</td>\n",
       "      <td>volkswagen</td>\n",
       "      <td>NaN</td>\n",
       "      <td>2016-03-24</td>\n",
       "      <td>70435</td>\n",
       "      <td>2016-04-07 03:16:57</td>\n",
       "    </tr>\n",
       "    <tr>\n",
       "      <td>1</td>\n",
       "      <td>2016-03-24 10:58:45</td>\n",
       "      <td>18300</td>\n",
       "      <td>coupe</td>\n",
       "      <td>2011</td>\n",
       "      <td>manual</td>\n",
       "      <td>190</td>\n",
       "      <td>NaN</td>\n",
       "      <td>125000</td>\n",
       "      <td>5</td>\n",
       "      <td>gasoline</td>\n",
       "      <td>audi</td>\n",
       "      <td>yes</td>\n",
       "      <td>2016-03-24</td>\n",
       "      <td>66954</td>\n",
       "      <td>2016-04-07 01:46:50</td>\n",
       "    </tr>\n",
       "    <tr>\n",
       "      <td>2</td>\n",
       "      <td>2016-03-14 12:52:21</td>\n",
       "      <td>9800</td>\n",
       "      <td>suv</td>\n",
       "      <td>2004</td>\n",
       "      <td>auto</td>\n",
       "      <td>163</td>\n",
       "      <td>grand</td>\n",
       "      <td>125000</td>\n",
       "      <td>8</td>\n",
       "      <td>gasoline</td>\n",
       "      <td>jeep</td>\n",
       "      <td>NaN</td>\n",
       "      <td>2016-03-14</td>\n",
       "      <td>90480</td>\n",
       "      <td>2016-04-05 12:47:46</td>\n",
       "    </tr>\n",
       "    <tr>\n",
       "      <td>3</td>\n",
       "      <td>2016-03-17 16:54:04</td>\n",
       "      <td>1500</td>\n",
       "      <td>small</td>\n",
       "      <td>2001</td>\n",
       "      <td>manual</td>\n",
       "      <td>75</td>\n",
       "      <td>golf</td>\n",
       "      <td>150000</td>\n",
       "      <td>6</td>\n",
       "      <td>petrol</td>\n",
       "      <td>volkswagen</td>\n",
       "      <td>no</td>\n",
       "      <td>2016-03-17</td>\n",
       "      <td>91074</td>\n",
       "      <td>2016-03-17 17:40:17</td>\n",
       "    </tr>\n",
       "    <tr>\n",
       "      <td>4</td>\n",
       "      <td>2016-03-31 17:25:20</td>\n",
       "      <td>3600</td>\n",
       "      <td>small</td>\n",
       "      <td>2008</td>\n",
       "      <td>manual</td>\n",
       "      <td>69</td>\n",
       "      <td>fabia</td>\n",
       "      <td>90000</td>\n",
       "      <td>7</td>\n",
       "      <td>gasoline</td>\n",
       "      <td>skoda</td>\n",
       "      <td>no</td>\n",
       "      <td>2016-03-31</td>\n",
       "      <td>60437</td>\n",
       "      <td>2016-04-06 10:17:21</td>\n",
       "    </tr>\n",
       "  </tbody>\n",
       "</table>\n",
       "</div>"
      ],
      "text/plain": [
       "          DateCrawled  Price VehicleType  RegistrationYear Gearbox  Power  \\\n",
       "0 2016-03-24 11:52:17    480         NaN              1993  manual      0   \n",
       "1 2016-03-24 10:58:45  18300       coupe              2011  manual    190   \n",
       "2 2016-03-14 12:52:21   9800         suv              2004    auto    163   \n",
       "3 2016-03-17 16:54:04   1500       small              2001  manual     75   \n",
       "4 2016-03-31 17:25:20   3600       small              2008  manual     69   \n",
       "\n",
       "   Model  Kilometer  RegistrationMonth  FuelType       Brand NotRepaired  \\\n",
       "0   golf     150000                  0    petrol  volkswagen         NaN   \n",
       "1    NaN     125000                  5  gasoline        audi         yes   \n",
       "2  grand     125000                  8  gasoline        jeep         NaN   \n",
       "3   golf     150000                  6    petrol  volkswagen          no   \n",
       "4  fabia      90000                  7  gasoline       skoda          no   \n",
       "\n",
       "  DateCreated  PostalCode            LastSeen  \n",
       "0  2016-03-24       70435 2016-04-07 03:16:57  \n",
       "1  2016-03-24       66954 2016-04-07 01:46:50  \n",
       "2  2016-03-14       90480 2016-04-05 12:47:46  \n",
       "3  2016-03-17       91074 2016-03-17 17:40:17  \n",
       "4  2016-03-31       60437 2016-04-06 10:17:21  "
      ]
     },
     "metadata": {},
     "output_type": "display_data"
    }
   ],
   "source": [
    "#удалим параметр с числом фото (NumberOfPictures)\n",
    "data = data.drop('NumberOfPictures', axis = 1)\n",
    "display(data.head())"
   ]
  },
  {
   "cell_type": "code",
   "execution_count": 8,
   "metadata": {},
   "outputs": [],
   "source": [
    "#функция высчитывает % данных по условию\n",
    "def part_of_value(df1, df):\n",
    "    return df1.shape[0]/df.shape[0]*100"
   ]
  },
  {
   "cell_type": "code",
   "execution_count": 9,
   "metadata": {},
   "outputs": [
    {
     "data": {
      "text/plain": [
       "4416.656775846645"
      ]
     },
     "metadata": {},
     "output_type": "display_data"
    },
    {
     "data": {
      "image/png": "[encoded data removed]",
      "text/plain": [
       "<Figure size 432x288 with 1 Axes>"
      ]
     },
     "metadata": {
      "needs_background": "light"
     },
     "output_type": "display_data"
    }
   ],
   "source": [
    "#target\n",
    "sns.boxplot(x = data['Price'])\n",
    "display(data.Price.mean())\n",
    "plt.show()"
   ]
  },
  {
   "cell_type": "code",
   "execution_count": 10,
   "metadata": {},
   "outputs": [
    {
     "data": {
      "text/plain": [
       "<matplotlib.axes._subplots.AxesSubplot at 0x7f1d4811b750>"
      ]
     },
     "execution_count": 10,
     "metadata": {},
     "output_type": "execute_result"
    },
    {
     "data": {
      "image/png": "[encoded data removed]",
      "text/plain": [
       "<Figure size 432x288 with 1 Axes>"
      ]
     },
     "metadata": {
      "needs_background": "light"
     },
     "output_type": "display_data"
    }
   ],
   "source": [
    "sns.distplot(data['Price'])"
   ]
  },
  {
   "cell_type": "markdown",
   "metadata": {},
   "source": [
    "Как уже было описано выше - будем удалять значения target признака, которые равны 0, так как цена не должна равняться 0."
   ]
  },
  {
   "cell_type": "code",
   "execution_count": 11,
   "metadata": {},
   "outputs": [
    {
     "data": {
      "text/plain": [
       "4.048040319553911"
      ]
     },
     "metadata": {},
     "output_type": "display_data"
    }
   ],
   "source": [
    "display(data[data['Price'] <= 100]['Price'].count()/data.shape[0]*100)"
   ]
  },
  {
   "cell_type": "markdown",
   "metadata": {},
   "source": [
    "4% подобных данных не так много, поэтому удаляем."
   ]
  },
  {
   "cell_type": "code",
   "execution_count": 12,
   "metadata": {},
   "outputs": [
    {
     "data": {
      "text/plain": [
       "(340024, 15)"
      ]
     },
     "metadata": {},
     "output_type": "display_data"
    }
   ],
   "source": [
    "data = data.drop(data.query('Price<=100').index)\n",
    "display(data.shape)"
   ]
  },
  {
   "cell_type": "code",
   "execution_count": 13,
   "metadata": {
    "scrolled": true
   },
   "outputs": [
    {
     "data": {
      "text/html": [
       "<div>\n",
       "<style scoped>\n",
       "    .dataframe tbody tr th:only-of-type {\n",
       "        vertical-align: middle;\n",
       "    }\n",
       "\n",
       "    .dataframe tbody tr th {\n",
       "        vertical-align: top;\n",
       "    }\n",
       "\n",
       "    .dataframe thead th {\n",
       "        text-align: right;\n",
       "    }\n",
       "</style>\n",
       "<table border=\"1\" class=\"dataframe\">\n",
       "  <thead>\n",
       "    <tr style=\"text-align: right;\">\n",
       "      <th></th>\n",
       "      <th>DateCrawled</th>\n",
       "      <th>Price</th>\n",
       "      <th>VehicleType</th>\n",
       "      <th>RegistrationYear</th>\n",
       "      <th>Gearbox</th>\n",
       "      <th>Power</th>\n",
       "      <th>Model</th>\n",
       "      <th>Kilometer</th>\n",
       "      <th>RegistrationMonth</th>\n",
       "      <th>FuelType</th>\n",
       "      <th>Brand</th>\n",
       "      <th>NotRepaired</th>\n",
       "      <th>DateCreated</th>\n",
       "      <th>PostalCode</th>\n",
       "      <th>LastSeen</th>\n",
       "    </tr>\n",
       "  </thead>\n",
       "  <tbody>\n",
       "    <tr>\n",
       "      <td>0</td>\n",
       "      <td>2016-03-24 11:52:17</td>\n",
       "      <td>480</td>\n",
       "      <td>NaN</td>\n",
       "      <td>1993</td>\n",
       "      <td>manual</td>\n",
       "      <td>0</td>\n",
       "      <td>golf</td>\n",
       "      <td>150000</td>\n",
       "      <td>0</td>\n",
       "      <td>petrol</td>\n",
       "      <td>volkswagen</td>\n",
       "      <td>NaN</td>\n",
       "      <td>2016-03-24</td>\n",
       "      <td>70435</td>\n",
       "      <td>2016-04-07 03:16:57</td>\n",
       "    </tr>\n",
       "    <tr>\n",
       "      <td>1</td>\n",
       "      <td>2016-03-24 10:58:45</td>\n",
       "      <td>18300</td>\n",
       "      <td>coupe</td>\n",
       "      <td>2011</td>\n",
       "      <td>manual</td>\n",
       "      <td>190</td>\n",
       "      <td>NaN</td>\n",
       "      <td>125000</td>\n",
       "      <td>5</td>\n",
       "      <td>gasoline</td>\n",
       "      <td>audi</td>\n",
       "      <td>yes</td>\n",
       "      <td>2016-03-24</td>\n",
       "      <td>66954</td>\n",
       "      <td>2016-04-07 01:46:50</td>\n",
       "    </tr>\n",
       "    <tr>\n",
       "      <td>2</td>\n",
       "      <td>2016-03-14 12:52:21</td>\n",
       "      <td>9800</td>\n",
       "      <td>suv</td>\n",
       "      <td>2004</td>\n",
       "      <td>auto</td>\n",
       "      <td>163</td>\n",
       "      <td>grand</td>\n",
       "      <td>125000</td>\n",
       "      <td>8</td>\n",
       "      <td>gasoline</td>\n",
       "      <td>jeep</td>\n",
       "      <td>NaN</td>\n",
       "      <td>2016-03-14</td>\n",
       "      <td>90480</td>\n",
       "      <td>2016-04-05 12:47:46</td>\n",
       "    </tr>\n",
       "    <tr>\n",
       "      <td>3</td>\n",
       "      <td>2016-03-17 16:54:04</td>\n",
       "      <td>1500</td>\n",
       "      <td>small</td>\n",
       "      <td>2001</td>\n",
       "      <td>manual</td>\n",
       "      <td>75</td>\n",
       "      <td>golf</td>\n",
       "      <td>150000</td>\n",
       "      <td>6</td>\n",
       "      <td>petrol</td>\n",
       "      <td>volkswagen</td>\n",
       "      <td>no</td>\n",
       "      <td>2016-03-17</td>\n",
       "      <td>91074</td>\n",
       "      <td>2016-03-17 17:40:17</td>\n",
       "    </tr>\n",
       "    <tr>\n",
       "      <td>4</td>\n",
       "      <td>2016-03-31 17:25:20</td>\n",
       "      <td>3600</td>\n",
       "      <td>small</td>\n",
       "      <td>2008</td>\n",
       "      <td>manual</td>\n",
       "      <td>69</td>\n",
       "      <td>fabia</td>\n",
       "      <td>90000</td>\n",
       "      <td>7</td>\n",
       "      <td>gasoline</td>\n",
       "      <td>skoda</td>\n",
       "      <td>no</td>\n",
       "      <td>2016-03-31</td>\n",
       "      <td>60437</td>\n",
       "      <td>2016-04-06 10:17:21</td>\n",
       "    </tr>\n",
       "  </tbody>\n",
       "</table>\n",
       "</div>"
      ],
      "text/plain": [
       "          DateCrawled  Price VehicleType  RegistrationYear Gearbox  Power  \\\n",
       "0 2016-03-24 11:52:17    480         NaN              1993  manual      0   \n",
       "1 2016-03-24 10:58:45  18300       coupe              2011  manual    190   \n",
       "2 2016-03-14 12:52:21   9800         suv              2004    auto    163   \n",
       "3 2016-03-17 16:54:04   1500       small              2001  manual     75   \n",
       "4 2016-03-31 17:25:20   3600       small              2008  manual     69   \n",
       "\n",
       "   Model  Kilometer  RegistrationMonth  FuelType       Brand NotRepaired  \\\n",
       "0   golf     150000                  0    petrol  volkswagen         NaN   \n",
       "1    NaN     125000                  5  gasoline        audi         yes   \n",
       "2  grand     125000                  8  gasoline        jeep         NaN   \n",
       "3   golf     150000                  6    petrol  volkswagen          no   \n",
       "4  fabia      90000                  7  gasoline       skoda          no   \n",
       "\n",
       "  DateCreated  PostalCode            LastSeen  \n",
       "0  2016-03-24       70435 2016-04-07 03:16:57  \n",
       "1  2016-03-24       66954 2016-04-07 01:46:50  \n",
       "2  2016-03-14       90480 2016-04-05 12:47:46  \n",
       "3  2016-03-17       91074 2016-03-17 17:40:17  \n",
       "4  2016-03-31       60437 2016-04-06 10:17:21  "
      ]
     },
     "metadata": {},
     "output_type": "display_data"
    }
   ],
   "source": [
    "display(data.head())"
   ]
  },
  {
   "cell_type": "code",
   "execution_count": 14,
   "metadata": {},
   "outputs": [
    {
     "data": {
      "text/plain": [
       "DateCrawled              0\n",
       "Price                    0\n",
       "VehicleType          32251\n",
       "RegistrationYear         0\n",
       "Gearbox              16085\n",
       "Power                    0\n",
       "Model                16889\n",
       "Kilometer                0\n",
       "RegistrationMonth        0\n",
       "FuelType             28004\n",
       "Brand                    0\n",
       "NotRepaired          63867\n",
       "DateCreated              0\n",
       "PostalCode               0\n",
       "LastSeen                 0\n",
       "dtype: int64"
      ]
     },
     "metadata": {},
     "output_type": "display_data"
    }
   ],
   "source": [
    "display(data.isna().sum())"
   ]
  },
  {
   "cell_type": "code",
   "execution_count": 15,
   "metadata": {
    "scrolled": true
   },
   "outputs": [
    {
     "data": {
      "text/plain": [
       "volkswagen        22830\n",
       "opel              12395\n",
       "bmw                8722\n",
       "mercedes_benz      7559\n",
       "ford               7320\n",
       "audi               7200\n",
       "renault            5810\n",
       "fiat               2996\n",
       "peugeot            2960\n",
       "sonstige_autos     2683\n",
       "seat               1843\n",
       "smart              1813\n",
       "mazda              1513\n",
       "citroen            1363\n",
       "nissan             1321\n",
       "skoda              1047\n",
       "toyota              925\n",
       "mitsubishi          896\n",
       "hyundai             806\n",
       "honda               800\n",
       "volvo               655\n",
       "suzuki              592\n",
       "alfa_romeo          558\n",
       "kia                 549\n",
       "mini                477\n",
       "chevrolet           423\n",
       "chrysler            366\n",
       "trabant             279\n",
       "daihatsu            248\n",
       "rover               199\n",
       "subaru              198\n",
       "daewoo              189\n",
       "dacia               168\n",
       "porsche             164\n",
       "jeep                153\n",
       "lancia              144\n",
       "land_rover          117\n",
       "jaguar              103\n",
       "saab                102\n",
       "lada                 69\n",
       "Name: Brand, dtype: int64"
      ]
     },
     "metadata": {},
     "output_type": "display_data"
    }
   ],
   "source": [
    "display(data[data['VehicleType'].isna() |\n",
    "     data['Gearbox'].isna() |\n",
    "     data['Model'].isna() |\n",
    "     data['FuelType'].isna() |\n",
    "     data['NotRepaired'].isna()]['Brand'].value_counts()\n",
    "       )"
   ]
  },
  {
   "cell_type": "code",
   "execution_count": 16,
   "metadata": {
    "scrolled": true
   },
   "outputs": [
    {
     "data": {
      "text/plain": [
       "sonstige_autos    285\n",
       "volkswagen        223\n",
       "bmw               102\n",
       "opel              101\n",
       "mercedes_benz      77\n",
       "audi               65\n",
       "ford               49\n",
       "renault            40\n",
       "fiat               39\n",
       "peugeot            30\n",
       "mazda              27\n",
       "trabant            25\n",
       "seat               18\n",
       "nissan             14\n",
       "citroen            13\n",
       "smart              13\n",
       "alfa_romeo         12\n",
       "honda              10\n",
       "hyundai             8\n",
       "suzuki              8\n",
       "mitsubishi          7\n",
       "chevrolet           7\n",
       "toyota              5\n",
       "chrysler            5\n",
       "daewoo              3\n",
       "kia                 3\n",
       "skoda               3\n",
       "volvo               2\n",
       "daihatsu            2\n",
       "rover               1\n",
       "porsche             1\n",
       "mini                1\n",
       "Name: Brand, dtype: int64"
      ]
     },
     "metadata": {},
     "output_type": "display_data"
    }
   ],
   "source": [
    "display(data[data['VehicleType'].isna() &\n",
    "     data['Gearbox'].isna() &\n",
    "     data['Model'].isna() &\n",
    "     data['FuelType'].isna() &\n",
    "     data['NotRepaired'].isna()]['Brand'].value_counts()\n",
    "       )"
   ]
  },
  {
   "cell_type": "markdown",
   "metadata": {},
   "source": [
    "<b>Пропуски найдены в следующих фичах:</b>\n",
    "\n",
    "- VehicleType — тип кузова\n",
    "\n",
    "- Gearbox — тип коробки передач\n",
    "\n",
    "- Model — модель автомобиля\n",
    "\n",
    "- FuelType — тип топлива\n",
    "\n",
    "- NotRepaired — была машина в ремонте или нет\n"
   ]
  },
  {
   "cell_type": "code",
   "execution_count": 17,
   "metadata": {},
   "outputs": [],
   "source": [
    "def visual_df_nulls(df):\n",
    "    print('{:^52}{:^16}{:^20}'.format('Признак', 'Всего пропусков', 'Пропусков (%)'))\n",
    "    for col in df.columns:\n",
    "        missed_data_share = df[col].isnull().mean()*100\n",
    "        missed_data_count = df[col].isnull().sum()\n",
    "        print('{:<50}{:^16}{:>18.5f}'.format(col, missed_data_count, missed_data_share))"
   ]
  },
  {
   "cell_type": "code",
   "execution_count": 18,
   "metadata": {},
   "outputs": [
    {
     "name": "stdout",
     "output_type": "stream",
     "text": [
      "                      Признак                       Всего пропусков    Пропусков (%)    \n",
      "DateCrawled                                              0                   0.00000\n",
      "Price                                                    0                   0.00000\n",
      "VehicleType                                            32251                 9.48492\n",
      "RegistrationYear                                         0                   0.00000\n",
      "Gearbox                                                16085                 4.73055\n",
      "Power                                                    0                   0.00000\n",
      "Model                                                  16889                 4.96700\n",
      "Kilometer                                                0                   0.00000\n",
      "RegistrationMonth                                        0                   0.00000\n",
      "FuelType                                               28004                 8.23589\n",
      "Brand                                                    0                   0.00000\n",
      "NotRepaired                                            63867                18.78309\n",
      "DateCreated                                              0                   0.00000\n",
      "PostalCode                                               0                   0.00000\n",
      "LastSeen                                                 0                   0.00000\n"
     ]
    }
   ],
   "source": [
    "visual_df_nulls(data)"
   ]
  },
  {
   "cell_type": "code",
   "execution_count": 19,
   "metadata": {},
   "outputs": [
    {
     "data": {
      "text/plain": [
       "no     243064\n",
       "yes     33093\n",
       "Name: NotRepaired, dtype: int64"
      ]
     },
     "metadata": {},
     "output_type": "display_data"
    }
   ],
   "source": [
    "display(data['NotRepaired'].value_counts())"
   ]
  },
  {
   "cell_type": "code",
   "execution_count": 20,
   "metadata": {},
   "outputs": [
    {
     "data": {
      "text/plain": [
       "DateCrawled          0\n",
       "Price                0\n",
       "VehicleType          0\n",
       "RegistrationYear     0\n",
       "Gearbox              0\n",
       "Power                0\n",
       "Model                0\n",
       "Kilometer            0\n",
       "RegistrationMonth    0\n",
       "FuelType             0\n",
       "Brand                0\n",
       "NotRepaired          0\n",
       "DateCreated          0\n",
       "PostalCode           0\n",
       "LastSeen             0\n",
       "dtype: int64"
      ]
     },
     "metadata": {},
     "output_type": "display_data"
    },
    {
     "data": {
      "text/html": [
       "<div>\n",
       "<style scoped>\n",
       "    .dataframe tbody tr th:only-of-type {\n",
       "        vertical-align: middle;\n",
       "    }\n",
       "\n",
       "    .dataframe tbody tr th {\n",
       "        vertical-align: top;\n",
       "    }\n",
       "\n",
       "    .dataframe thead th {\n",
       "        text-align: right;\n",
       "    }\n",
       "</style>\n",
       "<table border=\"1\" class=\"dataframe\">\n",
       "  <thead>\n",
       "    <tr style=\"text-align: right;\">\n",
       "      <th></th>\n",
       "      <th>DateCrawled</th>\n",
       "      <th>Price</th>\n",
       "      <th>VehicleType</th>\n",
       "      <th>RegistrationYear</th>\n",
       "      <th>Gearbox</th>\n",
       "      <th>Power</th>\n",
       "      <th>Model</th>\n",
       "      <th>Kilometer</th>\n",
       "      <th>RegistrationMonth</th>\n",
       "      <th>FuelType</th>\n",
       "      <th>Brand</th>\n",
       "      <th>NotRepaired</th>\n",
       "      <th>DateCreated</th>\n",
       "      <th>PostalCode</th>\n",
       "      <th>LastSeen</th>\n",
       "    </tr>\n",
       "  </thead>\n",
       "  <tbody>\n",
       "    <tr>\n",
       "      <td>0</td>\n",
       "      <td>2016-03-24 11:52:17</td>\n",
       "      <td>480</td>\n",
       "      <td>unknown</td>\n",
       "      <td>1993</td>\n",
       "      <td>manual</td>\n",
       "      <td>0</td>\n",
       "      <td>golf</td>\n",
       "      <td>150000</td>\n",
       "      <td>0</td>\n",
       "      <td>petrol</td>\n",
       "      <td>volkswagen</td>\n",
       "      <td>unknown</td>\n",
       "      <td>2016-03-24</td>\n",
       "      <td>70435</td>\n",
       "      <td>2016-04-07 03:16:57</td>\n",
       "    </tr>\n",
       "    <tr>\n",
       "      <td>1</td>\n",
       "      <td>2016-03-24 10:58:45</td>\n",
       "      <td>18300</td>\n",
       "      <td>coupe</td>\n",
       "      <td>2011</td>\n",
       "      <td>manual</td>\n",
       "      <td>190</td>\n",
       "      <td>unknown</td>\n",
       "      <td>125000</td>\n",
       "      <td>5</td>\n",
       "      <td>gasoline</td>\n",
       "      <td>audi</td>\n",
       "      <td>yes</td>\n",
       "      <td>2016-03-24</td>\n",
       "      <td>66954</td>\n",
       "      <td>2016-04-07 01:46:50</td>\n",
       "    </tr>\n",
       "    <tr>\n",
       "      <td>2</td>\n",
       "      <td>2016-03-14 12:52:21</td>\n",
       "      <td>9800</td>\n",
       "      <td>suv</td>\n",
       "      <td>2004</td>\n",
       "      <td>auto</td>\n",
       "      <td>163</td>\n",
       "      <td>grand</td>\n",
       "      <td>125000</td>\n",
       "      <td>8</td>\n",
       "      <td>gasoline</td>\n",
       "      <td>jeep</td>\n",
       "      <td>unknown</td>\n",
       "      <td>2016-03-14</td>\n",
       "      <td>90480</td>\n",
       "      <td>2016-04-05 12:47:46</td>\n",
       "    </tr>\n",
       "    <tr>\n",
       "      <td>3</td>\n",
       "      <td>2016-03-17 16:54:04</td>\n",
       "      <td>1500</td>\n",
       "      <td>small</td>\n",
       "      <td>2001</td>\n",
       "      <td>manual</td>\n",
       "      <td>75</td>\n",
       "      <td>golf</td>\n",
       "      <td>150000</td>\n",
       "      <td>6</td>\n",
       "      <td>petrol</td>\n",
       "      <td>volkswagen</td>\n",
       "      <td>no</td>\n",
       "      <td>2016-03-17</td>\n",
       "      <td>91074</td>\n",
       "      <td>2016-03-17 17:40:17</td>\n",
       "    </tr>\n",
       "    <tr>\n",
       "      <td>4</td>\n",
       "      <td>2016-03-31 17:25:20</td>\n",
       "      <td>3600</td>\n",
       "      <td>small</td>\n",
       "      <td>2008</td>\n",
       "      <td>manual</td>\n",
       "      <td>69</td>\n",
       "      <td>fabia</td>\n",
       "      <td>90000</td>\n",
       "      <td>7</td>\n",
       "      <td>gasoline</td>\n",
       "      <td>skoda</td>\n",
       "      <td>no</td>\n",
       "      <td>2016-03-31</td>\n",
       "      <td>60437</td>\n",
       "      <td>2016-04-06 10:17:21</td>\n",
       "    </tr>\n",
       "  </tbody>\n",
       "</table>\n",
       "</div>"
      ],
      "text/plain": [
       "          DateCrawled  Price VehicleType  RegistrationYear Gearbox  Power  \\\n",
       "0 2016-03-24 11:52:17    480     unknown              1993  manual      0   \n",
       "1 2016-03-24 10:58:45  18300       coupe              2011  manual    190   \n",
       "2 2016-03-14 12:52:21   9800         suv              2004    auto    163   \n",
       "3 2016-03-17 16:54:04   1500       small              2001  manual     75   \n",
       "4 2016-03-31 17:25:20   3600       small              2008  manual     69   \n",
       "\n",
       "     Model  Kilometer  RegistrationMonth  FuelType       Brand NotRepaired  \\\n",
       "0     golf     150000                  0    petrol  volkswagen     unknown   \n",
       "1  unknown     125000                  5  gasoline        audi         yes   \n",
       "2    grand     125000                  8  gasoline        jeep     unknown   \n",
       "3     golf     150000                  6    petrol  volkswagen          no   \n",
       "4    fabia      90000                  7  gasoline       skoda          no   \n",
       "\n",
       "  DateCreated  PostalCode            LastSeen  \n",
       "0  2016-03-24       70435 2016-04-07 03:16:57  \n",
       "1  2016-03-24       66954 2016-04-07 01:46:50  \n",
       "2  2016-03-14       90480 2016-04-05 12:47:46  \n",
       "3  2016-03-17       91074 2016-03-17 17:40:17  \n",
       "4  2016-03-31       60437 2016-04-06 10:17:21  "
      ]
     },
     "metadata": {},
     "output_type": "display_data"
    }
   ],
   "source": [
    "data = data.fillna('unknown')\n",
    "display(data.isna().sum())\n",
    "display(data.head())"
   ]
  },
  {
   "cell_type": "code",
   "execution_count": 21,
   "metadata": {},
   "outputs": [],
   "source": [
    "le = LabelEncoder()\n",
    "#ohe_columns = ['Model', 'Brand']\n",
    "le_columns = ['VehicleType', 'Gearbox', 'FuelType', 'NotRepaired', 'Model', 'Brand']"
   ]
  },
  {
   "cell_type": "code",
   "execution_count": 22,
   "metadata": {},
   "outputs": [],
   "source": [
    "#ohe_data = pd.get_dummies(data[ohe_columns], drop_first=True)\n",
    "#display(ohe_data.shape)"
   ]
  },
  {
   "cell_type": "markdown",
   "metadata": {},
   "source": [
    "Уберу OHE, так как получается очень много признаков, из-за чего скорость обучения моделей и подбора гиперпараметров значительно возрастает."
   ]
  },
  {
   "cell_type": "code",
   "execution_count": 23,
   "metadata": {},
   "outputs": [
    {
     "data": {
      "text/html": [
       "<div>\n",
       "<style scoped>\n",
       "    .dataframe tbody tr th:only-of-type {\n",
       "        vertical-align: middle;\n",
       "    }\n",
       "\n",
       "    .dataframe tbody tr th {\n",
       "        vertical-align: top;\n",
       "    }\n",
       "\n",
       "    .dataframe thead th {\n",
       "        text-align: right;\n",
       "    }\n",
       "</style>\n",
       "<table border=\"1\" class=\"dataframe\">\n",
       "  <thead>\n",
       "    <tr style=\"text-align: right;\">\n",
       "      <th></th>\n",
       "      <th>DateCrawled</th>\n",
       "      <th>Price</th>\n",
       "      <th>VehicleType</th>\n",
       "      <th>RegistrationYear</th>\n",
       "      <th>Gearbox</th>\n",
       "      <th>Power</th>\n",
       "      <th>Model</th>\n",
       "      <th>Kilometer</th>\n",
       "      <th>RegistrationMonth</th>\n",
       "      <th>FuelType</th>\n",
       "      <th>Brand</th>\n",
       "      <th>NotRepaired</th>\n",
       "      <th>DateCreated</th>\n",
       "      <th>PostalCode</th>\n",
       "      <th>LastSeen</th>\n",
       "    </tr>\n",
       "  </thead>\n",
       "  <tbody>\n",
       "    <tr>\n",
       "      <td>0</td>\n",
       "      <td>2016-03-24 11:52:17</td>\n",
       "      <td>480</td>\n",
       "      <td>unknown</td>\n",
       "      <td>1993</td>\n",
       "      <td>manual</td>\n",
       "      <td>0</td>\n",
       "      <td>golf</td>\n",
       "      <td>150000</td>\n",
       "      <td>0</td>\n",
       "      <td>petrol</td>\n",
       "      <td>volkswagen</td>\n",
       "      <td>unknown</td>\n",
       "      <td>2016-03-24</td>\n",
       "      <td>70435</td>\n",
       "      <td>2016-04-07 03:16:57</td>\n",
       "    </tr>\n",
       "    <tr>\n",
       "      <td>1</td>\n",
       "      <td>2016-03-24 10:58:45</td>\n",
       "      <td>18300</td>\n",
       "      <td>coupe</td>\n",
       "      <td>2011</td>\n",
       "      <td>manual</td>\n",
       "      <td>190</td>\n",
       "      <td>unknown</td>\n",
       "      <td>125000</td>\n",
       "      <td>5</td>\n",
       "      <td>gasoline</td>\n",
       "      <td>audi</td>\n",
       "      <td>yes</td>\n",
       "      <td>2016-03-24</td>\n",
       "      <td>66954</td>\n",
       "      <td>2016-04-07 01:46:50</td>\n",
       "    </tr>\n",
       "    <tr>\n",
       "      <td>2</td>\n",
       "      <td>2016-03-14 12:52:21</td>\n",
       "      <td>9800</td>\n",
       "      <td>suv</td>\n",
       "      <td>2004</td>\n",
       "      <td>auto</td>\n",
       "      <td>163</td>\n",
       "      <td>grand</td>\n",
       "      <td>125000</td>\n",
       "      <td>8</td>\n",
       "      <td>gasoline</td>\n",
       "      <td>jeep</td>\n",
       "      <td>unknown</td>\n",
       "      <td>2016-03-14</td>\n",
       "      <td>90480</td>\n",
       "      <td>2016-04-05 12:47:46</td>\n",
       "    </tr>\n",
       "    <tr>\n",
       "      <td>3</td>\n",
       "      <td>2016-03-17 16:54:04</td>\n",
       "      <td>1500</td>\n",
       "      <td>small</td>\n",
       "      <td>2001</td>\n",
       "      <td>manual</td>\n",
       "      <td>75</td>\n",
       "      <td>golf</td>\n",
       "      <td>150000</td>\n",
       "      <td>6</td>\n",
       "      <td>petrol</td>\n",
       "      <td>volkswagen</td>\n",
       "      <td>no</td>\n",
       "      <td>2016-03-17</td>\n",
       "      <td>91074</td>\n",
       "      <td>2016-03-17 17:40:17</td>\n",
       "    </tr>\n",
       "    <tr>\n",
       "      <td>4</td>\n",
       "      <td>2016-03-31 17:25:20</td>\n",
       "      <td>3600</td>\n",
       "      <td>small</td>\n",
       "      <td>2008</td>\n",
       "      <td>manual</td>\n",
       "      <td>69</td>\n",
       "      <td>fabia</td>\n",
       "      <td>90000</td>\n",
       "      <td>7</td>\n",
       "      <td>gasoline</td>\n",
       "      <td>skoda</td>\n",
       "      <td>no</td>\n",
       "      <td>2016-03-31</td>\n",
       "      <td>60437</td>\n",
       "      <td>2016-04-06 10:17:21</td>\n",
       "    </tr>\n",
       "  </tbody>\n",
       "</table>\n",
       "</div>"
      ],
      "text/plain": [
       "          DateCrawled  Price VehicleType  RegistrationYear Gearbox  Power  \\\n",
       "0 2016-03-24 11:52:17    480     unknown              1993  manual      0   \n",
       "1 2016-03-24 10:58:45  18300       coupe              2011  manual    190   \n",
       "2 2016-03-14 12:52:21   9800         suv              2004    auto    163   \n",
       "3 2016-03-17 16:54:04   1500       small              2001  manual     75   \n",
       "4 2016-03-31 17:25:20   3600       small              2008  manual     69   \n",
       "\n",
       "     Model  Kilometer  RegistrationMonth  FuelType       Brand NotRepaired  \\\n",
       "0     golf     150000                  0    petrol  volkswagen     unknown   \n",
       "1  unknown     125000                  5  gasoline        audi         yes   \n",
       "2    grand     125000                  8  gasoline        jeep     unknown   \n",
       "3     golf     150000                  6    petrol  volkswagen          no   \n",
       "4    fabia      90000                  7  gasoline       skoda          no   \n",
       "\n",
       "  DateCreated  PostalCode            LastSeen  \n",
       "0  2016-03-24       70435 2016-04-07 03:16:57  \n",
       "1  2016-03-24       66954 2016-04-07 01:46:50  \n",
       "2  2016-03-14       90480 2016-04-05 12:47:46  \n",
       "3  2016-03-17       91074 2016-03-17 17:40:17  \n",
       "4  2016-03-31       60437 2016-04-06 10:17:21  "
      ]
     },
     "metadata": {},
     "output_type": "display_data"
    },
    {
     "data": {
      "text/plain": [
       "(340024, 15)"
      ]
     },
     "metadata": {},
     "output_type": "display_data"
    }
   ],
   "source": [
    "#display(data.shape)\n",
    "#data = data.drop(columns=ohe_columns, axis=1).join(ohe_data)\n",
    "display(data.head(), data.shape)"
   ]
  },
  {
   "cell_type": "code",
   "execution_count": 24,
   "metadata": {
    "scrolled": true
   },
   "outputs": [
    {
     "data": {
      "text/html": [
       "<div>\n",
       "<style scoped>\n",
       "    .dataframe tbody tr th:only-of-type {\n",
       "        vertical-align: middle;\n",
       "    }\n",
       "\n",
       "    .dataframe tbody tr th {\n",
       "        vertical-align: top;\n",
       "    }\n",
       "\n",
       "    .dataframe thead th {\n",
       "        text-align: right;\n",
       "    }\n",
       "</style>\n",
       "<table border=\"1\" class=\"dataframe\">\n",
       "  <thead>\n",
       "    <tr style=\"text-align: right;\">\n",
       "      <th></th>\n",
       "      <th>DateCrawled</th>\n",
       "      <th>Price</th>\n",
       "      <th>VehicleType</th>\n",
       "      <th>RegistrationYear</th>\n",
       "      <th>Gearbox</th>\n",
       "      <th>Power</th>\n",
       "      <th>Model</th>\n",
       "      <th>Kilometer</th>\n",
       "      <th>RegistrationMonth</th>\n",
       "      <th>FuelType</th>\n",
       "      <th>Brand</th>\n",
       "      <th>NotRepaired</th>\n",
       "      <th>DateCreated</th>\n",
       "      <th>PostalCode</th>\n",
       "      <th>LastSeen</th>\n",
       "    </tr>\n",
       "  </thead>\n",
       "  <tbody>\n",
       "    <tr>\n",
       "      <td>0</td>\n",
       "      <td>2016-03-24 11:52:17</td>\n",
       "      <td>480</td>\n",
       "      <td>7</td>\n",
       "      <td>1993</td>\n",
       "      <td>1</td>\n",
       "      <td>0</td>\n",
       "      <td>116</td>\n",
       "      <td>150000</td>\n",
       "      <td>0</td>\n",
       "      <td>6</td>\n",
       "      <td>38</td>\n",
       "      <td>1</td>\n",
       "      <td>2016-03-24</td>\n",
       "      <td>70435</td>\n",
       "      <td>2016-04-07 03:16:57</td>\n",
       "    </tr>\n",
       "    <tr>\n",
       "      <td>1</td>\n",
       "      <td>2016-03-24 10:58:45</td>\n",
       "      <td>18300</td>\n",
       "      <td>2</td>\n",
       "      <td>2011</td>\n",
       "      <td>1</td>\n",
       "      <td>190</td>\n",
       "      <td>228</td>\n",
       "      <td>125000</td>\n",
       "      <td>5</td>\n",
       "      <td>2</td>\n",
       "      <td>1</td>\n",
       "      <td>2</td>\n",
       "      <td>2016-03-24</td>\n",
       "      <td>66954</td>\n",
       "      <td>2016-04-07 01:46:50</td>\n",
       "    </tr>\n",
       "    <tr>\n",
       "      <td>2</td>\n",
       "      <td>2016-03-14 12:52:21</td>\n",
       "      <td>9800</td>\n",
       "      <td>6</td>\n",
       "      <td>2004</td>\n",
       "      <td>0</td>\n",
       "      <td>163</td>\n",
       "      <td>117</td>\n",
       "      <td>125000</td>\n",
       "      <td>8</td>\n",
       "      <td>2</td>\n",
       "      <td>14</td>\n",
       "      <td>1</td>\n",
       "      <td>2016-03-14</td>\n",
       "      <td>90480</td>\n",
       "      <td>2016-04-05 12:47:46</td>\n",
       "    </tr>\n",
       "    <tr>\n",
       "      <td>3</td>\n",
       "      <td>2016-03-17 16:54:04</td>\n",
       "      <td>1500</td>\n",
       "      <td>5</td>\n",
       "      <td>2001</td>\n",
       "      <td>1</td>\n",
       "      <td>75</td>\n",
       "      <td>116</td>\n",
       "      <td>150000</td>\n",
       "      <td>6</td>\n",
       "      <td>6</td>\n",
       "      <td>38</td>\n",
       "      <td>0</td>\n",
       "      <td>2016-03-17</td>\n",
       "      <td>91074</td>\n",
       "      <td>2016-03-17 17:40:17</td>\n",
       "    </tr>\n",
       "    <tr>\n",
       "      <td>4</td>\n",
       "      <td>2016-03-31 17:25:20</td>\n",
       "      <td>3600</td>\n",
       "      <td>5</td>\n",
       "      <td>2008</td>\n",
       "      <td>1</td>\n",
       "      <td>69</td>\n",
       "      <td>101</td>\n",
       "      <td>90000</td>\n",
       "      <td>7</td>\n",
       "      <td>2</td>\n",
       "      <td>31</td>\n",
       "      <td>0</td>\n",
       "      <td>2016-03-31</td>\n",
       "      <td>60437</td>\n",
       "      <td>2016-04-06 10:17:21</td>\n",
       "    </tr>\n",
       "  </tbody>\n",
       "</table>\n",
       "</div>"
      ],
      "text/plain": [
       "          DateCrawled  Price  VehicleType  RegistrationYear  Gearbox  Power  \\\n",
       "0 2016-03-24 11:52:17    480            7              1993        1      0   \n",
       "1 2016-03-24 10:58:45  18300            2              2011        1    190   \n",
       "2 2016-03-14 12:52:21   9800            6              2004        0    163   \n",
       "3 2016-03-17 16:54:04   1500            5              2001        1     75   \n",
       "4 2016-03-31 17:25:20   3600            5              2008        1     69   \n",
       "\n",
       "   Model  Kilometer  RegistrationMonth  FuelType  Brand  NotRepaired  \\\n",
       "0    116     150000                  0         6     38            1   \n",
       "1    228     125000                  5         2      1            2   \n",
       "2    117     125000                  8         2     14            1   \n",
       "3    116     150000                  6         6     38            0   \n",
       "4    101      90000                  7         2     31            0   \n",
       "\n",
       "  DateCreated  PostalCode            LastSeen  \n",
       "0  2016-03-24       70435 2016-04-07 03:16:57  \n",
       "1  2016-03-24       66954 2016-04-07 01:46:50  \n",
       "2  2016-03-14       90480 2016-04-05 12:47:46  \n",
       "3  2016-03-17       91074 2016-03-17 17:40:17  \n",
       "4  2016-03-31       60437 2016-04-06 10:17:21  "
      ]
     },
     "metadata": {},
     "output_type": "display_data"
    },
    {
     "data": {
      "text/plain": [
       "(340024, 15)"
      ]
     },
     "metadata": {},
     "output_type": "display_data"
    }
   ],
   "source": [
    "for x in le_columns:\n",
    "    data[x] = le.fit_transform(data[x])\n",
    "display(data.head(), data.shape)"
   ]
  },
  {
   "cell_type": "code",
   "execution_count": 25,
   "metadata": {},
   "outputs": [
    {
     "data": {
      "text/plain": [
       "10115    811\n",
       "65428    601\n",
       "66333    320\n",
       "44145    301\n",
       "32257    297\n",
       "        ... \n",
       "21131      1\n",
       "96197      1\n",
       "25599      1\n",
       "95694      1\n",
       "21710      1\n",
       "Name: PostalCode, Length: 8137, dtype: int64"
      ]
     },
     "metadata": {},
     "output_type": "display_data"
    },
    {
     "data": {
      "text/plain": [
       "count    340024.000000\n",
       "mean      50703.115257\n",
       "std       25721.449527\n",
       "min        1067.000000\n",
       "25%       30455.000000\n",
       "50%       49536.000000\n",
       "75%       71229.000000\n",
       "max       99998.000000\n",
       "Name: PostalCode, dtype: float64"
      ]
     },
     "metadata": {},
     "output_type": "display_data"
    }
   ],
   "source": [
    "display(data['PostalCode'].value_counts())\n",
    "display(data['PostalCode'].describe())"
   ]
  },
  {
   "cell_type": "code",
   "execution_count": 26,
   "metadata": {},
   "outputs": [
    {
     "data": {
      "text/plain": [
       "(340024, 15)"
      ]
     },
     "metadata": {},
     "output_type": "display_data"
    },
    {
     "data": {
      "text/plain": [
       "(340024, 11)"
      ]
     },
     "metadata": {},
     "output_type": "display_data"
    }
   ],
   "source": [
    "display(data.shape)\n",
    "data = data.drop(['DateCrawled', 'DateCreated', 'LastSeen', 'PostalCode'], axis = 1)\n",
    "display(data.shape)"
   ]
  },
  {
   "cell_type": "markdown",
   "metadata": {},
   "source": [
    "### Работа с выбросами"
   ]
  },
  {
   "cell_type": "code",
   "execution_count": 27,
   "metadata": {},
   "outputs": [
    {
     "data": {
      "image/png": "[encoded data removed]",
      "text/plain": [
       "<Figure size 432x288 with 1 Axes>"
      ]
     },
     "metadata": {
      "needs_background": "light"
     },
     "output_type": "display_data"
    }
   ],
   "source": [
    "sns.distplot(data.Kilometer)\n",
    "plt.show()"
   ]
  },
  {
   "cell_type": "markdown",
   "metadata": {},
   "source": [
    "Максимальный пробег около 150000 км. Данные вполне реальны, оставим без изменений."
   ]
  },
  {
   "cell_type": "code",
   "execution_count": 28,
   "metadata": {},
   "outputs": [
    {
     "data": {
      "text/plain": [
       "9.170235042232314"
      ]
     },
     "metadata": {},
     "output_type": "display_data"
    },
    {
     "data": {
      "text/plain": [
       "31181"
      ]
     },
     "metadata": {},
     "output_type": "display_data"
    }
   ],
   "source": [
    "display(part_of_value(df1=data.query('RegistrationMonth==0'), df=data))\n",
    "display(data.query('RegistrationMonth==0').shape[0])"
   ]
  },
  {
   "cell_type": "code",
   "execution_count": 29,
   "metadata": {},
   "outputs": [
    {
     "data": {
      "image/png": "[encoded data removed]",
      "text/plain": [
       "<Figure size 432x288 with 1 Axes>"
      ]
     },
     "metadata": {
      "needs_background": "light"
     },
     "output_type": "display_data"
    }
   ],
   "source": [
    "sns.distplot(data.RegistrationMonth)\n",
    "plt.show()"
   ]
  },
  {
   "cell_type": "markdown",
   "metadata": {},
   "source": [
    "Нам необходимо обработать месяца = 0. Распределим значения по месяцам 1-12 так, чтобы не изменилось соотношение."
   ]
  },
  {
   "cell_type": "code",
   "execution_count": 30,
   "metadata": {},
   "outputs": [],
   "source": [
    "frac_list = []\n",
    "for i in range(1,13):\n",
    "    frac = data.query('RegistrationMonth==@i').shape[0]/(data.shape[0]-data.query('RegistrationMonth==0').shape[0])\n",
    "    n_size = round(data.query('RegistrationMonth==0').shape[0]*frac)\n",
    "    frac_list.append(n_size)"
   ]
  },
  {
   "cell_type": "code",
   "execution_count": 31,
   "metadata": {},
   "outputs": [],
   "source": [
    "all_idx = np.array(data.query('RegistrationMonth==0').index)\n",
    "for month, i in enumerate(frac_list):\n",
    "    idx = np.random.choice(all_idx, size = i, replace = False)\n",
    "    data.loc[idx, 'RegistrationMonth'] = (month+1)\n",
    "    all_idx = all_idx[~np.isin(all_idx, idx)]"
   ]
  },
  {
   "cell_type": "code",
   "execution_count": 32,
   "metadata": {},
   "outputs": [
    {
     "data": {
      "image/png": "[encoded data removed]",
      "text/plain": [
       "<Figure size 432x288 with 1 Axes>"
      ]
     },
     "metadata": {
      "needs_background": "light"
     },
     "output_type": "display_data"
    }
   ],
   "source": [
    "sns.distplot(data.RegistrationMonth)\n",
    "plt.show()"
   ]
  },
  {
   "cell_type": "code",
   "execution_count": 33,
   "metadata": {},
   "outputs": [
    {
     "data": {
      "text/plain": [
       "0.0"
      ]
     },
     "metadata": {},
     "output_type": "display_data"
    }
   ],
   "source": [
    "display(part_of_value(df1 = data.query('RegistrationMonth==0'), df = data))"
   ]
  },
  {
   "cell_type": "markdown",
   "metadata": {},
   "source": [
    "На данном этапе мы перераспределили значения параметра RegistrationMonth, которые равнялись нулю."
   ]
  },
  {
   "cell_type": "code",
   "execution_count": 34,
   "metadata": {},
   "outputs": [
    {
     "name": "stdout",
     "output_type": "stream",
     "text": [
      "Количество дубликатов в таблице = 24758\n"
     ]
    }
   ],
   "source": [
    "print(f'Количество дубликатов в таблице = {data.duplicated().sum()}')"
   ]
  },
  {
   "cell_type": "code",
   "execution_count": 35,
   "metadata": {},
   "outputs": [
    {
     "data": {
      "image/png": "[encoded data removed]",
      "text/plain": [
       "<Figure size 432x288 with 1 Axes>"
      ]
     },
     "metadata": {
      "needs_background": "light"
     },
     "output_type": "display_data"
    },
    {
     "data": {
      "text/plain": [
       "159"
      ]
     },
     "metadata": {},
     "output_type": "display_data"
    }
   ],
   "source": [
    "sns.distplot(data.RegistrationYear)\n",
    "plt.show()\n",
    "display(data.query('RegistrationYear <= 1930 | RegistrationYear >= 2021')['RegistrationYear'].count())"
   ]
  },
  {
   "cell_type": "code",
   "execution_count": 36,
   "metadata": {
    "scrolled": true
   },
   "outputs": [
    {
     "data": {
      "text/html": [
       "<div>\n",
       "<style scoped>\n",
       "    .dataframe tbody tr th:only-of-type {\n",
       "        vertical-align: middle;\n",
       "    }\n",
       "\n",
       "    .dataframe tbody tr th {\n",
       "        vertical-align: top;\n",
       "    }\n",
       "\n",
       "    .dataframe thead th {\n",
       "        text-align: right;\n",
       "    }\n",
       "</style>\n",
       "<table border=\"1\" class=\"dataframe\">\n",
       "  <thead>\n",
       "    <tr style=\"text-align: right;\">\n",
       "      <th></th>\n",
       "      <th>Price</th>\n",
       "      <th>VehicleType</th>\n",
       "      <th>RegistrationYear</th>\n",
       "      <th>Gearbox</th>\n",
       "      <th>Power</th>\n",
       "      <th>Model</th>\n",
       "      <th>Kilometer</th>\n",
       "      <th>RegistrationMonth</th>\n",
       "      <th>FuelType</th>\n",
       "      <th>Brand</th>\n",
       "      <th>NotRepaired</th>\n",
       "    </tr>\n",
       "  </thead>\n",
       "  <tbody>\n",
       "    <tr>\n",
       "      <td>15</td>\n",
       "      <td>450</td>\n",
       "      <td>5</td>\n",
       "      <td>1910</td>\n",
       "      <td>2</td>\n",
       "      <td>0</td>\n",
       "      <td>128</td>\n",
       "      <td>5000</td>\n",
       "      <td>6</td>\n",
       "      <td>6</td>\n",
       "      <td>10</td>\n",
       "      <td>1</td>\n",
       "    </tr>\n",
       "    <tr>\n",
       "      <td>16</td>\n",
       "      <td>300</td>\n",
       "      <td>7</td>\n",
       "      <td>2016</td>\n",
       "      <td>2</td>\n",
       "      <td>60</td>\n",
       "      <td>173</td>\n",
       "      <td>150000</td>\n",
       "      <td>6</td>\n",
       "      <td>6</td>\n",
       "      <td>38</td>\n",
       "      <td>1</td>\n",
       "    </tr>\n",
       "    <tr>\n",
       "      <td>22</td>\n",
       "      <td>2900</td>\n",
       "      <td>7</td>\n",
       "      <td>2018</td>\n",
       "      <td>1</td>\n",
       "      <td>90</td>\n",
       "      <td>150</td>\n",
       "      <td>150000</td>\n",
       "      <td>5</td>\n",
       "      <td>6</td>\n",
       "      <td>24</td>\n",
       "      <td>0</td>\n",
       "    </tr>\n",
       "    <tr>\n",
       "      <td>26</td>\n",
       "      <td>5555</td>\n",
       "      <td>7</td>\n",
       "      <td>2017</td>\n",
       "      <td>1</td>\n",
       "      <td>125</td>\n",
       "      <td>57</td>\n",
       "      <td>125000</td>\n",
       "      <td>4</td>\n",
       "      <td>7</td>\n",
       "      <td>5</td>\n",
       "      <td>0</td>\n",
       "    </tr>\n",
       "    <tr>\n",
       "      <td>31</td>\n",
       "      <td>899</td>\n",
       "      <td>7</td>\n",
       "      <td>2016</td>\n",
       "      <td>1</td>\n",
       "      <td>60</td>\n",
       "      <td>75</td>\n",
       "      <td>150000</td>\n",
       "      <td>6</td>\n",
       "      <td>6</td>\n",
       "      <td>27</td>\n",
       "      <td>1</td>\n",
       "    </tr>\n",
       "    <tr>\n",
       "      <td>35</td>\n",
       "      <td>350</td>\n",
       "      <td>7</td>\n",
       "      <td>2016</td>\n",
       "      <td>1</td>\n",
       "      <td>75</td>\n",
       "      <td>116</td>\n",
       "      <td>150000</td>\n",
       "      <td>4</td>\n",
       "      <td>6</td>\n",
       "      <td>38</td>\n",
       "      <td>0</td>\n",
       "    </tr>\n",
       "    <tr>\n",
       "      <td>37</td>\n",
       "      <td>1500</td>\n",
       "      <td>7</td>\n",
       "      <td>2016</td>\n",
       "      <td>2</td>\n",
       "      <td>0</td>\n",
       "      <td>133</td>\n",
       "      <td>150000</td>\n",
       "      <td>1</td>\n",
       "      <td>2</td>\n",
       "      <td>27</td>\n",
       "      <td>0</td>\n",
       "    </tr>\n",
       "    <tr>\n",
       "      <td>48</td>\n",
       "      <td>7750</td>\n",
       "      <td>7</td>\n",
       "      <td>2017</td>\n",
       "      <td>1</td>\n",
       "      <td>80</td>\n",
       "      <td>116</td>\n",
       "      <td>100000</td>\n",
       "      <td>1</td>\n",
       "      <td>6</td>\n",
       "      <td>38</td>\n",
       "      <td>1</td>\n",
       "    </tr>\n",
       "    <tr>\n",
       "      <td>51</td>\n",
       "      <td>2000</td>\n",
       "      <td>7</td>\n",
       "      <td>2017</td>\n",
       "      <td>1</td>\n",
       "      <td>90</td>\n",
       "      <td>176</td>\n",
       "      <td>150000</td>\n",
       "      <td>11</td>\n",
       "      <td>2</td>\n",
       "      <td>9</td>\n",
       "      <td>2</td>\n",
       "    </tr>\n",
       "    <tr>\n",
       "      <td>52</td>\n",
       "      <td>1400</td>\n",
       "      <td>7</td>\n",
       "      <td>2016</td>\n",
       "      <td>1</td>\n",
       "      <td>55</td>\n",
       "      <td>166</td>\n",
       "      <td>5000</td>\n",
       "      <td>1</td>\n",
       "      <td>7</td>\n",
       "      <td>12</td>\n",
       "      <td>1</td>\n",
       "    </tr>\n",
       "  </tbody>\n",
       "</table>\n",
       "</div>"
      ],
      "text/plain": [
       "    Price  VehicleType  RegistrationYear  Gearbox  Power  Model  Kilometer  \\\n",
       "15    450            5              1910        2      0    128       5000   \n",
       "16    300            7              2016        2     60    173     150000   \n",
       "22   2900            7              2018        1     90    150     150000   \n",
       "26   5555            7              2017        1    125     57     125000   \n",
       "31    899            7              2016        1     60     75     150000   \n",
       "35    350            7              2016        1     75    116     150000   \n",
       "37   1500            7              2016        2      0    133     150000   \n",
       "48   7750            7              2017        1     80    116     100000   \n",
       "51   2000            7              2017        1     90    176     150000   \n",
       "52   1400            7              2016        1     55    166       5000   \n",
       "\n",
       "    RegistrationMonth  FuelType  Brand  NotRepaired  \n",
       "15                  6         6     10            1  \n",
       "16                  6         6     38            1  \n",
       "22                  5         6     24            0  \n",
       "26                  4         7      5            0  \n",
       "31                  6         6     27            1  \n",
       "35                  4         6     38            0  \n",
       "37                  1         2     27            0  \n",
       "48                  1         6     38            1  \n",
       "51                 11         2      9            2  \n",
       "52                  1         7     12            1  "
      ]
     },
     "metadata": {},
     "output_type": "display_data"
    }
   ],
   "source": [
    "display(data.query('RegistrationYear <= 1930 | RegistrationYear >= 2016').head(10))"
   ]
  },
  {
   "cell_type": "markdown",
   "metadata": {},
   "source": [
    "Удалим данные по автомобилям, которые зарегистрированы очень давно или далеко в будущем :)"
   ]
  },
  {
   "cell_type": "code",
   "execution_count": 37,
   "metadata": {},
   "outputs": [
    {
     "data": {
      "text/plain": [
       "(340024, 11)"
      ]
     },
     "metadata": {},
     "output_type": "display_data"
    },
    {
     "data": {
      "text/plain": [
       "(317499, 11)"
      ]
     },
     "metadata": {},
     "output_type": "display_data"
    }
   ],
   "source": [
    "display(data.shape)\n",
    "data.drop(data.query('RegistrationYear <= 1930 | RegistrationYear >= 2016').index, inplace=True)\n",
    "display(data.shape)"
   ]
  },
  {
   "cell_type": "code",
   "execution_count": 38,
   "metadata": {},
   "outputs": [
    {
     "data": {
      "image/png": "[encoded data removed]",
      "text/plain": [
       "<Figure size 432x288 with 1 Axes>"
      ]
     },
     "metadata": {
      "needs_background": "light"
     },
     "output_type": "display_data"
    },
    {
     "data": {
      "text/plain": [
       "0"
      ]
     },
     "metadata": {},
     "output_type": "display_data"
    }
   ],
   "source": [
    "sns.distplot(data.RegistrationYear)\n",
    "plt.show()\n",
    "display(data.query('RegistrationYear <= 1930 | RegistrationYear >= 2016')['RegistrationYear'].count())"
   ]
  },
  {
   "cell_type": "code",
   "execution_count": 39,
   "metadata": {},
   "outputs": [
    {
     "data": {
      "text/plain": [
       "count    317499.000000\n",
       "mean        113.438628\n",
       "std         182.395893\n",
       "min           0.000000\n",
       "25%          75.000000\n",
       "50%         105.000000\n",
       "75%         143.000000\n",
       "max       20000.000000\n",
       "Name: Power, dtype: float64"
      ]
     },
     "metadata": {},
     "output_type": "display_data"
    },
    {
     "data": {
      "image/png": "[encoded data removed]",
      "text/plain": [
       "<Figure size 432x288 with 1 Axes>"
      ]
     },
     "metadata": {
      "needs_background": "light"
     },
     "output_type": "display_data"
    }
   ],
   "source": [
    "sns.boxplot(x = data['Power'])\n",
    "display(data.Power.describe())\n",
    "plt.show()"
   ]
  },
  {
   "cell_type": "code",
   "execution_count": 40,
   "metadata": {
    "scrolled": true
   },
   "outputs": [
    {
     "data": {
      "text/plain": [
       "Price                34084\n",
       "VehicleType          34084\n",
       "RegistrationYear     34084\n",
       "Gearbox              34084\n",
       "Power                34084\n",
       "Model                34084\n",
       "Kilometer            34084\n",
       "RegistrationMonth    34084\n",
       "FuelType             34084\n",
       "Brand                34084\n",
       "NotRepaired          34084\n",
       "dtype: int64"
      ]
     },
     "metadata": {},
     "output_type": "display_data"
    },
    {
     "data": {
      "text/html": [
       "<div>\n",
       "<style scoped>\n",
       "    .dataframe tbody tr th:only-of-type {\n",
       "        vertical-align: middle;\n",
       "    }\n",
       "\n",
       "    .dataframe tbody tr th {\n",
       "        vertical-align: top;\n",
       "    }\n",
       "\n",
       "    .dataframe thead th {\n",
       "        text-align: right;\n",
       "    }\n",
       "</style>\n",
       "<table border=\"1\" class=\"dataframe\">\n",
       "  <thead>\n",
       "    <tr style=\"text-align: right;\">\n",
       "      <th></th>\n",
       "      <th>Price</th>\n",
       "      <th>VehicleType</th>\n",
       "      <th>RegistrationYear</th>\n",
       "      <th>Gearbox</th>\n",
       "      <th>Power</th>\n",
       "      <th>Model</th>\n",
       "      <th>Kilometer</th>\n",
       "      <th>RegistrationMonth</th>\n",
       "      <th>FuelType</th>\n",
       "      <th>Brand</th>\n",
       "      <th>NotRepaired</th>\n",
       "    </tr>\n",
       "  </thead>\n",
       "  <tbody>\n",
       "    <tr>\n",
       "      <td>0</td>\n",
       "      <td>480</td>\n",
       "      <td>7</td>\n",
       "      <td>1993</td>\n",
       "      <td>1</td>\n",
       "      <td>0</td>\n",
       "      <td>116</td>\n",
       "      <td>150000</td>\n",
       "      <td>9</td>\n",
       "      <td>6</td>\n",
       "      <td>38</td>\n",
       "      <td>1</td>\n",
       "    </tr>\n",
       "    <tr>\n",
       "      <td>32</td>\n",
       "      <td>245</td>\n",
       "      <td>4</td>\n",
       "      <td>1994</td>\n",
       "      <td>2</td>\n",
       "      <td>0</td>\n",
       "      <td>116</td>\n",
       "      <td>150000</td>\n",
       "      <td>2</td>\n",
       "      <td>6</td>\n",
       "      <td>38</td>\n",
       "      <td>0</td>\n",
       "    </tr>\n",
       "    <tr>\n",
       "      <td>54</td>\n",
       "      <td>4700</td>\n",
       "      <td>8</td>\n",
       "      <td>2005</td>\n",
       "      <td>1</td>\n",
       "      <td>0</td>\n",
       "      <td>205</td>\n",
       "      <td>150000</td>\n",
       "      <td>4</td>\n",
       "      <td>7</td>\n",
       "      <td>24</td>\n",
       "      <td>0</td>\n",
       "    </tr>\n",
       "    <tr>\n",
       "      <td>55</td>\n",
       "      <td>550</td>\n",
       "      <td>8</td>\n",
       "      <td>1999</td>\n",
       "      <td>1</td>\n",
       "      <td>0</td>\n",
       "      <td>42</td>\n",
       "      <td>150000</td>\n",
       "      <td>8</td>\n",
       "      <td>2</td>\n",
       "      <td>24</td>\n",
       "      <td>2</td>\n",
       "    </tr>\n",
       "    <tr>\n",
       "      <td>69</td>\n",
       "      <td>1200</td>\n",
       "      <td>2</td>\n",
       "      <td>2001</td>\n",
       "      <td>2</td>\n",
       "      <td>0</td>\n",
       "      <td>42</td>\n",
       "      <td>150000</td>\n",
       "      <td>6</td>\n",
       "      <td>7</td>\n",
       "      <td>24</td>\n",
       "      <td>1</td>\n",
       "    </tr>\n",
       "  </tbody>\n",
       "</table>\n",
       "</div>"
      ],
      "text/plain": [
       "    Price  VehicleType  RegistrationYear  Gearbox  Power  Model  Kilometer  \\\n",
       "0     480            7              1993        1      0    116     150000   \n",
       "32    245            4              1994        2      0    116     150000   \n",
       "54   4700            8              2005        1      0    205     150000   \n",
       "55    550            8              1999        1      0     42     150000   \n",
       "69   1200            2              2001        2      0     42     150000   \n",
       "\n",
       "    RegistrationMonth  FuelType  Brand  NotRepaired  \n",
       "0                   9         6     38            1  \n",
       "32                  2         6     38            0  \n",
       "54                  4         7     24            0  \n",
       "55                  8         2     24            2  \n",
       "69                  6         7     24            1  "
      ]
     },
     "metadata": {},
     "output_type": "display_data"
    }
   ],
   "source": [
    "display(data.query('Power>=679 | Power<50').count())\n",
    "display(data.query('Power>=679 | Power<50').head())"
   ]
  },
  {
   "cell_type": "markdown",
   "metadata": {},
   "source": [
    "Данные по мощности выглядят неправдоподобными. Предлагаю заменить крайне мощные автомобили (+3 сигмы) и совсем немощные (<50 л.с., на основании бизнес-оценки :D) на медиану по брэнду и модели."
   ]
  },
  {
   "cell_type": "code",
   "execution_count": 41,
   "metadata": {},
   "outputs": [
    {
     "data": {
      "text/html": [
       "<div>\n",
       "<style scoped>\n",
       "    .dataframe tbody tr th:only-of-type {\n",
       "        vertical-align: middle;\n",
       "    }\n",
       "\n",
       "    .dataframe tbody tr th {\n",
       "        vertical-align: top;\n",
       "    }\n",
       "\n",
       "    .dataframe thead th {\n",
       "        text-align: right;\n",
       "    }\n",
       "</style>\n",
       "<table border=\"1\" class=\"dataframe\">\n",
       "  <thead>\n",
       "    <tr style=\"text-align: right;\">\n",
       "      <th></th>\n",
       "      <th></th>\n",
       "      <th>count</th>\n",
       "      <th>median</th>\n",
       "      <th>mean</th>\n",
       "    </tr>\n",
       "    <tr>\n",
       "      <th>Brand</th>\n",
       "      <th>Model</th>\n",
       "      <th></th>\n",
       "      <th></th>\n",
       "      <th></th>\n",
       "    </tr>\n",
       "  </thead>\n",
       "  <tbody>\n",
       "    <tr>\n",
       "      <td rowspan=\"5\" valign=\"top\">0</td>\n",
       "      <td>1</td>\n",
       "      <td>38</td>\n",
       "      <td>103.0</td>\n",
       "      <td>97.473684</td>\n",
       "    </tr>\n",
       "    <tr>\n",
       "      <td>2</td>\n",
       "      <td>504</td>\n",
       "      <td>120.0</td>\n",
       "      <td>144.472222</td>\n",
       "    </tr>\n",
       "    <tr>\n",
       "      <td>3</td>\n",
       "      <td>565</td>\n",
       "      <td>150.0</td>\n",
       "      <td>140.120354</td>\n",
       "    </tr>\n",
       "    <tr>\n",
       "      <td>4</td>\n",
       "      <td>201</td>\n",
       "      <td>170.0</td>\n",
       "      <td>167.477612</td>\n",
       "    </tr>\n",
       "    <tr>\n",
       "      <td>166</td>\n",
       "      <td>491</td>\n",
       "      <td>150.0</td>\n",
       "      <td>169.558045</td>\n",
       "    </tr>\n",
       "    <tr>\n",
       "      <td>...</td>\n",
       "      <td>...</td>\n",
       "      <td>...</td>\n",
       "      <td>...</td>\n",
       "      <td>...</td>\n",
       "    </tr>\n",
       "    <tr>\n",
       "      <td rowspan=\"5\" valign=\"top\">39</td>\n",
       "      <td>230</td>\n",
       "      <td>691</td>\n",
       "      <td>116.0</td>\n",
       "      <td>112.830680</td>\n",
       "    </tr>\n",
       "    <tr>\n",
       "      <td>231</td>\n",
       "      <td>241</td>\n",
       "      <td>136.0</td>\n",
       "      <td>137.236515</td>\n",
       "    </tr>\n",
       "    <tr>\n",
       "      <td>232</td>\n",
       "      <td>41</td>\n",
       "      <td>163.0</td>\n",
       "      <td>161.829268</td>\n",
       "    </tr>\n",
       "    <tr>\n",
       "      <td>233</td>\n",
       "      <td>607</td>\n",
       "      <td>163.0</td>\n",
       "      <td>158.163097</td>\n",
       "    </tr>\n",
       "    <tr>\n",
       "      <td>245</td>\n",
       "      <td>260</td>\n",
       "      <td>185.0</td>\n",
       "      <td>182.930769</td>\n",
       "    </tr>\n",
       "  </tbody>\n",
       "</table>\n",
       "<p>337 rows × 3 columns</p>\n",
       "</div>"
      ],
      "text/plain": [
       "             count  median        mean\n",
       "Brand Model                           \n",
       "0     1         38   103.0   97.473684\n",
       "      2        504   120.0  144.472222\n",
       "      3        565   150.0  140.120354\n",
       "      4        201   170.0  167.477612\n",
       "      166      491   150.0  169.558045\n",
       "...            ...     ...         ...\n",
       "39    230      691   116.0  112.830680\n",
       "      231      241   136.0  137.236515\n",
       "      232       41   163.0  161.829268\n",
       "      233      607   163.0  158.163097\n",
       "      245      260   185.0  182.930769\n",
       "\n",
       "[337 rows x 3 columns]"
      ]
     },
     "metadata": {},
     "output_type": "display_data"
    }
   ],
   "source": [
    "display(data.groupby(['Brand', 'Model'])['Power'].agg({'mean', 'median', 'count'}))"
   ]
  },
  {
   "cell_type": "code",
   "execution_count": 42,
   "metadata": {
    "scrolled": true
   },
   "outputs": [
    {
     "data": {
      "text/plain": [
       "count    317499.000000\n",
       "mean        113.438628\n",
       "std         182.395893\n",
       "min           0.000000\n",
       "25%          75.000000\n",
       "50%         105.000000\n",
       "75%         143.000000\n",
       "max       20000.000000\n",
       "Name: Power, dtype: float64"
      ]
     },
     "metadata": {},
     "output_type": "display_data"
    },
    {
     "data": {
      "text/plain": [
       "count    283415.000000\n",
       "mean        122.684304\n",
       "std          53.468503\n",
       "min          50.000000\n",
       "25%          80.000000\n",
       "50%         115.000000\n",
       "75%         150.000000\n",
       "max         678.000000\n",
       "Name: Power, dtype: float64"
      ]
     },
     "metadata": {},
     "output_type": "display_data"
    }
   ],
   "source": [
    "display(data.Power.describe())\n",
    "data.loc[(data['Power']>=679) | (data['Power']<50), 'Power'] = np.nan\n",
    "display(data.Power.describe())\n",
    "data['Power'] = data['Power'].fillna(data.groupby(['Brand', 'Model'])['Power'].transform('median'))\n",
    "data.dropna(inplace=True)\n",
    "data['Power'] = data['Power'].astype('int')"
   ]
  },
  {
   "cell_type": "code",
   "execution_count": 43,
   "metadata": {},
   "outputs": [
    {
     "data": {
      "text/plain": [
       "count    317498.000000\n",
       "mean        120.720868\n",
       "std          52.516896\n",
       "min          50.000000\n",
       "25%          79.000000\n",
       "50%         110.000000\n",
       "75%         150.000000\n",
       "max         678.000000\n",
       "Name: Power, dtype: float64"
      ]
     },
     "metadata": {},
     "output_type": "display_data"
    },
    {
     "data": {
      "image/png": "[encoded data removed]",
      "text/plain": [
       "<Figure size 432x288 with 1 Axes>"
      ]
     },
     "metadata": {
      "needs_background": "light"
     },
     "output_type": "display_data"
    }
   ],
   "source": [
    "sns.boxplot(x = data['Power'])\n",
    "display(data.Power.describe())\n",
    "plt.show()"
   ]
  },
  {
   "cell_type": "code",
   "execution_count": 44,
   "metadata": {
    "scrolled": true
   },
   "outputs": [
    {
     "name": "stdout",
     "output_type": "stream",
     "text": [
      "Описание количественных переменных\n",
      "               Price    VehicleType  RegistrationYear        Gearbox  \\\n",
      "count  317498.000000  317498.000000     317498.000000  317498.000000   \n",
      "mean     4720.260313       4.558243       2002.282455       0.846708   \n",
      "std      4562.137283       2.396410          6.487352       0.461248   \n",
      "min       101.000000       0.000000       1931.000000       0.000000   \n",
      "25%      1290.000000       4.000000       1999.000000       1.000000   \n",
      "50%      2999.000000       5.000000       2003.000000       1.000000   \n",
      "75%      6800.000000       6.000000       2007.000000       1.000000   \n",
      "max     20000.000000       8.000000       2015.000000       2.000000   \n",
      "\n",
      "               Power          Model      Kilometer  RegistrationMonth  \\\n",
      "count  317498.000000  317498.000000  317498.000000      317498.000000   \n",
      "mean      120.720868     113.955118  128209.059585           6.391152   \n",
      "std        52.516896      73.559111   37232.237500           3.351722   \n",
      "min        50.000000       0.000000    5000.000000           1.000000   \n",
      "25%        79.000000      42.000000  125000.000000           4.000000   \n",
      "50%       110.000000     116.000000  150000.000000           6.000000   \n",
      "75%       150.000000     170.000000  150000.000000           9.000000   \n",
      "max       678.000000     250.000000  150000.000000          12.000000   \n",
      "\n",
      "            FuelType          Brand    NotRepaired  \n",
      "count  317498.000000  317498.000000  317498.000000  \n",
      "mean        4.839536      20.743557       0.364443  \n",
      "std         1.885842      13.320211       0.652934  \n",
      "min         0.000000       0.000000       0.000000  \n",
      "25%         2.000000       9.000000       0.000000  \n",
      "50%         6.000000      24.000000       0.000000  \n",
      "75%         6.000000      33.000000       1.000000  \n",
      "max         7.000000      39.000000       2.000000  \n",
      "--------------------------------------------------\n",
      "Количество дубликатов в таблице = 24466\n"
     ]
    }
   ],
   "source": [
    "print('Описание количественных переменных')\n",
    "print(data.describe())\n",
    "print(50*'-')\n",
    "print(f'Количество дубликатов в таблице = {data.duplicated().sum()}')"
   ]
  },
  {
   "cell_type": "code",
   "execution_count": null,
   "metadata": {},
   "outputs": [],
   "source": []
  },
  {
   "cell_type": "markdown",
   "metadata": {},
   "source": [
    "<b>Промежуточные итоги:</b>\n",
    "\n",
    "- удалили 3% данных\n",
    "- аномалии по мощности заменили на медиану по брэнду и модели\n",
    "- в конце получилось слишком много дубликатов, но это просто совпадение данных, поэтому ничего с этим делать не будем, оставим и будем двигаться дальше."
   ]
  },
  {
   "cell_type": "markdown",
   "metadata": {},
   "source": [
    "## Обучение моделей"
   ]
  },
  {
   "cell_type": "code",
   "execution_count": 45,
   "metadata": {},
   "outputs": [
    {
     "data": {
      "text/plain": [
       "(238123, 10)"
      ]
     },
     "metadata": {},
     "output_type": "display_data"
    },
    {
     "data": {
      "text/plain": [
       "(79375, 10)"
      ]
     },
     "metadata": {},
     "output_type": "display_data"
    }
   ],
   "source": [
    "X = data.drop(['Price'], axis = 1)\n",
    "y = data['Price']\n",
    "features_train, features_test, target_train, target_test = train_test_split(X, y, test_size=0.25, random_state=12345)\n",
    "display(features_train.shape, features_test.shape)"
   ]
  },
  {
   "cell_type": "markdown",
   "metadata": {},
   "source": [
    "Выделили фичи и таргет. Разбили датасет на трэйн и тест"
   ]
  },
  {
   "cell_type": "code",
   "execution_count": 46,
   "metadata": {},
   "outputs": [
    {
     "data": {
      "image/png": "[encoded data removed]",
      "text/plain": [
       "<Figure size 432x288 with 1 Axes>"
      ]
     },
     "metadata": {
      "needs_background": "light"
     },
     "output_type": "display_data"
    },
    {
     "data": {
      "text/plain": [
       "count    317498.000000\n",
       "mean       4720.260313\n",
       "std        4562.137283\n",
       "min         101.000000\n",
       "25%        1290.000000\n",
       "50%        2999.000000\n",
       "75%        6800.000000\n",
       "max       20000.000000\n",
       "Name: Price, dtype: float64"
      ]
     },
     "metadata": {},
     "output_type": "display_data"
    }
   ],
   "source": [
    "sns.distplot(y)\n",
    "plt.show()\n",
    "display(y.describe())"
   ]
  },
  {
   "cell_type": "code",
   "execution_count": 47,
   "metadata": {},
   "outputs": [],
   "source": [
    "def learn_time(model, x_train, y_train):\n",
    "    start = time.time()\n",
    "    model.fit(x_train, y_train)\n",
    "    end = time.time()\n",
    "    time_fit = end - start\n",
    "    return time_fit, model"
   ]
  },
  {
   "cell_type": "code",
   "execution_count": 48,
   "metadata": {},
   "outputs": [],
   "source": [
    "def predict_time(model, x_test):\n",
    "    start = time.time()\n",
    "    predict = model.predict(x_test)\n",
    "    end = time.time()\n",
    "    time_predict = end - start\n",
    "    return time_predict, predict"
   ]
  },
  {
   "cell_type": "code",
   "execution_count": 49,
   "metadata": {},
   "outputs": [
    {
     "data": {
      "text/html": [
       "<div>\n",
       "<style scoped>\n",
       "    .dataframe tbody tr th:only-of-type {\n",
       "        vertical-align: middle;\n",
       "    }\n",
       "\n",
       "    .dataframe tbody tr th {\n",
       "        vertical-align: top;\n",
       "    }\n",
       "\n",
       "    .dataframe thead th {\n",
       "        text-align: right;\n",
       "    }\n",
       "</style>\n",
       "<table border=\"1\" class=\"dataframe\">\n",
       "  <thead>\n",
       "    <tr style=\"text-align: right;\">\n",
       "      <th></th>\n",
       "      <th>RMSE</th>\n",
       "      <th>Fit time</th>\n",
       "      <th>Predict time</th>\n",
       "    </tr>\n",
       "  </thead>\n",
       "  <tbody>\n",
       "  </tbody>\n",
       "</table>\n",
       "</div>"
      ],
      "text/plain": [
       "Empty DataFrame\n",
       "Columns: [RMSE, Fit time, Predict time]\n",
       "Index: []"
      ]
     },
     "metadata": {},
     "output_type": "display_data"
    }
   ],
   "source": [
    "data_result = pd.DataFrame(columns = ['RMSE', 'Fit time', 'Predict time'])\n",
    "display(data_result)"
   ]
  },
  {
   "cell_type": "code",
   "execution_count": 50,
   "metadata": {},
   "outputs": [],
   "source": [
    "def data_metrics(RMSE, l_time, p_time, model_name, df):\n",
    "    df.loc[model_name, 'RMSE'] = round(RMSE, 4)\n",
    "    df.loc[model_name, 'Fit time'] = round(l_time, 4)\n",
    "    df.loc[model_name, 'Predict time'] = round(p_time, 4)\n",
    "    return df"
   ]
  },
  {
   "cell_type": "markdown",
   "metadata": {},
   "source": [
    "Здесь мы выполним настройку моделей."
   ]
  },
  {
   "cell_type": "markdown",
   "metadata": {},
   "source": [
    "<b>Линейная регрессия</b>"
   ]
  },
  {
   "cell_type": "code",
   "execution_count": 51,
   "metadata": {},
   "outputs": [
    {
     "data": {
      "text/html": [
       "<div>\n",
       "<style scoped>\n",
       "    .dataframe tbody tr th:only-of-type {\n",
       "        vertical-align: middle;\n",
       "    }\n",
       "\n",
       "    .dataframe tbody tr th {\n",
       "        vertical-align: top;\n",
       "    }\n",
       "\n",
       "    .dataframe thead th {\n",
       "        text-align: right;\n",
       "    }\n",
       "</style>\n",
       "<table border=\"1\" class=\"dataframe\">\n",
       "  <thead>\n",
       "    <tr style=\"text-align: right;\">\n",
       "      <th></th>\n",
       "      <th>RMSE</th>\n",
       "      <th>Fit time</th>\n",
       "      <th>Predict time</th>\n",
       "    </tr>\n",
       "  </thead>\n",
       "  <tbody>\n",
       "    <tr>\n",
       "      <td>LinearRegression</td>\n",
       "      <td>2897.67</td>\n",
       "      <td>0.0879</td>\n",
       "      <td>0.0027</td>\n",
       "    </tr>\n",
       "  </tbody>\n",
       "</table>\n",
       "</div>"
      ],
      "text/plain": [
       "                     RMSE Fit time Predict time\n",
       "LinearRegression  2897.67   0.0879       0.0027"
      ]
     },
     "metadata": {},
     "output_type": "display_data"
    }
   ],
   "source": [
    "LR_learn_time, LR_model = learn_time(LinearRegression(), features_train, target_train)\n",
    "LR_pred_time, LR_predict = predict_time(LR_model, features_test)\n",
    "LR_RMSE = np.sqrt(mean_squared_error(target_test, LR_predict))\n",
    "display(data_metrics(LR_RMSE, LR_learn_time, LR_pred_time, 'LinearRegression', data_result))"
   ]
  },
  {
   "cell_type": "markdown",
   "metadata": {},
   "source": [
    "Качество линейной регресии оставляет желать лучшего."
   ]
  },
  {
   "cell_type": "markdown",
   "metadata": {},
   "source": [
    "<b>DecisionTree:</b>"
   ]
  },
  {
   "cell_type": "code",
   "execution_count": 52,
   "metadata": {},
   "outputs": [],
   "source": [
    "mse = make_scorer(mean_squared_error,greater_is_better=False)\n",
    "\n",
    "def model_train(model, params, features, target):\n",
    "    start = time.time()\n",
    "    grid=(GridSearchCV(model,\n",
    "                     param_grid=params,\n",
    "                     scoring=mse,\n",
    "                     cv=5)\n",
    "         ).fit(features, target)\n",
    "    end = time.time()\n",
    "    print('Время CV', round(end-start, 4))\n",
    "    return grid.best_params_"
   ]
  },
  {
   "cell_type": "code",
   "execution_count": 53,
   "metadata": {},
   "outputs": [
    {
     "data": {
      "text/plain": [
       "\"DT_params = {\\n            'max_depth' : range(2, 21, 3),\\n            'min_samples_leaf' : range (1,16,2),\\n            #'min_samples_split' : [2,4],\\n            'random_state' : [12345]\\n        }\\n\\ndisplay(model_train(DecisionTreeRegressor(), DT_params, features_train, target_train))\""
      ]
     },
     "execution_count": 53,
     "metadata": {},
     "output_type": "execute_result"
    }
   ],
   "source": [
    "\"\"\"DT_params = {\n",
    "            'max_depth' : range(2, 21, 3),\n",
    "            'min_samples_leaf' : range (1,16,2),\n",
    "            #'min_samples_split' : [2,4],\n",
    "            'random_state' : [12345]\n",
    "        }\n",
    "\n",
    "display(model_train(DecisionTreeRegressor(), DT_params, features_train, target_train))\"\"\""
   ]
  },
  {
   "cell_type": "markdown",
   "metadata": {},
   "source": [
    "Время CV 261.6464\n",
    "\n",
    "{'max_depth': 20, 'min_samples_leaf': 15, 'random_state': 12345}"
   ]
  },
  {
   "cell_type": "code",
   "execution_count": 54,
   "metadata": {},
   "outputs": [
    {
     "data": {
      "text/html": [
       "<div>\n",
       "<style scoped>\n",
       "    .dataframe tbody tr th:only-of-type {\n",
       "        vertical-align: middle;\n",
       "    }\n",
       "\n",
       "    .dataframe tbody tr th {\n",
       "        vertical-align: top;\n",
       "    }\n",
       "\n",
       "    .dataframe thead th {\n",
       "        text-align: right;\n",
       "    }\n",
       "</style>\n",
       "<table border=\"1\" class=\"dataframe\">\n",
       "  <thead>\n",
       "    <tr style=\"text-align: right;\">\n",
       "      <th></th>\n",
       "      <th>RMSE</th>\n",
       "      <th>Fit time</th>\n",
       "      <th>Predict time</th>\n",
       "    </tr>\n",
       "  </thead>\n",
       "  <tbody>\n",
       "    <tr>\n",
       "      <td>LinearRegression</td>\n",
       "      <td>2897.67</td>\n",
       "      <td>0.0879</td>\n",
       "      <td>0.0027</td>\n",
       "    </tr>\n",
       "    <tr>\n",
       "      <td>DecisionTree</td>\n",
       "      <td>1780.71</td>\n",
       "      <td>1.0024</td>\n",
       "      <td>0.0184</td>\n",
       "    </tr>\n",
       "  </tbody>\n",
       "</table>\n",
       "</div>"
      ],
      "text/plain": [
       "                     RMSE Fit time Predict time\n",
       "LinearRegression  2897.67   0.0879       0.0027\n",
       "DecisionTree      1780.71   1.0024       0.0184"
      ]
     },
     "metadata": {},
     "output_type": "display_data"
    }
   ],
   "source": [
    "tree_l_time, tree_model = learn_time(DecisionTreeRegressor(max_depth=20,\n",
    "                                                           min_samples_leaf=15,\n",
    "                                                           random_state=12345), features_train, target_train)\n",
    "tree_pred_time, tree_predict = predict_time(tree_model, features_test)\n",
    "tree_RMSE = np.sqrt(mean_squared_error(target_test, tree_predict))\n",
    "display(data_metrics(tree_RMSE, tree_l_time, tree_pred_time, 'DecisionTree', data_result))"
   ]
  },
  {
   "cell_type": "markdown",
   "metadata": {},
   "source": [
    "<b>Random Forest</b>"
   ]
  },
  {
   "cell_type": "code",
   "execution_count": 55,
   "metadata": {},
   "outputs": [
    {
     "data": {
      "text/plain": [
       "\"RF_params = {\\n            'n_estimators' : range(10, 51, 10),\\n            'max_depth' : range(3, 16, 4),\\n            'random_state' : [12345]\\n        }\\n\\ndisplay(model_train(RandomForestRegressor(), RF_params, features_train, target_train))\""
      ]
     },
     "execution_count": 55,
     "metadata": {},
     "output_type": "execute_result"
    }
   ],
   "source": [
    "\"\"\"RF_params = {\n",
    "            'n_estimators' : range(10, 51, 10),\n",
    "            'max_depth' : range(3, 16, 4),\n",
    "            'random_state' : [12345]\n",
    "        }\n",
    "\n",
    "display(model_train(RandomForestRegressor(), RF_params, features_train, target_train))\"\"\""
   ]
  },
  {
   "cell_type": "markdown",
   "metadata": {},
   "source": [
    "Время CV 1704.4859\n",
    "\n",
    "{'max_depth': 15, 'n_estimators': 50, 'random_state': 12345}"
   ]
  },
  {
   "cell_type": "code",
   "execution_count": 56,
   "metadata": {},
   "outputs": [
    {
     "data": {
      "text/html": [
       "<div>\n",
       "<style scoped>\n",
       "    .dataframe tbody tr th:only-of-type {\n",
       "        vertical-align: middle;\n",
       "    }\n",
       "\n",
       "    .dataframe tbody tr th {\n",
       "        vertical-align: top;\n",
       "    }\n",
       "\n",
       "    .dataframe thead th {\n",
       "        text-align: right;\n",
       "    }\n",
       "</style>\n",
       "<table border=\"1\" class=\"dataframe\">\n",
       "  <thead>\n",
       "    <tr style=\"text-align: right;\">\n",
       "      <th></th>\n",
       "      <th>RMSE</th>\n",
       "      <th>Fit time</th>\n",
       "      <th>Predict time</th>\n",
       "    </tr>\n",
       "  </thead>\n",
       "  <tbody>\n",
       "    <tr>\n",
       "      <td>LinearRegression</td>\n",
       "      <td>2897.67</td>\n",
       "      <td>0.0879</td>\n",
       "      <td>0.0027</td>\n",
       "    </tr>\n",
       "    <tr>\n",
       "      <td>DecisionTree</td>\n",
       "      <td>1780.71</td>\n",
       "      <td>1.0024</td>\n",
       "      <td>0.0184</td>\n",
       "    </tr>\n",
       "    <tr>\n",
       "      <td>RandomForest</td>\n",
       "      <td>1624.88</td>\n",
       "      <td>29.308</td>\n",
       "      <td>0.7658</td>\n",
       "    </tr>\n",
       "  </tbody>\n",
       "</table>\n",
       "</div>"
      ],
      "text/plain": [
       "                     RMSE Fit time Predict time\n",
       "LinearRegression  2897.67   0.0879       0.0027\n",
       "DecisionTree      1780.71   1.0024       0.0184\n",
       "RandomForest      1624.88   29.308       0.7658"
      ]
     },
     "metadata": {},
     "output_type": "display_data"
    }
   ],
   "source": [
    "RF_l_time, RF_model = learn_time(RandomForestRegressor(n_estimators=50,\n",
    "                                                       max_depth=15,\n",
    "                                                       random_state=12345), features_train, target_train)\n",
    "RF_pred_time, RF_predict = predict_time(RF_model, features_test)\n",
    "RF_RMSE = np.sqrt(mean_squared_error(target_test, RF_predict))\n",
    "display(data_metrics(RF_RMSE, RF_l_time, RF_pred_time, 'RandomForest', data_result))"
   ]
  },
  {
   "cell_type": "markdown",
   "metadata": {},
   "source": [
    "<b>Light GBM</b>"
   ]
  },
  {
   "cell_type": "code",
   "execution_count": 57,
   "metadata": {},
   "outputs": [],
   "source": [
    "cat_features = ['VehicleType', 'Gearbox', 'Model', 'FuelType', 'NotRepaired', 'Brand']"
   ]
  },
  {
   "cell_type": "code",
   "execution_count": 58,
   "metadata": {},
   "outputs": [
    {
     "data": {
      "text/plain": [
       "\"LGB_params = {\\n            'n_estimators' : range(80, 121, 10),\\n            'max_depth' : range(3, 16, 3),\\n            'objective' : ['regression'],\\n            'metric' : ['rmse'],\\n            'random_state' : [12345]\\n        }\\n\\ndisplay(model_train(LGBMRegressor(), LGB_params, features_train, target_train))\""
      ]
     },
     "execution_count": 58,
     "metadata": {},
     "output_type": "execute_result"
    }
   ],
   "source": [
    "\"\"\"LGB_params = {\n",
    "            'n_estimators' : range(80, 121, 10),\n",
    "            'max_depth' : range(3, 16, 3),\n",
    "            'objective' : ['regression'],\n",
    "            'metric' : ['rmse'],\n",
    "            'random_state' : [12345]\n",
    "        }\n",
    "\n",
    "display(model_train(LGBMRegressor(), LGB_params, features_train, target_train))\"\"\""
   ]
  },
  {
   "cell_type": "markdown",
   "metadata": {},
   "source": [
    "Время CV 5488.934\n",
    "\n",
    "\n",
    "{'max_depth': 15,\n",
    " 'metric': 'rmse',\n",
    " 'n_estimators': 120,\n",
    " 'objective': 'regression',\n",
    " 'random_state': 12345}"
   ]
  },
  {
   "cell_type": "code",
   "execution_count": 66,
   "metadata": {},
   "outputs": [
    {
     "data": {
      "text/html": [
       "<div>\n",
       "<style scoped>\n",
       "    .dataframe tbody tr th:only-of-type {\n",
       "        vertical-align: middle;\n",
       "    }\n",
       "\n",
       "    .dataframe tbody tr th {\n",
       "        vertical-align: top;\n",
       "    }\n",
       "\n",
       "    .dataframe thead th {\n",
       "        text-align: right;\n",
       "    }\n",
       "</style>\n",
       "<table border=\"1\" class=\"dataframe\">\n",
       "  <thead>\n",
       "    <tr style=\"text-align: right;\">\n",
       "      <th></th>\n",
       "      <th>RMSE</th>\n",
       "      <th>Fit time</th>\n",
       "      <th>Predict time</th>\n",
       "    </tr>\n",
       "  </thead>\n",
       "  <tbody>\n",
       "    <tr>\n",
       "      <td>LinearRegression</td>\n",
       "      <td>2897.67</td>\n",
       "      <td>0.0879</td>\n",
       "      <td>0.0027</td>\n",
       "    </tr>\n",
       "    <tr>\n",
       "      <td>DecisionTree</td>\n",
       "      <td>1780.71</td>\n",
       "      <td>1.0024</td>\n",
       "      <td>0.0184</td>\n",
       "    </tr>\n",
       "    <tr>\n",
       "      <td>RandomForest</td>\n",
       "      <td>1624.88</td>\n",
       "      <td>29.308</td>\n",
       "      <td>0.7658</td>\n",
       "    </tr>\n",
       "    <tr>\n",
       "      <td>LGBMR</td>\n",
       "      <td>1592.73</td>\n",
       "      <td>7.1941</td>\n",
       "      <td>0.9992</td>\n",
       "    </tr>\n",
       "    <tr>\n",
       "      <td>CatBoost</td>\n",
       "      <td>1879.62</td>\n",
       "      <td>22.4711</td>\n",
       "      <td>0.0124</td>\n",
       "    </tr>\n",
       "    <tr>\n",
       "      <td>Const</td>\n",
       "      <td>4562.13</td>\n",
       "      <td>0</td>\n",
       "      <td>0</td>\n",
       "    </tr>\n",
       "  </tbody>\n",
       "</table>\n",
       "</div>"
      ],
      "text/plain": [
       "                     RMSE Fit time Predict time\n",
       "LinearRegression  2897.67   0.0879       0.0027\n",
       "DecisionTree      1780.71   1.0024       0.0184\n",
       "RandomForest      1624.88   29.308       0.7658\n",
       "LGBMR             1592.73   7.1941       0.9992\n",
       "CatBoost          1879.62  22.4711       0.0124\n",
       "Const             4562.13        0            0"
      ]
     },
     "metadata": {},
     "output_type": "display_data"
    }
   ],
   "source": [
    "model_LGBMR = LGBMRegressor(max_depth=14, \n",
    "                            n_estimators=120, \n",
    "                            random_state=12345, \n",
    "                            objective='regression',\n",
    "                            #num_leaves=1400,\n",
    "                            metric='rmse')\n",
    "start_l = time.time()\n",
    "model_LGBMR.fit(features_train, target_train, categorical_feature=cat_features, verbose=10)\n",
    "end_l = time.time()\n",
    "LGBR_pred_time, LGBR_predict = predict_time(model_LGBMR, features_test)\n",
    "LGBR_RMSE = np.sqrt(mean_squared_error(target_test, LGBR_predict))\n",
    "display(data_metrics(LGBR_RMSE, round(end_l-start_l,4), LGBR_pred_time, 'LGBMR', data_result))"
   ]
  },
  {
   "cell_type": "code",
   "execution_count": 60,
   "metadata": {},
   "outputs": [
    {
     "data": {
      "text/plain": [
       "\"model_LGBMR = LGBMRegressor(max_depth=14, \\n                            n_estimators=120, \\n                            random_state=12345, \\n                            objective='regression',\\n                            #num_leaves=1400,\\n                            metric='rmse')\\nstart_l = time.time()\\nmodel_LGBMR.fit(features_train, target_train, categorical_feature=cat_features, verbose=10)\\nend_l = time.time()\\nLGBR_pred_time, LGBR_predict = predict_time(model_LGBMR, features_test)\\nLGBR_RMSE = np.sqrt(mean_squared_error(target_test, LGBR_predict))\\ndisplay(data_metrics(LGBR_RMSE, round(end_l-start_l,4), LGBR_pred_time, 'LGBMR', data_result))\""
      ]
     },
     "execution_count": 60,
     "metadata": {},
     "output_type": "execute_result"
    }
   ],
   "source": [
    "\"\"\"model_LGBMR = LGBMRegressor(max_depth=14, \n",
    "                            n_estimators=120, \n",
    "                            random_state=12345, \n",
    "                            objective='regression',\n",
    "                            #num_leaves=1400,\n",
    "                            metric='rmse')\n",
    "start_l = time.time()\n",
    "model_LGBMR.fit(features_train, target_train, categorical_feature=cat_features, verbose=10)\n",
    "end_l = time.time()\n",
    "LGBR_pred_time, LGBR_predict = predict_time(model_LGBMR, features_test)\n",
    "LGBR_RMSE = np.sqrt(mean_squared_error(target_test, LGBR_predict))\n",
    "display(data_metrics(LGBR_RMSE, round(end_l-start_l,4), LGBR_pred_time, 'LGBMR', data_result))\"\"\""
   ]
  },
  {
   "cell_type": "markdown",
   "metadata": {},
   "source": [
    "<b>CatBoost</b>"
   ]
  },
  {
   "cell_type": "code",
   "execution_count": 61,
   "metadata": {
    "scrolled": true
   },
   "outputs": [
    {
     "data": {
      "text/plain": [
       "\"CBR_params = {\\n            'n_estimators' : range(80, 121, 20),\\n            'max_depth' : range(4, 11, 2),\\n            'cat_features' : [cat_features],\\n            'random_state' : [12345]\\n        }\\n\\ndisplay(model_train(CatBoostRegressor(), CBR_params, features_train, target_train))\""
      ]
     },
     "execution_count": 61,
     "metadata": {},
     "output_type": "execute_result"
    }
   ],
   "source": [
    "\"\"\"CBR_params = {\n",
    "            'n_estimators' : range(80, 121, 20),\n",
    "            'max_depth' : range(4, 11, 2),\n",
    "            'cat_features' : [cat_features],\n",
    "            'random_state' : [12345]\n",
    "        }\n",
    "\n",
    "display(model_train(CatBoostRegressor(), CBR_params, features_train, target_train))\"\"\""
   ]
  },
  {
   "cell_type": "markdown",
   "metadata": {},
   "source": [
    "Время CV 817.9422\n",
    "\n",
    "{'max_depth': 10, 'n_estimators': 100, 'random_state': 12345}"
   ]
  },
  {
   "cell_type": "code",
   "execution_count": 62,
   "metadata": {
    "scrolled": true
   },
   "outputs": [
    {
     "data": {
      "text/plain": [
       "\"model_CBR = CatBoostRegressor(max_depth=10, \\n                            n_estimators=101, \\n                            random_state=12345,\\n                            cat_features=cat_features)\\nstart_l = time.time()\\nmodel_CBR.fit(features_train, target_train)\\nend_l = time.time()\\nCBR_pred_time, CBR_predict = predict_time(model_CBR, features_test)\\nCBR_RMSE = np.sqrt(mean_squared_error(target_test, CBR_predict))\\ndisplay(data_metrics(CBR_RMSE, round(end_l-start_l,4), CBR_pred_time, 'CBR', data_result))\""
      ]
     },
     "execution_count": 62,
     "metadata": {},
     "output_type": "execute_result"
    }
   ],
   "source": [
    "\"\"\"model_CBR = CatBoostRegressor(max_depth=10, \n",
    "                            n_estimators=101, \n",
    "                            random_state=12345,\n",
    "                            cat_features=cat_features)\n",
    "start_l = time.time()\n",
    "model_CBR.fit(features_train, target_train)\n",
    "end_l = time.time()\n",
    "CBR_pred_time, CBR_predict = predict_time(model_CBR, features_test)\n",
    "CBR_RMSE = np.sqrt(mean_squared_error(target_test, CBR_predict))\n",
    "display(data_metrics(CBR_RMSE, round(end_l-start_l,4), CBR_pred_time, 'CBR', data_result))\"\"\""
   ]
  },
  {
   "cell_type": "code",
   "execution_count": 63,
   "metadata": {
    "scrolled": true
   },
   "outputs": [
    {
     "name": "stdout",
     "output_type": "stream",
     "text": [
      "0:\tlearn: 4466.3573068\ttotal: 242ms\tremaining: 23.9s\n",
      "1:\tlearn: 4369.2612798\ttotal: 444ms\tremaining: 21.8s\n",
      "2:\tlearn: 4276.8946470\ttotal: 639ms\tremaining: 20.7s\n",
      "3:\tlearn: 4186.8970436\ttotal: 838ms\tremaining: 20.1s\n",
      "4:\tlearn: 4099.6831535\ttotal: 1.04s\tremaining: 19.7s\n",
      "5:\tlearn: 4016.0857251\ttotal: 1.24s\tremaining: 19.4s\n",
      "6:\tlearn: 3935.6393229\ttotal: 1.44s\tremaining: 19.1s\n",
      "7:\tlearn: 3857.9996850\ttotal: 1.73s\tremaining: 19.9s\n",
      "8:\tlearn: 3782.6538800\ttotal: 1.93s\tremaining: 19.5s\n",
      "9:\tlearn: 3711.0487522\ttotal: 2.13s\tremaining: 19.2s\n",
      "10:\tlearn: 3640.7408624\ttotal: 2.33s\tremaining: 18.8s\n",
      "11:\tlearn: 3573.2853717\ttotal: 2.53s\tremaining: 18.5s\n",
      "12:\tlearn: 3509.6192967\ttotal: 2.73s\tremaining: 18.2s\n",
      "13:\tlearn: 3446.5462306\ttotal: 2.92s\tremaining: 18s\n",
      "14:\tlearn: 3386.5877980\ttotal: 3.13s\tremaining: 17.7s\n",
      "15:\tlearn: 3328.6692656\ttotal: 3.32s\tremaining: 17.5s\n",
      "16:\tlearn: 3273.2750911\ttotal: 3.52s\tremaining: 17.2s\n",
      "17:\tlearn: 3219.9789899\ttotal: 3.72s\tremaining: 17s\n",
      "18:\tlearn: 3167.9595712\ttotal: 3.93s\tremaining: 16.7s\n",
      "19:\tlearn: 3118.4453363\ttotal: 4.13s\tremaining: 16.5s\n",
      "20:\tlearn: 3071.0517133\ttotal: 4.33s\tremaining: 16.3s\n",
      "21:\tlearn: 3025.2527719\ttotal: 4.53s\tremaining: 16.1s\n",
      "22:\tlearn: 2981.9047678\ttotal: 4.82s\tremaining: 16.1s\n",
      "23:\tlearn: 2938.7186815\ttotal: 5.02s\tremaining: 15.9s\n",
      "24:\tlearn: 2898.1196674\ttotal: 5.22s\tremaining: 15.7s\n",
      "25:\tlearn: 2859.2104924\ttotal: 5.42s\tremaining: 15.4s\n",
      "26:\tlearn: 2821.8428271\ttotal: 5.62s\tremaining: 15.2s\n",
      "27:\tlearn: 2785.1143933\ttotal: 5.82s\tremaining: 15s\n",
      "28:\tlearn: 2749.6346087\ttotal: 6.02s\tremaining: 14.7s\n",
      "29:\tlearn: 2715.8605816\ttotal: 6.22s\tremaining: 14.5s\n",
      "30:\tlearn: 2682.3993415\ttotal: 6.42s\tremaining: 14.3s\n",
      "31:\tlearn: 2651.8133819\ttotal: 6.62s\tremaining: 14.1s\n",
      "32:\tlearn: 2621.5798819\ttotal: 6.82s\tremaining: 13.8s\n",
      "33:\tlearn: 2592.3250581\ttotal: 7.02s\tremaining: 13.6s\n",
      "34:\tlearn: 2564.9254780\ttotal: 7.22s\tremaining: 13.4s\n",
      "35:\tlearn: 2538.8605636\ttotal: 7.42s\tremaining: 13.2s\n",
      "36:\tlearn: 2512.9828461\ttotal: 7.62s\tremaining: 13s\n",
      "37:\tlearn: 2488.0455755\ttotal: 7.83s\tremaining: 12.8s\n",
      "38:\tlearn: 2464.5929039\ttotal: 8.11s\tremaining: 12.7s\n",
      "39:\tlearn: 2441.7846231\ttotal: 8.31s\tremaining: 12.5s\n",
      "40:\tlearn: 2419.5462222\ttotal: 8.51s\tremaining: 12.2s\n",
      "41:\tlearn: 2399.2217947\ttotal: 8.71s\tremaining: 12s\n",
      "42:\tlearn: 2379.0309905\ttotal: 8.91s\tremaining: 11.8s\n",
      "43:\tlearn: 2358.5975532\ttotal: 9.12s\tremaining: 11.6s\n",
      "44:\tlearn: 2339.4708951\ttotal: 9.32s\tremaining: 11.4s\n",
      "45:\tlearn: 2321.4660980\ttotal: 9.6s\tremaining: 11.3s\n",
      "46:\tlearn: 2304.6957827\ttotal: 9.8s\tremaining: 11.1s\n",
      "47:\tlearn: 2286.9252534\ttotal: 10s\tremaining: 10.8s\n",
      "48:\tlearn: 2270.9112720\ttotal: 10.2s\tremaining: 10.6s\n",
      "49:\tlearn: 2255.0462708\ttotal: 10.4s\tremaining: 10.4s\n",
      "50:\tlearn: 2239.9197756\ttotal: 10.6s\tremaining: 10.2s\n",
      "51:\tlearn: 2226.3445354\ttotal: 10.8s\tremaining: 9.97s\n",
      "52:\tlearn: 2210.9551687\ttotal: 11s\tremaining: 9.76s\n",
      "53:\tlearn: 2196.8473040\ttotal: 11.2s\tremaining: 9.55s\n",
      "54:\tlearn: 2182.7527169\ttotal: 11.4s\tremaining: 9.33s\n",
      "55:\tlearn: 2169.8523501\ttotal: 11.6s\tremaining: 9.12s\n",
      "56:\tlearn: 2158.6284177\ttotal: 11.8s\tremaining: 8.9s\n",
      "57:\tlearn: 2145.9011482\ttotal: 12s\tremaining: 8.69s\n",
      "58:\tlearn: 2135.0385465\ttotal: 12.3s\tremaining: 8.54s\n",
      "59:\tlearn: 2123.4347588\ttotal: 12.5s\tremaining: 8.33s\n",
      "60:\tlearn: 2113.1347679\ttotal: 12.7s\tremaining: 8.11s\n",
      "61:\tlearn: 2102.8017879\ttotal: 12.9s\tremaining: 7.9s\n",
      "62:\tlearn: 2093.8037554\ttotal: 13.1s\tremaining: 7.69s\n",
      "63:\tlearn: 2084.4730188\ttotal: 13.3s\tremaining: 7.48s\n",
      "64:\tlearn: 2075.4687676\ttotal: 13.5s\tremaining: 7.27s\n",
      "65:\tlearn: 2066.6594400\ttotal: 13.7s\tremaining: 7.05s\n",
      "66:\tlearn: 2058.5956649\ttotal: 13.9s\tremaining: 6.84s\n",
      "67:\tlearn: 2048.9615144\ttotal: 14.1s\tremaining: 6.63s\n",
      "68:\tlearn: 2040.9191344\ttotal: 14.3s\tremaining: 6.42s\n",
      "69:\tlearn: 2033.9376933\ttotal: 14.5s\tremaining: 6.21s\n",
      "70:\tlearn: 2025.7422763\ttotal: 14.7s\tremaining: 6s\n",
      "71:\tlearn: 2019.2147825\ttotal: 15s\tremaining: 5.83s\n",
      "72:\tlearn: 2012.5592730\ttotal: 15.2s\tremaining: 5.62s\n",
      "73:\tlearn: 2006.3854874\ttotal: 15.4s\tremaining: 5.41s\n",
      "74:\tlearn: 1998.9745354\ttotal: 15.6s\tremaining: 5.2s\n",
      "75:\tlearn: 1992.8528344\ttotal: 15.8s\tremaining: 4.99s\n",
      "76:\tlearn: 1985.7233786\ttotal: 16s\tremaining: 4.78s\n",
      "77:\tlearn: 1979.8657982\ttotal: 16.2s\tremaining: 4.57s\n",
      "78:\tlearn: 1973.3874590\ttotal: 16.4s\tremaining: 4.36s\n",
      "79:\tlearn: 1966.9370129\ttotal: 16.6s\tremaining: 4.15s\n",
      "80:\tlearn: 1961.5474402\ttotal: 16.9s\tremaining: 3.96s\n",
      "81:\tlearn: 1955.8195355\ttotal: 17.1s\tremaining: 3.75s\n",
      "82:\tlearn: 1951.0091818\ttotal: 17.3s\tremaining: 3.54s\n",
      "83:\tlearn: 1945.6629909\ttotal: 17.5s\tremaining: 3.33s\n",
      "84:\tlearn: 1941.4720493\ttotal: 17.7s\tremaining: 3.12s\n",
      "85:\tlearn: 1936.4555684\ttotal: 17.9s\tremaining: 2.91s\n",
      "86:\tlearn: 1931.2610412\ttotal: 18.2s\tremaining: 2.71s\n",
      "87:\tlearn: 1926.2971341\ttotal: 18.4s\tremaining: 2.5s\n",
      "88:\tlearn: 1922.4171535\ttotal: 18.6s\tremaining: 2.29s\n",
      "89:\tlearn: 1917.4585592\ttotal: 18.8s\tremaining: 2.09s\n",
      "90:\tlearn: 1912.3320868\ttotal: 19s\tremaining: 1.88s\n",
      "91:\tlearn: 1908.3223019\ttotal: 19.2s\tremaining: 1.67s\n",
      "92:\tlearn: 1904.2319179\ttotal: 19.4s\tremaining: 1.46s\n",
      "93:\tlearn: 1900.3251767\ttotal: 19.6s\tremaining: 1.25s\n",
      "94:\tlearn: 1896.2952375\ttotal: 19.8s\tremaining: 1.04s\n",
      "95:\tlearn: 1892.7944270\ttotal: 20.1s\tremaining: 836ms\n",
      "96:\tlearn: 1889.6654717\ttotal: 20.3s\tremaining: 627ms\n",
      "97:\tlearn: 1886.1541734\ttotal: 20.5s\tremaining: 418ms\n",
      "98:\tlearn: 1882.4099497\ttotal: 20.7s\tremaining: 209ms\n",
      "99:\tlearn: 1878.8179154\ttotal: 20.9s\tremaining: 0us\n"
     ]
    },
    {
     "data": {
      "text/html": [
       "<div>\n",
       "<style scoped>\n",
       "    .dataframe tbody tr th:only-of-type {\n",
       "        vertical-align: middle;\n",
       "    }\n",
       "\n",
       "    .dataframe tbody tr th {\n",
       "        vertical-align: top;\n",
       "    }\n",
       "\n",
       "    .dataframe thead th {\n",
       "        text-align: right;\n",
       "    }\n",
       "</style>\n",
       "<table border=\"1\" class=\"dataframe\">\n",
       "  <thead>\n",
       "    <tr style=\"text-align: right;\">\n",
       "      <th></th>\n",
       "      <th>RMSE</th>\n",
       "      <th>Fit time</th>\n",
       "      <th>Predict time</th>\n",
       "    </tr>\n",
       "  </thead>\n",
       "  <tbody>\n",
       "    <tr>\n",
       "      <td>LinearRegression</td>\n",
       "      <td>2897.67</td>\n",
       "      <td>0.0879</td>\n",
       "      <td>0.0027</td>\n",
       "    </tr>\n",
       "    <tr>\n",
       "      <td>DecisionTree</td>\n",
       "      <td>1780.71</td>\n",
       "      <td>1.0024</td>\n",
       "      <td>0.0184</td>\n",
       "    </tr>\n",
       "    <tr>\n",
       "      <td>RandomForest</td>\n",
       "      <td>1624.88</td>\n",
       "      <td>29.308</td>\n",
       "      <td>0.7658</td>\n",
       "    </tr>\n",
       "    <tr>\n",
       "      <td>LGBMR</td>\n",
       "      <td>1592.73</td>\n",
       "      <td>176.942</td>\n",
       "      <td>0.9961</td>\n",
       "    </tr>\n",
       "    <tr>\n",
       "      <td>CatBoost</td>\n",
       "      <td>1879.62</td>\n",
       "      <td>22.4711</td>\n",
       "      <td>0.0124</td>\n",
       "    </tr>\n",
       "  </tbody>\n",
       "</table>\n",
       "</div>"
      ],
      "text/plain": [
       "                     RMSE Fit time Predict time\n",
       "LinearRegression  2897.67   0.0879       0.0027\n",
       "DecisionTree      1780.71   1.0024       0.0184\n",
       "RandomForest      1624.88   29.308       0.7658\n",
       "LGBMR             1592.73  176.942       0.9961\n",
       "CatBoost          1879.62  22.4711       0.0124"
      ]
     },
     "metadata": {},
     "output_type": "display_data"
    }
   ],
   "source": [
    "CAT_l_time, CAT_model = learn_time(CatBoostRegressor(n_estimators=100,\n",
    "                                                     max_depth=10,\n",
    "                                                     cat_features=cat_features,\n",
    "                                                     random_state= 12345), features_train, target_train)\n",
    "CAT_pred_time, CAT_predict = predict_time(CAT_model, features_test)\n",
    "CAT_RMSE = np.sqrt(mean_squared_error(target_test, CAT_predict))\n",
    "display(data_metrics(CAT_RMSE, CAT_l_time, CAT_pred_time, 'CatBoost', data_result))"
   ]
  },
  {
   "cell_type": "raw",
   "metadata": {},
   "source": [
    "cat_features = ['VehicleType', 'Gearbox', 'Model', 'FuelType', 'NotRepaired', 'Brand']\n",
    "\n",
    "%%time\n",
    "model_LGBMR = LGBMRegressor(max_depth=14, \n",
    "                            n_estimators=120, \n",
    "                            random_state=12345, \n",
    "                            objective='regression',\n",
    "                            num_leaves=1400,\n",
    "                            metric='rmse')\n",
    "model_LGBMR.fit(features_train, target_train, categorical_feature=cat_features, verbose=10)\n",
    "predictions_valid = model_LGBMR.predict(features_valid, num_iteration=2)\n",
    "print(mean_squared_error(predictions_valid, target_valid) ** 0.5)"
   ]
  },
  {
   "cell_type": "markdown",
   "metadata": {},
   "source": [
    "## Анализ моделей"
   ]
  },
  {
   "cell_type": "code",
   "execution_count": 64,
   "metadata": {},
   "outputs": [],
   "source": [
    "y_hat = y.copy()\n",
    "y_hat.loc[:] = y.mean()\n",
    "const_RMSE = np.sqrt(mean_squared_error(y, y_hat))"
   ]
  },
  {
   "cell_type": "code",
   "execution_count": 67,
   "metadata": {
    "scrolled": true
   },
   "outputs": [
    {
     "data": {
      "text/html": [
       "<div>\n",
       "<style scoped>\n",
       "    .dataframe tbody tr th:only-of-type {\n",
       "        vertical-align: middle;\n",
       "    }\n",
       "\n",
       "    .dataframe tbody tr th {\n",
       "        vertical-align: top;\n",
       "    }\n",
       "\n",
       "    .dataframe thead th {\n",
       "        text-align: right;\n",
       "    }\n",
       "</style>\n",
       "<table border=\"1\" class=\"dataframe\">\n",
       "  <thead>\n",
       "    <tr style=\"text-align: right;\">\n",
       "      <th></th>\n",
       "      <th>RMSE</th>\n",
       "      <th>Fit time</th>\n",
       "      <th>Predict time</th>\n",
       "    </tr>\n",
       "  </thead>\n",
       "  <tbody>\n",
       "    <tr>\n",
       "      <td>LinearRegression</td>\n",
       "      <td>2897.67</td>\n",
       "      <td>0.0879</td>\n",
       "      <td>0.0027</td>\n",
       "    </tr>\n",
       "    <tr>\n",
       "      <td>DecisionTree</td>\n",
       "      <td>1780.71</td>\n",
       "      <td>1.0024</td>\n",
       "      <td>0.0184</td>\n",
       "    </tr>\n",
       "    <tr>\n",
       "      <td>RandomForest</td>\n",
       "      <td>1624.88</td>\n",
       "      <td>29.308</td>\n",
       "      <td>0.7658</td>\n",
       "    </tr>\n",
       "    <tr>\n",
       "      <td>LGBMR</td>\n",
       "      <td>1592.73</td>\n",
       "      <td>7.1941</td>\n",
       "      <td>0.9992</td>\n",
       "    </tr>\n",
       "    <tr>\n",
       "      <td>CatBoost</td>\n",
       "      <td>1879.62</td>\n",
       "      <td>22.4711</td>\n",
       "      <td>0.0124</td>\n",
       "    </tr>\n",
       "    <tr>\n",
       "      <td>Const</td>\n",
       "      <td>4562.13</td>\n",
       "      <td>0</td>\n",
       "      <td>0</td>\n",
       "    </tr>\n",
       "  </tbody>\n",
       "</table>\n",
       "</div>"
      ],
      "text/plain": [
       "                     RMSE Fit time Predict time\n",
       "LinearRegression  2897.67   0.0879       0.0027\n",
       "DecisionTree      1780.71   1.0024       0.0184\n",
       "RandomForest      1624.88   29.308       0.7658\n",
       "LGBMR             1592.73   7.1941       0.9992\n",
       "CatBoost          1879.62  22.4711       0.0124\n",
       "Const             4562.13        0            0"
      ]
     },
     "metadata": {},
     "output_type": "display_data"
    }
   ],
   "source": [
    "display(data_metrics(const_RMSE, 0, 0, 'Const', data_result))"
   ]
  },
  {
   "cell_type": "markdown",
   "metadata": {},
   "source": [
    "Наши модели предсказывают лучше константной, что радует.\n",
    "Самая лучшая модель по параметрам RMSE, время обучения и время предсказания - LightGBM"
   ]
  }
 ],
 "metadata": {
  "ExecuteTimeLog": [
   {
    "duration": 1221,
    "start_time": "2021-09-29T10:19:21.310Z"
   },
   {
    "duration": 462,
    "start_time": "2021-09-29T10:31:20.781Z"
   },
   {
    "duration": 6,
    "start_time": "2021-09-29T10:33:17.537Z"
   },
   {
    "duration": 2549,
    "start_time": "2021-09-29T10:33:17.547Z"
   },
   {
    "duration": -55,
    "start_time": "2021-09-29T10:33:20.154Z"
   },
   {
    "duration": -57,
    "start_time": "2021-09-29T10:33:20.157Z"
   },
   {
    "duration": -60,
    "start_time": "2021-09-29T10:33:20.160Z"
   },
   {
    "duration": -62,
    "start_time": "2021-09-29T10:33:20.163Z"
   },
   {
    "duration": -64,
    "start_time": "2021-09-29T10:33:20.166Z"
   },
   {
    "duration": -66,
    "start_time": "2021-09-29T10:33:20.169Z"
   },
   {
    "duration": -67,
    "start_time": "2021-09-29T10:33:20.171Z"
   },
   {
    "duration": -71,
    "start_time": "2021-09-29T10:33:20.176Z"
   },
   {
    "duration": -78,
    "start_time": "2021-09-29T10:33:20.184Z"
   },
   {
    "duration": -80,
    "start_time": "2021-09-29T10:33:20.186Z"
   },
   {
    "duration": -81,
    "start_time": "2021-09-29T10:33:20.188Z"
   },
   {
    "duration": -82,
    "start_time": "2021-09-29T10:33:20.190Z"
   },
   {
    "duration": -83,
    "start_time": "2021-09-29T10:33:20.192Z"
   },
   {
    "duration": -84,
    "start_time": "2021-09-29T10:33:20.194Z"
   },
   {
    "duration": -87,
    "start_time": "2021-09-29T10:33:20.197Z"
   },
   {
    "duration": -88,
    "start_time": "2021-09-29T10:33:20.199Z"
   },
   {
    "duration": -89,
    "start_time": "2021-09-29T10:33:20.201Z"
   },
   {
    "duration": -91,
    "start_time": "2021-09-29T10:33:20.204Z"
   },
   {
    "duration": -93,
    "start_time": "2021-09-29T10:33:20.206Z"
   },
   {
    "duration": -95,
    "start_time": "2021-09-29T10:33:20.209Z"
   },
   {
    "duration": -96,
    "start_time": "2021-09-29T10:33:20.211Z"
   },
   {
    "duration": -98,
    "start_time": "2021-09-29T10:33:20.214Z"
   },
   {
    "duration": -100,
    "start_time": "2021-09-29T10:33:20.217Z"
   },
   {
    "duration": -107,
    "start_time": "2021-09-29T10:33:20.225Z"
   },
   {
    "duration": -117,
    "start_time": "2021-09-29T10:33:20.236Z"
   },
   {
    "duration": -118,
    "start_time": "2021-09-29T10:33:20.238Z"
   },
   {
    "duration": -120,
    "start_time": "2021-09-29T10:33:20.241Z"
   },
   {
    "duration": -142,
    "start_time": "2021-09-29T10:33:20.264Z"
   },
   {
    "duration": -170,
    "start_time": "2021-09-29T10:33:20.292Z"
   },
   {
    "duration": -206,
    "start_time": "2021-09-29T10:33:20.329Z"
   },
   {
    "duration": -236,
    "start_time": "2021-09-29T10:33:20.360Z"
   },
   {
    "duration": -270,
    "start_time": "2021-09-29T10:33:20.395Z"
   },
   {
    "duration": -271,
    "start_time": "2021-09-29T10:33:20.397Z"
   },
   {
    "duration": -273,
    "start_time": "2021-09-29T10:33:20.399Z"
   },
   {
    "duration": -273,
    "start_time": "2021-09-29T10:33:20.400Z"
   },
   {
    "duration": -274,
    "start_time": "2021-09-29T10:33:20.402Z"
   },
   {
    "duration": -275,
    "start_time": "2021-09-29T10:33:20.404Z"
   },
   {
    "duration": -277,
    "start_time": "2021-09-29T10:33:20.406Z"
   },
   {
    "duration": -279,
    "start_time": "2021-09-29T10:33:20.409Z"
   },
   {
    "duration": -280,
    "start_time": "2021-09-29T10:33:20.411Z"
   },
   {
    "duration": -281,
    "start_time": "2021-09-29T10:33:20.413Z"
   },
   {
    "duration": -282,
    "start_time": "2021-09-29T10:33:20.415Z"
   },
   {
    "duration": -282,
    "start_time": "2021-09-29T10:33:20.416Z"
   },
   {
    "duration": -284,
    "start_time": "2021-09-29T10:33:20.419Z"
   },
   {
    "duration": -246,
    "start_time": "2021-09-29T10:33:20.421Z"
   },
   {
    "duration": -247,
    "start_time": "2021-09-29T10:33:20.424Z"
   },
   {
    "duration": 1250,
    "start_time": "2021-09-29T11:06:50.034Z"
   },
   {
    "duration": 864,
    "start_time": "2021-09-29T11:06:51.286Z"
   },
   {
    "duration": 358,
    "start_time": "2021-09-29T11:06:52.152Z"
   },
   {
    "duration": 382,
    "start_time": "2021-09-29T11:06:52.512Z"
   },
   {
    "duration": 7,
    "start_time": "2021-09-29T11:06:52.896Z"
   },
   {
    "duration": 57,
    "start_time": "2021-09-29T11:06:52.905Z"
   },
   {
    "duration": 3,
    "start_time": "2021-09-29T11:06:52.964Z"
   },
   {
    "duration": 202,
    "start_time": "2021-09-29T11:06:52.976Z"
   },
   {
    "duration": 323,
    "start_time": "2021-09-29T11:06:53.181Z"
   },
   {
    "duration": 11,
    "start_time": "2021-09-29T11:06:53.506Z"
   },
   {
    "duration": 67,
    "start_time": "2021-09-29T11:06:53.518Z"
   },
   {
    "duration": 12,
    "start_time": "2021-09-29T11:06:53.587Z"
   },
   {
    "duration": 86,
    "start_time": "2021-09-29T11:06:53.601Z"
   },
   {
    "duration": 97,
    "start_time": "2021-09-29T11:06:53.689Z"
   },
   {
    "duration": 67,
    "start_time": "2021-09-29T11:06:53.788Z"
   },
   {
    "duration": 20,
    "start_time": "2021-09-29T11:06:53.857Z"
   },
   {
    "duration": 167,
    "start_time": "2021-09-29T11:06:53.880Z"
   },
   {
    "duration": 43,
    "start_time": "2021-09-29T11:06:54.050Z"
   },
   {
    "duration": 226,
    "start_time": "2021-09-29T11:06:54.095Z"
   },
   {
    "duration": 4,
    "start_time": "2021-09-29T11:06:54.323Z"
   },
   {
    "duration": 713,
    "start_time": "2021-09-29T11:06:54.329Z"
   },
   {
    "duration": 115,
    "start_time": "2021-09-29T11:06:55.044Z"
   },
   {
    "duration": 204,
    "start_time": "2021-09-29T11:06:55.161Z"
   },
   {
    "duration": 214,
    "start_time": "2021-09-29T11:06:55.367Z"
   },
   {
    "duration": 292,
    "start_time": "2021-09-29T11:06:55.583Z"
   },
   {
    "duration": 25,
    "start_time": "2021-09-29T11:06:55.852Z"
   },
   {
    "duration": 23,
    "start_time": "2021-09-29T11:06:55.855Z"
   },
   {
    "duration": 22,
    "start_time": "2021-09-29T11:06:55.857Z"
   },
   {
    "duration": 20,
    "start_time": "2021-09-29T11:06:55.860Z"
   },
   {
    "duration": 16,
    "start_time": "2021-09-29T11:06:55.864Z"
   },
   {
    "duration": 14,
    "start_time": "2021-09-29T11:06:55.867Z"
   },
   {
    "duration": 12,
    "start_time": "2021-09-29T11:06:55.870Z"
   },
   {
    "duration": 10,
    "start_time": "2021-09-29T11:06:55.873Z"
   },
   {
    "duration": -3,
    "start_time": "2021-09-29T11:06:55.887Z"
   },
   {
    "duration": -4,
    "start_time": "2021-09-29T11:06:55.889Z"
   },
   {
    "duration": -6,
    "start_time": "2021-09-29T11:06:55.892Z"
   },
   {
    "duration": -7,
    "start_time": "2021-09-29T11:06:55.894Z"
   },
   {
    "duration": -18,
    "start_time": "2021-09-29T11:06:55.906Z"
   },
   {
    "duration": -20,
    "start_time": "2021-09-29T11:06:55.909Z"
   },
   {
    "duration": -22,
    "start_time": "2021-09-29T11:06:55.912Z"
   },
   {
    "duration": -31,
    "start_time": "2021-09-29T11:06:55.922Z"
   },
   {
    "duration": -34,
    "start_time": "2021-09-29T11:06:55.926Z"
   },
   {
    "duration": -36,
    "start_time": "2021-09-29T11:06:55.929Z"
   },
   {
    "duration": -46,
    "start_time": "2021-09-29T11:06:55.940Z"
   },
   {
    "duration": -49,
    "start_time": "2021-09-29T11:06:55.944Z"
   },
   {
    "duration": -59,
    "start_time": "2021-09-29T11:06:55.955Z"
   },
   {
    "duration": -61,
    "start_time": "2021-09-29T11:06:55.958Z"
   },
   {
    "duration": -63,
    "start_time": "2021-09-29T11:06:55.961Z"
   },
   {
    "duration": 284,
    "start_time": "2021-09-29T11:07:31.087Z"
   },
   {
    "duration": 178,
    "start_time": "2021-09-29T11:07:38.389Z"
   },
   {
    "duration": 287,
    "start_time": "2021-09-29T11:07:38.569Z"
   },
   {
    "duration": 1923,
    "start_time": "2021-09-29T11:07:38.858Z"
   },
   {
    "duration": 193,
    "start_time": "2021-09-29T11:07:40.783Z"
   },
   {
    "duration": 315,
    "start_time": "2021-09-29T11:07:40.978Z"
   },
   {
    "duration": 13,
    "start_time": "2021-09-29T11:07:41.295Z"
   },
   {
    "duration": 2566,
    "start_time": "2021-09-29T11:07:41.310Z"
   },
   {
    "duration": 306,
    "start_time": "2021-09-29T11:07:43.878Z"
   },
   {
    "duration": 21,
    "start_time": "2021-09-29T11:07:44.187Z"
   },
   {
    "duration": 536,
    "start_time": "2021-09-29T11:07:44.210Z"
   },
   {
    "duration": 312,
    "start_time": "2021-09-29T11:07:44.748Z"
   },
   {
    "duration": 778,
    "start_time": "2021-09-29T11:07:45.061Z"
   },
   {
    "duration": 317,
    "start_time": "2021-09-29T11:07:45.841Z"
   },
   {
    "duration": 17,
    "start_time": "2021-09-29T11:07:46.160Z"
   },
   {
    "duration": 7,
    "start_time": "2021-09-29T11:07:46.179Z"
   },
   {
    "duration": 12,
    "start_time": "2021-09-29T11:07:46.187Z"
   },
   {
    "duration": 4,
    "start_time": "2021-09-29T11:07:46.200Z"
   },
   {
    "duration": 20374,
    "start_time": "2021-09-29T11:07:46.205Z"
   },
   {
    "duration": 4,
    "start_time": "2021-09-29T11:08:06.581Z"
   },
   {
    "duration": 263288,
    "start_time": "2021-09-29T11:08:06.587Z"
   },
   {
    "duration": -30,
    "start_time": "2021-09-29T11:12:29.907Z"
   },
   {
    "duration": -32,
    "start_time": "2021-09-29T11:12:29.910Z"
   },
   {
    "duration": -34,
    "start_time": "2021-09-29T11:12:29.912Z"
   },
   {
    "duration": -37,
    "start_time": "2021-09-29T11:12:29.916Z"
   },
   {
    "duration": 6117094,
    "start_time": "2021-09-29T11:12:34.407Z"
   },
   {
    "duration": 364,
    "start_time": "2021-09-29T16:58:01.814Z"
   },
   {
    "duration": 1609,
    "start_time": "2021-09-29T16:58:40.054Z"
   },
   {
    "duration": 1350,
    "start_time": "2021-09-29T16:58:41.666Z"
   },
   {
    "duration": 503,
    "start_time": "2021-09-29T16:58:43.023Z"
   },
   {
    "duration": 621,
    "start_time": "2021-09-29T16:58:43.528Z"
   },
   {
    "duration": 11,
    "start_time": "2021-09-29T16:58:44.152Z"
   },
   {
    "duration": 83,
    "start_time": "2021-09-29T16:58:44.166Z"
   },
   {
    "duration": 9,
    "start_time": "2021-09-29T16:58:44.251Z"
   },
   {
    "duration": 334,
    "start_time": "2021-09-29T16:58:44.263Z"
   },
   {
    "duration": 552,
    "start_time": "2021-09-29T16:58:44.600Z"
   },
   {
    "duration": 16,
    "start_time": "2021-09-29T16:58:45.155Z"
   },
   {
    "duration": 101,
    "start_time": "2021-09-29T16:58:45.174Z"
   },
   {
    "duration": 21,
    "start_time": "2021-09-29T16:58:45.277Z"
   },
   {
    "duration": 115,
    "start_time": "2021-09-29T16:58:45.301Z"
   },
   {
    "duration": 118,
    "start_time": "2021-09-29T16:58:45.422Z"
   },
   {
    "duration": 98,
    "start_time": "2021-09-29T16:58:45.543Z"
   },
   {
    "duration": 5,
    "start_time": "2021-09-29T16:58:45.644Z"
   },
   {
    "duration": 233,
    "start_time": "2021-09-29T16:58:45.651Z"
   },
   {
    "duration": 53,
    "start_time": "2021-09-29T16:58:45.887Z"
   },
   {
    "duration": 321,
    "start_time": "2021-09-29T16:58:45.942Z"
   },
   {
    "duration": 3,
    "start_time": "2021-09-29T16:58:46.266Z"
   },
   {
    "duration": 1168,
    "start_time": "2021-09-29T16:58:46.271Z"
   },
   {
    "duration": 160,
    "start_time": "2021-09-29T16:58:47.441Z"
   },
   {
    "duration": 332,
    "start_time": "2021-09-29T16:58:47.606Z"
   },
   {
    "duration": 249,
    "start_time": "2021-09-29T16:58:47.942Z"
   },
   {
    "duration": 473,
    "start_time": "2021-09-29T16:58:48.193Z"
   },
   {
    "duration": 234,
    "start_time": "2021-09-29T16:58:48.669Z"
   },
   {
    "duration": 490,
    "start_time": "2021-09-29T16:58:48.905Z"
   },
   {
    "duration": 2538,
    "start_time": "2021-09-29T16:58:49.398Z"
   },
   {
    "duration": 260,
    "start_time": "2021-09-29T16:58:51.938Z"
   },
   {
    "duration": 452,
    "start_time": "2021-09-29T16:58:52.200Z"
   },
   {
    "duration": 31,
    "start_time": "2021-09-29T16:58:52.654Z"
   },
   {
    "duration": 3763,
    "start_time": "2021-09-29T16:58:52.688Z"
   },
   {
    "duration": 486,
    "start_time": "2021-09-29T16:58:56.454Z"
   },
   {
    "duration": 32,
    "start_time": "2021-09-29T16:58:56.943Z"
   },
   {
    "duration": 711,
    "start_time": "2021-09-29T16:58:56.977Z"
   },
   {
    "duration": 509,
    "start_time": "2021-09-29T16:58:57.691Z"
   },
   {
    "duration": 1176,
    "start_time": "2021-09-29T16:58:58.203Z"
   },
   {
    "duration": 502,
    "start_time": "2021-09-29T16:58:59.381Z"
   },
   {
    "duration": 5,
    "start_time": "2021-09-29T16:58:59.885Z"
   },
   {
    "duration": 29,
    "start_time": "2021-09-29T16:58:59.893Z"
   },
   {
    "duration": 19,
    "start_time": "2021-09-29T16:58:59.925Z"
   },
   {
    "duration": 12,
    "start_time": "2021-09-29T16:58:59.947Z"
   },
   {
    "duration": 26772,
    "start_time": "2021-09-29T16:58:59.962Z"
   },
   {
    "duration": 89,
    "start_time": "2021-09-29T16:59:26.737Z"
   },
   {
    "duration": 10,
    "start_time": "2021-09-29T16:59:26.829Z"
   },
   {
    "duration": 9402,
    "start_time": "2021-09-29T16:59:26.842Z"
   },
   {
    "duration": 6,
    "start_time": "2021-09-29T20:28:03.989Z"
   },
   {
    "duration": 5,
    "start_time": "2021-09-29T20:28:27.524Z"
   },
   {
    "duration": 5,
    "start_time": "2021-09-29T20:28:40.616Z"
   },
   {
    "duration": 1644,
    "start_time": "2021-09-29T20:29:14.660Z"
   },
   {
    "duration": 1258,
    "start_time": "2021-09-29T20:29:16.306Z"
   },
   {
    "duration": 519,
    "start_time": "2021-09-29T20:29:17.567Z"
   },
   {
    "duration": 496,
    "start_time": "2021-09-29T20:29:18.089Z"
   },
   {
    "duration": 11,
    "start_time": "2021-09-29T20:29:18.587Z"
   },
   {
    "duration": 83,
    "start_time": "2021-09-29T20:29:18.601Z"
   },
   {
    "duration": 4,
    "start_time": "2021-09-29T20:29:18.686Z"
   },
   {
    "duration": 337,
    "start_time": "2021-09-29T20:29:18.694Z"
   },
   {
    "duration": 532,
    "start_time": "2021-09-29T20:29:19.034Z"
   },
   {
    "duration": 17,
    "start_time": "2021-09-29T20:29:19.568Z"
   },
   {
    "duration": 100,
    "start_time": "2021-09-29T20:29:19.587Z"
   },
   {
    "duration": 20,
    "start_time": "2021-09-29T20:29:19.690Z"
   },
   {
    "duration": 123,
    "start_time": "2021-09-29T20:29:19.712Z"
   },
   {
    "duration": 122,
    "start_time": "2021-09-29T20:29:19.837Z"
   },
   {
    "duration": 97,
    "start_time": "2021-09-29T20:29:19.962Z"
   },
   {
    "duration": 5,
    "start_time": "2021-09-29T20:29:20.061Z"
   },
   {
    "duration": 213,
    "start_time": "2021-09-29T20:29:20.068Z"
   },
   {
    "duration": 44,
    "start_time": "2021-09-29T20:29:20.284Z"
   },
   {
    "duration": 320,
    "start_time": "2021-09-29T20:29:20.331Z"
   },
   {
    "duration": 5,
    "start_time": "2021-09-29T20:29:20.653Z"
   },
   {
    "duration": 1264,
    "start_time": "2021-09-29T20:29:20.661Z"
   },
   {
    "duration": 167,
    "start_time": "2021-09-29T20:29:21.927Z"
   },
   {
    "duration": 342,
    "start_time": "2021-09-29T20:29:22.099Z"
   },
   {
    "duration": 258,
    "start_time": "2021-09-29T20:29:22.444Z"
   },
   {
    "duration": 480,
    "start_time": "2021-09-29T20:29:22.705Z"
   },
   {
    "duration": 269,
    "start_time": "2021-09-29T20:29:23.188Z"
   },
   {
    "duration": 482,
    "start_time": "2021-09-29T20:29:23.460Z"
   },
   {
    "duration": 2467,
    "start_time": "2021-09-29T20:29:23.945Z"
   },
   {
    "duration": 264,
    "start_time": "2021-09-29T20:29:26.415Z"
   },
   {
    "duration": 453,
    "start_time": "2021-09-29T20:29:26.682Z"
   },
   {
    "duration": 35,
    "start_time": "2021-09-29T20:29:27.138Z"
   },
   {
    "duration": 3778,
    "start_time": "2021-09-29T20:29:27.176Z"
   },
   {
    "duration": 508,
    "start_time": "2021-09-29T20:29:30.958Z"
   },
   {
    "duration": 31,
    "start_time": "2021-09-29T20:29:31.469Z"
   },
   {
    "duration": 747,
    "start_time": "2021-09-29T20:29:31.503Z"
   },
   {
    "duration": 515,
    "start_time": "2021-09-29T20:29:32.257Z"
   },
   {
    "duration": 1202,
    "start_time": "2021-09-29T20:29:32.774Z"
   },
   {
    "duration": 508,
    "start_time": "2021-09-29T20:29:33.979Z"
   },
   {
    "duration": 4,
    "start_time": "2021-09-29T20:29:34.489Z"
   },
   {
    "duration": 8,
    "start_time": "2021-09-29T20:29:34.495Z"
   },
   {
    "duration": 15,
    "start_time": "2021-09-29T20:29:34.506Z"
   },
   {
    "duration": 34,
    "start_time": "2021-09-29T20:29:34.524Z"
   },
   {
    "duration": 26201,
    "start_time": "2021-09-29T20:29:34.560Z"
   },
   {
    "duration": 9,
    "start_time": "2021-09-29T20:30:00.764Z"
   },
   {
    "duration": 84,
    "start_time": "2021-09-29T20:30:00.775Z"
   },
   {
    "duration": 9797,
    "start_time": "2021-09-29T20:30:00.862Z"
   },
   {
    "duration": 1658,
    "start_time": "2021-09-30T06:05:07.482Z"
   },
   {
    "duration": 8,
    "start_time": "2021-09-30T06:05:59.563Z"
   },
   {
    "duration": 1348,
    "start_time": "2021-09-30T06:05:59.574Z"
   },
   {
    "duration": 551,
    "start_time": "2021-09-30T06:06:00.925Z"
   },
   {
    "duration": 567,
    "start_time": "2021-09-30T06:06:01.480Z"
   },
   {
    "duration": 22,
    "start_time": "2021-09-30T06:06:02.050Z"
   },
   {
    "duration": 66,
    "start_time": "2021-09-30T06:06:02.074Z"
   },
   {
    "duration": 4,
    "start_time": "2021-09-30T06:06:02.164Z"
   },
   {
    "duration": 440,
    "start_time": "2021-09-30T06:06:02.170Z"
   },
   {
    "duration": 547,
    "start_time": "2021-09-30T06:06:02.615Z"
   },
   {
    "duration": 19,
    "start_time": "2021-09-30T06:06:03.166Z"
   },
   {
    "duration": 108,
    "start_time": "2021-09-30T06:06:03.187Z"
   },
   {
    "duration": 20,
    "start_time": "2021-09-30T06:06:03.297Z"
   },
   {
    "duration": 121,
    "start_time": "2021-09-30T06:06:03.320Z"
   },
   {
    "duration": 126,
    "start_time": "2021-09-30T06:06:03.443Z"
   },
   {
    "duration": 101,
    "start_time": "2021-09-30T06:06:03.571Z"
   },
   {
    "duration": 5,
    "start_time": "2021-09-30T06:06:03.674Z"
   },
   {
    "duration": 220,
    "start_time": "2021-09-30T06:06:03.682Z"
   },
   {
    "duration": 60,
    "start_time": "2021-09-30T06:06:03.905Z"
   },
   {
    "duration": 318,
    "start_time": "2021-09-30T06:06:03.968Z"
   },
   {
    "duration": 4,
    "start_time": "2021-09-30T06:06:04.288Z"
   },
   {
    "duration": 1501,
    "start_time": "2021-09-30T06:06:04.294Z"
   },
   {
    "duration": 174,
    "start_time": "2021-09-30T06:06:05.797Z"
   },
   {
    "duration": 361,
    "start_time": "2021-09-30T06:06:05.974Z"
   },
   {
    "duration": 259,
    "start_time": "2021-09-30T06:06:06.338Z"
   },
   {
    "duration": 487,
    "start_time": "2021-09-30T06:06:06.600Z"
   },
   {
    "duration": 252,
    "start_time": "2021-09-30T06:06:07.090Z"
   },
   {
    "duration": 516,
    "start_time": "2021-09-30T06:06:07.348Z"
   },
   {
    "duration": 2629,
    "start_time": "2021-09-30T06:06:07.866Z"
   },
   {
    "duration": 270,
    "start_time": "2021-09-30T06:06:10.497Z"
   },
   {
    "duration": 468,
    "start_time": "2021-09-30T06:06:10.770Z"
   },
   {
    "duration": 33,
    "start_time": "2021-09-30T06:06:11.241Z"
   },
   {
    "duration": 3706,
    "start_time": "2021-09-30T06:06:11.277Z"
   },
   {
    "duration": 618,
    "start_time": "2021-09-30T06:06:14.986Z"
   },
   {
    "duration": 32,
    "start_time": "2021-09-30T06:06:15.607Z"
   },
   {
    "duration": 762,
    "start_time": "2021-09-30T06:06:15.662Z"
   },
   {
    "duration": 561,
    "start_time": "2021-09-30T06:06:16.427Z"
   },
   {
    "duration": 1462,
    "start_time": "2021-09-30T06:06:16.991Z"
   },
   {
    "duration": 532,
    "start_time": "2021-09-30T06:06:18.461Z"
   },
   {
    "duration": 4,
    "start_time": "2021-09-30T06:06:18.995Z"
   },
   {
    "duration": 6,
    "start_time": "2021-09-30T06:06:19.002Z"
   },
   {
    "duration": 21,
    "start_time": "2021-09-30T06:06:19.010Z"
   },
   {
    "duration": 29,
    "start_time": "2021-09-30T06:06:19.034Z"
   },
   {
    "duration": 26097,
    "start_time": "2021-09-30T06:06:19.066Z"
   },
   {
    "duration": 6,
    "start_time": "2021-09-30T06:06:45.166Z"
   },
   {
    "duration": 12,
    "start_time": "2021-09-30T06:06:45.174Z"
   },
   {
    "duration": 9960,
    "start_time": "2021-09-30T06:06:45.189Z"
   },
   {
    "duration": 4098399,
    "start_time": "2021-09-30T06:06:55.152Z"
   },
   {
    "duration": 126,
    "start_time": "2021-09-30T07:15:13.554Z"
   },
   {
    "duration": -744474,
    "start_time": "2021-09-30T07:27:38.157Z"
   },
   {
    "duration": 104,
    "start_time": "2021-09-30T07:57:28.586Z"
   },
   {
    "duration": 736,
    "start_time": "2021-09-30T07:57:38.688Z"
   },
   {
    "duration": 2681719,
    "start_time": "2021-09-30T07:58:03.908Z"
   },
   {
    "duration": 139,
    "start_time": "2021-09-30T09:09:52.228Z"
   },
   {
    "duration": 226918,
    "start_time": "2021-09-30T09:09:58.737Z"
   },
   {
    "duration": 336,
    "start_time": "2021-09-30T09:43:20.651Z"
   },
   {
    "duration": 4273216,
    "start_time": "2021-09-30T09:43:35.589Z"
   },
   {
    "duration": 259,
    "start_time": "2021-09-30T10:57:28.592Z"
   },
   {
    "duration": 11,
    "start_time": "2021-09-30T10:57:50.434Z"
   },
   {
    "duration": 267,
    "start_time": "2021-09-30T10:58:01.047Z"
   },
   {
    "duration": 1651,
    "start_time": "2021-09-30T10:58:36.177Z"
   },
   {
    "duration": 1315,
    "start_time": "2021-09-30T10:58:37.830Z"
   },
   {
    "duration": 535,
    "start_time": "2021-09-30T10:58:39.148Z"
   },
   {
    "duration": 553,
    "start_time": "2021-09-30T10:58:39.686Z"
   },
   {
    "duration": 27,
    "start_time": "2021-09-30T10:58:40.241Z"
   },
   {
    "duration": 66,
    "start_time": "2021-09-30T10:58:40.271Z"
   },
   {
    "duration": 12,
    "start_time": "2021-09-30T10:58:40.340Z"
   },
   {
    "duration": 337,
    "start_time": "2021-09-30T10:58:40.365Z"
   },
   {
    "duration": 574,
    "start_time": "2021-09-30T10:58:40.706Z"
   },
   {
    "duration": 16,
    "start_time": "2021-09-30T10:58:41.283Z"
   },
   {
    "duration": 103,
    "start_time": "2021-09-30T10:58:41.301Z"
   },
   {
    "duration": 22,
    "start_time": "2021-09-30T10:58:41.406Z"
   },
   {
    "duration": 137,
    "start_time": "2021-09-30T10:58:41.430Z"
   },
   {
    "duration": 144,
    "start_time": "2021-09-30T10:58:41.570Z"
   },
   {
    "duration": 112,
    "start_time": "2021-09-30T10:58:41.716Z"
   },
   {
    "duration": 5,
    "start_time": "2021-09-30T10:58:41.830Z"
   },
   {
    "duration": 238,
    "start_time": "2021-09-30T10:58:41.838Z"
   },
   {
    "duration": 46,
    "start_time": "2021-09-30T10:58:42.079Z"
   },
   {
    "duration": 347,
    "start_time": "2021-09-30T10:58:42.127Z"
   },
   {
    "duration": 4,
    "start_time": "2021-09-30T10:58:42.476Z"
   },
   {
    "duration": 1248,
    "start_time": "2021-09-30T10:58:42.482Z"
   },
   {
    "duration": 169,
    "start_time": "2021-09-30T10:58:43.732Z"
   },
   {
    "duration": 370,
    "start_time": "2021-09-30T10:58:43.904Z"
   },
   {
    "duration": 269,
    "start_time": "2021-09-30T10:58:44.276Z"
   },
   {
    "duration": 508,
    "start_time": "2021-09-30T10:58:44.548Z"
   },
   {
    "duration": 267,
    "start_time": "2021-09-30T10:58:45.063Z"
   },
   {
    "duration": 545,
    "start_time": "2021-09-30T10:58:45.336Z"
   },
   {
    "duration": 2694,
    "start_time": "2021-09-30T10:58:45.884Z"
   },
   {
    "duration": 292,
    "start_time": "2021-09-30T10:58:48.581Z"
   },
   {
    "duration": 495,
    "start_time": "2021-09-30T10:58:48.875Z"
   },
   {
    "duration": 24,
    "start_time": "2021-09-30T10:58:49.373Z"
   },
   {
    "duration": 4041,
    "start_time": "2021-09-30T10:58:49.400Z"
   },
   {
    "duration": 527,
    "start_time": "2021-09-30T10:58:53.444Z"
   },
   {
    "duration": 32,
    "start_time": "2021-09-30T10:58:53.974Z"
   },
   {
    "duration": 784,
    "start_time": "2021-09-30T10:58:54.008Z"
   },
   {
    "duration": 550,
    "start_time": "2021-09-30T10:58:54.795Z"
   },
   {
    "duration": 1317,
    "start_time": "2021-09-30T10:58:55.348Z"
   },
   {
    "duration": 532,
    "start_time": "2021-09-30T10:58:56.667Z"
   },
   {
    "duration": 4,
    "start_time": "2021-09-30T10:58:57.202Z"
   },
   {
    "duration": 12,
    "start_time": "2021-09-30T10:58:57.209Z"
   },
   {
    "duration": 19,
    "start_time": "2021-09-30T10:58:57.224Z"
   },
   {
    "duration": 26,
    "start_time": "2021-09-30T10:58:57.245Z"
   },
   {
    "duration": 31509,
    "start_time": "2021-09-30T10:58:57.274Z"
   },
   {
    "duration": 8,
    "start_time": "2021-09-30T10:59:28.865Z"
   },
   {
    "duration": 9,
    "start_time": "2021-09-30T10:59:28.878Z"
   },
   {
    "duration": 10493,
    "start_time": "2021-09-30T10:59:28.890Z"
   },
   {
    "duration": 4,
    "start_time": "2021-09-30T10:59:39.386Z"
   },
   {
    "duration": 244990,
    "start_time": "2021-09-30T10:59:39.393Z"
   },
   {
    "duration": 438,
    "start_time": "2021-09-30T11:03:44.385Z"
   },
   {
    "duration": 35,
    "start_time": "2021-09-30T11:03:44.791Z"
   },
   {
    "duration": 678964,
    "start_time": "2021-09-30T11:05:30.907Z"
   },
   {
    "duration": 15562,
    "start_time": "2021-09-30T12:02:18.514Z"
   },
   {
    "duration": 187581,
    "start_time": "2021-09-30T12:02:48.506Z"
   },
   {
    "duration": 5,
    "start_time": "2021-09-30T12:08:26.337Z"
   },
   {
    "duration": -53,
    "start_time": "2021-09-30T12:15:06.126Z"
   },
   {
    "duration": 18222,
    "start_time": "2021-09-30T12:15:45.362Z"
   },
   {
    "duration": 1150,
    "start_time": "2021-09-30T12:16:34.847Z"
   },
   {
    "duration": 155243,
    "start_time": "2021-09-30T12:16:55.506Z"
   },
   {
    "duration": 1831,
    "start_time": "2021-09-30T12:32:23.223Z"
   },
   {
    "duration": 1438,
    "start_time": "2021-09-30T12:32:25.057Z"
   },
   {
    "duration": 609,
    "start_time": "2021-09-30T12:32:26.498Z"
   },
   {
    "duration": 643,
    "start_time": "2021-09-30T12:32:27.110Z"
   },
   {
    "duration": 19,
    "start_time": "2021-09-30T12:32:27.756Z"
   },
   {
    "duration": 92,
    "start_time": "2021-09-30T12:32:27.777Z"
   },
   {
    "duration": 4,
    "start_time": "2021-09-30T12:32:27.872Z"
   },
   {
    "duration": 486,
    "start_time": "2021-09-30T12:32:27.879Z"
   },
   {
    "duration": 769,
    "start_time": "2021-09-30T12:32:28.370Z"
   },
   {
    "duration": 32,
    "start_time": "2021-09-30T12:32:29.143Z"
   },
   {
    "duration": 93,
    "start_time": "2021-09-30T12:32:29.178Z"
   },
   {
    "duration": 23,
    "start_time": "2021-09-30T12:32:29.273Z"
   },
   {
    "duration": 197,
    "start_time": "2021-09-30T12:32:29.299Z"
   },
   {
    "duration": 142,
    "start_time": "2021-09-30T12:32:29.499Z"
   },
   {
    "duration": 137,
    "start_time": "2021-09-30T12:32:29.643Z"
   },
   {
    "duration": 6,
    "start_time": "2021-09-30T12:32:29.783Z"
   },
   {
    "duration": 308,
    "start_time": "2021-09-30T12:32:29.792Z"
   },
   {
    "duration": 62,
    "start_time": "2021-09-30T12:32:30.103Z"
   },
   {
    "duration": 472,
    "start_time": "2021-09-30T12:32:30.168Z"
   },
   {
    "duration": 4,
    "start_time": "2021-09-30T12:32:30.643Z"
   },
   {
    "duration": 10,
    "start_time": "2021-09-30T12:32:30.666Z"
   },
   {
    "duration": 46,
    "start_time": "2021-09-30T12:32:30.678Z"
   },
   {
    "duration": 419,
    "start_time": "2021-09-30T12:32:30.727Z"
   },
   {
    "duration": 63,
    "start_time": "2021-09-30T12:32:31.150Z"
   },
   {
    "duration": 723,
    "start_time": "2021-09-30T12:32:31.216Z"
   },
   {
    "duration": 46,
    "start_time": "2021-09-30T12:32:31.942Z"
   },
   {
    "duration": 659,
    "start_time": "2021-09-30T12:32:31.994Z"
   },
   {
    "duration": 488,
    "start_time": "2021-09-30T12:32:32.661Z"
   },
   {
    "duration": 241,
    "start_time": "2021-09-30T12:32:33.152Z"
   },
   {
    "duration": 707,
    "start_time": "2021-09-30T12:32:33.395Z"
   },
   {
    "duration": 13,
    "start_time": "2021-09-30T12:32:34.105Z"
   },
   {
    "duration": 270,
    "start_time": "2021-09-30T12:32:34.121Z"
   },
   {
    "duration": 516,
    "start_time": "2021-09-30T12:32:34.393Z"
   },
   {
    "duration": 23,
    "start_time": "2021-09-30T12:32:34.912Z"
   },
   {
    "duration": 70,
    "start_time": "2021-09-30T12:32:34.937Z"
   },
   {
    "duration": 589,
    "start_time": "2021-09-30T12:32:35.010Z"
   },
   {
    "duration": 143,
    "start_time": "2021-09-30T12:32:35.602Z"
   },
   {
    "duration": 761,
    "start_time": "2021-09-30T12:32:35.748Z"
   },
   {
    "duration": 5,
    "start_time": "2021-09-30T12:32:36.512Z"
   },
   {
    "duration": 11,
    "start_time": "2021-09-30T12:32:36.520Z"
   },
   {
    "duration": 37,
    "start_time": "2021-09-30T12:32:36.534Z"
   },
   {
    "duration": 7,
    "start_time": "2021-09-30T12:32:36.574Z"
   },
   {
    "duration": 902,
    "start_time": "2021-09-30T12:32:36.584Z"
   },
   {
    "duration": 13,
    "start_time": "2021-09-30T12:32:37.476Z"
   },
   {
    "duration": 11,
    "start_time": "2021-09-30T12:32:37.480Z"
   },
   {
    "duration": 10,
    "start_time": "2021-09-30T12:32:37.482Z"
   },
   {
    "duration": 9,
    "start_time": "2021-09-30T12:32:37.485Z"
   },
   {
    "duration": 9,
    "start_time": "2021-09-30T12:32:37.487Z"
   },
   {
    "duration": 8,
    "start_time": "2021-09-30T12:32:37.490Z"
   },
   {
    "duration": 6,
    "start_time": "2021-09-30T12:32:37.493Z"
   },
   {
    "duration": 5,
    "start_time": "2021-09-30T12:32:37.495Z"
   },
   {
    "duration": 5,
    "start_time": "2021-09-30T12:32:37.497Z"
   },
   {
    "duration": 4,
    "start_time": "2021-09-30T12:32:37.500Z"
   },
   {
    "duration": 6,
    "start_time": "2021-09-30T12:33:09.519Z"
   },
   {
    "duration": 1479,
    "start_time": "2021-09-30T12:33:10.359Z"
   },
   {
    "duration": 1750,
    "start_time": "2021-09-30T12:34:12.739Z"
   },
   {
    "duration": 1496,
    "start_time": "2021-09-30T12:34:14.492Z"
   },
   {
    "duration": 577,
    "start_time": "2021-09-30T12:34:15.991Z"
   },
   {
    "duration": 591,
    "start_time": "2021-09-30T12:34:16.571Z"
   },
   {
    "duration": 12,
    "start_time": "2021-09-30T12:34:17.165Z"
   },
   {
    "duration": 85,
    "start_time": "2021-09-30T12:34:17.179Z"
   },
   {
    "duration": 5,
    "start_time": "2021-09-30T12:34:17.267Z"
   },
   {
    "duration": 410,
    "start_time": "2021-09-30T12:34:17.276Z"
   },
   {
    "duration": 622,
    "start_time": "2021-09-30T12:34:17.689Z"
   },
   {
    "duration": 18,
    "start_time": "2021-09-30T12:34:18.313Z"
   },
   {
    "duration": 112,
    "start_time": "2021-09-30T12:34:18.334Z"
   },
   {
    "duration": 30,
    "start_time": "2021-09-30T12:34:18.448Z"
   },
   {
    "duration": 142,
    "start_time": "2021-09-30T12:34:18.481Z"
   },
   {
    "duration": 184,
    "start_time": "2021-09-30T12:34:18.625Z"
   },
   {
    "duration": 149,
    "start_time": "2021-09-30T12:34:18.812Z"
   },
   {
    "duration": 6,
    "start_time": "2021-09-30T12:34:18.965Z"
   },
   {
    "duration": 252,
    "start_time": "2021-09-30T12:34:18.974Z"
   },
   {
    "duration": 56,
    "start_time": "2021-09-30T12:34:19.229Z"
   },
   {
    "duration": 336,
    "start_time": "2021-09-30T12:34:19.288Z"
   },
   {
    "duration": 5,
    "start_time": "2021-09-30T12:34:19.627Z"
   },
   {
    "duration": 7,
    "start_time": "2021-09-30T12:34:19.634Z"
   },
   {
    "duration": 24,
    "start_time": "2021-09-30T12:34:19.662Z"
   },
   {
    "duration": 634,
    "start_time": "2021-09-30T12:34:19.694Z"
   },
   {
    "duration": 66,
    "start_time": "2021-09-30T12:34:20.333Z"
   },
   {
    "duration": 668,
    "start_time": "2021-09-30T12:34:20.401Z"
   },
   {
    "duration": 32,
    "start_time": "2021-09-30T12:34:21.073Z"
   },
   {
    "duration": 629,
    "start_time": "2021-09-30T12:34:21.107Z"
   },
   {
    "duration": 399,
    "start_time": "2021-09-30T12:34:21.739Z"
   },
   {
    "duration": 3570,
    "start_time": "2021-09-30T12:34:22.140Z"
   },
   {
    "duration": 508,
    "start_time": "2021-09-30T12:34:25.713Z"
   },
   {
    "duration": 13,
    "start_time": "2021-09-30T12:34:26.224Z"
   },
   {
    "duration": 202,
    "start_time": "2021-09-30T12:34:26.240Z"
   },
   {
    "duration": 626,
    "start_time": "2021-09-30T12:34:26.445Z"
   },
   {
    "duration": 28,
    "start_time": "2021-09-30T12:34:27.074Z"
   },
   {
    "duration": 62,
    "start_time": "2021-09-30T12:34:27.104Z"
   },
   {
    "duration": 694,
    "start_time": "2021-09-30T12:34:27.169Z"
   },
   {
    "duration": 97,
    "start_time": "2021-09-30T12:34:27.866Z"
   },
   {
    "duration": 549,
    "start_time": "2021-09-30T12:34:27.966Z"
   },
   {
    "duration": 5,
    "start_time": "2021-09-30T12:34:28.517Z"
   },
   {
    "duration": 9,
    "start_time": "2021-09-30T12:34:28.524Z"
   },
   {
    "duration": 37,
    "start_time": "2021-09-30T12:34:28.535Z"
   },
   {
    "duration": 6,
    "start_time": "2021-09-30T12:34:28.575Z"
   },
   {
    "duration": 382,
    "start_time": "2021-09-30T12:34:28.584Z"
   },
   {
    "duration": 5,
    "start_time": "2021-09-30T12:34:28.969Z"
   },
   {
    "duration": 180652,
    "start_time": "2021-09-30T12:34:28.977Z"
   },
   {
    "duration": -6,
    "start_time": "2021-09-30T12:37:29.639Z"
   },
   {
    "duration": -7,
    "start_time": "2021-09-30T12:37:29.641Z"
   },
   {
    "duration": -8,
    "start_time": "2021-09-30T12:37:29.644Z"
   },
   {
    "duration": -8,
    "start_time": "2021-09-30T12:37:29.646Z"
   },
   {
    "duration": -9,
    "start_time": "2021-09-30T12:37:29.649Z"
   },
   {
    "duration": -13,
    "start_time": "2021-09-30T12:37:29.654Z"
   },
   {
    "duration": -13,
    "start_time": "2021-09-30T12:37:29.656Z"
   },
   {
    "duration": -14,
    "start_time": "2021-09-30T12:37:29.659Z"
   },
   {
    "duration": 6,
    "start_time": "2021-09-30T12:37:41.448Z"
   },
   {
    "duration": 6,
    "start_time": "2021-09-30T12:37:47.113Z"
   },
   {
    "duration": 6,
    "start_time": "2021-09-30T12:38:08.346Z"
   },
   {
    "duration": 6,
    "start_time": "2021-09-30T12:38:12.009Z"
   },
   {
    "duration": 5,
    "start_time": "2021-09-30T12:38:23.143Z"
   },
   {
    "duration": 6,
    "start_time": "2021-09-30T12:38:30.936Z"
   },
   {
    "duration": 261654,
    "start_time": "2021-09-30T12:38:51.190Z"
   },
   {
    "duration": 5,
    "start_time": "2021-09-30T12:46:01.244Z"
   },
   {
    "duration": 9,
    "start_time": "2021-09-30T12:46:09.263Z"
   },
   {
    "duration": 5,
    "start_time": "2021-09-30T12:46:51.026Z"
   },
   {
    "duration": 6,
    "start_time": "2021-09-30T12:46:54.588Z"
   },
   {
    "duration": 1764,
    "start_time": "2021-09-30T12:47:14.419Z"
   },
   {
    "duration": 1842350,
    "start_time": "2021-09-30T12:47:34.360Z"
   },
   {
    "duration": 5,
    "start_time": "2021-09-30T13:18:26.976Z"
   },
   {
    "duration": 122062,
    "start_time": "2021-09-30T13:18:54.817Z"
   },
   {
    "duration": 1704499,
    "start_time": "2021-09-30T13:25:35.439Z"
   },
   {
    "duration": 57759,
    "start_time": "2021-09-30T14:11:02.362Z"
   },
   {
    "duration": 1565840,
    "start_time": "2021-09-30T14:12:00.125Z"
   },
   {
    "duration": 183929,
    "start_time": "2021-09-30T14:45:32.043Z"
   },
   {
    "duration": 25117,
    "start_time": "2021-09-30T14:48:51.455Z"
   },
   {
    "duration": 21898,
    "start_time": "2021-09-30T14:50:24.958Z"
   },
   {
    "duration": 817950,
    "start_time": "2021-09-30T14:51:47.357Z"
   },
   {
    "duration": 34264,
    "start_time": "2021-09-30T15:06:35.337Z"
   },
   {
    "duration": 10,
    "start_time": "2021-09-30T15:07:51.646Z"
   },
   {
    "duration": 11,
    "start_time": "2021-09-30T15:09:01.971Z"
   },
   {
    "duration": 17,
    "start_time": "2021-09-30T15:09:07.714Z"
   },
   {
    "duration": 18,
    "start_time": "2021-09-30T15:09:46.978Z"
   },
   {
    "duration": 9,
    "start_time": "2021-09-30T15:10:19.839Z"
   },
   {
    "duration": 14,
    "start_time": "2021-09-30T15:10:26.938Z"
   },
   {
    "duration": 15,
    "start_time": "2021-09-30T15:11:20.741Z"
   },
   {
    "duration": 1677,
    "start_time": "2021-09-30T15:11:56.763Z"
   },
   {
    "duration": 1420,
    "start_time": "2021-09-30T15:11:58.443Z"
   },
   {
    "duration": 591,
    "start_time": "2021-09-30T15:11:59.866Z"
   },
   {
    "duration": 638,
    "start_time": "2021-09-30T15:12:00.463Z"
   },
   {
    "duration": 14,
    "start_time": "2021-09-30T15:12:01.104Z"
   },
   {
    "duration": 87,
    "start_time": "2021-09-30T15:12:01.120Z"
   },
   {
    "duration": 4,
    "start_time": "2021-09-30T15:12:01.209Z"
   },
   {
    "duration": 379,
    "start_time": "2021-09-30T15:12:01.217Z"
   },
   {
    "duration": 632,
    "start_time": "2021-09-30T15:12:01.600Z"
   },
   {
    "duration": 30,
    "start_time": "2021-09-30T15:12:02.234Z"
   },
   {
    "duration": 100,
    "start_time": "2021-09-30T15:12:02.269Z"
   },
   {
    "duration": 23,
    "start_time": "2021-09-30T15:12:02.372Z"
   },
   {
    "duration": 135,
    "start_time": "2021-09-30T15:12:02.398Z"
   },
   {
    "duration": 135,
    "start_time": "2021-09-30T15:12:02.535Z"
   },
   {
    "duration": 113,
    "start_time": "2021-09-30T15:12:02.675Z"
   },
   {
    "duration": 5,
    "start_time": "2021-09-30T15:12:02.790Z"
   },
   {
    "duration": 266,
    "start_time": "2021-09-30T15:12:02.797Z"
   },
   {
    "duration": 48,
    "start_time": "2021-09-30T15:12:03.066Z"
   },
   {
    "duration": 325,
    "start_time": "2021-09-30T15:12:03.116Z"
   },
   {
    "duration": 4,
    "start_time": "2021-09-30T15:12:03.443Z"
   },
   {
    "duration": 3,
    "start_time": "2021-09-30T15:12:03.463Z"
   },
   {
    "duration": 40,
    "start_time": "2021-09-30T15:12:03.469Z"
   },
   {
    "duration": 590,
    "start_time": "2021-09-30T15:12:03.514Z"
   },
   {
    "duration": 67,
    "start_time": "2021-09-30T15:12:04.108Z"
   },
   {
    "duration": 504,
    "start_time": "2021-09-30T15:12:04.178Z"
   },
   {
    "duration": 29,
    "start_time": "2021-09-30T15:12:04.685Z"
   },
   {
    "duration": 621,
    "start_time": "2021-09-30T15:12:04.717Z"
   },
   {
    "duration": 390,
    "start_time": "2021-09-30T15:12:05.341Z"
   },
   {
    "duration": 3370,
    "start_time": "2021-09-30T15:12:05.733Z"
   },
   {
    "duration": 509,
    "start_time": "2021-09-30T15:12:09.106Z"
   },
   {
    "duration": 11,
    "start_time": "2021-09-30T15:12:09.618Z"
   },
   {
    "duration": 192,
    "start_time": "2021-09-30T15:12:09.631Z"
   },
   {
    "duration": 646,
    "start_time": "2021-09-30T15:12:09.826Z"
   },
   {
    "duration": 29,
    "start_time": "2021-09-30T15:12:10.476Z"
   },
   {
    "duration": 72,
    "start_time": "2021-09-30T15:12:10.507Z"
   },
   {
    "duration": 561,
    "start_time": "2021-09-30T15:12:10.582Z"
   },
   {
    "duration": 105,
    "start_time": "2021-09-30T15:12:11.146Z"
   },
   {
    "duration": 555,
    "start_time": "2021-09-30T15:12:11.262Z"
   },
   {
    "duration": 5,
    "start_time": "2021-09-30T15:12:11.819Z"
   },
   {
    "duration": 11,
    "start_time": "2021-09-30T15:12:11.827Z"
   },
   {
    "duration": 35,
    "start_time": "2021-09-30T15:12:11.841Z"
   },
   {
    "duration": 13,
    "start_time": "2021-09-30T15:12:11.878Z"
   },
   {
    "duration": 272,
    "start_time": "2021-09-30T15:12:11.894Z"
   },
   {
    "duration": 5,
    "start_time": "2021-09-30T15:12:12.169Z"
   },
   {
    "duration": 18,
    "start_time": "2021-09-30T15:12:12.177Z"
   },
   {
    "duration": 1869,
    "start_time": "2021-09-30T15:12:12.198Z"
   },
   {
    "duration": 6,
    "start_time": "2021-09-30T15:12:14.070Z"
   },
   {
    "duration": 59996,
    "start_time": "2021-09-30T15:12:14.078Z"
   },
   {
    "duration": 5,
    "start_time": "2021-09-30T15:13:14.077Z"
   },
   {
    "duration": 30936,
    "start_time": "2021-09-30T15:13:14.084Z"
   },
   {
    "duration": 21,
    "start_time": "2021-09-30T15:13:45.002Z"
   },
   {
    "duration": 19,
    "start_time": "2021-09-30T15:13:45.005Z"
   },
   {
    "duration": 18,
    "start_time": "2021-09-30T15:13:45.008Z"
   },
   {
    "duration": 17,
    "start_time": "2021-09-30T15:13:45.011Z"
   },
   {
    "duration": 1659,
    "start_time": "2021-09-30T15:14:31.669Z"
   },
   {
    "duration": 1390,
    "start_time": "2021-09-30T15:14:33.331Z"
   },
   {
    "duration": 553,
    "start_time": "2021-09-30T15:14:34.724Z"
   },
   {
    "duration": 602,
    "start_time": "2021-09-30T15:14:35.280Z"
   },
   {
    "duration": 12,
    "start_time": "2021-09-30T15:14:35.884Z"
   },
   {
    "duration": 88,
    "start_time": "2021-09-30T15:14:35.898Z"
   },
   {
    "duration": 3,
    "start_time": "2021-09-30T15:14:35.989Z"
   },
   {
    "duration": 366,
    "start_time": "2021-09-30T15:14:35.996Z"
   },
   {
    "duration": 688,
    "start_time": "2021-09-30T15:14:36.366Z"
   },
   {
    "duration": 21,
    "start_time": "2021-09-30T15:14:37.058Z"
   },
   {
    "duration": 123,
    "start_time": "2021-09-30T15:14:37.082Z"
   },
   {
    "duration": 26,
    "start_time": "2021-09-30T15:14:37.208Z"
   },
   {
    "duration": 144,
    "start_time": "2021-09-30T15:14:37.237Z"
   },
   {
    "duration": 134,
    "start_time": "2021-09-30T15:14:37.384Z"
   },
   {
    "duration": 103,
    "start_time": "2021-09-30T15:14:37.520Z"
   },
   {
    "duration": 5,
    "start_time": "2021-09-30T15:14:37.625Z"
   },
   {
    "duration": 250,
    "start_time": "2021-09-30T15:14:37.632Z"
   },
   {
    "duration": 45,
    "start_time": "2021-09-30T15:14:37.885Z"
   },
   {
    "duration": 356,
    "start_time": "2021-09-30T15:14:37.932Z"
   },
   {
    "duration": 4,
    "start_time": "2021-09-30T15:14:38.290Z"
   },
   {
    "duration": 19,
    "start_time": "2021-09-30T15:14:38.296Z"
   },
   {
    "duration": 31,
    "start_time": "2021-09-30T15:14:38.318Z"
   },
   {
    "duration": 590,
    "start_time": "2021-09-30T15:14:38.355Z"
   },
   {
    "duration": 64,
    "start_time": "2021-09-30T15:14:38.948Z"
   },
   {
    "duration": 531,
    "start_time": "2021-09-30T15:14:39.014Z"
   },
   {
    "duration": 38,
    "start_time": "2021-09-30T15:14:39.548Z"
   },
   {
    "duration": 649,
    "start_time": "2021-09-30T15:14:39.589Z"
   },
   {
    "duration": 393,
    "start_time": "2021-09-30T15:14:40.240Z"
   },
   {
    "duration": 3813,
    "start_time": "2021-09-30T15:14:40.635Z"
   },
   {
    "duration": 538,
    "start_time": "2021-09-30T15:14:44.451Z"
   },
   {
    "duration": 10,
    "start_time": "2021-09-30T15:14:44.992Z"
   },
   {
    "duration": 209,
    "start_time": "2021-09-30T15:14:45.004Z"
   },
   {
    "duration": 559,
    "start_time": "2021-09-30T15:14:45.216Z"
   },
   {
    "duration": 26,
    "start_time": "2021-09-30T15:14:45.777Z"
   },
   {
    "duration": 58,
    "start_time": "2021-09-30T15:14:45.806Z"
   },
   {
    "duration": 606,
    "start_time": "2021-09-30T15:14:45.867Z"
   },
   {
    "duration": 110,
    "start_time": "2021-09-30T15:14:46.476Z"
   },
   {
    "duration": 575,
    "start_time": "2021-09-30T15:14:46.589Z"
   },
   {
    "duration": 7,
    "start_time": "2021-09-30T15:14:47.167Z"
   },
   {
    "duration": 7,
    "start_time": "2021-09-30T15:14:47.177Z"
   },
   {
    "duration": 23,
    "start_time": "2021-09-30T15:14:47.187Z"
   },
   {
    "duration": 8,
    "start_time": "2021-09-30T15:14:47.213Z"
   },
   {
    "duration": 346,
    "start_time": "2021-09-30T15:14:47.223Z"
   },
   {
    "duration": 10,
    "start_time": "2021-09-30T15:14:47.572Z"
   },
   {
    "duration": 83,
    "start_time": "2021-09-30T15:14:47.585Z"
   },
   {
    "duration": 1883,
    "start_time": "2021-09-30T15:14:47.672Z"
   },
   {
    "duration": 6,
    "start_time": "2021-09-30T15:14:49.562Z"
   },
   {
    "duration": 60392,
    "start_time": "2021-09-30T15:14:49.571Z"
   },
   {
    "duration": 6,
    "start_time": "2021-09-30T15:15:49.966Z"
   },
   {
    "duration": 338851,
    "start_time": "2021-09-30T15:15:49.974Z"
   },
   {
    "duration": 9,
    "start_time": "2021-09-30T15:21:28.862Z"
   },
   {
    "duration": 34318,
    "start_time": "2021-09-30T15:21:28.874Z"
   },
   {
    "duration": 10,
    "start_time": "2021-09-30T15:22:03.195Z"
   },
   {
    "duration": 22,
    "start_time": "2021-09-30T15:22:03.207Z"
   },
   {
    "duration": 20175,
    "start_time": "2021-09-30T15:22:33.394Z"
   },
   {
    "duration": 1569,
    "start_time": "2021-10-01T05:49:14.933Z"
   },
   {
    "duration": 1223,
    "start_time": "2021-10-01T05:49:16.504Z"
   },
   {
    "duration": 476,
    "start_time": "2021-10-01T05:49:46.702Z"
   },
   {
    "duration": 501,
    "start_time": "2021-10-01T05:49:47.963Z"
   },
   {
    "duration": 12,
    "start_time": "2021-10-01T05:49:48.739Z"
   },
   {
    "duration": 63,
    "start_time": "2021-10-01T05:50:26.841Z"
   },
   {
    "duration": 4,
    "start_time": "2021-10-01T05:50:41.308Z"
   },
   {
    "duration": 308,
    "start_time": "2021-10-01T05:50:42.053Z"
   },
   {
    "duration": 522,
    "start_time": "2021-10-01T05:50:42.538Z"
   },
   {
    "duration": 16,
    "start_time": "2021-10-01T05:50:43.164Z"
   },
   {
    "duration": 71,
    "start_time": "2021-10-01T05:50:43.577Z"
   },
   {
    "duration": 21,
    "start_time": "2021-10-01T05:50:43.742Z"
   },
   {
    "duration": 96,
    "start_time": "2021-10-01T05:50:43.902Z"
   },
   {
    "duration": 116,
    "start_time": "2021-10-01T05:50:44.072Z"
   },
   {
    "duration": 88,
    "start_time": "2021-10-01T05:50:44.248Z"
   },
   {
    "duration": 5,
    "start_time": "2021-10-01T05:50:44.564Z"
   },
   {
    "duration": 191,
    "start_time": "2021-10-01T05:50:44.719Z"
   },
   {
    "duration": 40,
    "start_time": "2021-10-01T05:50:44.912Z"
   },
   {
    "duration": 313,
    "start_time": "2021-10-01T05:50:45.465Z"
   },
   {
    "duration": 4,
    "start_time": "2021-10-01T05:50:45.783Z"
   },
   {
    "duration": 9,
    "start_time": "2021-10-01T05:50:45.790Z"
   },
   {
    "duration": 22,
    "start_time": "2021-10-01T05:50:46.116Z"
   },
   {
    "duration": 507,
    "start_time": "2021-10-01T05:50:46.259Z"
   },
   {
    "duration": 64,
    "start_time": "2021-10-01T05:50:46.770Z"
   },
   {
    "duration": 441,
    "start_time": "2021-10-01T05:50:46.900Z"
   },
   {
    "duration": 27,
    "start_time": "2021-10-01T05:50:47.807Z"
   },
   {
    "duration": 545,
    "start_time": "2021-10-01T05:50:48.063Z"
   },
   {
    "duration": 319,
    "start_time": "2021-10-01T05:50:48.611Z"
   },
   {
    "duration": 2984,
    "start_time": "2021-10-01T05:50:48.933Z"
   },
   {
    "duration": 454,
    "start_time": "2021-10-01T05:50:51.920Z"
   },
   {
    "duration": 16,
    "start_time": "2021-10-01T05:50:52.377Z"
   },
   {
    "duration": 132,
    "start_time": "2021-10-01T05:50:52.397Z"
   },
   {
    "duration": 487,
    "start_time": "2021-10-01T05:50:52.532Z"
   },
   {
    "duration": 22,
    "start_time": "2021-10-01T05:50:53.022Z"
   },
   {
    "duration": 66,
    "start_time": "2021-10-01T05:50:53.046Z"
   },
   {
    "duration": 495,
    "start_time": "2021-10-01T05:50:53.115Z"
   },
   {
    "duration": 86,
    "start_time": "2021-10-01T05:59:08.116Z"
   },
   {
    "duration": 510,
    "start_time": "2021-10-01T05:59:09.278Z"
   },
   {
    "duration": 5,
    "start_time": "2021-10-01T05:59:10.120Z"
   },
   {
    "duration": 5,
    "start_time": "2021-10-01T05:59:10.564Z"
   },
   {
    "duration": 12,
    "start_time": "2021-10-01T05:59:10.747Z"
   },
   {
    "duration": 5,
    "start_time": "2021-10-01T05:59:10.992Z"
   },
   {
    "duration": 200,
    "start_time": "2021-10-01T05:59:11.692Z"
   },
   {
    "duration": 6,
    "start_time": "2021-10-01T05:59:13.088Z"
   },
   {
    "duration": 5,
    "start_time": "2021-10-01T05:59:13.336Z"
   },
   {
    "duration": 1654,
    "start_time": "2021-10-01T05:59:38.680Z"
   },
   {
    "duration": 48152,
    "start_time": "2021-10-01T06:00:02.156Z"
   },
   {
    "duration": 4,
    "start_time": "2021-10-01T06:01:17.422Z"
   },
   {
    "duration": 11810,
    "start_time": "2021-10-01T06:01:22.588Z"
   },
   {
    "duration": 5,
    "start_time": "2021-10-01T06:01:34.400Z"
   },
   {
    "duration": 34799,
    "start_time": "2021-10-01T06:01:34.408Z"
   },
   {
    "duration": 11,
    "start_time": "2021-10-01T06:02:09.211Z"
   },
   {
    "duration": 18,
    "start_time": "2021-10-01T06:02:09.225Z"
   },
   {
    "duration": 350,
    "start_time": "2021-10-01T09:09:45.013Z"
   },
   {
    "duration": 1671,
    "start_time": "2021-10-01T09:18:40.100Z"
   },
   {
    "duration": 1348,
    "start_time": "2021-10-01T09:18:41.774Z"
   },
   {
    "duration": 497,
    "start_time": "2021-10-01T09:18:43.125Z"
   },
   {
    "duration": 520,
    "start_time": "2021-10-01T09:18:43.625Z"
   },
   {
    "duration": 12,
    "start_time": "2021-10-01T09:18:44.147Z"
   },
   {
    "duration": 90,
    "start_time": "2021-10-01T09:18:44.161Z"
   },
   {
    "duration": 6,
    "start_time": "2021-10-01T09:18:44.254Z"
   },
   {
    "duration": 333,
    "start_time": "2021-10-01T09:18:44.263Z"
   },
   {
    "duration": 879,
    "start_time": "2021-10-01T09:18:44.600Z"
   },
   {
    "duration": 8,
    "start_time": "2021-10-01T09:18:45.476Z"
   },
   {
    "duration": 4,
    "start_time": "2021-10-01T09:18:45.481Z"
   },
   {
    "duration": 1,
    "start_time": "2021-10-01T09:18:45.486Z"
   },
   {
    "duration": -2,
    "start_time": "2021-10-01T09:18:45.490Z"
   },
   {
    "duration": -11,
    "start_time": "2021-10-01T09:18:45.500Z"
   },
   {
    "duration": -12,
    "start_time": "2021-10-01T09:18:45.503Z"
   },
   {
    "duration": -15,
    "start_time": "2021-10-01T09:18:45.507Z"
   },
   {
    "duration": -17,
    "start_time": "2021-10-01T09:18:45.511Z"
   },
   {
    "duration": -20,
    "start_time": "2021-10-01T09:18:45.515Z"
   },
   {
    "duration": -23,
    "start_time": "2021-10-01T09:18:45.519Z"
   },
   {
    "duration": -25,
    "start_time": "2021-10-01T09:18:45.523Z"
   },
   {
    "duration": -9,
    "start_time": "2021-10-01T09:18:45.531Z"
   },
   {
    "duration": -12,
    "start_time": "2021-10-01T09:18:45.535Z"
   },
   {
    "duration": -13,
    "start_time": "2021-10-01T09:18:45.538Z"
   },
   {
    "duration": -17,
    "start_time": "2021-10-01T09:18:45.543Z"
   },
   {
    "duration": -19,
    "start_time": "2021-10-01T09:18:45.547Z"
   },
   {
    "duration": -21,
    "start_time": "2021-10-01T09:18:45.550Z"
   },
   {
    "duration": -23,
    "start_time": "2021-10-01T09:18:45.553Z"
   },
   {
    "duration": -97,
    "start_time": "2021-10-01T09:18:45.629Z"
   },
   {
    "duration": -169,
    "start_time": "2021-10-01T09:18:45.702Z"
   },
   {
    "duration": -170,
    "start_time": "2021-10-01T09:18:45.705Z"
   },
   {
    "duration": -171,
    "start_time": "2021-10-01T09:18:45.707Z"
   },
   {
    "duration": -172,
    "start_time": "2021-10-01T09:18:45.710Z"
   },
   {
    "duration": -173,
    "start_time": "2021-10-01T09:18:45.712Z"
   },
   {
    "duration": -174,
    "start_time": "2021-10-01T09:18:45.714Z"
   },
   {
    "duration": -174,
    "start_time": "2021-10-01T09:18:45.716Z"
   },
   {
    "duration": -176,
    "start_time": "2021-10-01T09:18:45.719Z"
   },
   {
    "duration": -177,
    "start_time": "2021-10-01T09:18:45.722Z"
   },
   {
    "duration": -178,
    "start_time": "2021-10-01T09:18:45.724Z"
   },
   {
    "duration": -178,
    "start_time": "2021-10-01T09:18:45.726Z"
   },
   {
    "duration": -185,
    "start_time": "2021-10-01T09:18:45.734Z"
   },
   {
    "duration": -186,
    "start_time": "2021-10-01T09:18:45.736Z"
   },
   {
    "duration": -188,
    "start_time": "2021-10-01T09:18:45.740Z"
   },
   {
    "duration": -189,
    "start_time": "2021-10-01T09:18:45.742Z"
   },
   {
    "duration": -190,
    "start_time": "2021-10-01T09:18:45.745Z"
   },
   {
    "duration": -222,
    "start_time": "2021-10-01T09:18:45.778Z"
   },
   {
    "duration": -223,
    "start_time": "2021-10-01T09:18:45.780Z"
   },
   {
    "duration": -223,
    "start_time": "2021-10-01T09:18:45.782Z"
   },
   {
    "duration": -225,
    "start_time": "2021-10-01T09:18:45.785Z"
   },
   {
    "duration": -165,
    "start_time": "2021-10-01T09:18:45.787Z"
   },
   {
    "duration": -165,
    "start_time": "2021-10-01T09:18:45.789Z"
   },
   {
    "duration": -166,
    "start_time": "2021-10-01T09:18:45.791Z"
   },
   {
    "duration": -167,
    "start_time": "2021-10-01T09:18:45.794Z"
   },
   {
    "duration": -168,
    "start_time": "2021-10-01T09:18:45.796Z"
   },
   {
    "duration": -168,
    "start_time": "2021-10-01T09:18:45.798Z"
   },
   {
    "duration": -168,
    "start_time": "2021-10-01T09:18:45.800Z"
   },
   {
    "duration": -169,
    "start_time": "2021-10-01T09:18:45.802Z"
   },
   {
    "duration": 1620,
    "start_time": "2021-10-01T09:19:01.809Z"
   },
   {
    "duration": 1249,
    "start_time": "2021-10-01T09:19:03.432Z"
   },
   {
    "duration": 512,
    "start_time": "2021-10-01T09:19:04.684Z"
   },
   {
    "duration": 534,
    "start_time": "2021-10-01T09:19:05.199Z"
   },
   {
    "duration": 11,
    "start_time": "2021-10-01T09:19:05.736Z"
   },
   {
    "duration": 80,
    "start_time": "2021-10-01T09:19:05.750Z"
   },
   {
    "duration": 4,
    "start_time": "2021-10-01T09:19:05.832Z"
   },
   {
    "duration": 348,
    "start_time": "2021-10-01T09:19:05.838Z"
   },
   {
    "duration": 547,
    "start_time": "2021-10-01T09:19:06.191Z"
   },
   {
    "duration": 17,
    "start_time": "2021-10-01T09:19:06.742Z"
   },
   {
    "duration": 107,
    "start_time": "2021-10-01T09:19:06.762Z"
   },
   {
    "duration": 21,
    "start_time": "2021-10-01T09:19:06.872Z"
   },
   {
    "duration": 119,
    "start_time": "2021-10-01T09:19:06.895Z"
   },
   {
    "duration": 119,
    "start_time": "2021-10-01T09:19:07.023Z"
   },
   {
    "duration": 101,
    "start_time": "2021-10-01T09:19:07.145Z"
   },
   {
    "duration": 5,
    "start_time": "2021-10-01T09:19:07.249Z"
   },
   {
    "duration": 231,
    "start_time": "2021-10-01T09:19:07.256Z"
   },
   {
    "duration": 54,
    "start_time": "2021-10-01T09:19:07.489Z"
   },
   {
    "duration": 315,
    "start_time": "2021-10-01T09:19:07.546Z"
   },
   {
    "duration": 4,
    "start_time": "2021-10-01T09:19:07.863Z"
   },
   {
    "duration": 18,
    "start_time": "2021-10-01T09:19:07.869Z"
   },
   {
    "duration": 44,
    "start_time": "2021-10-01T09:19:07.889Z"
   },
   {
    "duration": 532,
    "start_time": "2021-10-01T09:19:07.935Z"
   },
   {
    "duration": 63,
    "start_time": "2021-10-01T09:19:08.470Z"
   },
   {
    "duration": 33,
    "start_time": "2021-10-01T09:19:08.535Z"
   },
   {
    "duration": 484,
    "start_time": "2021-10-01T09:19:08.570Z"
   },
   {
    "duration": 27,
    "start_time": "2021-10-01T09:19:09.059Z"
   },
   {
    "duration": 585,
    "start_time": "2021-10-01T09:19:09.088Z"
   },
   {
    "duration": 331,
    "start_time": "2021-10-01T09:19:09.676Z"
   },
   {
    "duration": 3007,
    "start_time": "2021-10-01T09:19:10.009Z"
   },
   {
    "duration": 467,
    "start_time": "2021-10-01T09:19:13.019Z"
   },
   {
    "duration": 10,
    "start_time": "2021-10-01T09:19:13.489Z"
   },
   {
    "duration": 166,
    "start_time": "2021-10-01T09:19:13.501Z"
   },
   {
    "duration": 495,
    "start_time": "2021-10-01T09:19:13.669Z"
   },
   {
    "duration": 20,
    "start_time": "2021-10-01T09:19:14.166Z"
   },
   {
    "duration": 63,
    "start_time": "2021-10-01T09:19:14.189Z"
   },
   {
    "duration": 484,
    "start_time": "2021-10-01T09:19:14.254Z"
   },
   {
    "duration": 8829,
    "start_time": "2021-10-01T09:19:39.106Z"
   },
   {
    "duration": 1182,
    "start_time": "2021-10-01T09:20:34.387Z"
   },
   {
    "duration": 436,
    "start_time": "2021-10-01T09:20:39.287Z"
   },
   {
    "duration": 20,
    "start_time": "2021-10-01T09:21:14.273Z"
   },
   {
    "duration": 39,
    "start_time": "2021-10-01T09:27:17.917Z"
   },
   {
    "duration": 344,
    "start_time": "2021-10-01T09:28:26.506Z"
   },
   {
    "duration": 307,
    "start_time": "2021-10-01T09:29:15.641Z"
   },
   {
    "duration": 309,
    "start_time": "2021-10-01T09:29:21.101Z"
   },
   {
    "duration": 272,
    "start_time": "2021-10-01T09:29:36.869Z"
   },
   {
    "duration": 31,
    "start_time": "2021-10-01T09:38:21.209Z"
   },
   {
    "duration": 9,
    "start_time": "2021-10-01T09:41:18.413Z"
   },
   {
    "duration": 1177,
    "start_time": "2021-10-01T09:41:18.945Z"
   },
   {
    "duration": 424,
    "start_time": "2021-10-01T09:41:20.886Z"
   },
   {
    "duration": 24,
    "start_time": "2021-10-01T09:41:21.313Z"
   },
   {
    "duration": 481,
    "start_time": "2021-10-01T09:41:21.592Z"
   },
   {
    "duration": 12,
    "start_time": "2021-10-01T09:41:22.075Z"
   },
   {
    "duration": 59,
    "start_time": "2021-10-01T09:41:23.111Z"
   },
   {
    "duration": 4,
    "start_time": "2021-10-01T09:41:23.860Z"
   },
   {
    "duration": 439,
    "start_time": "2021-10-01T09:41:24.254Z"
   },
   {
    "duration": 789,
    "start_time": "2021-10-01T09:41:24.697Z"
   },
   {
    "duration": 18,
    "start_time": "2021-10-01T09:41:25.564Z"
   },
   {
    "duration": 101,
    "start_time": "2021-10-01T09:41:27.683Z"
   },
   {
    "duration": 20,
    "start_time": "2021-10-01T09:41:28.676Z"
   },
   {
    "duration": 115,
    "start_time": "2021-10-01T09:41:29.109Z"
   },
   {
    "duration": 111,
    "start_time": "2021-10-01T09:41:29.611Z"
   },
   {
    "duration": 87,
    "start_time": "2021-10-01T09:41:30.106Z"
   },
   {
    "duration": 5,
    "start_time": "2021-10-01T09:41:31.065Z"
   },
   {
    "duration": 199,
    "start_time": "2021-10-01T09:41:31.544Z"
   },
   {
    "duration": 42,
    "start_time": "2021-10-01T09:41:32.051Z"
   },
   {
    "duration": 293,
    "start_time": "2021-10-01T09:41:32.523Z"
   },
   {
    "duration": 5,
    "start_time": "2021-10-01T09:41:34.149Z"
   },
   {
    "duration": 3,
    "start_time": "2021-10-01T09:41:34.733Z"
   },
   {
    "duration": 22,
    "start_time": "2021-10-01T09:41:36.080Z"
   },
   {
    "duration": 513,
    "start_time": "2021-10-01T09:41:36.654Z"
   },
   {
    "duration": 52,
    "start_time": "2021-10-01T09:41:37.174Z"
   },
   {
    "duration": 44,
    "start_time": "2021-10-01T09:41:38.596Z"
   },
   {
    "duration": 471,
    "start_time": "2021-10-01T09:41:43.222Z"
   },
   {
    "duration": 27,
    "start_time": "2021-10-01T09:41:45.004Z"
   },
   {
    "duration": 610,
    "start_time": "2021-10-01T09:41:46.505Z"
   },
   {
    "duration": 311,
    "start_time": "2021-10-01T09:41:52.103Z"
   },
   {
    "duration": 2023,
    "start_time": "2021-10-01T09:41:53.262Z"
   },
   {
    "duration": 585,
    "start_time": "2021-10-01T09:41:56.831Z"
   },
   {
    "duration": 10,
    "start_time": "2021-10-01T09:41:59.815Z"
   },
   {
    "duration": 63,
    "start_time": "2021-10-01T09:42:02.986Z"
   },
   {
    "duration": 478,
    "start_time": "2021-10-01T09:42:05.272Z"
   },
   {
    "duration": 25,
    "start_time": "2021-10-01T09:42:06.432Z"
   },
   {
    "duration": 41,
    "start_time": "2021-10-01T09:42:08.545Z"
   },
   {
    "duration": 495,
    "start_time": "2021-10-01T09:42:09.609Z"
   },
   {
    "duration": 295,
    "start_time": "2021-10-01T09:42:18.638Z"
   },
   {
    "duration": 29,
    "start_time": "2021-10-01T09:42:24.640Z"
   },
   {
    "duration": 106,
    "start_time": "2021-10-01T09:45:53.840Z"
   },
   {
    "duration": 83,
    "start_time": "2021-10-01T09:46:15.975Z"
   },
   {
    "duration": 10863,
    "start_time": "2021-10-01T09:51:14.284Z"
   },
   {
    "duration": 57,
    "start_time": "2021-10-01T09:53:35.213Z"
   },
   {
    "duration": 475,
    "start_time": "2021-10-01T09:54:36.332Z"
   },
   {
    "duration": 54,
    "start_time": "2021-10-01T09:54:40.679Z"
   },
   {
    "duration": 901,
    "start_time": "2021-10-01T09:55:02.857Z"
   },
   {
    "duration": 1630,
    "start_time": "2021-10-01T09:55:35.163Z"
   },
   {
    "duration": 1289,
    "start_time": "2021-10-01T09:55:36.795Z"
   },
   {
    "duration": 621,
    "start_time": "2021-10-01T09:55:38.088Z"
   },
   {
    "duration": 23,
    "start_time": "2021-10-01T09:55:38.712Z"
   },
   {
    "duration": 554,
    "start_time": "2021-10-01T09:55:38.737Z"
   },
   {
    "duration": 31,
    "start_time": "2021-10-01T09:55:39.294Z"
   },
   {
    "duration": 66,
    "start_time": "2021-10-01T09:55:39.328Z"
   },
   {
    "duration": 4,
    "start_time": "2021-10-01T09:55:39.423Z"
   },
   {
    "duration": 334,
    "start_time": "2021-10-01T09:55:39.430Z"
   },
   {
    "duration": 550,
    "start_time": "2021-10-01T09:55:39.767Z"
   },
   {
    "duration": 17,
    "start_time": "2021-10-01T09:55:40.323Z"
   },
   {
    "duration": 102,
    "start_time": "2021-10-01T09:55:40.343Z"
   },
   {
    "duration": 21,
    "start_time": "2021-10-01T09:55:40.447Z"
   },
   {
    "duration": 131,
    "start_time": "2021-10-01T09:55:40.471Z"
   },
   {
    "duration": 134,
    "start_time": "2021-10-01T09:55:40.605Z"
   },
   {
    "duration": 105,
    "start_time": "2021-10-01T09:55:40.742Z"
   },
   {
    "duration": 5,
    "start_time": "2021-10-01T09:55:40.850Z"
   },
   {
    "duration": 243,
    "start_time": "2021-10-01T09:55:40.858Z"
   },
   {
    "duration": 54,
    "start_time": "2021-10-01T09:55:41.103Z"
   },
   {
    "duration": 318,
    "start_time": "2021-10-01T09:55:41.160Z"
   },
   {
    "duration": 3,
    "start_time": "2021-10-01T09:55:41.481Z"
   },
   {
    "duration": 27,
    "start_time": "2021-10-01T09:55:41.486Z"
   },
   {
    "duration": 40,
    "start_time": "2021-10-01T09:55:41.518Z"
   },
   {
    "duration": 587,
    "start_time": "2021-10-01T09:55:41.561Z"
   },
   {
    "duration": 42,
    "start_time": "2021-10-01T09:55:42.151Z"
   },
   {
    "duration": 47,
    "start_time": "2021-10-01T09:55:42.222Z"
   },
   {
    "duration": 597,
    "start_time": "2021-10-01T09:55:42.272Z"
   },
   {
    "duration": 52,
    "start_time": "2021-10-01T09:55:42.872Z"
   },
   {
    "duration": 577,
    "start_time": "2021-10-01T09:55:42.927Z"
   },
   {
    "duration": 449,
    "start_time": "2021-10-01T09:55:43.507Z"
   },
   {
    "duration": 3567,
    "start_time": "2021-10-01T09:55:43.959Z"
   },
   {
    "duration": 797,
    "start_time": "2021-10-01T09:55:47.530Z"
   },
   {
    "duration": 9,
    "start_time": "2021-10-01T09:55:48.330Z"
   },
   {
    "duration": 85,
    "start_time": "2021-10-01T09:55:48.342Z"
   },
   {
    "duration": 808,
    "start_time": "2021-10-01T09:55:48.431Z"
   },
   {
    "duration": 37,
    "start_time": "2021-10-01T09:55:49.242Z"
   },
   {
    "duration": 76,
    "start_time": "2021-10-01T09:55:49.282Z"
   },
   {
    "duration": 836,
    "start_time": "2021-10-01T09:55:49.361Z"
   },
   {
    "duration": 310,
    "start_time": "2021-10-01T09:55:50.199Z"
   },
   {
    "duration": 44,
    "start_time": "2021-10-01T09:55:50.511Z"
   },
   {
    "duration": 118,
    "start_time": "2021-10-01T09:55:50.558Z"
   },
   {
    "duration": 820,
    "start_time": "2021-10-01T09:55:50.679Z"
   },
   {
    "duration": 1820,
    "start_time": "2021-10-01T09:57:31.798Z"
   },
   {
    "duration": 804,
    "start_time": "2021-10-01T09:57:47.772Z"
   },
   {
    "duration": 794,
    "start_time": "2021-10-01T09:58:32.408Z"
   },
   {
    "duration": 812,
    "start_time": "2021-10-01T09:58:46.366Z"
   },
   {
    "duration": 54,
    "start_time": "2021-10-01T09:59:05.174Z"
   },
   {
    "duration": 1957,
    "start_time": "2021-10-01T09:59:42.213Z"
   },
   {
    "duration": 343,
    "start_time": "2021-10-01T10:00:43.311Z"
   },
   {
    "duration": 1923,
    "start_time": "2021-10-01T10:00:52.023Z"
   },
   {
    "duration": 2074,
    "start_time": "2021-10-01T10:00:53.949Z"
   },
   {
    "duration": 664,
    "start_time": "2021-10-01T10:00:56.027Z"
   },
   {
    "duration": 35,
    "start_time": "2021-10-01T10:00:56.694Z"
   },
   {
    "duration": 600,
    "start_time": "2021-10-01T10:00:56.733Z"
   },
   {
    "duration": 14,
    "start_time": "2021-10-01T10:00:57.337Z"
   },
   {
    "duration": 111,
    "start_time": "2021-10-01T10:00:57.354Z"
   },
   {
    "duration": 4,
    "start_time": "2021-10-01T10:00:57.468Z"
   },
   {
    "duration": 408,
    "start_time": "2021-10-01T10:00:57.478Z"
   },
   {
    "duration": 614,
    "start_time": "2021-10-01T10:00:57.891Z"
   },
   {
    "duration": 30,
    "start_time": "2021-10-01T10:00:58.508Z"
   },
   {
    "duration": 101,
    "start_time": "2021-10-01T10:00:58.541Z"
   },
   {
    "duration": 22,
    "start_time": "2021-10-01T10:00:58.644Z"
   },
   {
    "duration": 130,
    "start_time": "2021-10-01T10:00:58.668Z"
   },
   {
    "duration": 135,
    "start_time": "2021-10-01T10:00:58.801Z"
   },
   {
    "duration": 105,
    "start_time": "2021-10-01T10:00:58.938Z"
   },
   {
    "duration": 7,
    "start_time": "2021-10-01T10:00:59.046Z"
   },
   {
    "duration": 234,
    "start_time": "2021-10-01T10:00:59.056Z"
   },
   {
    "duration": 60,
    "start_time": "2021-10-01T10:00:59.293Z"
   },
   {
    "duration": 317,
    "start_time": "2021-10-01T10:00:59.355Z"
   },
   {
    "duration": 4,
    "start_time": "2021-10-01T10:00:59.675Z"
   },
   {
    "duration": 42,
    "start_time": "2021-10-01T10:00:59.681Z"
   },
   {
    "duration": 54,
    "start_time": "2021-10-01T10:00:59.726Z"
   },
   {
    "duration": 851,
    "start_time": "2021-10-01T10:00:59.784Z"
   },
   {
    "duration": 36,
    "start_time": "2021-10-01T10:01:00.638Z"
   },
   {
    "duration": 91,
    "start_time": "2021-10-01T10:01:00.677Z"
   },
   {
    "duration": 513,
    "start_time": "2021-10-01T10:01:00.773Z"
   },
   {
    "duration": 52,
    "start_time": "2021-10-01T10:01:01.290Z"
   },
   {
    "duration": 606,
    "start_time": "2021-10-01T10:01:01.346Z"
   },
   {
    "duration": 340,
    "start_time": "2021-10-01T10:01:01.954Z"
   },
   {
    "duration": 2476,
    "start_time": "2021-10-01T10:01:02.296Z"
   },
   {
    "duration": 476,
    "start_time": "2021-10-01T10:01:04.775Z"
   },
   {
    "duration": 10,
    "start_time": "2021-10-01T10:01:05.254Z"
   },
   {
    "duration": 95,
    "start_time": "2021-10-01T10:01:05.267Z"
   },
   {
    "duration": 507,
    "start_time": "2021-10-01T10:01:05.365Z"
   },
   {
    "duration": 25,
    "start_time": "2021-10-01T10:01:05.874Z"
   },
   {
    "duration": 43,
    "start_time": "2021-10-01T10:01:05.922Z"
   },
   {
    "duration": 513,
    "start_time": "2021-10-01T10:01:05.967Z"
   },
   {
    "duration": 298,
    "start_time": "2021-10-01T10:01:06.482Z"
   },
   {
    "duration": 58,
    "start_time": "2021-10-01T10:01:06.783Z"
   },
   {
    "duration": 116,
    "start_time": "2021-10-01T10:01:06.843Z"
   },
   {
    "duration": 1794,
    "start_time": "2021-10-01T10:02:32.021Z"
   },
   {
    "duration": 1282,
    "start_time": "2021-10-01T10:02:33.818Z"
   },
   {
    "duration": 517,
    "start_time": "2021-10-01T10:02:35.103Z"
   },
   {
    "duration": 18,
    "start_time": "2021-10-01T10:02:35.623Z"
   },
   {
    "duration": 554,
    "start_time": "2021-10-01T10:02:35.644Z"
   },
   {
    "duration": 29,
    "start_time": "2021-10-01T10:02:36.200Z"
   },
   {
    "duration": 98,
    "start_time": "2021-10-01T10:02:36.232Z"
   },
   {
    "duration": 5,
    "start_time": "2021-10-01T10:02:36.334Z"
   },
   {
    "duration": 520,
    "start_time": "2021-10-01T10:02:36.345Z"
   },
   {
    "duration": 889,
    "start_time": "2021-10-01T10:02:36.870Z"
   },
   {
    "duration": 19,
    "start_time": "2021-10-01T10:02:37.761Z"
   },
   {
    "duration": 131,
    "start_time": "2021-10-01T10:02:37.782Z"
   },
   {
    "duration": 20,
    "start_time": "2021-10-01T10:02:37.922Z"
   },
   {
    "duration": 131,
    "start_time": "2021-10-01T10:02:37.944Z"
   },
   {
    "duration": 122,
    "start_time": "2021-10-01T10:02:38.078Z"
   },
   {
    "duration": 101,
    "start_time": "2021-10-01T10:02:38.202Z"
   },
   {
    "duration": 4,
    "start_time": "2021-10-01T10:02:38.322Z"
   },
   {
    "duration": 233,
    "start_time": "2021-10-01T10:02:38.329Z"
   },
   {
    "duration": 61,
    "start_time": "2021-10-01T10:02:38.565Z"
   },
   {
    "duration": 312,
    "start_time": "2021-10-01T10:02:38.628Z"
   },
   {
    "duration": 4,
    "start_time": "2021-10-01T10:02:38.942Z"
   },
   {
    "duration": 27,
    "start_time": "2021-10-01T10:02:38.948Z"
   },
   {
    "duration": 46,
    "start_time": "2021-10-01T10:02:38.977Z"
   },
   {
    "duration": 535,
    "start_time": "2021-10-01T10:02:39.025Z"
   },
   {
    "duration": 65,
    "start_time": "2021-10-01T10:02:39.562Z"
   },
   {
    "duration": 48,
    "start_time": "2021-10-01T10:02:39.629Z"
   },
   {
    "duration": 513,
    "start_time": "2021-10-01T10:02:39.682Z"
   },
   {
    "duration": 37,
    "start_time": "2021-10-01T10:02:40.197Z"
   },
   {
    "duration": 578,
    "start_time": "2021-10-01T10:02:40.236Z"
   },
   {
    "duration": 320,
    "start_time": "2021-10-01T10:02:40.817Z"
   },
   {
    "duration": 2104,
    "start_time": "2021-10-01T10:02:41.141Z"
   },
   {
    "duration": 474,
    "start_time": "2021-10-01T10:02:43.248Z"
   },
   {
    "duration": 10,
    "start_time": "2021-10-01T10:02:43.725Z"
   },
   {
    "duration": 93,
    "start_time": "2021-10-01T10:02:43.738Z"
   },
   {
    "duration": 495,
    "start_time": "2021-10-01T10:02:43.834Z"
   },
   {
    "duration": 28,
    "start_time": "2021-10-01T10:02:44.332Z"
   },
   {
    "duration": 89,
    "start_time": "2021-10-01T10:02:44.363Z"
   },
   {
    "duration": 720,
    "start_time": "2021-10-01T10:02:44.455Z"
   },
   {
    "duration": 316,
    "start_time": "2021-10-01T10:02:45.195Z"
   },
   {
    "duration": 42,
    "start_time": "2021-10-01T10:02:45.514Z"
   },
   {
    "duration": 111,
    "start_time": "2021-10-01T10:02:45.558Z"
   },
   {
    "duration": 1227,
    "start_time": "2021-10-01T10:04:27.717Z"
   },
   {
    "duration": 50,
    "start_time": "2021-10-01T10:05:44.737Z"
   },
   {
    "duration": 51,
    "start_time": "2021-10-01T10:05:54.513Z"
   },
   {
    "duration": 1757,
    "start_time": "2021-10-01T10:07:17.732Z"
   },
   {
    "duration": 1249,
    "start_time": "2021-10-01T10:07:19.491Z"
   },
   {
    "duration": 507,
    "start_time": "2021-10-01T10:07:20.743Z"
   },
   {
    "duration": 19,
    "start_time": "2021-10-01T10:07:21.253Z"
   },
   {
    "duration": 574,
    "start_time": "2021-10-01T10:07:21.274Z"
   },
   {
    "duration": 11,
    "start_time": "2021-10-01T10:07:21.850Z"
   },
   {
    "duration": 88,
    "start_time": "2021-10-01T10:07:21.863Z"
   },
   {
    "duration": 3,
    "start_time": "2021-10-01T10:07:21.955Z"
   },
   {
    "duration": 338,
    "start_time": "2021-10-01T10:07:21.961Z"
   },
   {
    "duration": 555,
    "start_time": "2021-10-01T10:07:22.302Z"
   },
   {
    "duration": 17,
    "start_time": "2021-10-01T10:07:22.860Z"
   },
   {
    "duration": 107,
    "start_time": "2021-10-01T10:07:22.880Z"
   },
   {
    "duration": 32,
    "start_time": "2021-10-01T10:07:22.990Z"
   },
   {
    "duration": 128,
    "start_time": "2021-10-01T10:07:23.026Z"
   },
   {
    "duration": 136,
    "start_time": "2021-10-01T10:07:23.157Z"
   },
   {
    "duration": 96,
    "start_time": "2021-10-01T10:07:23.296Z"
   },
   {
    "duration": 26,
    "start_time": "2021-10-01T10:07:23.396Z"
   },
   {
    "duration": 227,
    "start_time": "2021-10-01T10:07:23.425Z"
   },
   {
    "duration": 68,
    "start_time": "2021-10-01T10:07:23.654Z"
   },
   {
    "duration": 311,
    "start_time": "2021-10-01T10:07:23.724Z"
   },
   {
    "duration": 4,
    "start_time": "2021-10-01T10:07:24.037Z"
   },
   {
    "duration": 14,
    "start_time": "2021-10-01T10:07:24.043Z"
   },
   {
    "duration": 63,
    "start_time": "2021-10-01T10:07:24.062Z"
   },
   {
    "duration": 539,
    "start_time": "2021-10-01T10:07:24.128Z"
   },
   {
    "duration": 59,
    "start_time": "2021-10-01T10:07:24.670Z"
   },
   {
    "duration": 45,
    "start_time": "2021-10-01T10:07:24.731Z"
   },
   {
    "duration": 483,
    "start_time": "2021-10-01T10:07:24.779Z"
   },
   {
    "duration": 27,
    "start_time": "2021-10-01T10:07:25.264Z"
   },
   {
    "duration": 562,
    "start_time": "2021-10-01T10:07:25.293Z"
   },
   {
    "duration": 324,
    "start_time": "2021-10-01T10:07:25.857Z"
   },
   {
    "duration": 2081,
    "start_time": "2021-10-01T10:07:26.184Z"
   },
   {
    "duration": 465,
    "start_time": "2021-10-01T10:07:28.268Z"
   },
   {
    "duration": 9,
    "start_time": "2021-10-01T10:07:28.736Z"
   },
   {
    "duration": 98,
    "start_time": "2021-10-01T10:07:28.748Z"
   },
   {
    "duration": 493,
    "start_time": "2021-10-01T10:07:28.849Z"
   },
   {
    "duration": 25,
    "start_time": "2021-10-01T10:07:29.344Z"
   },
   {
    "duration": 77,
    "start_time": "2021-10-01T10:07:29.371Z"
   },
   {
    "duration": 513,
    "start_time": "2021-10-01T10:07:29.451Z"
   },
   {
    "duration": 312,
    "start_time": "2021-10-01T10:07:29.967Z"
   },
   {
    "duration": 60,
    "start_time": "2021-10-01T10:07:30.281Z"
   },
   {
    "duration": 87,
    "start_time": "2021-10-01T10:07:30.343Z"
   },
   {
    "duration": 48,
    "start_time": "2021-10-01T10:07:36.736Z"
   },
   {
    "duration": 40,
    "start_time": "2021-10-01T10:08:03.942Z"
   },
   {
    "duration": 58,
    "start_time": "2021-10-01T10:08:10.277Z"
   },
   {
    "duration": 50,
    "start_time": "2021-10-01T10:10:04.687Z"
   },
   {
    "duration": 18,
    "start_time": "2021-10-01T10:10:10.344Z"
   },
   {
    "duration": 19,
    "start_time": "2021-10-01T10:10:34.558Z"
   },
   {
    "duration": 434,
    "start_time": "2021-10-01T10:13:42.720Z"
   },
   {
    "duration": 286,
    "start_time": "2021-10-01T10:14:48.792Z"
   },
   {
    "duration": 17,
    "start_time": "2021-10-01T10:15:19.554Z"
   },
   {
    "duration": 13,
    "start_time": "2021-10-01T10:15:25.399Z"
   },
   {
    "duration": 197,
    "start_time": "2021-10-01T10:15:27.259Z"
   },
   {
    "duration": 14,
    "start_time": "2021-10-01T10:15:30.377Z"
   },
   {
    "duration": 359,
    "start_time": "2021-10-01T10:16:51.786Z"
   },
   {
    "duration": 1658,
    "start_time": "2021-10-01T10:17:13.299Z"
   },
   {
    "duration": 1236,
    "start_time": "2021-10-01T10:17:14.960Z"
   },
   {
    "duration": 547,
    "start_time": "2021-10-01T10:17:16.200Z"
   },
   {
    "duration": 21,
    "start_time": "2021-10-01T10:17:16.750Z"
   },
   {
    "duration": 570,
    "start_time": "2021-10-01T10:17:16.774Z"
   },
   {
    "duration": 11,
    "start_time": "2021-10-01T10:17:17.346Z"
   },
   {
    "duration": 91,
    "start_time": "2021-10-01T10:17:17.359Z"
   },
   {
    "duration": 4,
    "start_time": "2021-10-01T10:17:17.453Z"
   },
   {
    "duration": 349,
    "start_time": "2021-10-01T10:17:17.459Z"
   },
   {
    "duration": 542,
    "start_time": "2021-10-01T10:17:17.810Z"
   },
   {
    "duration": 17,
    "start_time": "2021-10-01T10:17:18.354Z"
   },
   {
    "duration": 107,
    "start_time": "2021-10-01T10:17:18.374Z"
   },
   {
    "duration": 21,
    "start_time": "2021-10-01T10:17:18.483Z"
   },
   {
    "duration": 131,
    "start_time": "2021-10-01T10:17:18.506Z"
   },
   {
    "duration": 120,
    "start_time": "2021-10-01T10:17:18.640Z"
   },
   {
    "duration": 98,
    "start_time": "2021-10-01T10:17:18.763Z"
   },
   {
    "duration": 4,
    "start_time": "2021-10-01T10:17:18.863Z"
   },
   {
    "duration": 222,
    "start_time": "2021-10-01T10:17:18.870Z"
   },
   {
    "duration": 49,
    "start_time": "2021-10-01T10:17:19.094Z"
   },
   {
    "duration": 301,
    "start_time": "2021-10-01T10:17:19.145Z"
   },
   {
    "duration": 4,
    "start_time": "2021-10-01T10:17:19.448Z"
   },
   {
    "duration": 37,
    "start_time": "2021-10-01T10:17:19.454Z"
   },
   {
    "duration": 26,
    "start_time": "2021-10-01T10:17:19.496Z"
   },
   {
    "duration": 528,
    "start_time": "2021-10-01T10:17:19.524Z"
   },
   {
    "duration": 33,
    "start_time": "2021-10-01T10:17:20.054Z"
   },
   {
    "duration": 78,
    "start_time": "2021-10-01T10:17:20.090Z"
   },
   {
    "duration": 466,
    "start_time": "2021-10-01T10:17:20.170Z"
   },
   {
    "duration": 25,
    "start_time": "2021-10-01T10:17:20.638Z"
   },
   {
    "duration": 580,
    "start_time": "2021-10-01T10:17:20.665Z"
   },
   {
    "duration": 305,
    "start_time": "2021-10-01T10:17:21.247Z"
   },
   {
    "duration": 2045,
    "start_time": "2021-10-01T10:17:21.555Z"
   },
   {
    "duration": 462,
    "start_time": "2021-10-01T10:17:23.603Z"
   },
   {
    "duration": 10,
    "start_time": "2021-10-01T10:17:24.067Z"
   },
   {
    "duration": 90,
    "start_time": "2021-10-01T10:17:24.080Z"
   },
   {
    "duration": 482,
    "start_time": "2021-10-01T10:17:24.172Z"
   },
   {
    "duration": 23,
    "start_time": "2021-10-01T10:17:24.656Z"
   },
   {
    "duration": 74,
    "start_time": "2021-10-01T10:17:24.682Z"
   },
   {
    "duration": 507,
    "start_time": "2021-10-01T10:17:24.758Z"
   },
   {
    "duration": 308,
    "start_time": "2021-10-01T10:17:25.268Z"
   },
   {
    "duration": 58,
    "start_time": "2021-10-01T10:17:25.578Z"
   },
   {
    "duration": 93,
    "start_time": "2021-10-01T10:17:25.638Z"
   },
   {
    "duration": 120,
    "start_time": "2021-10-01T10:18:13.183Z"
   },
   {
    "duration": 198,
    "start_time": "2021-10-01T10:18:48.608Z"
   },
   {
    "duration": 115,
    "start_time": "2021-10-01T10:19:02.045Z"
   },
   {
    "duration": 1509,
    "start_time": "2021-10-01T10:22:33.769Z"
   },
   {
    "duration": 1265,
    "start_time": "2021-10-01T10:22:35.280Z"
   },
   {
    "duration": 511,
    "start_time": "2021-10-01T10:22:36.548Z"
   },
   {
    "duration": 18,
    "start_time": "2021-10-01T10:22:37.062Z"
   },
   {
    "duration": 552,
    "start_time": "2021-10-01T10:22:37.083Z"
   },
   {
    "duration": 12,
    "start_time": "2021-10-01T10:22:37.637Z"
   },
   {
    "duration": 112,
    "start_time": "2021-10-01T10:22:37.651Z"
   },
   {
    "duration": 5,
    "start_time": "2021-10-01T10:22:37.766Z"
   },
   {
    "duration": 381,
    "start_time": "2021-10-01T10:22:37.776Z"
   },
   {
    "duration": 548,
    "start_time": "2021-10-01T10:22:38.160Z"
   },
   {
    "duration": 24,
    "start_time": "2021-10-01T10:22:38.710Z"
   },
   {
    "duration": 93,
    "start_time": "2021-10-01T10:22:38.737Z"
   },
   {
    "duration": 22,
    "start_time": "2021-10-01T10:22:38.832Z"
   },
   {
    "duration": 123,
    "start_time": "2021-10-01T10:22:38.856Z"
   },
   {
    "duration": 123,
    "start_time": "2021-10-01T10:22:38.981Z"
   },
   {
    "duration": 95,
    "start_time": "2021-10-01T10:22:39.107Z"
   },
   {
    "duration": 17,
    "start_time": "2021-10-01T10:22:39.205Z"
   },
   {
    "duration": 226,
    "start_time": "2021-10-01T10:22:39.225Z"
   },
   {
    "duration": 44,
    "start_time": "2021-10-01T10:22:39.453Z"
   },
   {
    "duration": 302,
    "start_time": "2021-10-01T10:22:39.522Z"
   },
   {
    "duration": 3,
    "start_time": "2021-10-01T10:22:39.826Z"
   },
   {
    "duration": 7,
    "start_time": "2021-10-01T10:22:39.831Z"
   },
   {
    "duration": 29,
    "start_time": "2021-10-01T10:22:39.841Z"
   },
   {
    "duration": 555,
    "start_time": "2021-10-01T10:22:39.872Z"
   },
   {
    "duration": 32,
    "start_time": "2021-10-01T10:22:40.429Z"
   },
   {
    "duration": 77,
    "start_time": "2021-10-01T10:22:40.464Z"
   },
   {
    "duration": 486,
    "start_time": "2021-10-01T10:22:40.546Z"
   },
   {
    "duration": 27,
    "start_time": "2021-10-01T10:22:41.035Z"
   },
   {
    "duration": 685,
    "start_time": "2021-10-01T10:22:41.064Z"
   },
   {
    "duration": 312,
    "start_time": "2021-10-01T10:22:41.751Z"
   },
   {
    "duration": 2068,
    "start_time": "2021-10-01T10:22:42.066Z"
   },
   {
    "duration": 475,
    "start_time": "2021-10-01T10:22:44.137Z"
   },
   {
    "duration": 10,
    "start_time": "2021-10-01T10:22:44.622Z"
   },
   {
    "duration": 91,
    "start_time": "2021-10-01T10:22:44.634Z"
   },
   {
    "duration": 500,
    "start_time": "2021-10-01T10:22:44.727Z"
   },
   {
    "duration": 26,
    "start_time": "2021-10-01T10:22:45.229Z"
   },
   {
    "duration": 75,
    "start_time": "2021-10-01T10:22:45.258Z"
   },
   {
    "duration": 495,
    "start_time": "2021-10-01T10:22:45.335Z"
   },
   {
    "duration": 296,
    "start_time": "2021-10-01T10:22:45.832Z"
   },
   {
    "duration": 41,
    "start_time": "2021-10-01T10:22:46.130Z"
   },
   {
    "duration": 111,
    "start_time": "2021-10-01T10:22:46.173Z"
   },
   {
    "duration": 150,
    "start_time": "2021-10-01T10:22:46.286Z"
   },
   {
    "duration": 264,
    "start_time": "2021-10-01T10:25:44.373Z"
   },
   {
    "duration": 240,
    "start_time": "2021-10-01T10:26:08.013Z"
   },
   {
    "duration": 1595,
    "start_time": "2021-10-01T10:36:38.784Z"
   },
   {
    "duration": 1327,
    "start_time": "2021-10-01T10:36:40.381Z"
   },
   {
    "duration": 517,
    "start_time": "2021-10-01T10:36:41.712Z"
   },
   {
    "duration": 17,
    "start_time": "2021-10-01T10:36:42.232Z"
   },
   {
    "duration": 558,
    "start_time": "2021-10-01T10:36:42.251Z"
   },
   {
    "duration": 15,
    "start_time": "2021-10-01T10:36:42.812Z"
   },
   {
    "duration": 66,
    "start_time": "2021-10-01T10:36:42.829Z"
   },
   {
    "duration": 24,
    "start_time": "2021-10-01T10:36:42.899Z"
   },
   {
    "duration": 361,
    "start_time": "2021-10-01T10:36:42.927Z"
   },
   {
    "duration": 547,
    "start_time": "2021-10-01T10:36:43.290Z"
   },
   {
    "duration": 17,
    "start_time": "2021-10-01T10:36:43.839Z"
   },
   {
    "duration": 95,
    "start_time": "2021-10-01T10:36:43.859Z"
   },
   {
    "duration": 20,
    "start_time": "2021-10-01T10:36:43.956Z"
   },
   {
    "duration": 100,
    "start_time": "2021-10-01T10:36:43.979Z"
   },
   {
    "duration": 117,
    "start_time": "2021-10-01T10:36:44.081Z"
   },
   {
    "duration": 138,
    "start_time": "2021-10-01T10:36:44.200Z"
   },
   {
    "duration": 5,
    "start_time": "2021-10-01T10:36:44.340Z"
   },
   {
    "duration": 306,
    "start_time": "2021-10-01T10:36:44.347Z"
   },
   {
    "duration": 99,
    "start_time": "2021-10-01T10:36:44.655Z"
   },
   {
    "duration": 355,
    "start_time": "2021-10-01T10:36:44.757Z"
   },
   {
    "duration": 4,
    "start_time": "2021-10-01T10:36:45.123Z"
   },
   {
    "duration": 14,
    "start_time": "2021-10-01T10:36:45.129Z"
   },
   {
    "duration": 28,
    "start_time": "2021-10-01T10:36:45.149Z"
   },
   {
    "duration": 528,
    "start_time": "2021-10-01T10:36:45.181Z"
   },
   {
    "duration": 35,
    "start_time": "2021-10-01T10:36:45.722Z"
   },
   {
    "duration": 75,
    "start_time": "2021-10-01T10:36:45.759Z"
   },
   {
    "duration": 464,
    "start_time": "2021-10-01T10:36:45.836Z"
   },
   {
    "duration": 35,
    "start_time": "2021-10-01T10:36:46.303Z"
   },
   {
    "duration": 571,
    "start_time": "2021-10-01T10:36:46.341Z"
   },
   {
    "duration": 326,
    "start_time": "2021-10-01T10:36:46.915Z"
   },
   {
    "duration": 2208,
    "start_time": "2021-10-01T10:36:47.243Z"
   },
   {
    "duration": 475,
    "start_time": "2021-10-01T10:36:49.453Z"
   },
   {
    "duration": 14,
    "start_time": "2021-10-01T10:36:49.931Z"
   },
   {
    "duration": 104,
    "start_time": "2021-10-01T10:36:49.949Z"
   },
   {
    "duration": 499,
    "start_time": "2021-10-01T10:36:50.057Z"
   },
   {
    "duration": 28,
    "start_time": "2021-10-01T10:36:50.559Z"
   },
   {
    "duration": 78,
    "start_time": "2021-10-01T10:36:50.590Z"
   },
   {
    "duration": 517,
    "start_time": "2021-10-01T10:36:50.671Z"
   },
   {
    "duration": 299,
    "start_time": "2021-10-01T10:36:51.191Z"
   },
   {
    "duration": 52,
    "start_time": "2021-10-01T10:36:51.493Z"
   },
   {
    "duration": 91,
    "start_time": "2021-10-01T10:36:51.547Z"
   },
   {
    "duration": 130,
    "start_time": "2021-10-01T10:36:51.640Z"
   },
   {
    "duration": 293,
    "start_time": "2021-10-01T10:36:51.772Z"
   },
   {
    "duration": 256,
    "start_time": "2021-10-01T10:36:52.068Z"
   },
   {
    "duration": 96,
    "start_time": "2021-10-01T10:36:52.326Z"
   },
   {
    "duration": 691,
    "start_time": "2021-10-01T10:36:52.425Z"
   },
   {
    "duration": 14,
    "start_time": "2021-10-01T10:36:53.119Z"
   },
   {
    "duration": 16,
    "start_time": "2021-10-01T10:36:53.136Z"
   },
   {
    "duration": 22,
    "start_time": "2021-10-01T10:36:53.155Z"
   },
   {
    "duration": 5,
    "start_time": "2021-10-01T10:36:53.189Z"
   },
   {
    "duration": 820,
    "start_time": "2021-10-01T10:36:53.196Z"
   },
   {
    "duration": 12,
    "start_time": "2021-10-01T10:36:54.006Z"
   },
   {
    "duration": 10,
    "start_time": "2021-10-01T10:36:54.010Z"
   },
   {
    "duration": 6,
    "start_time": "2021-10-01T10:36:54.015Z"
   },
   {
    "duration": 5,
    "start_time": "2021-10-01T10:36:54.018Z"
   },
   {
    "duration": 1,
    "start_time": "2021-10-01T10:36:54.023Z"
   },
   {
    "duration": -1,
    "start_time": "2021-10-01T10:36:54.027Z"
   },
   {
    "duration": -5,
    "start_time": "2021-10-01T10:36:54.032Z"
   },
   {
    "duration": -6,
    "start_time": "2021-10-01T10:36:54.035Z"
   },
   {
    "duration": -9,
    "start_time": "2021-10-01T10:36:54.040Z"
   },
   {
    "duration": -12,
    "start_time": "2021-10-01T10:36:54.044Z"
   },
   {
    "duration": -16,
    "start_time": "2021-10-01T10:36:54.050Z"
   },
   {
    "duration": -19,
    "start_time": "2021-10-01T10:36:54.054Z"
   },
   {
    "duration": -23,
    "start_time": "2021-10-01T10:36:54.060Z"
   },
   {
    "duration": -29,
    "start_time": "2021-10-01T10:36:54.067Z"
   },
   {
    "duration": 122,
    "start_time": "2021-10-01T11:34:13.781Z"
   },
   {
    "duration": 12,
    "start_time": "2021-10-01T11:34:35.429Z"
   },
   {
    "duration": 1298,
    "start_time": "2021-10-01T11:34:35.444Z"
   },
   {
    "duration": 449,
    "start_time": "2021-10-01T11:34:36.746Z"
   },
   {
    "duration": 33,
    "start_time": "2021-10-01T11:34:37.199Z"
   },
   {
    "duration": 532,
    "start_time": "2021-10-01T11:34:37.235Z"
   },
   {
    "duration": 14,
    "start_time": "2021-10-01T11:34:37.770Z"
   },
   {
    "duration": 93,
    "start_time": "2021-10-01T11:34:37.787Z"
   },
   {
    "duration": 4,
    "start_time": "2021-10-01T11:34:37.884Z"
   },
   {
    "duration": 324,
    "start_time": "2021-10-01T11:34:37.923Z"
   },
   {
    "duration": 548,
    "start_time": "2021-10-01T11:34:38.250Z"
   },
   {
    "duration": 29,
    "start_time": "2021-10-01T11:34:38.800Z"
   },
   {
    "duration": 93,
    "start_time": "2021-10-01T11:34:38.832Z"
   },
   {
    "duration": 20,
    "start_time": "2021-10-01T11:34:38.928Z"
   },
   {
    "duration": 129,
    "start_time": "2021-10-01T11:34:38.951Z"
   },
   {
    "duration": 121,
    "start_time": "2021-10-01T11:34:39.083Z"
   },
   {
    "duration": 92,
    "start_time": "2021-10-01T11:34:39.207Z"
   },
   {
    "duration": 21,
    "start_time": "2021-10-01T11:34:39.301Z"
   },
   {
    "duration": 210,
    "start_time": "2021-10-01T11:34:39.324Z"
   },
   {
    "duration": 42,
    "start_time": "2021-10-01T11:34:39.536Z"
   },
   {
    "duration": 313,
    "start_time": "2021-10-01T11:34:39.580Z"
   },
   {
    "duration": 3,
    "start_time": "2021-10-01T11:34:39.896Z"
   },
   {
    "duration": 31,
    "start_time": "2021-10-01T11:34:39.901Z"
   },
   {
    "duration": 52,
    "start_time": "2021-10-01T11:34:39.934Z"
   },
   {
    "duration": 534,
    "start_time": "2021-10-01T11:34:39.988Z"
   },
   {
    "duration": 31,
    "start_time": "2021-10-01T11:34:40.524Z"
   },
   {
    "duration": 76,
    "start_time": "2021-10-01T11:34:40.557Z"
   },
   {
    "duration": 464,
    "start_time": "2021-10-01T11:34:40.639Z"
   },
   {
    "duration": 35,
    "start_time": "2021-10-01T11:34:41.106Z"
   },
   {
    "duration": 587,
    "start_time": "2021-10-01T11:34:41.143Z"
   },
   {
    "duration": 303,
    "start_time": "2021-10-01T11:34:41.732Z"
   },
   {
    "duration": 2122,
    "start_time": "2021-10-01T11:34:42.037Z"
   },
   {
    "duration": 453,
    "start_time": "2021-10-01T11:34:44.161Z"
   },
   {
    "duration": 9,
    "start_time": "2021-10-01T11:34:44.622Z"
   },
   {
    "duration": 88,
    "start_time": "2021-10-01T11:34:44.634Z"
   },
   {
    "duration": 499,
    "start_time": "2021-10-01T11:34:44.725Z"
   },
   {
    "duration": 26,
    "start_time": "2021-10-01T11:34:45.227Z"
   },
   {
    "duration": 73,
    "start_time": "2021-10-01T11:34:45.255Z"
   },
   {
    "duration": 495,
    "start_time": "2021-10-01T11:34:45.330Z"
   },
   {
    "duration": 287,
    "start_time": "2021-10-01T11:34:45.827Z"
   },
   {
    "duration": 44,
    "start_time": "2021-10-01T11:34:46.116Z"
   },
   {
    "duration": 102,
    "start_time": "2021-10-01T11:34:46.162Z"
   },
   {
    "duration": 118,
    "start_time": "2021-10-01T11:34:46.267Z"
   },
   {
    "duration": 284,
    "start_time": "2021-10-01T11:34:46.387Z"
   },
   {
    "duration": 258,
    "start_time": "2021-10-01T11:34:46.674Z"
   },
   {
    "duration": 95,
    "start_time": "2021-10-01T11:34:46.935Z"
   },
   {
    "duration": 510,
    "start_time": "2021-10-01T11:34:47.033Z"
   },
   {
    "duration": 5,
    "start_time": "2021-10-01T11:34:47.546Z"
   },
   {
    "duration": 27,
    "start_time": "2021-10-01T11:34:47.553Z"
   },
   {
    "duration": 39,
    "start_time": "2021-10-01T11:34:47.583Z"
   },
   {
    "duration": 31,
    "start_time": "2021-10-01T11:34:47.624Z"
   },
   {
    "duration": 682,
    "start_time": "2021-10-01T11:34:47.658Z"
   },
   {
    "duration": -55,
    "start_time": "2021-10-01T11:34:48.398Z"
   },
   {
    "duration": -58,
    "start_time": "2021-10-01T11:34:48.403Z"
   },
   {
    "duration": -62,
    "start_time": "2021-10-01T11:34:48.408Z"
   },
   {
    "duration": -64,
    "start_time": "2021-10-01T11:34:48.411Z"
   },
   {
    "duration": -66,
    "start_time": "2021-10-01T11:34:48.415Z"
   },
   {
    "duration": -68,
    "start_time": "2021-10-01T11:34:48.418Z"
   },
   {
    "duration": -70,
    "start_time": "2021-10-01T11:34:48.421Z"
   },
   {
    "duration": -71,
    "start_time": "2021-10-01T11:34:48.424Z"
   },
   {
    "duration": -73,
    "start_time": "2021-10-01T11:34:48.427Z"
   },
   {
    "duration": -75,
    "start_time": "2021-10-01T11:34:48.430Z"
   },
   {
    "duration": -76,
    "start_time": "2021-10-01T11:34:48.433Z"
   },
   {
    "duration": -79,
    "start_time": "2021-10-01T11:34:48.437Z"
   },
   {
    "duration": -82,
    "start_time": "2021-10-01T11:34:48.441Z"
   },
   {
    "duration": -83,
    "start_time": "2021-10-01T11:34:48.444Z"
   },
   {
    "duration": 15,
    "start_time": "2021-10-01T11:35:06.759Z"
   },
   {
    "duration": 25,
    "start_time": "2021-10-01T11:35:19.069Z"
   },
   {
    "duration": 154,
    "start_time": "2021-10-01T11:35:33.675Z"
   },
   {
    "duration": 162,
    "start_time": "2021-10-01T11:35:43.551Z"
   },
   {
    "duration": 14,
    "start_time": "2021-10-01T11:36:11.905Z"
   },
   {
    "duration": 14,
    "start_time": "2021-10-01T11:37:24.802Z"
   },
   {
    "duration": 231,
    "start_time": "2021-10-01T11:37:38.536Z"
   },
   {
    "duration": 15,
    "start_time": "2021-10-01T11:38:07.123Z"
   },
   {
    "duration": 16,
    "start_time": "2021-10-01T11:38:24.530Z"
   },
   {
    "duration": 16,
    "start_time": "2021-10-01T11:39:01.532Z"
   },
   {
    "duration": 27,
    "start_time": "2021-10-01T11:39:29.616Z"
   },
   {
    "duration": 18,
    "start_time": "2021-10-01T11:39:40.410Z"
   },
   {
    "duration": 1229,
    "start_time": "2021-10-01T11:39:58.474Z"
   },
   {
    "duration": 459,
    "start_time": "2021-10-01T11:40:03.573Z"
   },
   {
    "duration": 19,
    "start_time": "2021-10-01T11:40:07.316Z"
   },
   {
    "duration": 560,
    "start_time": "2021-10-01T11:40:09.498Z"
   },
   {
    "duration": 12,
    "start_time": "2021-10-01T11:40:13.297Z"
   },
   {
    "duration": 54,
    "start_time": "2021-10-01T11:40:17.115Z"
   },
   {
    "duration": 4,
    "start_time": "2021-10-01T11:40:20.130Z"
   },
   {
    "duration": 311,
    "start_time": "2021-10-01T11:40:20.690Z"
   },
   {
    "duration": 523,
    "start_time": "2021-10-01T11:40:21.747Z"
   },
   {
    "duration": 18,
    "start_time": "2021-10-01T11:40:23.420Z"
   },
   {
    "duration": 72,
    "start_time": "2021-10-01T11:40:38.756Z"
   },
   {
    "duration": 21,
    "start_time": "2021-10-01T11:40:39.226Z"
   },
   {
    "duration": 99,
    "start_time": "2021-10-01T11:40:39.672Z"
   },
   {
    "duration": 111,
    "start_time": "2021-10-01T11:40:40.158Z"
   },
   {
    "duration": 86,
    "start_time": "2021-10-01T11:40:40.604Z"
   },
   {
    "duration": 5,
    "start_time": "2021-10-01T11:40:41.901Z"
   },
   {
    "duration": 219,
    "start_time": "2021-10-01T11:40:42.669Z"
   },
   {
    "duration": 44,
    "start_time": "2021-10-01T11:40:44.896Z"
   },
   {
    "duration": 252,
    "start_time": "2021-10-01T11:40:45.765Z"
   },
   {
    "duration": 4,
    "start_time": "2021-10-01T11:40:52.448Z"
   },
   {
    "duration": 3,
    "start_time": "2021-10-01T11:40:53.048Z"
   },
   {
    "duration": 23,
    "start_time": "2021-10-01T11:40:55.435Z"
   },
   {
    "duration": 34,
    "start_time": "2021-10-01T11:40:58.293Z"
   },
   {
    "duration": 38,
    "start_time": "2021-10-01T11:40:58.757Z"
   },
   {
    "duration": 462,
    "start_time": "2021-10-01T11:41:01.188Z"
   },
   {
    "duration": 34,
    "start_time": "2021-10-01T11:41:02.717Z"
   },
   {
    "duration": 470,
    "start_time": "2021-10-01T11:41:04.872Z"
   },
   {
    "duration": 441,
    "start_time": "2021-10-01T11:41:08.419Z"
   },
   {
    "duration": 209,
    "start_time": "2021-10-01T11:41:08.957Z"
   },
   {
    "duration": 560,
    "start_time": "2021-10-01T11:41:09.494Z"
   },
   {
    "duration": 12,
    "start_time": "2021-10-01T11:41:11.981Z"
   },
   {
    "duration": 157,
    "start_time": "2021-10-01T11:41:14.669Z"
   },
   {
    "duration": 561,
    "start_time": "2021-10-01T11:41:16.345Z"
   },
   {
    "duration": 77,
    "start_time": "2021-10-01T11:41:21.024Z"
   },
   {
    "duration": 500,
    "start_time": "2021-10-01T11:41:23.772Z"
   },
   {
    "duration": 288,
    "start_time": "2021-10-01T11:41:28.319Z"
   },
   {
    "duration": 50,
    "start_time": "2021-10-01T11:41:48.634Z"
   },
   {
    "duration": 11,
    "start_time": "2021-10-01T11:41:54.174Z"
   },
   {
    "duration": 49,
    "start_time": "2021-10-01T11:41:55.292Z"
   },
   {
    "duration": 92,
    "start_time": "2021-10-01T11:42:07.154Z"
   },
   {
    "duration": 504,
    "start_time": "2021-10-01T11:42:47.252Z"
   },
   {
    "duration": 37,
    "start_time": "2021-10-01T11:42:56.592Z"
   },
   {
    "duration": 113,
    "start_time": "2021-10-01T11:43:41.968Z"
   },
   {
    "duration": 281,
    "start_time": "2021-10-01T11:43:43.567Z"
   },
   {
    "duration": 603,
    "start_time": "2021-10-01T11:43:52.466Z"
   },
   {
    "duration": 8,
    "start_time": "2021-10-01T11:44:24.469Z"
   },
   {
    "duration": 10,
    "start_time": "2021-10-01T11:44:47.554Z"
   },
   {
    "duration": 631,
    "start_time": "2021-10-01T11:44:53.927Z"
   },
   {
    "duration": 101,
    "start_time": "2021-10-01T11:45:18.975Z"
   },
   {
    "duration": 26,
    "start_time": "2021-10-01T11:45:25.603Z"
   },
   {
    "duration": 84,
    "start_time": "2021-10-01T11:46:19.116Z"
   },
   {
    "duration": 576,
    "start_time": "2021-10-01T11:46:28.862Z"
   },
   {
    "duration": 97,
    "start_time": "2021-10-01T11:46:53.025Z"
   },
   {
    "duration": 1499,
    "start_time": "2021-10-01T11:47:30.668Z"
   },
   {
    "duration": 1356,
    "start_time": "2021-10-01T11:47:32.169Z"
   },
   {
    "duration": 500,
    "start_time": "2021-10-01T11:47:33.528Z"
   },
   {
    "duration": 18,
    "start_time": "2021-10-01T11:47:34.031Z"
   },
   {
    "duration": 538,
    "start_time": "2021-10-01T11:47:34.051Z"
   },
   {
    "duration": 12,
    "start_time": "2021-10-01T11:47:34.591Z"
   },
   {
    "duration": 66,
    "start_time": "2021-10-01T11:47:34.622Z"
   },
   {
    "duration": 4,
    "start_time": "2021-10-01T11:47:34.691Z"
   },
   {
    "duration": 353,
    "start_time": "2021-10-01T11:47:34.698Z"
   },
   {
    "duration": 576,
    "start_time": "2021-10-01T11:47:35.054Z"
   },
   {
    "duration": 16,
    "start_time": "2021-10-01T11:47:35.633Z"
   },
   {
    "duration": 109,
    "start_time": "2021-10-01T11:47:35.652Z"
   },
   {
    "duration": 20,
    "start_time": "2021-10-01T11:47:35.764Z"
   },
   {
    "duration": 150,
    "start_time": "2021-10-01T11:47:35.786Z"
   },
   {
    "duration": 139,
    "start_time": "2021-10-01T11:47:35.939Z"
   },
   {
    "duration": 104,
    "start_time": "2021-10-01T11:47:36.081Z"
   },
   {
    "duration": 5,
    "start_time": "2021-10-01T11:47:36.187Z"
   },
   {
    "duration": 229,
    "start_time": "2021-10-01T11:47:36.194Z"
   },
   {
    "duration": 40,
    "start_time": "2021-10-01T11:47:36.426Z"
   },
   {
    "duration": 307,
    "start_time": "2021-10-01T11:47:36.469Z"
   },
   {
    "duration": 3,
    "start_time": "2021-10-01T11:47:36.778Z"
   },
   {
    "duration": 9,
    "start_time": "2021-10-01T11:47:36.783Z"
   },
   {
    "duration": 22,
    "start_time": "2021-10-01T11:47:36.822Z"
   },
   {
    "duration": 532,
    "start_time": "2021-10-01T11:47:36.847Z"
   },
   {
    "duration": 53,
    "start_time": "2021-10-01T11:47:37.381Z"
   },
   {
    "duration": 49,
    "start_time": "2021-10-01T11:47:37.436Z"
   },
   {
    "duration": 486,
    "start_time": "2021-10-01T11:47:37.487Z"
   },
   {
    "duration": 49,
    "start_time": "2021-10-01T11:47:37.975Z"
   },
   {
    "duration": 545,
    "start_time": "2021-10-01T11:47:38.026Z"
   },
   {
    "duration": 322,
    "start_time": "2021-10-01T11:47:38.574Z"
   },
   {
    "duration": 2142,
    "start_time": "2021-10-01T11:47:38.899Z"
   },
   {
    "duration": 483,
    "start_time": "2021-10-01T11:47:41.043Z"
   },
   {
    "duration": 9,
    "start_time": "2021-10-01T11:47:41.529Z"
   },
   {
    "duration": 97,
    "start_time": "2021-10-01T11:47:41.541Z"
   },
   {
    "duration": 689,
    "start_time": "2021-10-01T11:47:41.641Z"
   },
   {
    "duration": 23,
    "start_time": "2021-10-01T11:47:42.333Z"
   },
   {
    "duration": 81,
    "start_time": "2021-10-01T11:47:42.359Z"
   },
   {
    "duration": 492,
    "start_time": "2021-10-01T11:47:42.442Z"
   },
   {
    "duration": 291,
    "start_time": "2021-10-01T11:47:42.937Z"
   },
   {
    "duration": 39,
    "start_time": "2021-10-01T11:47:43.231Z"
   },
   {
    "duration": 100,
    "start_time": "2021-10-01T11:47:43.272Z"
   },
   {
    "duration": 153,
    "start_time": "2021-10-01T11:47:43.374Z"
   },
   {
    "duration": 292,
    "start_time": "2021-10-01T11:47:43.530Z"
   },
   {
    "duration": 249,
    "start_time": "2021-10-01T11:47:43.824Z"
   },
   {
    "duration": 92,
    "start_time": "2021-10-01T11:47:44.076Z"
   },
   {
    "duration": 503,
    "start_time": "2021-10-01T11:47:44.171Z"
   },
   {
    "duration": 4,
    "start_time": "2021-10-01T11:47:44.676Z"
   },
   {
    "duration": 14,
    "start_time": "2021-10-01T11:47:44.683Z"
   },
   {
    "duration": 37,
    "start_time": "2021-10-01T11:47:44.700Z"
   },
   {
    "duration": 17,
    "start_time": "2021-10-01T11:47:44.739Z"
   },
   {
    "duration": 264,
    "start_time": "2021-10-01T11:47:44.759Z"
   },
   {
    "duration": 5,
    "start_time": "2021-10-01T11:47:45.025Z"
   },
   {
    "duration": 20,
    "start_time": "2021-10-01T11:47:45.033Z"
   },
   {
    "duration": 1055,
    "start_time": "2021-10-01T11:47:45.055Z"
   },
   {
    "duration": 10,
    "start_time": "2021-10-01T11:47:46.113Z"
   },
   {
    "duration": 34519,
    "start_time": "2021-10-01T11:47:46.125Z"
   },
   {
    "duration": 4,
    "start_time": "2021-10-01T11:48:20.646Z"
   },
   {
    "duration": 11290,
    "start_time": "2021-10-01T11:48:20.653Z"
   },
   {
    "duration": 4,
    "start_time": "2021-10-01T11:48:31.945Z"
   },
   {
    "duration": 60309,
    "start_time": "2021-10-01T11:48:31.951Z"
   },
   {
    "duration": 4,
    "start_time": "2021-10-01T11:49:32.262Z"
   },
   {
    "duration": 209,
    "start_time": "2021-10-01T11:49:32.268Z"
   },
   {
    "duration": 31558,
    "start_time": "2021-10-01T11:49:32.479Z"
   },
   {
    "duration": 8,
    "start_time": "2021-10-01T11:50:04.040Z"
   },
   {
    "duration": 25,
    "start_time": "2021-10-01T11:50:04.050Z"
   },
   {
    "duration": 49967,
    "start_time": "2021-10-01T12:28:56.351Z"
   },
   {
    "duration": 284,
    "start_time": "2021-10-01T12:35:40.940Z"
   },
   {
    "duration": 16376,
    "start_time": "2021-10-01T12:35:48.424Z"
   },
   {
    "duration": 1598,
    "start_time": "2021-10-01T12:36:36.272Z"
   },
   {
    "duration": 1255,
    "start_time": "2021-10-01T12:36:37.873Z"
   },
   {
    "duration": 522,
    "start_time": "2021-10-01T12:36:39.130Z"
   },
   {
    "duration": 19,
    "start_time": "2021-10-01T12:36:39.654Z"
   },
   {
    "duration": 569,
    "start_time": "2021-10-01T12:36:39.675Z"
   },
   {
    "duration": 11,
    "start_time": "2021-10-01T12:36:40.247Z"
   },
   {
    "duration": 83,
    "start_time": "2021-10-01T12:36:40.261Z"
   },
   {
    "duration": 3,
    "start_time": "2021-10-01T12:36:40.347Z"
   },
   {
    "duration": 340,
    "start_time": "2021-10-01T12:36:40.354Z"
   },
   {
    "duration": 563,
    "start_time": "2021-10-01T12:36:40.697Z"
   },
   {
    "duration": 20,
    "start_time": "2021-10-01T12:36:41.263Z"
   },
   {
    "duration": 105,
    "start_time": "2021-10-01T12:36:41.286Z"
   },
   {
    "duration": 36,
    "start_time": "2021-10-01T12:36:41.394Z"
   },
   {
    "duration": 128,
    "start_time": "2021-10-01T12:36:41.433Z"
   },
   {
    "duration": 121,
    "start_time": "2021-10-01T12:36:41.564Z"
   },
   {
    "duration": 139,
    "start_time": "2021-10-01T12:36:41.689Z"
   },
   {
    "duration": 4,
    "start_time": "2021-10-01T12:36:41.831Z"
   },
   {
    "duration": 226,
    "start_time": "2021-10-01T12:36:41.837Z"
   },
   {
    "duration": 41,
    "start_time": "2021-10-01T12:36:42.065Z"
   },
   {
    "duration": 313,
    "start_time": "2021-10-01T12:36:42.123Z"
   },
   {
    "duration": 3,
    "start_time": "2021-10-01T12:36:42.439Z"
   },
   {
    "duration": 35,
    "start_time": "2021-10-01T12:36:42.444Z"
   },
   {
    "duration": 49,
    "start_time": "2021-10-01T12:36:42.482Z"
   },
   {
    "duration": 536,
    "start_time": "2021-10-01T12:36:42.533Z"
   },
   {
    "duration": 51,
    "start_time": "2021-10-01T12:36:43.071Z"
   },
   {
    "duration": 48,
    "start_time": "2021-10-01T12:36:43.125Z"
   },
   {
    "duration": 489,
    "start_time": "2021-10-01T12:36:43.180Z"
   },
   {
    "duration": 27,
    "start_time": "2021-10-01T12:36:43.672Z"
   },
   {
    "duration": 564,
    "start_time": "2021-10-01T12:36:43.702Z"
   },
   {
    "duration": 325,
    "start_time": "2021-10-01T12:36:44.269Z"
   },
   {
    "duration": 2153,
    "start_time": "2021-10-01T12:36:44.596Z"
   },
   {
    "duration": 471,
    "start_time": "2021-10-01T12:36:46.752Z"
   },
   {
    "duration": 9,
    "start_time": "2021-10-01T12:36:47.226Z"
   },
   {
    "duration": 92,
    "start_time": "2021-10-01T12:36:47.237Z"
   },
   {
    "duration": 492,
    "start_time": "2021-10-01T12:36:47.332Z"
   },
   {
    "duration": 25,
    "start_time": "2021-10-01T12:36:47.827Z"
   },
   {
    "duration": 71,
    "start_time": "2021-10-01T12:36:47.854Z"
   },
   {
    "duration": 499,
    "start_time": "2021-10-01T12:36:47.928Z"
   },
   {
    "duration": 427,
    "start_time": "2021-10-01T12:36:48.430Z"
   },
   {
    "duration": 71,
    "start_time": "2021-10-01T12:36:48.860Z"
   },
   {
    "duration": 123,
    "start_time": "2021-10-01T12:36:48.934Z"
   },
   {
    "duration": 147,
    "start_time": "2021-10-01T12:36:49.060Z"
   },
   {
    "duration": 277,
    "start_time": "2021-10-01T12:36:49.210Z"
   },
   {
    "duration": 235,
    "start_time": "2021-10-01T12:36:49.490Z"
   },
   {
    "duration": 94,
    "start_time": "2021-10-01T12:36:49.728Z"
   },
   {
    "duration": 614,
    "start_time": "2021-10-01T12:36:49.824Z"
   },
   {
    "duration": 4,
    "start_time": "2021-10-01T12:36:50.440Z"
   },
   {
    "duration": 47,
    "start_time": "2021-10-01T12:36:50.447Z"
   },
   {
    "duration": 19,
    "start_time": "2021-10-01T12:36:50.496Z"
   },
   {
    "duration": 7,
    "start_time": "2021-10-01T12:36:50.518Z"
   },
   {
    "duration": 299,
    "start_time": "2021-10-01T12:36:50.528Z"
   },
   {
    "duration": 6,
    "start_time": "2021-10-01T12:36:50.830Z"
   },
   {
    "duration": 15,
    "start_time": "2021-10-01T12:36:50.838Z"
   },
   {
    "duration": 1120,
    "start_time": "2021-10-01T12:36:50.856Z"
   },
   {
    "duration": 5,
    "start_time": "2021-10-01T12:36:51.979Z"
   },
   {
    "duration": 51213,
    "start_time": "2021-10-01T12:36:51.986Z"
   },
   {
    "duration": 6,
    "start_time": "2021-10-01T12:37:43.202Z"
   },
   {
    "duration": 475109,
    "start_time": "2021-10-01T12:37:43.223Z"
   },
   {
    "duration": 5,
    "start_time": "2021-10-01T12:45:38.335Z"
   },
   {
    "duration": 1404794,
    "start_time": "2021-10-01T12:45:38.342Z"
   },
   {
    "duration": 7,
    "start_time": "2021-10-01T13:09:03.139Z"
   },
   {
    "duration": 58393,
    "start_time": "2021-10-01T13:09:03.149Z"
   },
   {
    "duration": 31299,
    "start_time": "2021-10-01T13:10:01.544Z"
   },
   {
    "duration": 9,
    "start_time": "2021-10-01T13:10:32.846Z"
   },
   {
    "duration": 22,
    "start_time": "2021-10-01T13:10:32.857Z"
   },
   {
    "duration": 73019,
    "start_time": "2021-10-01T13:12:55.514Z"
   },
   {
    "duration": 44113,
    "start_time": "2021-10-01T13:40:39.031Z"
   },
   {
    "duration": 57419,
    "start_time": "2021-10-01T13:41:39.426Z"
   },
   {
    "duration": 1697,
    "start_time": "2021-10-01T13:49:12.705Z"
   },
   {
    "duration": 1382,
    "start_time": "2021-10-01T13:49:14.405Z"
   },
   {
    "duration": 580,
    "start_time": "2021-10-01T13:49:15.790Z"
   },
   {
    "duration": 22,
    "start_time": "2021-10-01T13:49:16.374Z"
   },
   {
    "duration": 702,
    "start_time": "2021-10-01T13:49:16.398Z"
   },
   {
    "duration": 11,
    "start_time": "2021-10-01T13:49:17.103Z"
   },
   {
    "duration": 75,
    "start_time": "2021-10-01T13:49:17.117Z"
   },
   {
    "duration": 3,
    "start_time": "2021-10-01T13:49:17.196Z"
   },
   {
    "duration": 405,
    "start_time": "2021-10-01T13:49:17.203Z"
   },
   {
    "duration": 633,
    "start_time": "2021-10-01T13:49:17.611Z"
   },
   {
    "duration": 20,
    "start_time": "2021-10-01T13:49:18.248Z"
   },
   {
    "duration": 125,
    "start_time": "2021-10-01T13:49:18.271Z"
   },
   {
    "duration": 25,
    "start_time": "2021-10-01T13:49:18.399Z"
   },
   {
    "duration": 150,
    "start_time": "2021-10-01T13:49:18.428Z"
   },
   {
    "duration": 148,
    "start_time": "2021-10-01T13:49:18.581Z"
   },
   {
    "duration": 124,
    "start_time": "2021-10-01T13:49:18.733Z"
   },
   {
    "duration": 7,
    "start_time": "2021-10-01T13:49:18.859Z"
   },
   {
    "duration": 273,
    "start_time": "2021-10-01T13:49:18.868Z"
   },
   {
    "duration": 49,
    "start_time": "2021-10-01T13:49:19.145Z"
   },
   {
    "duration": 351,
    "start_time": "2021-10-01T13:49:19.228Z"
   },
   {
    "duration": 3,
    "start_time": "2021-10-01T13:49:19.582Z"
   },
   {
    "duration": 7,
    "start_time": "2021-10-01T13:49:19.588Z"
   },
   {
    "duration": 60,
    "start_time": "2021-10-01T13:49:19.601Z"
   },
   {
    "duration": 608,
    "start_time": "2021-10-01T13:49:19.664Z"
   },
   {
    "duration": 59,
    "start_time": "2021-10-01T13:49:20.275Z"
   },
   {
    "duration": 51,
    "start_time": "2021-10-01T13:49:20.337Z"
   },
   {
    "duration": 542,
    "start_time": "2021-10-01T13:49:20.391Z"
   },
   {
    "duration": 32,
    "start_time": "2021-10-01T13:49:20.937Z"
   },
   {
    "duration": 662,
    "start_time": "2021-10-01T13:49:20.971Z"
   },
   {
    "duration": 361,
    "start_time": "2021-10-01T13:49:21.636Z"
   },
   {
    "duration": 2504,
    "start_time": "2021-10-01T13:49:21.999Z"
   },
   {
    "duration": 527,
    "start_time": "2021-10-01T13:49:24.506Z"
   },
   {
    "duration": 11,
    "start_time": "2021-10-01T13:49:25.037Z"
   },
   {
    "duration": 110,
    "start_time": "2021-10-01T13:49:25.051Z"
   },
   {
    "duration": 540,
    "start_time": "2021-10-01T13:49:25.163Z"
   },
   {
    "duration": 46,
    "start_time": "2021-10-01T13:49:25.706Z"
   },
   {
    "duration": 71,
    "start_time": "2021-10-01T13:49:25.754Z"
   },
   {
    "duration": 600,
    "start_time": "2021-10-01T13:49:25.829Z"
   },
   {
    "duration": 346,
    "start_time": "2021-10-01T13:49:26.433Z"
   },
   {
    "duration": 60,
    "start_time": "2021-10-01T13:49:26.782Z"
   },
   {
    "duration": 117,
    "start_time": "2021-10-01T13:49:26.845Z"
   },
   {
    "duration": 164,
    "start_time": "2021-10-01T13:49:26.964Z"
   },
   {
    "duration": 293,
    "start_time": "2021-10-01T13:49:27.132Z"
   },
   {
    "duration": 266,
    "start_time": "2021-10-01T13:49:27.428Z"
   },
   {
    "duration": 101,
    "start_time": "2021-10-01T13:49:27.697Z"
   },
   {
    "duration": 594,
    "start_time": "2021-10-01T13:49:27.801Z"
   },
   {
    "duration": 4,
    "start_time": "2021-10-01T13:49:28.397Z"
   },
   {
    "duration": 30,
    "start_time": "2021-10-01T13:49:28.404Z"
   },
   {
    "duration": 39,
    "start_time": "2021-10-01T13:49:28.438Z"
   },
   {
    "duration": 20,
    "start_time": "2021-10-01T13:49:28.479Z"
   },
   {
    "duration": 245,
    "start_time": "2021-10-01T13:49:28.501Z"
   },
   {
    "duration": 10,
    "start_time": "2021-10-01T13:49:28.822Z"
   },
   {
    "duration": 29,
    "start_time": "2021-10-01T13:49:28.838Z"
   },
   {
    "duration": 1193,
    "start_time": "2021-10-01T13:49:28.870Z"
   },
   {
    "duration": 5,
    "start_time": "2021-10-01T13:49:30.065Z"
   },
   {
    "duration": 36995,
    "start_time": "2021-10-01T13:49:30.072Z"
   },
   {
    "duration": 4,
    "start_time": "2021-10-01T13:50:07.069Z"
   },
   {
    "duration": 137,
    "start_time": "2021-10-01T13:50:07.075Z"
   },
   {
    "duration": 95,
    "start_time": "2021-10-01T13:56:13.079Z"
   },
   {
    "duration": 1128,
    "start_time": "2021-10-01T13:56:17.290Z"
   },
   {
    "duration": 2071990,
    "start_time": "2021-10-01T13:56:33.587Z"
   },
   {
    "duration": 2189,
    "start_time": "2021-10-01T14:34:09.675Z"
   },
   {
    "duration": 1542,
    "start_time": "2021-10-01T14:34:11.868Z"
   },
   {
    "duration": 650,
    "start_time": "2021-10-01T14:34:13.413Z"
   },
   {
    "duration": 20,
    "start_time": "2021-10-01T14:34:14.067Z"
   },
   {
    "duration": 738,
    "start_time": "2021-10-01T14:34:14.089Z"
   },
   {
    "duration": 16,
    "start_time": "2021-10-01T14:34:14.831Z"
   },
   {
    "duration": 108,
    "start_time": "2021-10-01T14:34:14.851Z"
   },
   {
    "duration": 5,
    "start_time": "2021-10-01T14:34:14.965Z"
   },
   {
    "duration": 424,
    "start_time": "2021-10-01T14:34:14.973Z"
   },
   {
    "duration": 663,
    "start_time": "2021-10-01T14:34:15.400Z"
   },
   {
    "duration": 18,
    "start_time": "2021-10-01T14:34:16.066Z"
   },
   {
    "duration": 111,
    "start_time": "2021-10-01T14:34:16.087Z"
   },
   {
    "duration": 35,
    "start_time": "2021-10-01T14:34:16.200Z"
   },
   {
    "duration": 159,
    "start_time": "2021-10-01T14:34:16.239Z"
   },
   {
    "duration": 164,
    "start_time": "2021-10-01T14:34:16.400Z"
   },
   {
    "duration": 127,
    "start_time": "2021-10-01T14:34:16.566Z"
   },
   {
    "duration": 6,
    "start_time": "2021-10-01T14:34:16.697Z"
   },
   {
    "duration": 261,
    "start_time": "2021-10-01T14:34:16.725Z"
   },
   {
    "duration": 53,
    "start_time": "2021-10-01T14:34:16.989Z"
   },
   {
    "duration": 387,
    "start_time": "2021-10-01T14:34:17.045Z"
   },
   {
    "duration": 4,
    "start_time": "2021-10-01T14:34:17.436Z"
   },
   {
    "duration": 13,
    "start_time": "2021-10-01T14:34:17.444Z"
   },
   {
    "duration": 61,
    "start_time": "2021-10-01T14:34:17.465Z"
   },
   {
    "duration": 665,
    "start_time": "2021-10-01T14:34:17.532Z"
   },
   {
    "duration": 56,
    "start_time": "2021-10-01T14:34:18.200Z"
   },
   {
    "duration": 96,
    "start_time": "2021-10-01T14:34:18.259Z"
   },
   {
    "duration": 606,
    "start_time": "2021-10-01T14:34:18.358Z"
   },
   {
    "duration": 59,
    "start_time": "2021-10-01T14:34:18.968Z"
   },
   {
    "duration": 672,
    "start_time": "2021-10-01T14:34:19.036Z"
   },
   {
    "duration": 402,
    "start_time": "2021-10-01T14:34:19.711Z"
   },
   {
    "duration": 2622,
    "start_time": "2021-10-01T14:34:20.116Z"
   },
   {
    "duration": 526,
    "start_time": "2021-10-01T14:34:22.742Z"
   },
   {
    "duration": 11,
    "start_time": "2021-10-01T14:34:23.271Z"
   },
   {
    "duration": 107,
    "start_time": "2021-10-01T14:34:23.284Z"
   },
   {
    "duration": 548,
    "start_time": "2021-10-01T14:34:23.394Z"
   },
   {
    "duration": 26,
    "start_time": "2021-10-01T14:34:23.946Z"
   },
   {
    "duration": 91,
    "start_time": "2021-10-01T14:34:23.975Z"
   },
   {
    "duration": 575,
    "start_time": "2021-10-01T14:34:24.069Z"
   },
   {
    "duration": 317,
    "start_time": "2021-10-01T14:34:24.647Z"
   },
   {
    "duration": 70,
    "start_time": "2021-10-01T14:34:24.966Z"
   },
   {
    "duration": 94,
    "start_time": "2021-10-01T14:34:25.040Z"
   },
   {
    "duration": 182,
    "start_time": "2021-10-01T14:34:25.137Z"
   },
   {
    "duration": 409,
    "start_time": "2021-10-01T14:34:25.324Z"
   },
   {
    "duration": 308,
    "start_time": "2021-10-01T14:34:25.736Z"
   },
   {
    "duration": 113,
    "start_time": "2021-10-01T14:34:26.059Z"
   },
   {
    "duration": 572,
    "start_time": "2021-10-01T14:34:26.174Z"
   },
   {
    "duration": 4,
    "start_time": "2021-10-01T14:34:26.748Z"
   },
   {
    "duration": 6,
    "start_time": "2021-10-01T14:34:26.754Z"
   },
   {
    "duration": 14,
    "start_time": "2021-10-01T14:34:26.762Z"
   },
   {
    "duration": 44,
    "start_time": "2021-10-01T14:34:26.778Z"
   },
   {
    "duration": 302,
    "start_time": "2021-10-01T14:34:26.825Z"
   },
   {
    "duration": 6,
    "start_time": "2021-10-01T14:34:27.129Z"
   },
   {
    "duration": 9,
    "start_time": "2021-10-01T14:34:27.137Z"
   },
   {
    "duration": 1193,
    "start_time": "2021-10-01T14:34:27.148Z"
   },
   {
    "duration": 5,
    "start_time": "2021-10-01T14:34:28.344Z"
   },
   {
    "duration": 46334,
    "start_time": "2021-10-01T14:34:28.351Z"
   },
   {
    "duration": 3,
    "start_time": "2021-10-01T14:35:14.688Z"
   },
   {
    "duration": 5488951,
    "start_time": "2021-10-01T14:35:14.694Z"
   },
   {
    "duration": 46817,
    "start_time": "2021-10-01T16:06:43.736Z"
   },
   {
    "duration": 5,
    "start_time": "2021-10-01T16:07:30.555Z"
   },
   {
    "duration": 844,
    "start_time": "2021-10-01T16:07:30.563Z"
   },
   {
    "duration": -3499951,
    "start_time": "2021-10-01T17:05:51.361Z"
   },
   {
    "duration": -3499954,
    "start_time": "2021-10-01T17:05:51.366Z"
   },
   {
    "duration": -3499956,
    "start_time": "2021-10-01T17:05:51.370Z"
   },
   {
    "duration": -3499959,
    "start_time": "2021-10-01T17:05:51.375Z"
   },
   {
    "duration": 13593,
    "start_time": "2021-10-01T17:06:52.267Z"
   },
   {
    "duration": 1265,
    "start_time": "2021-10-02T10:46:45.618Z"
   },
   {
    "duration": 955,
    "start_time": "2021-10-02T10:46:46.886Z"
   },
   {
    "duration": 386,
    "start_time": "2021-10-02T10:46:47.844Z"
   },
   {
    "duration": 22,
    "start_time": "2021-10-02T10:46:48.233Z"
   },
   {
    "duration": 380,
    "start_time": "2021-10-02T10:46:48.257Z"
   },
   {
    "duration": 11,
    "start_time": "2021-10-02T10:46:48.639Z"
   },
   {
    "duration": 43,
    "start_time": "2021-10-02T10:46:48.652Z"
   },
   {
    "duration": 7,
    "start_time": "2021-10-02T10:46:48.698Z"
   },
   {
    "duration": 226,
    "start_time": "2021-10-02T10:46:48.707Z"
   },
   {
    "duration": 365,
    "start_time": "2021-10-02T10:46:48.935Z"
   },
   {
    "duration": 13,
    "start_time": "2021-10-02T10:46:49.303Z"
   },
   {
    "duration": 72,
    "start_time": "2021-10-02T10:46:49.318Z"
   },
   {
    "duration": 15,
    "start_time": "2021-10-02T10:46:49.392Z"
   },
   {
    "duration": 94,
    "start_time": "2021-10-02T10:46:49.409Z"
   },
   {
    "duration": 96,
    "start_time": "2021-10-02T10:46:49.505Z"
   },
   {
    "duration": 75,
    "start_time": "2021-10-02T10:46:49.603Z"
   },
   {
    "duration": 4,
    "start_time": "2021-10-02T10:46:49.680Z"
   },
   {
    "duration": 176,
    "start_time": "2021-10-02T10:46:49.686Z"
   },
   {
    "duration": 32,
    "start_time": "2021-10-02T10:46:49.863Z"
   },
   {
    "duration": 248,
    "start_time": "2021-10-02T10:46:49.897Z"
   },
   {
    "duration": 2,
    "start_time": "2021-10-02T10:46:50.147Z"
   },
   {
    "duration": 22,
    "start_time": "2021-10-02T10:46:50.151Z"
   },
   {
    "duration": 35,
    "start_time": "2021-10-02T10:46:50.177Z"
   },
   {
    "duration": 343,
    "start_time": "2021-10-02T10:46:50.214Z"
   },
   {
    "duration": 26,
    "start_time": "2021-10-02T10:46:50.558Z"
   },
   {
    "duration": 69,
    "start_time": "2021-10-02T10:46:50.586Z"
   },
   {
    "duration": 307,
    "start_time": "2021-10-02T10:46:50.657Z"
   },
   {
    "duration": 24,
    "start_time": "2021-10-02T10:46:50.966Z"
   },
   {
    "duration": 407,
    "start_time": "2021-10-02T10:46:50.992Z"
   },
   {
    "duration": 283,
    "start_time": "2021-10-02T10:46:51.401Z"
   },
   {
    "duration": 1499,
    "start_time": "2021-10-02T10:46:51.686Z"
   },
   {
    "duration": 299,
    "start_time": "2021-10-02T10:46:53.187Z"
   },
   {
    "duration": 7,
    "start_time": "2021-10-02T10:46:53.488Z"
   },
   {
    "duration": 66,
    "start_time": "2021-10-02T10:46:53.497Z"
   },
   {
    "duration": 320,
    "start_time": "2021-10-02T10:46:53.565Z"
   },
   {
    "duration": 20,
    "start_time": "2021-10-02T10:46:53.886Z"
   },
   {
    "duration": 57,
    "start_time": "2021-10-02T10:46:53.907Z"
   },
   {
    "duration": 321,
    "start_time": "2021-10-02T10:46:53.966Z"
   },
   {
    "duration": 198,
    "start_time": "2021-10-02T10:46:54.289Z"
   },
   {
    "duration": 31,
    "start_time": "2021-10-02T10:46:54.489Z"
   },
   {
    "duration": 65,
    "start_time": "2021-10-02T10:46:54.521Z"
   },
   {
    "duration": 129,
    "start_time": "2021-10-02T10:46:54.587Z"
   },
   {
    "duration": 179,
    "start_time": "2021-10-02T10:46:54.718Z"
   },
   {
    "duration": 203,
    "start_time": "2021-10-02T10:46:54.898Z"
   },
   {
    "duration": 77,
    "start_time": "2021-10-02T10:46:55.103Z"
   },
   {
    "duration": 329,
    "start_time": "2021-10-02T10:46:55.182Z"
   },
   {
    "duration": 3,
    "start_time": "2021-10-02T10:46:55.513Z"
   },
   {
    "duration": 7,
    "start_time": "2021-10-02T10:46:55.517Z"
   },
   {
    "duration": 25,
    "start_time": "2021-10-02T10:46:55.525Z"
   },
   {
    "duration": 7,
    "start_time": "2021-10-02T10:46:55.552Z"
   },
   {
    "duration": 192,
    "start_time": "2021-10-02T10:46:55.561Z"
   },
   {
    "duration": 5,
    "start_time": "2021-10-02T10:46:55.755Z"
   },
   {
    "duration": 91,
    "start_time": "2021-10-02T10:46:55.762Z"
   },
   {
    "duration": 1037,
    "start_time": "2021-10-02T10:46:55.855Z"
   },
   {
    "duration": 5,
    "start_time": "2021-10-02T10:46:56.894Z"
   },
   {
    "duration": 30089,
    "start_time": "2021-10-02T10:46:56.901Z"
   },
   {
    "duration": 3,
    "start_time": "2021-10-02T10:47:26.991Z"
   },
   {
    "duration": 9,
    "start_time": "2021-10-02T10:47:26.995Z"
   },
   {
    "duration": 177962,
    "start_time": "2021-10-02T10:47:27.005Z"
   },
   {
    "duration": 5,
    "start_time": "2021-10-02T10:50:24.970Z"
   },
   {
    "duration": 5,
    "start_time": "2021-10-02T10:50:24.977Z"
   },
   {
    "duration": 8,
    "start_time": "2021-10-02T10:50:24.983Z"
   },
   {
    "duration": 22499,
    "start_time": "2021-10-02T10:50:24.992Z"
   },
   {
    "duration": 57,
    "start_time": "2021-10-02T10:50:47.492Z"
   },
   {
    "duration": 9,
    "start_time": "2021-10-02T10:50:47.551Z"
   },
   {
    "duration": 8205,
    "start_time": "2021-10-02T10:52:03.062Z"
   },
   {
    "duration": 9,
    "start_time": "2021-10-02T10:52:26.744Z"
   }
  ],
  "kernelspec": {
   "display_name": "Python 3",
   "language": "python",
   "name": "python3"
  },
  "language_info": {
   "codemirror_mode": {
    "name": "ipython",
    "version": 3
   },
   "file_extension": ".py",
   "mimetype": "text/x-python",
   "name": "python",
   "nbconvert_exporter": "python",
   "pygments_lexer": "ipython3",
   "version": "3.8.8"
  },
  "toc": {
   "base_numbering": 1,
   "nav_menu": {},
   "number_sections": true,
   "sideBar": true,
   "skip_h1_title": true,
   "title_cell": "Table of Contents",
   "title_sidebar": "Contents",
   "toc_cell": false,
   "toc_position": {},
   "toc_section_display": true,
   "toc_window_display": false
  }
 },
 "nbformat": 4,
 "nbformat_minor": 2
}
