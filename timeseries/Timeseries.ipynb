{
 "cells": [
  {
   "cell_type": "markdown",
   "metadata": {
    "toc": true
   },
   "source": [
    "<h1>Содержание<span class=\"tocSkip\"></span></h1>\n",
    "<div class=\"toc\"><ul class=\"toc-item\"><li><ul class=\"toc-item\"><li><ul class=\"toc-item\"><li><span><a href=\"#Полезные-ссылки:\" data-toc-modified-id=\"Полезные-ссылки:-0.0.1\"><span class=\"toc-item-num\">0.0.1&nbsp;&nbsp;</span><font color=\"orange\">Полезные ссылки:</font></a></span></li></ul></li><li><span><a href=\"#Общее-впечатление\" data-toc-modified-id=\"Общее-впечатление-0.1\"><span class=\"toc-item-num\">0.1&nbsp;&nbsp;</span><font color=\"orange\">Общее впечатление</font></a></span></li><li><span><a href=\"#Общее-впечатление-(ревью-2)\" data-toc-modified-id=\"Общее-впечатление-(ревью-2)-0.2\"><span class=\"toc-item-num\">0.2&nbsp;&nbsp;</span><font color=\"orange\">Общее впечатление (ревью 2)</font></a></span></li></ul></li><li><span><a href=\"#Подготовка\" data-toc-modified-id=\"Подготовка-1\"><span class=\"toc-item-num\">1&nbsp;&nbsp;</span>Подготовка</a></span></li><li><span><a href=\"#Анализ\" data-toc-modified-id=\"Анализ-2\"><span class=\"toc-item-num\">2&nbsp;&nbsp;</span>Анализ</a></span></li><li><span><a href=\"#Обучение\" data-toc-modified-id=\"Обучение-3\"><span class=\"toc-item-num\">3&nbsp;&nbsp;</span>Обучение</a></span></li><li><span><a href=\"#Тестирование\" data-toc-modified-id=\"Тестирование-4\"><span class=\"toc-item-num\">4&nbsp;&nbsp;</span>Тестирование</a></span></li><li><span><a href=\"#Вывод\" data-toc-modified-id=\"Вывод-5\"><span class=\"toc-item-num\">5&nbsp;&nbsp;</span>Вывод</a></span></li><li><span><a href=\"#Чек-лист-проверки\" data-toc-modified-id=\"Чек-лист-проверки-6\"><span class=\"toc-item-num\">6&nbsp;&nbsp;</span>Чек-лист проверки</a></span></li></ul></div>"
   ]
  },
  {
   "cell_type": "markdown",
   "metadata": {},
   "source": [
    "#  Прогнозирование заказов такси"
   ]
  },
  {
   "cell_type": "markdown",
   "metadata": {},
   "source": [
    "Компания «Чётенькое такси» собрала исторические данные о заказах такси в аэропортах. Чтобы привлекать больше водителей в период пиковой нагрузки, нужно спрогнозировать количество заказов такси на следующий час. Постройте модель для такого предсказания.\n",
    "\n",
    "Значение метрики *RMSE* на тестовой выборке должно быть не больше 48.\n",
    "\n",
    "Вам нужно:\n",
    "\n",
    "1. Загрузить данные и выполнить их ресемплирование по одному часу.\n",
    "2. Проанализировать данные.\n",
    "3. Обучить разные модели с различными гиперпараметрами. Сделать тестовую выборку размером 10% от исходных данных.\n",
    "4. Проверить данные на тестовой выборке и сделать выводы.\n",
    "\n",
    "\n",
    "Данные лежат в файле `taxi.csv`. Количество заказов находится в столбце `num_orders` (от англ. *number of orders*, «число заказов»)."
   ]
  },
  {
   "cell_type": "markdown",
   "metadata": {},
   "source": [
    "## Подготовка"
   ]
  },
  {
   "cell_type": "code",
   "execution_count": 1,
   "metadata": {},
   "outputs": [],
   "source": [
    "import pandas as pd\n",
    "import numpy as np\n",
    "import matplotlib.pyplot as plt\n",
    "import seaborn as sns\n",
    "%matplotlib inline\n",
    "from sklearn.model_selection import train_test_split, GridSearchCV, TimeSeriesSplit\n",
    "from sklearn.linear_model import LinearRegression\n",
    "from sklearn.tree import DecisionTreeRegressor\n",
    "from sklearn.metrics import mean_squared_error, make_scorer\n",
    "from lightgbm import LGBMRegressor\n",
    "from catboost import CatBoostRegressor\n",
    "from statsmodels.tsa.seasonal import seasonal_decompose\n",
    "import time\n",
    "import warnings\n",
    "warnings.filterwarnings('ignore')"
   ]
  },
  {
   "cell_type": "code",
   "execution_count": 2,
   "metadata": {},
   "outputs": [
    {
     "data": {
      "text/html": [
       "<div>\n",
       "<style scoped>\n",
       "    .dataframe tbody tr th:only-of-type {\n",
       "        vertical-align: middle;\n",
       "    }\n",
       "\n",
       "    .dataframe tbody tr th {\n",
       "        vertical-align: top;\n",
       "    }\n",
       "\n",
       "    .dataframe thead th {\n",
       "        text-align: right;\n",
       "    }\n",
       "</style>\n",
       "<table border=\"1\" class=\"dataframe\">\n",
       "  <thead>\n",
       "    <tr style=\"text-align: right;\">\n",
       "      <th></th>\n",
       "      <th>datetime</th>\n",
       "      <th>num_orders</th>\n",
       "    </tr>\n",
       "  </thead>\n",
       "  <tbody>\n",
       "    <tr>\n",
       "      <td>0</td>\n",
       "      <td>2018-03-01 00:00:00</td>\n",
       "      <td>9</td>\n",
       "    </tr>\n",
       "    <tr>\n",
       "      <td>1</td>\n",
       "      <td>2018-03-01 00:10:00</td>\n",
       "      <td>14</td>\n",
       "    </tr>\n",
       "    <tr>\n",
       "      <td>2</td>\n",
       "      <td>2018-03-01 00:20:00</td>\n",
       "      <td>28</td>\n",
       "    </tr>\n",
       "    <tr>\n",
       "      <td>3</td>\n",
       "      <td>2018-03-01 00:30:00</td>\n",
       "      <td>20</td>\n",
       "    </tr>\n",
       "    <tr>\n",
       "      <td>4</td>\n",
       "      <td>2018-03-01 00:40:00</td>\n",
       "      <td>32</td>\n",
       "    </tr>\n",
       "  </tbody>\n",
       "</table>\n",
       "</div>"
      ],
      "text/plain": [
       "             datetime  num_orders\n",
       "0 2018-03-01 00:00:00           9\n",
       "1 2018-03-01 00:10:00          14\n",
       "2 2018-03-01 00:20:00          28\n",
       "3 2018-03-01 00:30:00          20\n",
       "4 2018-03-01 00:40:00          32"
      ]
     },
     "metadata": {},
     "output_type": "display_data"
    },
    {
     "name": "stdout",
     "output_type": "stream",
     "text": [
      "<class 'pandas.core.frame.DataFrame'>\n",
      "RangeIndex: 26496 entries, 0 to 26495\n",
      "Data columns (total 2 columns):\n",
      "datetime      26496 non-null datetime64[ns]\n",
      "num_orders    26496 non-null int64\n",
      "dtypes: datetime64[ns](1), int64(1)\n",
      "memory usage: 414.1 KB\n"
     ]
    }
   ],
   "source": [
    "data = pd.read_csv('/datasets/taxi.csv', parse_dates=['datetime'])\n",
    "display(data.head())\n",
    "data.info()"
   ]
  },
  {
   "cell_type": "code",
   "execution_count": 3,
   "metadata": {},
   "outputs": [
    {
     "data": {
      "text/html": [
       "<div>\n",
       "<style scoped>\n",
       "    .dataframe tbody tr th:only-of-type {\n",
       "        vertical-align: middle;\n",
       "    }\n",
       "\n",
       "    .dataframe tbody tr th {\n",
       "        vertical-align: top;\n",
       "    }\n",
       "\n",
       "    .dataframe thead th {\n",
       "        text-align: right;\n",
       "    }\n",
       "</style>\n",
       "<table border=\"1\" class=\"dataframe\">\n",
       "  <thead>\n",
       "    <tr style=\"text-align: right;\">\n",
       "      <th></th>\n",
       "      <th>num_orders</th>\n",
       "    </tr>\n",
       "    <tr>\n",
       "      <th>datetime</th>\n",
       "      <th></th>\n",
       "    </tr>\n",
       "  </thead>\n",
       "  <tbody>\n",
       "    <tr>\n",
       "      <td>2018-03-01 00:00:00</td>\n",
       "      <td>9</td>\n",
       "    </tr>\n",
       "    <tr>\n",
       "      <td>2018-03-01 00:10:00</td>\n",
       "      <td>14</td>\n",
       "    </tr>\n",
       "    <tr>\n",
       "      <td>2018-03-01 00:20:00</td>\n",
       "      <td>28</td>\n",
       "    </tr>\n",
       "    <tr>\n",
       "      <td>2018-03-01 00:30:00</td>\n",
       "      <td>20</td>\n",
       "    </tr>\n",
       "    <tr>\n",
       "      <td>2018-03-01 00:40:00</td>\n",
       "      <td>32</td>\n",
       "    </tr>\n",
       "  </tbody>\n",
       "</table>\n",
       "</div>"
      ],
      "text/plain": [
       "                     num_orders\n",
       "datetime                       \n",
       "2018-03-01 00:00:00           9\n",
       "2018-03-01 00:10:00          14\n",
       "2018-03-01 00:20:00          28\n",
       "2018-03-01 00:30:00          20\n",
       "2018-03-01 00:40:00          32"
      ]
     },
     "metadata": {},
     "output_type": "display_data"
    },
    {
     "name": "stdout",
     "output_type": "stream",
     "text": [
      "<class 'pandas.core.frame.DataFrame'>\n",
      "DatetimeIndex: 26496 entries, 2018-03-01 00:00:00 to 2018-08-31 23:50:00\n",
      "Data columns (total 1 columns):\n",
      "num_orders    26496 non-null int64\n",
      "dtypes: int64(1)\n",
      "memory usage: 414.0 KB\n"
     ]
    }
   ],
   "source": [
    "data.set_index(data['datetime'], inplace=True)\n",
    "data.drop('datetime', axis=1, inplace=True)\n",
    "display(data.head())\n",
    "data.info()"
   ]
  },
  {
   "cell_type": "code",
   "execution_count": 4,
   "metadata": {},
   "outputs": [
    {
     "data": {
      "text/plain": [
       "True"
      ]
     },
     "metadata": {},
     "output_type": "display_data"
    }
   ],
   "source": [
    "display(data.index.is_monotonic)"
   ]
  },
  {
   "cell_type": "code",
   "execution_count": 5,
   "metadata": {},
   "outputs": [
    {
     "data": {
      "text/html": [
       "<div>\n",
       "<style scoped>\n",
       "    .dataframe tbody tr th:only-of-type {\n",
       "        vertical-align: middle;\n",
       "    }\n",
       "\n",
       "    .dataframe tbody tr th {\n",
       "        vertical-align: top;\n",
       "    }\n",
       "\n",
       "    .dataframe thead th {\n",
       "        text-align: right;\n",
       "    }\n",
       "</style>\n",
       "<table border=\"1\" class=\"dataframe\">\n",
       "  <thead>\n",
       "    <tr style=\"text-align: right;\">\n",
       "      <th></th>\n",
       "      <th>num_orders</th>\n",
       "    </tr>\n",
       "    <tr>\n",
       "      <th>datetime</th>\n",
       "      <th></th>\n",
       "    </tr>\n",
       "  </thead>\n",
       "  <tbody>\n",
       "    <tr>\n",
       "      <td>2018-03-01 00:00:00</td>\n",
       "      <td>124</td>\n",
       "    </tr>\n",
       "    <tr>\n",
       "      <td>2018-03-01 01:00:00</td>\n",
       "      <td>85</td>\n",
       "    </tr>\n",
       "    <tr>\n",
       "      <td>2018-03-01 02:00:00</td>\n",
       "      <td>71</td>\n",
       "    </tr>\n",
       "    <tr>\n",
       "      <td>2018-03-01 03:00:00</td>\n",
       "      <td>66</td>\n",
       "    </tr>\n",
       "    <tr>\n",
       "      <td>2018-03-01 04:00:00</td>\n",
       "      <td>43</td>\n",
       "    </tr>\n",
       "  </tbody>\n",
       "</table>\n",
       "</div>"
      ],
      "text/plain": [
       "                     num_orders\n",
       "datetime                       \n",
       "2018-03-01 00:00:00         124\n",
       "2018-03-01 01:00:00          85\n",
       "2018-03-01 02:00:00          71\n",
       "2018-03-01 03:00:00          66\n",
       "2018-03-01 04:00:00          43"
      ]
     },
     "metadata": {},
     "output_type": "display_data"
    }
   ],
   "source": [
    "data = data.resample('1H').sum()\n",
    "display(data.head())"
   ]
  },
  {
   "cell_type": "markdown",
   "metadata": {},
   "source": [
    "Данные подготовили, перейдём к анализу."
   ]
  },
  {
   "cell_type": "markdown",
   "metadata": {},
   "source": [
    "## Анализ"
   ]
  },
  {
   "cell_type": "code",
   "execution_count": 6,
   "metadata": {},
   "outputs": [
    {
     "data": {
      "image/png": "[encoded data removed]",
      "text/plain": [
       "<Figure size 1080x576 with 1 Axes>"
      ]
     },
     "metadata": {
      "needs_background": "light"
     },
     "output_type": "display_data"
    },
    {
     "data": {
      "image/png": "[encoded data removed]",
      "text/plain": [
       "<Figure size 1080x576 with 1 Axes>"
      ]
     },
     "metadata": {
      "needs_background": "light"
     },
     "output_type": "display_data"
    },
    {
     "data": {
      "image/png": "[encoded data removed]",
      "text/plain": [
       "<Figure size 1080x576 with 1 Axes>"
      ]
     },
     "metadata": {
      "needs_background": "light"
     },
     "output_type": "display_data"
    }
   ],
   "source": [
    "decomposed = seasonal_decompose(data)\n",
    "decomposed.seasonal['2018-08-25':'2018-08-31'].plot(figsize=(15,8), grid=True, title='Seasonal')\n",
    "plt.show()\n",
    "decomposed.trend.plot(figsize=(15,8), grid=True, title='Trend')\n",
    "plt.show()\n",
    "decomposed.resid['2018-08-25':'2018-08-31'].plot(figsize=(15,8), grid=True, title='Resid')\n",
    "plt.show()"
   ]
  },
  {
   "cell_type": "markdown",
   "metadata": {},
   "source": [
    "Сезонность и тренд в данных очевидны."
   ]
  },
  {
   "cell_type": "code",
   "execution_count": 7,
   "metadata": {},
   "outputs": [],
   "source": [
    "def data_an(data, column):\n",
    "    sns.distplot(data[column])\n",
    "    plt.show()\n",
    "    sns.boxplot(x=data[column])\n",
    "    plt.show()\n",
    "    print(data.describe())"
   ]
  },
  {
   "cell_type": "code",
   "execution_count": 8,
   "metadata": {
    "scrolled": true
   },
   "outputs": [
    {
     "data": {
      "image/png": "[encoded data removed]",
      "text/plain": [
       "<Figure size 432x288 with 1 Axes>"
      ]
     },
     "metadata": {
      "needs_background": "light"
     },
     "output_type": "display_data"
    },
    {
     "data": {
      "image/png": "[encoded data removed]",
      "text/plain": [
       "<Figure size 432x288 with 1 Axes>"
      ]
     },
     "metadata": {
      "needs_background": "light"
     },
     "output_type": "display_data"
    },
    {
     "name": "stdout",
     "output_type": "stream",
     "text": [
      "        num_orders\n",
      "count  4416.000000\n",
      "mean     84.422781\n",
      "std      45.023853\n",
      "min       0.000000\n",
      "25%      54.000000\n",
      "50%      78.000000\n",
      "75%     107.000000\n",
      "max     462.000000\n"
     ]
    }
   ],
   "source": [
    "data_an(data, 'num_orders')"
   ]
  },
  {
   "cell_type": "code",
   "execution_count": 9,
   "metadata": {
    "scrolled": false
   },
   "outputs": [
    {
     "data": {
      "image/png": "[encoded data removed]",
      "text/plain": [
       "<Figure size 1080x576 with 1 Axes>"
      ]
     },
     "metadata": {
      "needs_background": "light"
     },
     "output_type": "display_data"
    }
   ],
   "source": [
    "data['mean'] = data['num_orders'].rolling(6).mean()\n",
    "data['std'] = data['num_orders'].rolling(6).std()\n",
    "data['2018-08-24':'2018-08-31'].plot(figsize=(15,8), grid=True)\n",
    "plt.show()"
   ]
  },
  {
   "cell_type": "code",
   "execution_count": 10,
   "metadata": {},
   "outputs": [
    {
     "data": {
      "image/png": "[encoded data removed]",
      "text/plain": [
       "<Figure size 1080x576 with 1 Axes>"
      ]
     },
     "metadata": {
      "needs_background": "light"
     },
     "output_type": "display_data"
    }
   ],
   "source": [
    "data['num_orders'] = data['num_orders'] - data['num_orders'].shift()\n",
    "data.dropna(inplace=True)\n",
    "data['mean'] = data['num_orders'].rolling(6).mean()\n",
    "data['std'] = data['num_orders'].rolling(6).std()\n",
    "data['2018-08-24':'2018-08-31'].plot(figsize=(15,8), grid=True)\n",
    "plt.show()"
   ]
  },
  {
   "cell_type": "code",
   "execution_count": 11,
   "metadata": {},
   "outputs": [
    {
     "data": {
      "image/png": "[encoded data removed]",
      "text/plain": [
       "<Figure size 432x288 with 1 Axes>"
      ]
     },
     "metadata": {
      "needs_background": "light"
     },
     "output_type": "display_data"
    },
    {
     "data": {
      "image/png": "[encoded data removed]",
      "text/plain": [
       "<Figure size 432x288 with 1 Axes>"
      ]
     },
     "metadata": {
      "needs_background": "light"
     },
     "output_type": "display_data"
    },
    {
     "name": "stdout",
     "output_type": "stream",
     "text": [
      "        num_orders         mean          std\n",
      "count  4411.000000  4406.000000  4406.000000\n",
      "mean      0.036726     0.034234    37.619334\n",
      "std      39.034522     9.246396    17.632119\n",
      "min    -269.000000   -61.333333     4.147288\n",
      "25%     -22.000000    -4.500000    26.098372\n",
      "50%       1.000000     0.833333    34.398643\n",
      "75%      23.000000     5.500000    45.138029\n",
      "max     193.000000    57.666667   163.460903\n"
     ]
    }
   ],
   "source": [
    "data_an(data, 'num_orders')"
   ]
  },
  {
   "cell_type": "markdown",
   "metadata": {},
   "source": [
    "Мы сделали временной ряд станционарным. Среднее не меняется, отклонение не зависит от времени."
   ]
  },
  {
   "cell_type": "markdown",
   "metadata": {},
   "source": [
    "## Обучение"
   ]
  },
  {
   "cell_type": "code",
   "execution_count": 12,
   "metadata": {},
   "outputs": [],
   "source": [
    "data.drop(['mean', 'std'], axis=1, inplace=True)"
   ]
  },
  {
   "cell_type": "code",
   "execution_count": 13,
   "metadata": {},
   "outputs": [],
   "source": [
    "def make_features(df, max_lag, rolling_mean_size):\n",
    "    new_df = df.copy() #исправил\n",
    "    new_df['month'] = df.index.month\n",
    "    new_df['day'] = df.index.day\n",
    "    new_df['dayofweek'] = df.index.dayofweek\n",
    "    new_df['hour'] = df.index.hour\n",
    "    \n",
    "    for lag in range(1, max_lag + 1):\n",
    "        new_df['lag_{}'.format(lag)] = df['num_orders'].shift(lag)\n",
    "    \n",
    "    new_df['rolling_mean'] = df['num_orders'].shift().rolling(rolling_mean_size).mean()\n",
    "    \n",
    "    train, test = train_test_split(new_df, shuffle=False, test_size=0.1)\n",
    "    train.dropna(inplace=True)\n",
    "    features_train = train.drop('num_orders', axis=1)\n",
    "    target_train = train['num_orders']\n",
    "    features_test = test.drop('num_orders', axis=1)\n",
    "    target_test = test['num_orders']\n",
    "    return features_train, features_test, target_train, target_test"
   ]
  },
  {
   "cell_type": "code",
   "execution_count": 14,
   "metadata": {},
   "outputs": [
    {
     "data": {
      "text/plain": [
       "(4411, 1)"
      ]
     },
     "metadata": {},
     "output_type": "display_data"
    },
    {
     "data": {
      "text/plain": [
       "(3968, 6)"
      ]
     },
     "metadata": {},
     "output_type": "display_data"
    },
    {
     "data": {
      "text/plain": [
       "Timestamp('2018-03-01 06:00:00')"
      ]
     },
     "metadata": {},
     "output_type": "display_data"
    },
    {
     "data": {
      "text/plain": [
       "Timestamp('2018-08-13 13:00:00')"
      ]
     },
     "metadata": {},
     "output_type": "display_data"
    },
    {
     "data": {
      "text/plain": [
       "(442, 6)"
      ]
     },
     "metadata": {},
     "output_type": "display_data"
    },
    {
     "data": {
      "text/plain": [
       "Timestamp('2018-08-13 14:00:00')"
      ]
     },
     "metadata": {},
     "output_type": "display_data"
    },
    {
     "data": {
      "text/plain": [
       "Timestamp('2018-08-31 23:00:00')"
      ]
     },
     "metadata": {},
     "output_type": "display_data"
    }
   ],
   "source": [
    "display(data.shape)\n",
    "features_train, features_test, target_train, target_test = make_features(data, 1, 1)\n",
    "display(features_train.shape, features_train.index.min(), features_train.index.max())\n",
    "display(features_test.shape, features_test.index.min(), features_test.index.max())"
   ]
  },
  {
   "cell_type": "code",
   "execution_count": 15,
   "metadata": {},
   "outputs": [],
   "source": [
    "result = pd.DataFrame(columns = ['RMSE_CV', 'Lag', 'Rolling_Mean', 'Params'])\n",
    "def data_result(model_name, rmse, lag, rm_size, params, df):\n",
    "    df.loc[model_name, 'RMSE_CV'] = round(rmse,4)\n",
    "    df.loc[model_name, 'Lag'] = int(lag)\n",
    "    df.loc[model_name, 'Rolling_Mean'] = int(rm_size)\n",
    "    df.loc[model_name, 'Params'] = params\n",
    "    return df"
   ]
  },
  {
   "cell_type": "code",
   "execution_count": 16,
   "metadata": {},
   "outputs": [],
   "source": [
    "#MSE = make_scorer(mean_squared_error,greater_is_better=False)\n",
    "\n",
    "def model_train(model, params, df, max_lag, max_rm_size):\n",
    "    start = time.time()\n",
    "    tss = TimeSeriesSplit(n_splits=3)\n",
    "    best_lag = 0\n",
    "    best_rm_size = 0\n",
    "    best_rmse = 0\n",
    "    best_mse = 10**5\n",
    "    for lag in range(1,max_lag):\n",
    "        for rm_size in range(2,max_rm_size):\n",
    "            features_train, features_test, target_train, target_test = make_features(df, lag, rm_size)\n",
    "            grid = (GridSearchCV(model,\n",
    "                                 param_grid=params,\n",
    "                                 scoring='neg_mean_squared_error',\n",
    "                                 cv=tss,\n",
    "                                 n_jobs=-1\n",
    "                                )\n",
    "                 ).fit(features_train, target_train)\n",
    "            if -grid.best_score_ < best_mse:\n",
    "                best_mse = -grid.best_score_\n",
    "                best_lag = lag\n",
    "                best_rm_size = rm_size\n",
    "                best_rmse = best_mse**0.5\n",
    "                best_params = grid.best_params_\n",
    "    end = time.time()\n",
    "    print('Время CV', round(end-start, 4))\n",
    "    return best_rmse, best_lag, best_rm_size, best_params"
   ]
  },
  {
   "cell_type": "code",
   "execution_count": 17,
   "metadata": {
    "scrolled": true
   },
   "outputs": [
    {
     "name": "stdout",
     "output_type": "stream",
     "text": [
      "Время CV 4.0147\n"
     ]
    },
    {
     "data": {
      "text/html": [
       "<div>\n",
       "<style scoped>\n",
       "    .dataframe tbody tr th:only-of-type {\n",
       "        vertical-align: middle;\n",
       "    }\n",
       "\n",
       "    .dataframe tbody tr th {\n",
       "        vertical-align: top;\n",
       "    }\n",
       "\n",
       "    .dataframe thead th {\n",
       "        text-align: right;\n",
       "    }\n",
       "</style>\n",
       "<table border=\"1\" class=\"dataframe\">\n",
       "  <thead>\n",
       "    <tr style=\"text-align: right;\">\n",
       "      <th></th>\n",
       "      <th>RMSE_CV</th>\n",
       "      <th>Lag</th>\n",
       "      <th>Rolling_Mean</th>\n",
       "      <th>Params</th>\n",
       "    </tr>\n",
       "  </thead>\n",
       "  <tbody>\n",
       "    <tr>\n",
       "      <td>LR</td>\n",
       "      <td>33.6973</td>\n",
       "      <td>4</td>\n",
       "      <td>10</td>\n",
       "      <td>((normalize, True))</td>\n",
       "    </tr>\n",
       "  </tbody>\n",
       "</table>\n",
       "</div>"
      ],
      "text/plain": [
       "    RMSE_CV Lag Rolling_Mean               Params\n",
       "LR  33.6973   4           10  ((normalize, True))"
      ]
     },
     "metadata": {},
     "output_type": "display_data"
    }
   ],
   "source": [
    "LR = LinearRegression()\n",
    "LR_params = {'normalize': [True, False]\n",
    "            }\n",
    "best_rmse, best_lag, best_rm_size, best_params = model_train(LR, LR_params, data, 5, 15)\n",
    "display(data_result('LR', best_rmse, best_lag, best_rm_size, best_params.items(), result))"
   ]
  },
  {
   "cell_type": "code",
   "execution_count": 18,
   "metadata": {
    "scrolled": true
   },
   "outputs": [
    {
     "name": "stdout",
     "output_type": "stream",
     "text": [
      "Время CV 92.4756\n"
     ]
    },
    {
     "data": {
      "text/html": [
       "<div>\n",
       "<style scoped>\n",
       "    .dataframe tbody tr th:only-of-type {\n",
       "        vertical-align: middle;\n",
       "    }\n",
       "\n",
       "    .dataframe tbody tr th {\n",
       "        vertical-align: top;\n",
       "    }\n",
       "\n",
       "    .dataframe thead th {\n",
       "        text-align: right;\n",
       "    }\n",
       "</style>\n",
       "<table border=\"1\" class=\"dataframe\">\n",
       "  <thead>\n",
       "    <tr style=\"text-align: right;\">\n",
       "      <th></th>\n",
       "      <th>RMSE_CV</th>\n",
       "      <th>Lag</th>\n",
       "      <th>Rolling_Mean</th>\n",
       "      <th>Params</th>\n",
       "    </tr>\n",
       "  </thead>\n",
       "  <tbody>\n",
       "    <tr>\n",
       "      <td>LR</td>\n",
       "      <td>33.6973</td>\n",
       "      <td>4</td>\n",
       "      <td>10</td>\n",
       "      <td>((normalize, True))</td>\n",
       "    </tr>\n",
       "    <tr>\n",
       "      <td>DTR</td>\n",
       "      <td>29.9445</td>\n",
       "      <td>1</td>\n",
       "      <td>11</td>\n",
       "      <td>((max_depth, 8), (min_samples_leaf, 9), (rando...</td>\n",
       "    </tr>\n",
       "  </tbody>\n",
       "</table>\n",
       "</div>"
      ],
      "text/plain": [
       "     RMSE_CV Lag Rolling_Mean  \\\n",
       "LR   33.6973   4           10   \n",
       "DTR  29.9445   1           11   \n",
       "\n",
       "                                                Params  \n",
       "LR                                 ((normalize, True))  \n",
       "DTR  ((max_depth, 8), (min_samples_leaf, 9), (rando...  "
      ]
     },
     "metadata": {},
     "output_type": "display_data"
    }
   ],
   "source": [
    "DTR = DecisionTreeRegressor()\n",
    "DTR_params = {'max_depth' : range(2, 21, 3),\n",
    "              'min_samples_leaf' : range (1,16,2),\n",
    "              'random_state' : [12345]\n",
    "             }\n",
    "best_rmse, best_lag, best_rm_size, best_params = model_train(DTR, DTR_params, data, 5, 15)\n",
    "display(data_result('DTR', best_rmse, best_lag, best_rm_size, best_params.items(), result))"
   ]
  },
  {
   "cell_type": "code",
   "execution_count": 19,
   "metadata": {},
   "outputs": [
    {
     "name": "stdout",
     "output_type": "stream",
     "text": [
      "Время CV 5909.0247\n"
     ]
    },
    {
     "data": {
      "text/html": [
       "<div>\n",
       "<style scoped>\n",
       "    .dataframe tbody tr th:only-of-type {\n",
       "        vertical-align: middle;\n",
       "    }\n",
       "\n",
       "    .dataframe tbody tr th {\n",
       "        vertical-align: top;\n",
       "    }\n",
       "\n",
       "    .dataframe thead th {\n",
       "        text-align: right;\n",
       "    }\n",
       "</style>\n",
       "<table border=\"1\" class=\"dataframe\">\n",
       "  <thead>\n",
       "    <tr style=\"text-align: right;\">\n",
       "      <th></th>\n",
       "      <th>RMSE_CV</th>\n",
       "      <th>Lag</th>\n",
       "      <th>Rolling_Mean</th>\n",
       "      <th>Params</th>\n",
       "    </tr>\n",
       "  </thead>\n",
       "  <tbody>\n",
       "    <tr>\n",
       "      <td>LR</td>\n",
       "      <td>33.6973</td>\n",
       "      <td>4</td>\n",
       "      <td>10</td>\n",
       "      <td>((normalize, True))</td>\n",
       "    </tr>\n",
       "    <tr>\n",
       "      <td>DTR</td>\n",
       "      <td>29.9445</td>\n",
       "      <td>1</td>\n",
       "      <td>11</td>\n",
       "      <td>((max_depth, 8), (min_samples_leaf, 9), (rando...</td>\n",
       "    </tr>\n",
       "    <tr>\n",
       "      <td>LGBMR</td>\n",
       "      <td>27.2342</td>\n",
       "      <td>1</td>\n",
       "      <td>11</td>\n",
       "      <td>[((max_depth, 15), (metric, rmse), (n_estimato...</td>\n",
       "    </tr>\n",
       "  </tbody>\n",
       "</table>\n",
       "</div>"
      ],
      "text/plain": [
       "       RMSE_CV Lag Rolling_Mean  \\\n",
       "LR     33.6973   4           10   \n",
       "DTR    29.9445   1           11   \n",
       "LGBMR  27.2342   1           11   \n",
       "\n",
       "                                                  Params  \n",
       "LR                                   ((normalize, True))  \n",
       "DTR    ((max_depth, 8), (min_samples_leaf, 9), (rando...  \n",
       "LGBMR  [((max_depth, 15), (metric, rmse), (n_estimato...  "
      ]
     },
     "metadata": {},
     "output_type": "display_data"
    }
   ],
   "source": [
    "LGBMR = LGBMRegressor()\n",
    "LGBMR_params = {'n_estimators' : range(80, 121, 20),\n",
    "              'max_depth' : range(3, 16, 3),\n",
    "              'objective' : ['regression'],\n",
    "              'metric' : ['rmse'],\n",
    "              'random_state' : [12345]\n",
    "             }\n",
    "best_rmse, best_lag, best_rm_size, best_params = model_train(LGBMR, LGBMR_params, data, 5, 15)\n",
    "display(data_result('LGBMR', best_rmse, best_lag, best_rm_size, [best_params.items()], result))"
   ]
  },
  {
   "cell_type": "markdown",
   "metadata": {},
   "source": [
    "Считаю, что с подбором фичей и гиперпараметров моделей можно заканчивать. На кросс-валидации получили метрики RSME < 48. Осталось протестировать."
   ]
  },
  {
   "cell_type": "markdown",
   "metadata": {},
   "source": [
    "## Тестирование"
   ]
  },
  {
   "cell_type": "code",
   "execution_count": 20,
   "metadata": {},
   "outputs": [],
   "source": [
    "def model_test(model_name, mod, df_data, df_result):\n",
    "    model = mod(**dict(df_result.loc[model_name, 'Params']))\n",
    "    features_train, features_test, target_train, target_test = make_features(\n",
    "        df_data, df_result.loc[model_name, 'Lag'], df_result.loc[model_name, 'Rolling_Mean']\n",
    "    )\n",
    "    model.fit(features_train, target_train)\n",
    "    predictions = model.predict(features_test)\n",
    "    df_result.loc[model_name, 'RMSE_test'] = round(mean_squared_error(target_test, predictions)**0.5,4)\n",
    "    return df_result"
   ]
  },
  {
   "cell_type": "code",
   "execution_count": 21,
   "metadata": {
    "scrolled": true
   },
   "outputs": [
    {
     "data": {
      "text/html": [
       "<div>\n",
       "<style scoped>\n",
       "    .dataframe tbody tr th:only-of-type {\n",
       "        vertical-align: middle;\n",
       "    }\n",
       "\n",
       "    .dataframe tbody tr th {\n",
       "        vertical-align: top;\n",
       "    }\n",
       "\n",
       "    .dataframe thead th {\n",
       "        text-align: right;\n",
       "    }\n",
       "</style>\n",
       "<table border=\"1\" class=\"dataframe\">\n",
       "  <thead>\n",
       "    <tr style=\"text-align: right;\">\n",
       "      <th></th>\n",
       "      <th>RMSE_CV</th>\n",
       "      <th>Lag</th>\n",
       "      <th>Rolling_Mean</th>\n",
       "      <th>Params</th>\n",
       "      <th>RMSE_test</th>\n",
       "    </tr>\n",
       "  </thead>\n",
       "  <tbody>\n",
       "    <tr>\n",
       "      <td>LR</td>\n",
       "      <td>33.6973</td>\n",
       "      <td>4</td>\n",
       "      <td>10</td>\n",
       "      <td>((normalize, True))</td>\n",
       "      <td>53.1833</td>\n",
       "    </tr>\n",
       "    <tr>\n",
       "      <td>DTR</td>\n",
       "      <td>29.9445</td>\n",
       "      <td>1</td>\n",
       "      <td>11</td>\n",
       "      <td>((max_depth, 8), (min_samples_leaf, 9), (rando...</td>\n",
       "      <td>NaN</td>\n",
       "    </tr>\n",
       "    <tr>\n",
       "      <td>LGBMR</td>\n",
       "      <td>27.2342</td>\n",
       "      <td>1</td>\n",
       "      <td>11</td>\n",
       "      <td>[((max_depth, 15), (metric, rmse), (n_estimato...</td>\n",
       "      <td>NaN</td>\n",
       "    </tr>\n",
       "  </tbody>\n",
       "</table>\n",
       "</div>"
      ],
      "text/plain": [
       "       RMSE_CV Lag Rolling_Mean  \\\n",
       "LR     33.6973   4           10   \n",
       "DTR    29.9445   1           11   \n",
       "LGBMR  27.2342   1           11   \n",
       "\n",
       "                                                  Params  RMSE_test  \n",
       "LR                                   ((normalize, True))    53.1833  \n",
       "DTR    ((max_depth, 8), (min_samples_leaf, 9), (rando...        NaN  \n",
       "LGBMR  [((max_depth, 15), (metric, rmse), (n_estimato...        NaN  "
      ]
     },
     "metadata": {},
     "output_type": "display_data"
    }
   ],
   "source": [
    "display(model_test('LR', LinearRegression, data, result))"
   ]
  },
  {
   "cell_type": "code",
   "execution_count": 22,
   "metadata": {},
   "outputs": [
    {
     "data": {
      "text/html": [
       "<div>\n",
       "<style scoped>\n",
       "    .dataframe tbody tr th:only-of-type {\n",
       "        vertical-align: middle;\n",
       "    }\n",
       "\n",
       "    .dataframe tbody tr th {\n",
       "        vertical-align: top;\n",
       "    }\n",
       "\n",
       "    .dataframe thead th {\n",
       "        text-align: right;\n",
       "    }\n",
       "</style>\n",
       "<table border=\"1\" class=\"dataframe\">\n",
       "  <thead>\n",
       "    <tr style=\"text-align: right;\">\n",
       "      <th></th>\n",
       "      <th>RMSE_CV</th>\n",
       "      <th>Lag</th>\n",
       "      <th>Rolling_Mean</th>\n",
       "      <th>Params</th>\n",
       "      <th>RMSE_test</th>\n",
       "    </tr>\n",
       "  </thead>\n",
       "  <tbody>\n",
       "    <tr>\n",
       "      <td>LR</td>\n",
       "      <td>33.6973</td>\n",
       "      <td>4</td>\n",
       "      <td>10</td>\n",
       "      <td>((normalize, True))</td>\n",
       "      <td>53.1833</td>\n",
       "    </tr>\n",
       "    <tr>\n",
       "      <td>DTR</td>\n",
       "      <td>29.9445</td>\n",
       "      <td>1</td>\n",
       "      <td>11</td>\n",
       "      <td>((max_depth, 8), (min_samples_leaf, 9), (rando...</td>\n",
       "      <td>48.9683</td>\n",
       "    </tr>\n",
       "    <tr>\n",
       "      <td>LGBMR</td>\n",
       "      <td>27.2342</td>\n",
       "      <td>1</td>\n",
       "      <td>11</td>\n",
       "      <td>[((max_depth, 15), (metric, rmse), (n_estimato...</td>\n",
       "      <td>NaN</td>\n",
       "    </tr>\n",
       "  </tbody>\n",
       "</table>\n",
       "</div>"
      ],
      "text/plain": [
       "       RMSE_CV Lag Rolling_Mean  \\\n",
       "LR     33.6973   4           10   \n",
       "DTR    29.9445   1           11   \n",
       "LGBMR  27.2342   1           11   \n",
       "\n",
       "                                                  Params  RMSE_test  \n",
       "LR                                   ((normalize, True))    53.1833  \n",
       "DTR    ((max_depth, 8), (min_samples_leaf, 9), (rando...    48.9683  \n",
       "LGBMR  [((max_depth, 15), (metric, rmse), (n_estimato...        NaN  "
      ]
     },
     "metadata": {},
     "output_type": "display_data"
    }
   ],
   "source": [
    "display(model_test('DTR', DecisionTreeRegressor, data, result))"
   ]
  },
  {
   "cell_type": "code",
   "execution_count": 24,
   "metadata": {
    "scrolled": true
   },
   "outputs": [
    {
     "data": {
      "text/plain": [
       "[dict_items([('max_depth', 15), ('metric', 'rmse'), ('n_estimators', 120), ('objective', 'regression'), ('random_state', 12345)])]"
      ]
     },
     "metadata": {},
     "output_type": "display_data"
    }
   ],
   "source": [
    "display(result.loc['LGBMR','Params'])"
   ]
  },
  {
   "cell_type": "code",
   "execution_count": 25,
   "metadata": {},
   "outputs": [],
   "source": [
    "model = LGBMRegressor(max_depth=15, metric='rmse', n_estimators=120, objective='regression', random_state=12345)\n",
    "features_train, features_test, target_train, target_test = make_features(\n",
    "    data, result.loc['LGBMR', 'Lag'], result.loc['LGBMR', 'Rolling_Mean']\n",
    ")\n",
    "model.fit(features_train, target_train)\n",
    "predictions = model.predict(features_test)\n",
    "result.loc['LGBMR', 'RMSE_test'] = round(mean_squared_error(target_test, predictions)**0.5,4)"
   ]
  },
  {
   "cell_type": "code",
   "execution_count": 26,
   "metadata": {},
   "outputs": [
    {
     "data": {
      "text/html": [
       "<div>\n",
       "<style scoped>\n",
       "    .dataframe tbody tr th:only-of-type {\n",
       "        vertical-align: middle;\n",
       "    }\n",
       "\n",
       "    .dataframe tbody tr th {\n",
       "        vertical-align: top;\n",
       "    }\n",
       "\n",
       "    .dataframe thead th {\n",
       "        text-align: right;\n",
       "    }\n",
       "</style>\n",
       "<table border=\"1\" class=\"dataframe\">\n",
       "  <thead>\n",
       "    <tr style=\"text-align: right;\">\n",
       "      <th></th>\n",
       "      <th>RMSE_CV</th>\n",
       "      <th>Lag</th>\n",
       "      <th>Rolling_Mean</th>\n",
       "      <th>Params</th>\n",
       "      <th>RMSE_test</th>\n",
       "    </tr>\n",
       "  </thead>\n",
       "  <tbody>\n",
       "    <tr>\n",
       "      <td>LR</td>\n",
       "      <td>33.6973</td>\n",
       "      <td>4</td>\n",
       "      <td>10</td>\n",
       "      <td>((normalize, True))</td>\n",
       "      <td>53.1833</td>\n",
       "    </tr>\n",
       "    <tr>\n",
       "      <td>DTR</td>\n",
       "      <td>29.9445</td>\n",
       "      <td>1</td>\n",
       "      <td>11</td>\n",
       "      <td>((max_depth, 8), (min_samples_leaf, 9), (rando...</td>\n",
       "      <td>48.9683</td>\n",
       "    </tr>\n",
       "    <tr>\n",
       "      <td>LGBMR</td>\n",
       "      <td>27.2342</td>\n",
       "      <td>1</td>\n",
       "      <td>11</td>\n",
       "      <td>[((max_depth, 15), (metric, rmse), (n_estimato...</td>\n",
       "      <td>44.2003</td>\n",
       "    </tr>\n",
       "  </tbody>\n",
       "</table>\n",
       "</div>"
      ],
      "text/plain": [
       "       RMSE_CV Lag Rolling_Mean  \\\n",
       "LR     33.6973   4           10   \n",
       "DTR    29.9445   1           11   \n",
       "LGBMR  27.2342   1           11   \n",
       "\n",
       "                                                  Params  RMSE_test  \n",
       "LR                                   ((normalize, True))    53.1833  \n",
       "DTR    ((max_depth, 8), (min_samples_leaf, 9), (rando...    48.9683  \n",
       "LGBMR  [((max_depth, 15), (metric, rmse), (n_estimato...    44.2003  "
      ]
     },
     "metadata": {},
     "output_type": "display_data"
    }
   ],
   "source": [
    "display(result)"
   ]
  },
  {
   "cell_type": "code",
   "execution_count": 27,
   "metadata": {},
   "outputs": [
    {
     "data": {
      "text/html": [
       "<div>\n",
       "<style scoped>\n",
       "    .dataframe tbody tr th:only-of-type {\n",
       "        vertical-align: middle;\n",
       "    }\n",
       "\n",
       "    .dataframe tbody tr th {\n",
       "        vertical-align: top;\n",
       "    }\n",
       "\n",
       "    .dataframe thead th {\n",
       "        text-align: right;\n",
       "    }\n",
       "</style>\n",
       "<table border=\"1\" class=\"dataframe\">\n",
       "  <thead>\n",
       "    <tr style=\"text-align: right;\">\n",
       "      <th></th>\n",
       "      <th>RMSE_CV</th>\n",
       "      <th>Lag</th>\n",
       "      <th>Rolling_Mean</th>\n",
       "      <th>Params</th>\n",
       "      <th>RMSE_test</th>\n",
       "    </tr>\n",
       "  </thead>\n",
       "  <tbody>\n",
       "    <tr>\n",
       "      <td>LR</td>\n",
       "      <td>33.6973</td>\n",
       "      <td>4</td>\n",
       "      <td>10</td>\n",
       "      <td>((normalize, True))</td>\n",
       "      <td>53.1833</td>\n",
       "    </tr>\n",
       "    <tr>\n",
       "      <td>DTR</td>\n",
       "      <td>29.9445</td>\n",
       "      <td>1</td>\n",
       "      <td>11</td>\n",
       "      <td>((max_depth, 8), (min_samples_leaf, 9), (rando...</td>\n",
       "      <td>48.9683</td>\n",
       "    </tr>\n",
       "    <tr>\n",
       "      <td>LGBMR</td>\n",
       "      <td>27.2342</td>\n",
       "      <td>1</td>\n",
       "      <td>11</td>\n",
       "      <td>[((max_depth, 15), (metric, rmse), (n_estimato...</td>\n",
       "      <td>44.2003</td>\n",
       "    </tr>\n",
       "    <tr>\n",
       "      <td>Median</td>\n",
       "      <td>0</td>\n",
       "      <td>1</td>\n",
       "      <td>10</td>\n",
       "      <td>None</td>\n",
       "      <td>58.8706</td>\n",
       "    </tr>\n",
       "  </tbody>\n",
       "</table>\n",
       "</div>"
      ],
      "text/plain": [
       "        RMSE_CV  Lag  Rolling_Mean  \\\n",
       "LR      33.6973    4            10   \n",
       "DTR     29.9445    1            11   \n",
       "LGBMR   27.2342    1            11   \n",
       "Median        0    1            10   \n",
       "\n",
       "                                                   Params  RMSE_test  \n",
       "LR                                    ((normalize, True))    53.1833  \n",
       "DTR     ((max_depth, 8), (min_samples_leaf, 9), (rando...    48.9683  \n",
       "LGBMR   [((max_depth, 15), (metric, rmse), (n_estimato...    44.2003  \n",
       "Median                                               None    58.8706  "
      ]
     },
     "metadata": {},
     "output_type": "display_data"
    }
   ],
   "source": [
    "features_train, features_test, target_train, target_test = make_features(data, 1, 10)\n",
    "pred_median = np.ones(target_test.shape) * target_test.median()\n",
    "rmse = round(mean_squared_error(target_test, pred_median)**0.5,4)\n",
    "data_result('Median', 0, 1, 10, None, result)\n",
    "result.loc['Median', 'RMSE_test'] = rmse\n",
    "display(result)"
   ]
  },
  {
   "cell_type": "markdown",
   "metadata": {},
   "source": [
    "## Вывод"
   ]
  },
  {
   "cell_type": "markdown",
   "metadata": {},
   "source": [
    "- Мы подготовили данные\n",
    "- Преобразовали временной ряд в стационарный с помощью разности\n",
    "- Написали функции для подброа фичей и гиперпараметров моделей кросс-валидацией\n",
    "- Обучили 3 модели\n",
    "- Наши модели предсказывают лучше, чем медиана, соответственно, не зря их учили\n",
    "- Задание проекта выполнено - RMSE модели LGBMR меньше 48"
   ]
  }
 ],
 "metadata": {
  "ExecuteTimeLog": [
   {
    "duration": 1755,
    "start_time": "2021-10-07T10:23:53.675Z"
   },
   {
    "duration": 53,
    "start_time": "2021-10-07T10:24:16.409Z"
   },
   {
    "duration": 5,
    "start_time": "2021-10-07T10:25:29.252Z"
   },
   {
    "duration": 7,
    "start_time": "2021-10-07T10:25:53.634Z"
   },
   {
    "duration": 10,
    "start_time": "2021-10-07T10:30:28.017Z"
   },
   {
    "duration": 674,
    "start_time": "2021-10-07T10:32:27.263Z"
   },
   {
    "duration": 308,
    "start_time": "2021-10-07T10:33:47.493Z"
   },
   {
    "duration": 11,
    "start_time": "2021-10-07T10:33:54.810Z"
   },
   {
    "duration": 498,
    "start_time": "2021-10-07T10:34:32.018Z"
   },
   {
    "duration": 336,
    "start_time": "2021-10-07T10:34:49.610Z"
   },
   {
    "duration": 334,
    "start_time": "2021-10-07T10:34:54.829Z"
   },
   {
    "duration": 9,
    "start_time": "2021-10-07T10:35:18.531Z"
   },
   {
    "duration": 321,
    "start_time": "2021-10-07T10:35:22.203Z"
   },
   {
    "duration": 8812,
    "start_time": "2021-10-07T10:35:26.550Z"
   },
   {
    "duration": 1948,
    "start_time": "2021-10-07T10:35:43.401Z"
   },
   {
    "duration": 56,
    "start_time": "2021-10-07T10:35:45.351Z"
   },
   {
    "duration": 12,
    "start_time": "2021-10-07T10:35:45.410Z"
   },
   {
    "duration": 9,
    "start_time": "2021-10-07T10:35:45.767Z"
   },
   {
    "duration": 469,
    "start_time": "2021-10-07T10:35:46.563Z"
   },
   {
    "duration": 10,
    "start_time": "2021-10-07T10:36:17.081Z"
   },
   {
    "duration": 9,
    "start_time": "2021-10-07T10:36:17.083Z"
   },
   {
    "duration": 49,
    "start_time": "2021-10-07T10:36:20.415Z"
   },
   {
    "duration": 12,
    "start_time": "2021-10-07T10:36:20.910Z"
   },
   {
    "duration": 377,
    "start_time": "2021-10-07T10:36:34.198Z"
   },
   {
    "duration": 683,
    "start_time": "2021-10-07T10:44:26.315Z"
   },
   {
    "duration": 1842,
    "start_time": "2021-10-07T10:44:30.790Z"
   },
   {
    "duration": 76,
    "start_time": "2021-10-07T10:44:32.891Z"
   },
   {
    "duration": 415,
    "start_time": "2021-10-07T10:47:39.507Z"
   },
   {
    "duration": 51,
    "start_time": "2021-10-07T10:47:43.544Z"
   },
   {
    "duration": 326,
    "start_time": "2021-10-07T10:47:44.627Z"
   },
   {
    "duration": 58,
    "start_time": "2021-10-07T10:48:22.690Z"
   },
   {
    "duration": 18,
    "start_time": "2021-10-07T10:48:29.631Z"
   },
   {
    "duration": 5,
    "start_time": "2021-10-07T10:48:33.532Z"
   },
   {
    "duration": 19,
    "start_time": "2021-10-07T10:48:35.548Z"
   },
   {
    "duration": 16,
    "start_time": "2021-10-07T10:48:40.561Z"
   },
   {
    "duration": 1681,
    "start_time": "2021-10-07T10:49:10.098Z"
   },
   {
    "duration": 61,
    "start_time": "2021-10-07T10:49:11.782Z"
   },
   {
    "duration": 24,
    "start_time": "2021-10-07T10:49:11.849Z"
   },
   {
    "duration": 6,
    "start_time": "2021-10-07T10:49:11.876Z"
   },
   {
    "duration": 22,
    "start_time": "2021-10-07T10:49:11.884Z"
   },
   {
    "duration": 29,
    "start_time": "2021-10-07T10:53:41.414Z"
   },
   {
    "duration": 705,
    "start_time": "2021-10-07T10:59:49.925Z"
   },
   {
    "duration": 712,
    "start_time": "2021-10-07T10:59:59.314Z"
   },
   {
    "duration": 643,
    "start_time": "2021-10-07T11:02:09.770Z"
   },
   {
    "duration": 407,
    "start_time": "2021-10-07T11:02:22.162Z"
   },
   {
    "duration": 9835,
    "start_time": "2021-10-07T11:05:00.601Z"
   },
   {
    "duration": 190,
    "start_time": "2021-10-07T11:05:22.626Z"
   },
   {
    "duration": 28,
    "start_time": "2021-10-07T11:05:42.857Z"
   },
   {
    "duration": 542,
    "start_time": "2021-10-07T12:54:43.685Z"
   },
   {
    "duration": 649,
    "start_time": "2021-10-07T12:54:55.937Z"
   },
   {
    "duration": 693,
    "start_time": "2021-10-07T12:55:21.470Z"
   },
   {
    "duration": 799,
    "start_time": "2021-10-07T12:56:08.911Z"
   },
   {
    "duration": 544,
    "start_time": "2021-10-07T12:56:16.940Z"
   },
   {
    "duration": 426,
    "start_time": "2021-10-07T12:56:51.798Z"
   },
   {
    "duration": 416,
    "start_time": "2021-10-07T12:57:06.485Z"
   },
   {
    "duration": 812,
    "start_time": "2021-10-07T12:58:07.592Z"
   },
   {
    "duration": 382,
    "start_time": "2021-10-07T12:58:24.619Z"
   },
   {
    "duration": 4,
    "start_time": "2021-10-07T13:01:32.992Z"
   },
   {
    "duration": 4,
    "start_time": "2021-10-07T13:01:59.286Z"
   },
   {
    "duration": 794,
    "start_time": "2021-10-07T13:02:08.271Z"
   },
   {
    "duration": 9,
    "start_time": "2021-10-07T13:04:16.770Z"
   },
   {
    "duration": 59,
    "start_time": "2021-10-07T13:04:17.350Z"
   },
   {
    "duration": 16,
    "start_time": "2021-10-07T13:04:18.200Z"
   },
   {
    "duration": 8,
    "start_time": "2021-10-07T13:04:20.973Z"
   },
   {
    "duration": 22,
    "start_time": "2021-10-07T13:04:22.693Z"
   },
   {
    "duration": 314,
    "start_time": "2021-10-07T13:05:09.431Z"
   },
   {
    "duration": 1373,
    "start_time": "2021-10-07T13:06:17.796Z"
   },
   {
    "duration": 1231,
    "start_time": "2021-10-07T13:07:03.626Z"
   },
   {
    "duration": 910,
    "start_time": "2021-10-07T13:08:58.321Z"
   },
   {
    "duration": 869,
    "start_time": "2021-10-07T13:09:48.825Z"
   },
   {
    "duration": 368,
    "start_time": "2021-10-07T13:27:17.030Z"
   },
   {
    "duration": 309,
    "start_time": "2021-10-07T13:27:29.632Z"
   },
   {
    "duration": 337,
    "start_time": "2021-10-07T13:27:43.100Z"
   },
   {
    "duration": 301,
    "start_time": "2021-10-07T13:27:56.316Z"
   },
   {
    "duration": 407,
    "start_time": "2021-10-07T13:28:02.934Z"
   },
   {
    "duration": 357,
    "start_time": "2021-10-07T13:28:18.531Z"
   },
   {
    "duration": 613,
    "start_time": "2021-10-07T13:28:28.805Z"
   },
   {
    "duration": 52,
    "start_time": "2021-10-07T13:28:39.469Z"
   },
   {
    "duration": 16,
    "start_time": "2021-10-07T13:28:40.046Z"
   },
   {
    "duration": 6,
    "start_time": "2021-10-07T13:28:40.872Z"
   },
   {
    "duration": 17,
    "start_time": "2021-10-07T13:28:41.411Z"
   },
   {
    "duration": 878,
    "start_time": "2021-10-07T13:28:42.830Z"
   },
   {
    "duration": 5,
    "start_time": "2021-10-07T13:28:43.768Z"
   },
   {
    "duration": 711,
    "start_time": "2021-10-07T13:28:44.263Z"
   },
   {
    "duration": 364,
    "start_time": "2021-10-07T13:28:44.976Z"
   },
   {
    "duration": 341,
    "start_time": "2021-10-07T13:28:46.213Z"
   },
   {
    "duration": 648,
    "start_time": "2021-10-07T13:28:48.543Z"
   },
   {
    "duration": 6,
    "start_time": "2021-10-07T13:28:53.990Z"
   },
   {
    "duration": 7,
    "start_time": "2021-10-07T13:34:08.999Z"
   },
   {
    "duration": 40,
    "start_time": "2021-10-07T13:35:47.533Z"
   },
   {
    "duration": 42,
    "start_time": "2021-10-07T13:36:48.624Z"
   },
   {
    "duration": 346,
    "start_time": "2021-10-07T13:37:54.730Z"
   },
   {
    "duration": 28,
    "start_time": "2021-10-07T13:41:35.916Z"
   },
   {
    "duration": 8,
    "start_time": "2021-10-07T13:42:43.248Z"
   },
   {
    "duration": 31,
    "start_time": "2021-10-07T13:42:44.082Z"
   },
   {
    "duration": 8,
    "start_time": "2021-10-07T13:44:04.172Z"
   },
   {
    "duration": 32,
    "start_time": "2021-10-07T13:44:04.802Z"
   },
   {
    "duration": 8,
    "start_time": "2021-10-07T13:45:13.952Z"
   },
   {
    "duration": 32,
    "start_time": "2021-10-07T13:45:15.716Z"
   },
   {
    "duration": 1557,
    "start_time": "2021-10-07T14:07:15.373Z"
   },
   {
    "duration": 66,
    "start_time": "2021-10-07T14:07:16.932Z"
   },
   {
    "duration": 18,
    "start_time": "2021-10-07T14:07:17.002Z"
   },
   {
    "duration": 9,
    "start_time": "2021-10-07T14:07:17.024Z"
   },
   {
    "duration": 22,
    "start_time": "2021-10-07T14:07:17.063Z"
   },
   {
    "duration": 894,
    "start_time": "2021-10-07T14:07:17.088Z"
   },
   {
    "duration": 4,
    "start_time": "2021-10-07T14:07:17.985Z"
   },
   {
    "duration": 684,
    "start_time": "2021-10-07T14:07:17.992Z"
   },
   {
    "duration": 348,
    "start_time": "2021-10-07T14:07:18.679Z"
   },
   {
    "duration": 338,
    "start_time": "2021-10-07T14:07:19.030Z"
   },
   {
    "duration": 641,
    "start_time": "2021-10-07T14:07:19.370Z"
   },
   {
    "duration": 4,
    "start_time": "2021-10-07T14:07:20.014Z"
   },
   {
    "duration": 21,
    "start_time": "2021-10-07T14:07:20.021Z"
   },
   {
    "duration": 50,
    "start_time": "2021-10-07T14:07:20.044Z"
   },
   {
    "duration": 12,
    "start_time": "2021-10-07T14:13:03.002Z"
   },
   {
    "duration": 9,
    "start_time": "2021-10-07T14:17:17.568Z"
   },
   {
    "duration": 499,
    "start_time": "2021-10-07T14:34:07.163Z"
   },
   {
    "duration": 7,
    "start_time": "2021-10-07T14:34:27.972Z"
   },
   {
    "duration": 28,
    "start_time": "2021-10-07T14:34:28.634Z"
   },
   {
    "duration": 1134,
    "start_time": "2021-10-07T14:34:46.843Z"
   },
   {
    "duration": 8214,
    "start_time": "2021-10-07T14:35:45.257Z"
   },
   {
    "duration": 3850,
    "start_time": "2021-10-07T14:36:10.620Z"
   },
   {
    "duration": 3133,
    "start_time": "2021-10-07T14:36:28.434Z"
   },
   {
    "duration": 5138,
    "start_time": "2021-10-07T14:36:37.925Z"
   },
   {
    "duration": 6240,
    "start_time": "2021-10-07T14:36:48.435Z"
   },
   {
    "duration": 9428,
    "start_time": "2021-10-07T14:39:46.250Z"
   },
   {
    "duration": 11,
    "start_time": "2021-10-07T14:42:37.152Z"
   },
   {
    "duration": 509,
    "start_time": "2021-10-07T14:43:32.679Z"
   },
   {
    "duration": 11,
    "start_time": "2021-10-07T14:43:40.226Z"
   },
   {
    "duration": 8,
    "start_time": "2021-10-07T14:45:52.568Z"
   },
   {
    "duration": 8,
    "start_time": "2021-10-07T14:46:32.285Z"
   },
   {
    "duration": 120,
    "start_time": "2021-10-07T14:46:33.100Z"
   },
   {
    "duration": 5298,
    "start_time": "2021-10-07T14:46:38.873Z"
   },
   {
    "duration": 5236,
    "start_time": "2021-10-07T14:47:02.416Z"
   },
   {
    "duration": 10,
    "start_time": "2021-10-07T14:47:12.623Z"
   },
   {
    "duration": 3267,
    "start_time": "2021-10-07T14:47:13.110Z"
   },
   {
    "duration": 1693,
    "start_time": "2021-10-07T14:48:05.474Z"
   },
   {
    "duration": 65,
    "start_time": "2021-10-07T14:48:07.170Z"
   },
   {
    "duration": 39,
    "start_time": "2021-10-07T14:48:07.239Z"
   },
   {
    "duration": 7,
    "start_time": "2021-10-07T14:48:07.281Z"
   },
   {
    "duration": 74,
    "start_time": "2021-10-07T14:48:07.291Z"
   },
   {
    "duration": 967,
    "start_time": "2021-10-07T14:48:07.371Z"
   },
   {
    "duration": 6,
    "start_time": "2021-10-07T14:48:08.342Z"
   },
   {
    "duration": 1015,
    "start_time": "2021-10-07T14:48:08.363Z"
   },
   {
    "duration": 368,
    "start_time": "2021-10-07T14:48:09.381Z"
   },
   {
    "duration": 377,
    "start_time": "2021-10-07T14:48:09.751Z"
   },
   {
    "duration": 673,
    "start_time": "2021-10-07T14:48:10.130Z"
   },
   {
    "duration": 6,
    "start_time": "2021-10-07T14:48:10.805Z"
   },
   {
    "duration": 11,
    "start_time": "2021-10-07T14:48:10.813Z"
   },
   {
    "duration": 66,
    "start_time": "2021-10-07T14:48:10.826Z"
   },
   {
    "duration": 13,
    "start_time": "2021-10-07T14:48:10.895Z"
   },
   {
    "duration": 2250,
    "start_time": "2021-10-07T14:48:10.911Z"
   },
   {
    "duration": 106,
    "start_time": "2021-10-07T14:48:13.165Z"
   },
   {
    "duration": 68,
    "start_time": "2021-10-07T14:48:13.206Z"
   },
   {
    "duration": 9,
    "start_time": "2021-10-07T14:48:41.611Z"
   },
   {
    "duration": 4667,
    "start_time": "2021-10-07T14:48:42.197Z"
   },
   {
    "duration": 11,
    "start_time": "2021-10-07T14:49:39.968Z"
   },
   {
    "duration": 5130,
    "start_time": "2021-10-07T14:49:40.655Z"
   },
   {
    "duration": 877,
    "start_time": "2021-10-07T14:54:11.245Z"
   },
   {
    "duration": 6,
    "start_time": "2021-10-07T14:54:14.948Z"
   },
   {
    "duration": 221,
    "start_time": "2021-10-07T14:54:16.258Z"
   },
   {
    "duration": 7933,
    "start_time": "2021-10-07T14:54:24.263Z"
   },
   {
    "duration": 6928,
    "start_time": "2021-10-07T14:54:55.335Z"
   },
   {
    "duration": 7,
    "start_time": "2021-10-07T14:56:06.826Z"
   },
   {
    "duration": 6406,
    "start_time": "2021-10-07T14:57:19.975Z"
   },
   {
    "duration": 6683,
    "start_time": "2021-10-07T14:57:35.679Z"
   },
   {
    "duration": 6553,
    "start_time": "2021-10-07T14:57:42.366Z"
   },
   {
    "duration": 6564,
    "start_time": "2021-10-07T15:04:21.929Z"
   },
   {
    "duration": 216,
    "start_time": "2021-10-07T15:08:18.690Z"
   },
   {
    "duration": 4623,
    "start_time": "2021-10-07T15:08:27.159Z"
   },
   {
    "duration": 7,
    "start_time": "2021-10-07T15:13:23.403Z"
   },
   {
    "duration": 6,
    "start_time": "2021-10-07T15:19:05.012Z"
   },
   {
    "duration": 5,
    "start_time": "2021-10-07T15:19:08.975Z"
   },
   {
    "duration": 6,
    "start_time": "2021-10-07T15:19:17.574Z"
   },
   {
    "duration": 6,
    "start_time": "2021-10-07T15:19:44.033Z"
   },
   {
    "duration": 328,
    "start_time": "2021-10-07T15:19:58.374Z"
   },
   {
    "duration": 290,
    "start_time": "2021-10-07T15:20:13.242Z"
   },
   {
    "duration": 6,
    "start_time": "2021-10-07T15:20:23.539Z"
   },
   {
    "duration": 5,
    "start_time": "2021-10-07T15:20:30.150Z"
   },
   {
    "duration": 6,
    "start_time": "2021-10-07T15:28:02.049Z"
   },
   {
    "duration": 6,
    "start_time": "2021-10-07T15:28:28.733Z"
   },
   {
    "duration": 175956,
    "start_time": "2021-10-07T15:28:50.382Z"
   },
   {
    "duration": 95,
    "start_time": "2021-10-07T15:39:38.494Z"
   },
   {
    "duration": 13,
    "start_time": "2021-10-07T15:39:44.362Z"
   },
   {
    "duration": 202316,
    "start_time": "2021-10-07T15:40:23.771Z"
   },
   {
    "duration": 28,
    "start_time": "2021-10-07T15:49:48.144Z"
   },
   {
    "duration": 26,
    "start_time": "2021-10-07T15:53:37.308Z"
   },
   {
    "duration": 1660,
    "start_time": "2021-10-07T15:56:19.495Z"
   },
   {
    "duration": 65,
    "start_time": "2021-10-07T15:56:21.158Z"
   },
   {
    "duration": 37,
    "start_time": "2021-10-07T15:56:21.227Z"
   },
   {
    "duration": 7,
    "start_time": "2021-10-07T15:56:21.267Z"
   },
   {
    "duration": 19,
    "start_time": "2021-10-07T15:56:21.277Z"
   },
   {
    "duration": 957,
    "start_time": "2021-10-07T15:56:21.299Z"
   },
   {
    "duration": 4,
    "start_time": "2021-10-07T15:56:22.262Z"
   },
   {
    "duration": 765,
    "start_time": "2021-10-07T15:56:22.272Z"
   },
   {
    "duration": 387,
    "start_time": "2021-10-07T15:56:23.040Z"
   },
   {
    "duration": 391,
    "start_time": "2021-10-07T15:56:23.429Z"
   },
   {
    "duration": 694,
    "start_time": "2021-10-07T15:56:23.822Z"
   },
   {
    "duration": 5,
    "start_time": "2021-10-07T15:56:24.519Z"
   },
   {
    "duration": 36,
    "start_time": "2021-10-07T15:56:24.526Z"
   },
   {
    "duration": 48,
    "start_time": "2021-10-07T15:56:24.565Z"
   },
   {
    "duration": 8,
    "start_time": "2021-10-07T15:56:24.616Z"
   },
   {
    "duration": 156,
    "start_time": "2021-10-07T15:56:24.627Z"
   },
   {
    "duration": 105,
    "start_time": "2021-10-07T15:56:24.680Z"
   },
   {
    "duration": 105,
    "start_time": "2021-10-07T15:56:24.682Z"
   },
   {
    "duration": 104,
    "start_time": "2021-10-07T15:56:24.684Z"
   },
   {
    "duration": 104,
    "start_time": "2021-10-07T15:56:24.686Z"
   },
   {
    "duration": 6,
    "start_time": "2021-10-07T15:57:17.575Z"
   },
   {
    "duration": 1660,
    "start_time": "2021-10-07T15:57:25.342Z"
   },
   {
    "duration": 73,
    "start_time": "2021-10-07T15:57:27.005Z"
   },
   {
    "duration": 16,
    "start_time": "2021-10-07T15:57:27.082Z"
   },
   {
    "duration": 7,
    "start_time": "2021-10-07T15:57:27.101Z"
   },
   {
    "duration": 71,
    "start_time": "2021-10-07T15:57:27.111Z"
   },
   {
    "duration": 909,
    "start_time": "2021-10-07T15:57:27.185Z"
   },
   {
    "duration": 5,
    "start_time": "2021-10-07T15:57:28.096Z"
   },
   {
    "duration": 725,
    "start_time": "2021-10-07T15:57:28.103Z"
   },
   {
    "duration": 377,
    "start_time": "2021-10-07T15:57:28.832Z"
   },
   {
    "duration": 366,
    "start_time": "2021-10-07T15:57:29.212Z"
   },
   {
    "duration": 682,
    "start_time": "2021-10-07T15:57:29.580Z"
   },
   {
    "duration": 6,
    "start_time": "2021-10-07T15:57:30.265Z"
   },
   {
    "duration": 17,
    "start_time": "2021-10-07T15:57:30.274Z"
   },
   {
    "duration": 73,
    "start_time": "2021-10-07T15:57:30.293Z"
   },
   {
    "duration": 10,
    "start_time": "2021-10-07T15:57:30.368Z"
   },
   {
    "duration": 7,
    "start_time": "2021-10-07T15:57:30.381Z"
   },
   {
    "duration": 5392,
    "start_time": "2021-10-07T15:57:30.390Z"
   },
   {
    "duration": 183042,
    "start_time": "2021-10-07T15:57:35.863Z"
   },
   {
    "duration": 325165,
    "start_time": "2021-10-07T16:00:38.908Z"
   },
   {
    "duration": 26,
    "start_time": "2021-10-07T16:06:04.075Z"
   },
   {
    "duration": 1228,
    "start_time": "2021-10-08T07:53:23.103Z"
   },
   {
    "duration": 144,
    "start_time": "2021-10-08T07:53:26.078Z"
   },
   {
    "duration": 12,
    "start_time": "2021-10-08T07:53:27.328Z"
   },
   {
    "duration": 4,
    "start_time": "2021-10-08T07:53:28.090Z"
   },
   {
    "duration": 14,
    "start_time": "2021-10-08T07:53:28.809Z"
   },
   {
    "duration": 642,
    "start_time": "2021-10-08T07:53:32.727Z"
   },
   {
    "duration": 593,
    "start_time": "2021-10-08T07:55:04.063Z"
   },
   {
    "duration": 611,
    "start_time": "2021-10-08T08:00:21.534Z"
   },
   {
    "duration": 685,
    "start_time": "2021-10-08T08:00:33.199Z"
   },
   {
    "duration": 669,
    "start_time": "2021-10-08T08:03:05.278Z"
   },
   {
    "duration": 744,
    "start_time": "2021-10-08T08:03:39.018Z"
   },
   {
    "duration": 703,
    "start_time": "2021-10-08T08:03:49.019Z"
   },
   {
    "duration": 635,
    "start_time": "2021-10-08T08:03:57.711Z"
   },
   {
    "duration": 630,
    "start_time": "2021-10-08T08:04:54.879Z"
   },
   {
    "duration": 715,
    "start_time": "2021-10-08T08:05:32.974Z"
   },
   {
    "duration": 620,
    "start_time": "2021-10-08T08:06:07.842Z"
   },
   {
    "duration": 816,
    "start_time": "2021-10-08T08:09:31.852Z"
   },
   {
    "duration": 973,
    "start_time": "2021-10-08T08:10:00.240Z"
   },
   {
    "duration": 875,
    "start_time": "2021-10-08T08:10:14.606Z"
   },
   {
    "duration": 935,
    "start_time": "2021-10-08T08:10:25.573Z"
   },
   {
    "duration": 1038,
    "start_time": "2021-10-08T08:11:37.678Z"
   },
   {
    "duration": 318,
    "start_time": "2021-10-08T08:12:56.487Z"
   },
   {
    "duration": 317,
    "start_time": "2021-10-08T08:13:04.969Z"
   },
   {
    "duration": 6,
    "start_time": "2021-10-08T08:23:20.631Z"
   },
   {
    "duration": 730,
    "start_time": "2021-10-08T08:23:27.266Z"
   },
   {
    "duration": 6,
    "start_time": "2021-10-08T08:23:56.540Z"
   },
   {
    "duration": 786,
    "start_time": "2021-10-08T08:24:00.150Z"
   },
   {
    "duration": 6,
    "start_time": "2021-10-08T08:24:18.027Z"
   },
   {
    "duration": 25,
    "start_time": "2021-10-08T08:24:20.187Z"
   },
   {
    "duration": 7,
    "start_time": "2021-10-08T08:26:30.582Z"
   },
   {
    "duration": 5,
    "start_time": "2021-10-08T08:29:57.936Z"
   },
   {
    "duration": 351,
    "start_time": "2021-10-08T08:41:57.256Z"
   },
   {
    "duration": 307,
    "start_time": "2021-10-08T08:46:53.450Z"
   },
   {
    "duration": 313,
    "start_time": "2021-10-08T08:47:36.771Z"
   },
   {
    "duration": 5,
    "start_time": "2021-10-08T08:48:10.988Z"
   },
   {
    "duration": 115,
    "start_time": "2021-10-08T08:53:15.659Z"
   },
   {
    "duration": 514,
    "start_time": "2021-10-08T08:53:25.997Z"
   },
   {
    "duration": 5,
    "start_time": "2021-10-08T08:54:01.865Z"
   },
   {
    "duration": 529,
    "start_time": "2021-10-08T08:54:04.845Z"
   },
   {
    "duration": 7563,
    "start_time": "2021-10-08T08:57:07.644Z"
   },
   {
    "duration": 1191,
    "start_time": "2021-10-08T08:57:36.021Z"
   },
   {
    "duration": 48,
    "start_time": "2021-10-08T08:57:37.214Z"
   },
   {
    "duration": 11,
    "start_time": "2021-10-08T08:57:37.265Z"
   },
   {
    "duration": 4,
    "start_time": "2021-10-08T08:57:37.278Z"
   },
   {
    "duration": 17,
    "start_time": "2021-10-08T08:57:37.283Z"
   },
   {
    "duration": 1056,
    "start_time": "2021-10-08T08:57:37.302Z"
   },
   {
    "duration": 3,
    "start_time": "2021-10-08T08:57:38.360Z"
   },
   {
    "duration": 408,
    "start_time": "2021-10-08T08:57:38.377Z"
   },
   {
    "duration": 317,
    "start_time": "2021-10-08T08:57:38.787Z"
   },
   {
    "duration": 320,
    "start_time": "2021-10-08T08:57:39.106Z"
   },
   {
    "duration": 363,
    "start_time": "2021-10-08T08:57:39.428Z"
   },
   {
    "duration": 3,
    "start_time": "2021-10-08T08:57:39.793Z"
   },
   {
    "duration": 17,
    "start_time": "2021-10-08T08:57:39.798Z"
   },
   {
    "duration": 60,
    "start_time": "2021-10-08T08:57:39.817Z"
   },
   {
    "duration": 10,
    "start_time": "2021-10-08T08:57:39.879Z"
   },
   {
    "duration": 30,
    "start_time": "2021-10-08T08:57:39.891Z"
   },
   {
    "duration": 17,
    "start_time": "2021-10-08T08:57:39.922Z"
   },
   {
    "duration": 5059,
    "start_time": "2021-10-08T08:57:39.940Z"
   },
   {
    "duration": 6,
    "start_time": "2021-10-08T08:58:59.534Z"
   },
   {
    "duration": 7,
    "start_time": "2021-10-08T08:59:24.616Z"
   },
   {
    "duration": 8431,
    "start_time": "2021-10-08T08:59:30.711Z"
   },
   {
    "duration": 4,
    "start_time": "2021-10-08T09:00:29.886Z"
   },
   {
    "duration": 4,
    "start_time": "2021-10-08T09:00:38.436Z"
   },
   {
    "duration": 4,
    "start_time": "2021-10-08T09:01:05.135Z"
   },
   {
    "duration": 4,
    "start_time": "2021-10-08T09:03:08.806Z"
   },
   {
    "duration": 5,
    "start_time": "2021-10-08T09:03:14.877Z"
   },
   {
    "duration": 7966,
    "start_time": "2021-10-08T09:03:41.241Z"
   },
   {
    "duration": 5,
    "start_time": "2021-10-08T09:04:47.939Z"
   },
   {
    "duration": 8287,
    "start_time": "2021-10-08T09:04:50.607Z"
   },
   {
    "duration": 6,
    "start_time": "2021-10-08T09:15:24.173Z"
   },
   {
    "duration": 26693,
    "start_time": "2021-10-08T09:15:27.286Z"
   },
   {
    "duration": 5,
    "start_time": "2021-10-08T09:29:50.488Z"
   },
   {
    "duration": 26281,
    "start_time": "2021-10-08T09:29:53.402Z"
   },
   {
    "duration": 5,
    "start_time": "2021-10-08T09:33:13.359Z"
   },
   {
    "duration": 25844,
    "start_time": "2021-10-08T09:33:23.937Z"
   },
   {
    "duration": 5718,
    "start_time": "2021-10-08T09:38:37.807Z"
   },
   {
    "duration": 90047,
    "start_time": "2021-10-08T09:38:52.641Z"
   },
   {
    "duration": 5,
    "start_time": "2021-10-08T09:45:50.961Z"
   },
   {
    "duration": 318,
    "start_time": "2021-10-08T09:48:16.180Z"
   },
   {
    "duration": 731779,
    "start_time": "2021-10-08T09:48:21.720Z"
   },
   {
    "duration": 3,
    "start_time": "2021-10-08T10:01:15.202Z"
   },
   {
    "duration": 4,
    "start_time": "2021-10-08T10:01:21.505Z"
   },
   {
    "duration": 13,
    "start_time": "2021-10-08T10:01:51.499Z"
   },
   {
    "duration": 18,
    "start_time": "2021-10-08T10:04:20.501Z"
   },
   {
    "duration": 23,
    "start_time": "2021-10-08T10:04:30.419Z"
   },
   {
    "duration": 24,
    "start_time": "2021-10-08T10:04:49.555Z"
   },
   {
    "duration": 321,
    "start_time": "2021-10-08T10:06:25.543Z"
   },
   {
    "duration": 4,
    "start_time": "2021-10-08T10:06:58.281Z"
   },
   {
    "duration": 102,
    "start_time": "2021-10-08T10:07:58.729Z"
   },
   {
    "duration": 325,
    "start_time": "2021-10-08T10:08:11.004Z"
   },
   {
    "duration": 5,
    "start_time": "2021-10-08T10:08:30.027Z"
   },
   {
    "duration": 304,
    "start_time": "2021-10-08T10:08:49.103Z"
   },
   {
    "duration": 4,
    "start_time": "2021-10-08T10:09:20.057Z"
   },
   {
    "duration": 4,
    "start_time": "2021-10-08T10:09:24.405Z"
   },
   {
    "duration": 5,
    "start_time": "2021-10-08T10:12:34.897Z"
   },
   {
    "duration": 324,
    "start_time": "2021-10-08T10:13:00.130Z"
   },
   {
    "duration": 4243649,
    "start_time": "2021-10-08T10:44:16.402Z"
   },
   {
    "duration": 3027906,
    "start_time": "2021-10-08T11:58:30.580Z"
   },
   {
    "duration": 616,
    "start_time": "2021-10-08T13:01:02.405Z"
   },
   {
    "duration": 7,
    "start_time": "2021-10-08T13:01:25.243Z"
   },
   {
    "duration": 4,
    "start_time": "2021-10-08T13:03:36.982Z"
   },
   {
    "duration": 3,
    "start_time": "2021-10-08T13:03:55.449Z"
   },
   {
    "duration": 4,
    "start_time": "2021-10-08T13:04:03.194Z"
   },
   {
    "duration": 5,
    "start_time": "2021-10-08T13:04:13.672Z"
   },
   {
    "duration": 598,
    "start_time": "2021-10-08T13:04:58.120Z"
   },
   {
    "duration": 686,
    "start_time": "2021-10-08T13:05:13.104Z"
   },
   {
    "duration": 696,
    "start_time": "2021-10-08T13:05:18.907Z"
   },
   {
    "duration": 726,
    "start_time": "2021-10-08T13:05:36.126Z"
   },
   {
    "duration": 658,
    "start_time": "2021-10-08T13:05:40.436Z"
   },
   {
    "duration": 297,
    "start_time": "2021-10-08T13:09:15.177Z"
   },
   {
    "duration": 653,
    "start_time": "2021-10-08T13:09:42.634Z"
   },
   {
    "duration": 17,
    "start_time": "2021-10-08T13:09:49.491Z"
   },
   {
    "duration": 617,
    "start_time": "2021-10-08T13:09:58.776Z"
   },
   {
    "duration": 608,
    "start_time": "2021-10-08T13:10:26.126Z"
   },
   {
    "duration": 289,
    "start_time": "2021-10-08T13:10:38.996Z"
   },
   {
    "duration": 13,
    "start_time": "2021-10-08T13:10:53.276Z"
   },
   {
    "duration": 306,
    "start_time": "2021-10-08T13:11:34.129Z"
   },
   {
    "duration": 402,
    "start_time": "2021-10-08T13:11:45.620Z"
   },
   {
    "duration": 329,
    "start_time": "2021-10-08T13:11:54.819Z"
   },
   {
    "duration": 301,
    "start_time": "2021-10-08T13:12:12.374Z"
   },
   {
    "duration": 349,
    "start_time": "2021-10-08T13:12:23.436Z"
   },
   {
    "duration": 4,
    "start_time": "2021-10-08T13:12:32.181Z"
   },
   {
    "duration": 4,
    "start_time": "2021-10-08T13:12:45.140Z"
   },
   {
    "duration": 305,
    "start_time": "2021-10-08T13:12:52.068Z"
   },
   {
    "duration": 4,
    "start_time": "2021-10-08T13:13:00.463Z"
   },
   {
    "duration": 312,
    "start_time": "2021-10-08T13:14:20.649Z"
   },
   {
    "duration": 116,
    "start_time": "2021-10-08T13:15:03.777Z"
   },
   {
    "duration": 324,
    "start_time": "2021-10-08T13:16:00.743Z"
   },
   {
    "duration": 319,
    "start_time": "2021-10-08T13:17:13.830Z"
   },
   {
    "duration": 4,
    "start_time": "2021-10-08T13:17:39.426Z"
   },
   {
    "duration": 3,
    "start_time": "2021-10-08T13:17:45.089Z"
   },
   {
    "duration": 35,
    "start_time": "2021-10-08T13:17:48.529Z"
   },
   {
    "duration": 4,
    "start_time": "2021-10-08T13:22:23.548Z"
   },
   {
    "duration": 4,
    "start_time": "2021-10-08T13:23:09.502Z"
   },
   {
    "duration": 681,
    "start_time": "2021-10-08T13:23:16.731Z"
   },
   {
    "duration": 4,
    "start_time": "2021-10-08T13:24:10.324Z"
   },
   {
    "duration": 603,
    "start_time": "2021-10-08T13:24:10.443Z"
   },
   {
    "duration": 4,
    "start_time": "2021-10-08T13:24:20.860Z"
   },
   {
    "duration": 22,
    "start_time": "2021-10-08T13:24:48.787Z"
   },
   {
    "duration": 35,
    "start_time": "2021-10-08T13:25:16.171Z"
   },
   {
    "duration": 758,
    "start_time": "2021-10-08T13:26:25.025Z"
   },
   {
    "duration": 301,
    "start_time": "2021-10-08T13:26:42.668Z"
   },
   {
    "duration": 17,
    "start_time": "2021-10-08T13:35:40.974Z"
   },
   {
    "duration": 25,
    "start_time": "2021-10-08T13:35:49.635Z"
   },
   {
    "duration": 6,
    "start_time": "2021-10-08T13:38:52.742Z"
   },
   {
    "duration": 28184,
    "start_time": "2021-10-08T13:38:56.402Z"
   },
   {
    "duration": 7,
    "start_time": "2021-10-08T13:39:47.698Z"
   },
   {
    "duration": 4,
    "start_time": "2021-10-08T13:41:19.367Z"
   },
   {
    "duration": 4,
    "start_time": "2021-10-08T13:41:23.666Z"
   },
   {
    "duration": 4,
    "start_time": "2021-10-08T13:41:27.951Z"
   },
   {
    "duration": 4,
    "start_time": "2021-10-08T13:41:32.052Z"
   },
   {
    "duration": 1217,
    "start_time": "2021-10-08T13:42:39.832Z"
   },
   {
    "duration": 48,
    "start_time": "2021-10-08T13:42:41.052Z"
   },
   {
    "duration": 11,
    "start_time": "2021-10-08T13:42:41.102Z"
   },
   {
    "duration": 4,
    "start_time": "2021-10-08T13:42:41.115Z"
   },
   {
    "duration": 14,
    "start_time": "2021-10-08T13:42:41.121Z"
   },
   {
    "duration": 1011,
    "start_time": "2021-10-08T13:42:41.137Z"
   },
   {
    "duration": 4,
    "start_time": "2021-10-08T13:42:42.150Z"
   },
   {
    "duration": 449,
    "start_time": "2021-10-08T13:42:42.158Z"
   },
   {
    "duration": 345,
    "start_time": "2021-10-08T13:42:42.609Z"
   },
   {
    "duration": 331,
    "start_time": "2021-10-08T13:42:42.956Z"
   },
   {
    "duration": 381,
    "start_time": "2021-10-08T13:42:43.289Z"
   },
   {
    "duration": 4,
    "start_time": "2021-10-08T13:42:43.676Z"
   },
   {
    "duration": 8,
    "start_time": "2021-10-08T13:42:43.682Z"
   },
   {
    "duration": 31,
    "start_time": "2021-10-08T13:42:43.692Z"
   },
   {
    "duration": 7,
    "start_time": "2021-10-08T13:42:43.725Z"
   },
   {
    "duration": 6,
    "start_time": "2021-10-08T13:42:43.734Z"
   },
   {
    "duration": 5342,
    "start_time": "2021-10-08T13:42:43.742Z"
   },
   {
    "duration": 84042,
    "start_time": "2021-10-08T13:42:49.086Z"
   },
   {
    "duration": 1929664,
    "start_time": "2021-10-08T13:44:13.130Z"
   },
   {
    "duration": 4,
    "start_time": "2021-10-08T14:16:22.877Z"
   },
   {
    "duration": 758,
    "start_time": "2021-10-08T14:16:22.883Z"
   },
   {
    "duration": -1077534,
    "start_time": "2021-10-08T14:34:21.177Z"
   },
   {
    "duration": -1077535,
    "start_time": "2021-10-08T14:34:21.179Z"
   },
   {
    "duration": -1077536,
    "start_time": "2021-10-08T14:34:21.181Z"
   },
   {
    "duration": 656,
    "start_time": "2021-10-08T14:37:52.959Z"
   },
   {
    "duration": 629,
    "start_time": "2021-10-08T14:37:57.539Z"
   },
   {
    "duration": 10,
    "start_time": "2021-10-08T14:38:48.780Z"
   },
   {
    "duration": 8724,
    "start_time": "2021-10-08T14:38:53.040Z"
   },
   {
    "duration": 8081,
    "start_time": "2021-10-08T14:39:51.242Z"
   },
   {
    "duration": 8250,
    "start_time": "2021-10-08T14:41:49.572Z"
   },
   {
    "duration": 9391,
    "start_time": "2021-10-08T14:42:17.856Z"
   },
   {
    "duration": 8261,
    "start_time": "2021-10-08T14:42:51.158Z"
   },
   {
    "duration": 6,
    "start_time": "2021-10-08T14:43:06.193Z"
   },
   {
    "duration": 1335,
    "start_time": "2021-10-08T14:44:07.898Z"
   },
   {
    "duration": 56,
    "start_time": "2021-10-08T14:44:09.235Z"
   },
   {
    "duration": 11,
    "start_time": "2021-10-08T14:44:09.294Z"
   },
   {
    "duration": 4,
    "start_time": "2021-10-08T14:44:09.307Z"
   },
   {
    "duration": 15,
    "start_time": "2021-10-08T14:44:09.312Z"
   },
   {
    "duration": 1172,
    "start_time": "2021-10-08T14:44:09.329Z"
   },
   {
    "duration": 4,
    "start_time": "2021-10-08T14:44:10.503Z"
   },
   {
    "duration": 622,
    "start_time": "2021-10-08T14:44:10.510Z"
   },
   {
    "duration": 508,
    "start_time": "2021-10-08T14:44:11.134Z"
   },
   {
    "duration": 372,
    "start_time": "2021-10-08T14:44:11.643Z"
   },
   {
    "duration": 424,
    "start_time": "2021-10-08T14:44:12.017Z"
   },
   {
    "duration": 6,
    "start_time": "2021-10-08T14:44:12.443Z"
   },
   {
    "duration": 8,
    "start_time": "2021-10-08T14:44:12.451Z"
   },
   {
    "duration": 35,
    "start_time": "2021-10-08T14:44:12.477Z"
   },
   {
    "duration": 7,
    "start_time": "2021-10-08T14:44:12.517Z"
   },
   {
    "duration": 6,
    "start_time": "2021-10-08T14:44:12.525Z"
   },
   {
    "duration": 4875,
    "start_time": "2021-10-08T14:44:12.533Z"
   },
   {
    "duration": 106275,
    "start_time": "2021-10-08T14:44:17.410Z"
   },
   {
    "duration": 5,
    "start_time": "2021-10-08T14:46:12.893Z"
   },
   {
    "duration": 30,
    "start_time": "2021-10-08T14:46:14.148Z"
   },
   {
    "duration": 35,
    "start_time": "2021-10-08T14:46:23.147Z"
   },
   {
    "duration": 1284,
    "start_time": "2021-10-08T14:46:55.561Z"
   },
   {
    "duration": 55,
    "start_time": "2021-10-08T14:46:56.847Z"
   },
   {
    "duration": 11,
    "start_time": "2021-10-08T14:46:56.905Z"
   },
   {
    "duration": 4,
    "start_time": "2021-10-08T14:46:56.918Z"
   },
   {
    "duration": 12,
    "start_time": "2021-10-08T14:46:56.924Z"
   },
   {
    "duration": 1067,
    "start_time": "2021-10-08T14:46:56.938Z"
   },
   {
    "duration": 3,
    "start_time": "2021-10-08T14:46:58.007Z"
   },
   {
    "duration": 455,
    "start_time": "2021-10-08T14:46:58.014Z"
   },
   {
    "duration": 350,
    "start_time": "2021-10-08T14:46:58.477Z"
   },
   {
    "duration": 369,
    "start_time": "2021-10-08T14:46:58.830Z"
   },
   {
    "duration": 401,
    "start_time": "2021-10-08T14:46:59.201Z"
   },
   {
    "duration": 4,
    "start_time": "2021-10-08T14:46:59.603Z"
   },
   {
    "duration": 10,
    "start_time": "2021-10-08T14:46:59.609Z"
   },
   {
    "duration": 25,
    "start_time": "2021-10-08T14:46:59.621Z"
   },
   {
    "duration": 33,
    "start_time": "2021-10-08T14:46:59.648Z"
   },
   {
    "duration": 8,
    "start_time": "2021-10-08T14:46:59.684Z"
   },
   {
    "duration": 4083,
    "start_time": "2021-10-08T14:46:59.694Z"
   },
   {
    "duration": 92489,
    "start_time": "2021-10-08T14:47:03.780Z"
   },
   {
    "duration": 5909115,
    "start_time": "2021-10-08T14:48:36.271Z"
   },
   {
    "duration": 6,
    "start_time": "2021-10-08T16:27:05.388Z"
   },
   {
    "duration": 25,
    "start_time": "2021-10-08T16:27:05.396Z"
   },
   {
    "duration": 78,
    "start_time": "2021-10-08T16:27:05.423Z"
   },
   {
    "duration": 715,
    "start_time": "2021-10-08T16:27:05.504Z"
   },
   {
    "duration": -1331793,
    "start_time": "2021-10-08T16:49:18.014Z"
   },
   {
    "duration": 4,
    "start_time": "2021-10-08T18:04:16.449Z"
   },
   {
    "duration": 6530,
    "start_time": "2021-10-08T18:06:29.654Z"
   },
   {
    "duration": 12,
    "start_time": "2021-10-08T18:06:52.999Z"
   },
   {
    "duration": 39,
    "start_time": "2021-10-08T18:06:58.970Z"
   }
  ],
  "kernelspec": {
   "display_name": "Python 3",
   "language": "python",
   "name": "python3"
  },
  "language_info": {
   "codemirror_mode": {
    "name": "ipython",
    "version": 3
   },
   "file_extension": ".py",
   "mimetype": "text/x-python",
   "name": "python",
   "nbconvert_exporter": "python",
   "pygments_lexer": "ipython3",
   "version": "3.8.8"
  },
  "toc": {
   "base_numbering": 1,
   "nav_menu": {},
   "number_sections": true,
   "sideBar": true,
   "skip_h1_title": true,
   "title_cell": "Содержание",
   "title_sidebar": "Contents",
   "toc_cell": true,
   "toc_position": {
    "height": "calc(100% - 180px)",
    "left": "10px",
    "top": "150px",
    "width": "186.391px"
   },
   "toc_section_display": true,
   "toc_window_display": false
  }
 },
 "nbformat": 4,
 "nbformat_minor": 2
}
