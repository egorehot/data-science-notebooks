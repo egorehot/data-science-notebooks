{
 "cells": [
  {
   "cell_type": "markdown",
   "id": "6d7413d5",
   "metadata": {},
   "source": [
    "# Уменьшение потребления электроэнергии в ООО \"Так закаляем сталь\""
   ]
  },
  {
   "cell_type": "markdown",
   "id": "031b764f",
   "metadata": {},
   "source": [
    "**Цель проекта:** Оптимизировать производственные расходы металлургического комбината ООО «Так закаляем сталь» за счёт уменьшения потребления электроэнергии на этапе обработки стали. Уменьшить потребление электроэнергии необходимо за счёт предсказания температуры стали после обработки в ковше.\n",
    "\n",
    "**Описание данных**\n",
    "\n",
    "Данные состоят из файлов, полученных из разных источников:\n",
    "\n",
    "- `data_arc.csv` — данные об электродах;\n",
    "- `data_bulk.csv` — данные о подаче сыпучих материалов (объём);\n",
    "- `data_bulk_time.csv` *—* данные о подаче сыпучих материалов (время);\n",
    "- `data_gas.csv` — данные о продувке сплава газом;\n",
    "- `data_temp.csv` — результаты измерения температуры;\n",
    "- `data_wire.csv` — данные о проволочных материалах (объём);\n",
    "- `data_wire_time.csv` — данные о проволочных материалах (время).\n",
    "\n",
    "Во всех файлах столбец `key` содержит номер партии. В файлах может быть несколько строк с одинаковым значением `key`: они соответствуют разным итерациям обработки."
   ]
  },
  {
   "cell_type": "markdown",
   "id": "d770dcd4",
   "metadata": {},
   "source": [
    "## План работы"
   ]
  },
  {
   "cell_type": "markdown",
   "id": "b2c6d369",
   "metadata": {},
   "source": [
    "1. Загружаем данные и ознакамливаемся с данными\n",
    "2. Проводим исследовательский анализ\n",
    "3. Выполним предобработку данных: приведём к нужным типам, удалим лишнее и т.п.\n",
    "4. Выберем регрессионные модели, которые будем использовать. Скорее всего это будут: LinearRegression, CatBoost, LightGBM, Lasso\n",
    "5. Выберем и соединим все нужные данные в одну таблицу по партиям\n",
    "6. Подготовим данные для моделей: удалим / заполним пропуски, разделим на выборки\n",
    "7. Обучим выбранные модели с подбором параметров на валидационной выборке\n",
    "8. Обучим модели с лучшими параметрами на выборке трейн+валид и рассчитаем метрику на тесте\n",
    "9. Сравним результаты моделей и напишем отчет\n",
    "\n",
    "**Целевая метрика:** MAE < 6"
   ]
  },
  {
   "cell_type": "markdown",
   "id": "3047789c",
   "metadata": {},
   "source": [
    "## Загрузка данных"
   ]
  },
  {
   "cell_type": "code",
   "execution_count": 1,
   "id": "93ea230f",
   "metadata": {},
   "outputs": [],
   "source": [
    "import math\n",
    "import time\n",
    "\n",
    "import pandas as pd\n",
    "import numpy as np\n",
    "\n",
    "import seaborn as sns\n",
    "import matplotlib.pyplot as plt\n",
    "%matplotlib inline\n",
    "sns.set_style('whitegrid')\n",
    "\n",
    "from sklearn.linear_model import LinearRegression, Lasso\n",
    "from catboost import CatBoostRegressor, Pool, cv\n",
    "from sklearn.preprocessing import StandardScaler, MinMaxScaler\n",
    "from sklearn.model_selection import train_test_split, KFold, GridSearchCV\n",
    "from sklearn.metrics import mean_absolute_error as mae\n",
    "import lightgbm as lgb\n",
    "\n",
    "import warnings\n",
    "warnings.filterwarnings('ignore')"
   ]
  },
  {
   "cell_type": "raw",
   "id": "bdab07bf",
   "metadata": {},
   "source": [
    "data_arc = pd.read_csv('../datasets/final_steel/data_arc.csv')\n",
    "data_bulk = pd.read_csv('../datasets/final_steel/data_bulk.csv')\n",
    "data_bulk_time = pd.read_csv('../datasets/final_steel/data_bulk_time.csv')\n",
    "data_gas = pd.read_csv('../datasets/final_steel/data_gas.csv')\n",
    "data_temp = pd.read_csv('../datasets/final_steel/data_temp.csv')\n",
    "data_wire = pd.read_csv('../datasets/final_steel/data_wire.csv')\n",
    "data_wire_time = pd.read_csv('../datasets/final_steel/data_wire_time.csv')"
   ]
  },
  {
   "cell_type": "code",
   "execution_count": 2,
   "id": "3502d885",
   "metadata": {},
   "outputs": [],
   "source": [
    "data_arc = pd.read_csv('/datasets/final_steel/data_arc.csv')\n",
    "data_bulk = pd.read_csv('/datasets/final_steel/data_bulk.csv')\n",
    "data_bulk_time = pd.read_csv('/datasets/final_steel/data_bulk_time.csv')\n",
    "data_gas = pd.read_csv('/datasets/final_steel/data_gas.csv')\n",
    "data_temp = pd.read_csv('/datasets/final_steel/data_temp.csv')\n",
    "data_wire = pd.read_csv('/datasets/final_steel/data_wire.csv')\n",
    "data_wire_time = pd.read_csv('/datasets/final_steel/data_wire_time.csv')"
   ]
  },
  {
   "cell_type": "markdown",
   "id": "b904a5f6",
   "metadata": {},
   "source": [
    "### Анализ данных об электродах"
   ]
  },
  {
   "cell_type": "code",
   "execution_count": 3,
   "id": "eb88289e",
   "metadata": {},
   "outputs": [],
   "source": [
    "def data_an(data):\n",
    "    display(data.head())\n",
    "    display(data.describe().round(3))\n",
    "    print('Количество дубликатов:', data.duplicated().sum())\n",
    "    print()\n",
    "    data.info()"
   ]
  },
  {
   "cell_type": "code",
   "execution_count": 4,
   "id": "ea2572c4",
   "metadata": {
    "scrolled": true
   },
   "outputs": [],
   "source": [
    "desc = data_arc.describe()\n",
    "desc.loc['count'] = desc.loc['count'].astype('int')"
   ]
  },
  {
   "cell_type": "code",
   "execution_count": 5,
   "id": "62e37a49",
   "metadata": {},
   "outputs": [
    {
     "data": {
      "text/html": [
       "<div>\n",
       "<style scoped>\n",
       "    .dataframe tbody tr th:only-of-type {\n",
       "        vertical-align: middle;\n",
       "    }\n",
       "\n",
       "    .dataframe tbody tr th {\n",
       "        vertical-align: top;\n",
       "    }\n",
       "\n",
       "    .dataframe thead th {\n",
       "        text-align: right;\n",
       "    }\n",
       "</style>\n",
       "<table border=\"1\" class=\"dataframe\">\n",
       "  <thead>\n",
       "    <tr style=\"text-align: right;\">\n",
       "      <th></th>\n",
       "      <th>key</th>\n",
       "      <th>Начало нагрева дугой</th>\n",
       "      <th>Конец нагрева дугой</th>\n",
       "      <th>Активная мощность</th>\n",
       "      <th>Реактивная мощность</th>\n",
       "    </tr>\n",
       "  </thead>\n",
       "  <tbody>\n",
       "    <tr>\n",
       "      <td>0</td>\n",
       "      <td>1</td>\n",
       "      <td>2019-05-03 11:02:14</td>\n",
       "      <td>2019-05-03 11:06:02</td>\n",
       "      <td>0.976059</td>\n",
       "      <td>0.687084</td>\n",
       "    </tr>\n",
       "    <tr>\n",
       "      <td>1</td>\n",
       "      <td>1</td>\n",
       "      <td>2019-05-03 11:07:28</td>\n",
       "      <td>2019-05-03 11:10:33</td>\n",
       "      <td>0.805607</td>\n",
       "      <td>0.520285</td>\n",
       "    </tr>\n",
       "    <tr>\n",
       "      <td>2</td>\n",
       "      <td>1</td>\n",
       "      <td>2019-05-03 11:11:44</td>\n",
       "      <td>2019-05-03 11:14:36</td>\n",
       "      <td>0.744363</td>\n",
       "      <td>0.498805</td>\n",
       "    </tr>\n",
       "    <tr>\n",
       "      <td>3</td>\n",
       "      <td>1</td>\n",
       "      <td>2019-05-03 11:18:14</td>\n",
       "      <td>2019-05-03 11:24:19</td>\n",
       "      <td>1.659363</td>\n",
       "      <td>1.062669</td>\n",
       "    </tr>\n",
       "    <tr>\n",
       "      <td>4</td>\n",
       "      <td>1</td>\n",
       "      <td>2019-05-03 11:26:09</td>\n",
       "      <td>2019-05-03 11:28:37</td>\n",
       "      <td>0.692755</td>\n",
       "      <td>0.414397</td>\n",
       "    </tr>\n",
       "  </tbody>\n",
       "</table>\n",
       "</div>"
      ],
      "text/plain": [
       "   key Начало нагрева дугой  Конец нагрева дугой  Активная мощность  \\\n",
       "0    1  2019-05-03 11:02:14  2019-05-03 11:06:02           0.976059   \n",
       "1    1  2019-05-03 11:07:28  2019-05-03 11:10:33           0.805607   \n",
       "2    1  2019-05-03 11:11:44  2019-05-03 11:14:36           0.744363   \n",
       "3    1  2019-05-03 11:18:14  2019-05-03 11:24:19           1.659363   \n",
       "4    1  2019-05-03 11:26:09  2019-05-03 11:28:37           0.692755   \n",
       "\n",
       "   Реактивная мощность  \n",
       "0             0.687084  \n",
       "1             0.520285  \n",
       "2             0.498805  \n",
       "3             1.062669  \n",
       "4             0.414397  "
      ]
     },
     "metadata": {},
     "output_type": "display_data"
    },
    {
     "data": {
      "text/html": [
       "<div>\n",
       "<style scoped>\n",
       "    .dataframe tbody tr th:only-of-type {\n",
       "        vertical-align: middle;\n",
       "    }\n",
       "\n",
       "    .dataframe tbody tr th {\n",
       "        vertical-align: top;\n",
       "    }\n",
       "\n",
       "    .dataframe thead th {\n",
       "        text-align: right;\n",
       "    }\n",
       "</style>\n",
       "<table border=\"1\" class=\"dataframe\">\n",
       "  <thead>\n",
       "    <tr style=\"text-align: right;\">\n",
       "      <th></th>\n",
       "      <th>key</th>\n",
       "      <th>Активная мощность</th>\n",
       "      <th>Реактивная мощность</th>\n",
       "    </tr>\n",
       "  </thead>\n",
       "  <tbody>\n",
       "    <tr>\n",
       "      <td>count</td>\n",
       "      <td>14876.000</td>\n",
       "      <td>14876.000</td>\n",
       "      <td>14876.000</td>\n",
       "    </tr>\n",
       "    <tr>\n",
       "      <td>mean</td>\n",
       "      <td>1615.220</td>\n",
       "      <td>0.670</td>\n",
       "      <td>0.453</td>\n",
       "    </tr>\n",
       "    <tr>\n",
       "      <td>std</td>\n",
       "      <td>934.572</td>\n",
       "      <td>0.408</td>\n",
       "      <td>5.879</td>\n",
       "    </tr>\n",
       "    <tr>\n",
       "      <td>min</td>\n",
       "      <td>1.000</td>\n",
       "      <td>0.030</td>\n",
       "      <td>-715.505</td>\n",
       "    </tr>\n",
       "    <tr>\n",
       "      <td>25%</td>\n",
       "      <td>806.000</td>\n",
       "      <td>0.395</td>\n",
       "      <td>0.291</td>\n",
       "    </tr>\n",
       "    <tr>\n",
       "      <td>50%</td>\n",
       "      <td>1617.000</td>\n",
       "      <td>0.556</td>\n",
       "      <td>0.416</td>\n",
       "    </tr>\n",
       "    <tr>\n",
       "      <td>75%</td>\n",
       "      <td>2429.000</td>\n",
       "      <td>0.857</td>\n",
       "      <td>0.637</td>\n",
       "    </tr>\n",
       "    <tr>\n",
       "      <td>max</td>\n",
       "      <td>3241.000</td>\n",
       "      <td>3.732</td>\n",
       "      <td>2.676</td>\n",
       "    </tr>\n",
       "  </tbody>\n",
       "</table>\n",
       "</div>"
      ],
      "text/plain": [
       "             key  Активная мощность  Реактивная мощность\n",
       "count  14876.000          14876.000            14876.000\n",
       "mean    1615.220              0.670                0.453\n",
       "std      934.572              0.408                5.879\n",
       "min        1.000              0.030             -715.505\n",
       "25%      806.000              0.395                0.291\n",
       "50%     1617.000              0.556                0.416\n",
       "75%     2429.000              0.857                0.637\n",
       "max     3241.000              3.732                2.676"
      ]
     },
     "metadata": {},
     "output_type": "display_data"
    },
    {
     "name": "stdout",
     "output_type": "stream",
     "text": [
      "Количество дубликатов: 0\n",
      "\n",
      "<class 'pandas.core.frame.DataFrame'>\n",
      "RangeIndex: 14876 entries, 0 to 14875\n",
      "Data columns (total 5 columns):\n",
      "key                     14876 non-null int64\n",
      "Начало нагрева дугой    14876 non-null object\n",
      "Конец нагрева дугой     14876 non-null object\n",
      "Активная мощность       14876 non-null float64\n",
      "Реактивная мощность     14876 non-null float64\n",
      "dtypes: float64(2), int64(1), object(2)\n",
      "memory usage: 581.2+ KB\n"
     ]
    }
   ],
   "source": [
    "data_an(data_arc)"
   ]
  },
  {
   "cell_type": "markdown",
   "id": "8479d1bd",
   "metadata": {},
   "source": [
    "Сделаем корректный тип данных для дат."
   ]
  },
  {
   "cell_type": "code",
   "execution_count": 6,
   "id": "10f9d4eb",
   "metadata": {},
   "outputs": [
    {
     "data": {
      "text/html": [
       "<div>\n",
       "<style scoped>\n",
       "    .dataframe tbody tr th:only-of-type {\n",
       "        vertical-align: middle;\n",
       "    }\n",
       "\n",
       "    .dataframe tbody tr th {\n",
       "        vertical-align: top;\n",
       "    }\n",
       "\n",
       "    .dataframe thead th {\n",
       "        text-align: right;\n",
       "    }\n",
       "</style>\n",
       "<table border=\"1\" class=\"dataframe\">\n",
       "  <thead>\n",
       "    <tr style=\"text-align: right;\">\n",
       "      <th></th>\n",
       "      <th>key</th>\n",
       "      <th>Начало нагрева дугой</th>\n",
       "      <th>Конец нагрева дугой</th>\n",
       "      <th>Активная мощность</th>\n",
       "      <th>Реактивная мощность</th>\n",
       "    </tr>\n",
       "  </thead>\n",
       "  <tbody>\n",
       "    <tr>\n",
       "      <td>0</td>\n",
       "      <td>1</td>\n",
       "      <td>2019-05-03 11:02:14</td>\n",
       "      <td>2019-05-03 11:06:02</td>\n",
       "      <td>0.976059</td>\n",
       "      <td>0.687084</td>\n",
       "    </tr>\n",
       "    <tr>\n",
       "      <td>1</td>\n",
       "      <td>1</td>\n",
       "      <td>2019-05-03 11:07:28</td>\n",
       "      <td>2019-05-03 11:10:33</td>\n",
       "      <td>0.805607</td>\n",
       "      <td>0.520285</td>\n",
       "    </tr>\n",
       "    <tr>\n",
       "      <td>2</td>\n",
       "      <td>1</td>\n",
       "      <td>2019-05-03 11:11:44</td>\n",
       "      <td>2019-05-03 11:14:36</td>\n",
       "      <td>0.744363</td>\n",
       "      <td>0.498805</td>\n",
       "    </tr>\n",
       "    <tr>\n",
       "      <td>3</td>\n",
       "      <td>1</td>\n",
       "      <td>2019-05-03 11:18:14</td>\n",
       "      <td>2019-05-03 11:24:19</td>\n",
       "      <td>1.659363</td>\n",
       "      <td>1.062669</td>\n",
       "    </tr>\n",
       "    <tr>\n",
       "      <td>4</td>\n",
       "      <td>1</td>\n",
       "      <td>2019-05-03 11:26:09</td>\n",
       "      <td>2019-05-03 11:28:37</td>\n",
       "      <td>0.692755</td>\n",
       "      <td>0.414397</td>\n",
       "    </tr>\n",
       "  </tbody>\n",
       "</table>\n",
       "</div>"
      ],
      "text/plain": [
       "   key Начало нагрева дугой Конец нагрева дугой  Активная мощность  \\\n",
       "0    1  2019-05-03 11:02:14 2019-05-03 11:06:02           0.976059   \n",
       "1    1  2019-05-03 11:07:28 2019-05-03 11:10:33           0.805607   \n",
       "2    1  2019-05-03 11:11:44 2019-05-03 11:14:36           0.744363   \n",
       "3    1  2019-05-03 11:18:14 2019-05-03 11:24:19           1.659363   \n",
       "4    1  2019-05-03 11:26:09 2019-05-03 11:28:37           0.692755   \n",
       "\n",
       "   Реактивная мощность  \n",
       "0             0.687084  \n",
       "1             0.520285  \n",
       "2             0.498805  \n",
       "3             1.062669  \n",
       "4             0.414397  "
      ]
     },
     "metadata": {},
     "output_type": "display_data"
    },
    {
     "data": {
      "text/html": [
       "<div>\n",
       "<style scoped>\n",
       "    .dataframe tbody tr th:only-of-type {\n",
       "        vertical-align: middle;\n",
       "    }\n",
       "\n",
       "    .dataframe tbody tr th {\n",
       "        vertical-align: top;\n",
       "    }\n",
       "\n",
       "    .dataframe thead th {\n",
       "        text-align: right;\n",
       "    }\n",
       "</style>\n",
       "<table border=\"1\" class=\"dataframe\">\n",
       "  <thead>\n",
       "    <tr style=\"text-align: right;\">\n",
       "      <th></th>\n",
       "      <th>key</th>\n",
       "      <th>Активная мощность</th>\n",
       "      <th>Реактивная мощность</th>\n",
       "    </tr>\n",
       "  </thead>\n",
       "  <tbody>\n",
       "    <tr>\n",
       "      <td>count</td>\n",
       "      <td>14876.000</td>\n",
       "      <td>14876.000</td>\n",
       "      <td>14876.000</td>\n",
       "    </tr>\n",
       "    <tr>\n",
       "      <td>mean</td>\n",
       "      <td>1615.220</td>\n",
       "      <td>0.670</td>\n",
       "      <td>0.453</td>\n",
       "    </tr>\n",
       "    <tr>\n",
       "      <td>std</td>\n",
       "      <td>934.572</td>\n",
       "      <td>0.408</td>\n",
       "      <td>5.879</td>\n",
       "    </tr>\n",
       "    <tr>\n",
       "      <td>min</td>\n",
       "      <td>1.000</td>\n",
       "      <td>0.030</td>\n",
       "      <td>-715.505</td>\n",
       "    </tr>\n",
       "    <tr>\n",
       "      <td>25%</td>\n",
       "      <td>806.000</td>\n",
       "      <td>0.395</td>\n",
       "      <td>0.291</td>\n",
       "    </tr>\n",
       "    <tr>\n",
       "      <td>50%</td>\n",
       "      <td>1617.000</td>\n",
       "      <td>0.556</td>\n",
       "      <td>0.416</td>\n",
       "    </tr>\n",
       "    <tr>\n",
       "      <td>75%</td>\n",
       "      <td>2429.000</td>\n",
       "      <td>0.857</td>\n",
       "      <td>0.637</td>\n",
       "    </tr>\n",
       "    <tr>\n",
       "      <td>max</td>\n",
       "      <td>3241.000</td>\n",
       "      <td>3.732</td>\n",
       "      <td>2.676</td>\n",
       "    </tr>\n",
       "  </tbody>\n",
       "</table>\n",
       "</div>"
      ],
      "text/plain": [
       "             key  Активная мощность  Реактивная мощность\n",
       "count  14876.000          14876.000            14876.000\n",
       "mean    1615.220              0.670                0.453\n",
       "std      934.572              0.408                5.879\n",
       "min        1.000              0.030             -715.505\n",
       "25%      806.000              0.395                0.291\n",
       "50%     1617.000              0.556                0.416\n",
       "75%     2429.000              0.857                0.637\n",
       "max     3241.000              3.732                2.676"
      ]
     },
     "metadata": {},
     "output_type": "display_data"
    },
    {
     "name": "stdout",
     "output_type": "stream",
     "text": [
      "Количество дубликатов: 0\n",
      "\n",
      "<class 'pandas.core.frame.DataFrame'>\n",
      "RangeIndex: 14876 entries, 0 to 14875\n",
      "Data columns (total 5 columns):\n",
      "key                     14876 non-null int64\n",
      "Начало нагрева дугой    14876 non-null datetime64[ns]\n",
      "Конец нагрева дугой     14876 non-null datetime64[ns]\n",
      "Активная мощность       14876 non-null float64\n",
      "Реактивная мощность     14876 non-null float64\n",
      "dtypes: datetime64[ns](2), float64(2), int64(1)\n",
      "memory usage: 581.2 KB\n"
     ]
    }
   ],
   "source": [
    "data_arc['Начало нагрева дугой'] = pd.to_datetime(data_arc['Начало нагрева дугой'])\n",
    "data_arc['Конец нагрева дугой'] = pd.to_datetime(data_arc['Конец нагрева дугой'])\n",
    "data_an(data_arc)"
   ]
  },
  {
   "cell_type": "code",
   "execution_count": 7,
   "id": "36c3c47c",
   "metadata": {},
   "outputs": [],
   "source": [
    "def draw_plots(data, column):\n",
    "    \n",
    "    boxplot = plt.boxplot(data[column])\n",
    "    whiskers_list = [item.get_ydata() for item in boxplot['whiskers']]\n",
    "    lower_whisker = whiskers_list[0][1]\n",
    "    upper_whisker = whiskers_list[1][1]\n",
    "    outliers = list(boxplot['fliers'][0].get_data()[1])\n",
    "    plt.close()\n",
    "    \n",
    "    plt.figure(figsize=(12, 6), dpi= 80)\n",
    "    ax = sns.distplot(data[column], bins=40, color='c')\n",
    "    if np.isnan(lower_whisker)==False or np.isnan(upper_whisker)==False:\n",
    "        xlim = ax.get_xlim()\n",
    "        plt.axvspan(xlim[0], lower_whisker, color='r', alpha=.3, label='Стат выбросы')\n",
    "        plt.axvspan(upper_whisker, xlim[1], color='r', alpha=.3)\n",
    "    plt.axvline(np.mean(data[column]),color='g', linestyle='--', label='Среднее', linewidth=2)\n",
    "    plt.axvline(np.median(data[column]),color='g', linestyle='-', label='Медиана', linewidth=2)\n",
    "    plt.legend()\n",
    "    plt.title(f'Распределние {column}')\n",
    "    plt.xlabel(column)\n",
    "    plt.ylabel('Плотность вероятности')\n",
    "    plt.show()\n",
    "    \n",
    "    print('Количество статистических выбросов =',len(outliers))\n",
    "    print('Доля статистических выбросов =',round(len(outliers)/data[column].count(),4))"
   ]
  },
  {
   "cell_type": "code",
   "execution_count": 8,
   "id": "8ecf165b",
   "metadata": {},
   "outputs": [
    {
     "data": {
      "image/png": "[encoded data removed]",
      "text/plain": [
       "<Figure size 960x480 with 1 Axes>"
      ]
     },
     "metadata": {},
     "output_type": "display_data"
    },
    {
     "name": "stdout",
     "output_type": "stream",
     "text": [
      "Количество статистических выбросов = 569\n",
      "Доля статистических выбросов = 0.0382\n"
     ]
    }
   ],
   "source": [
    "draw_plots(data_arc, 'Активная мощность')"
   ]
  },
  {
   "cell_type": "markdown",
   "id": "7d44441a",
   "metadata": {},
   "source": [
    "Данные по активной мощности выглядят нормально. Есть небольшое кол-во статистических выбросов, которые находятся за пределами 1.5 межквартильных размахов, но не факт, что эти значения невозможны при производстве."
   ]
  },
  {
   "cell_type": "code",
   "execution_count": 9,
   "id": "33e57f18",
   "metadata": {},
   "outputs": [
    {
     "data": {
      "image/png": "[encoded data removed]",
      "text/plain": [
       "<Figure size 960x480 with 1 Axes>"
      ]
     },
     "metadata": {},
     "output_type": "display_data"
    },
    {
     "name": "stdout",
     "output_type": "stream",
     "text": [
      "Количество статистических выбросов = 601\n",
      "Доля статистических выбросов = 0.0404\n"
     ]
    }
   ],
   "source": [
    "draw_plots(data_arc, 'Реактивная мощность')"
   ]
  },
  {
   "cell_type": "code",
   "execution_count": 10,
   "id": "c6dcb2f7",
   "metadata": {},
   "outputs": [
    {
     "data": {
      "text/html": [
       "<div>\n",
       "<style scoped>\n",
       "    .dataframe tbody tr th:only-of-type {\n",
       "        vertical-align: middle;\n",
       "    }\n",
       "\n",
       "    .dataframe tbody tr th {\n",
       "        vertical-align: top;\n",
       "    }\n",
       "\n",
       "    .dataframe thead th {\n",
       "        text-align: right;\n",
       "    }\n",
       "</style>\n",
       "<table border=\"1\" class=\"dataframe\">\n",
       "  <thead>\n",
       "    <tr style=\"text-align: right;\">\n",
       "      <th></th>\n",
       "      <th>key</th>\n",
       "      <th>Начало нагрева дугой</th>\n",
       "      <th>Конец нагрева дугой</th>\n",
       "      <th>Активная мощность</th>\n",
       "      <th>Реактивная мощность</th>\n",
       "    </tr>\n",
       "  </thead>\n",
       "  <tbody>\n",
       "    <tr>\n",
       "      <td>9780</td>\n",
       "      <td>2116</td>\n",
       "      <td>2019-07-24 00:44:48</td>\n",
       "      <td>2019-07-24 00:46:37</td>\n",
       "      <td>0.495782</td>\n",
       "      <td>-715.504924</td>\n",
       "    </tr>\n",
       "    <tr>\n",
       "      <td>5596</td>\n",
       "      <td>1216</td>\n",
       "      <td>2019-06-16 08:22:19</td>\n",
       "      <td>2019-06-16 08:22:30</td>\n",
       "      <td>0.030188</td>\n",
       "      <td>0.020806</td>\n",
       "    </tr>\n",
       "    <tr>\n",
       "      <td>2419</td>\n",
       "      <td>521</td>\n",
       "      <td>2019-05-22 17:42:57</td>\n",
       "      <td>2019-05-22 17:43:11</td>\n",
       "      <td>0.030563</td>\n",
       "      <td>0.021154</td>\n",
       "    </tr>\n",
       "    <tr>\n",
       "      <td>4914</td>\n",
       "      <td>1060</td>\n",
       "      <td>2019-06-11 04:31:57</td>\n",
       "      <td>2019-06-11 04:32:08</td>\n",
       "      <td>0.031630</td>\n",
       "      <td>0.022485</td>\n",
       "    </tr>\n",
       "    <tr>\n",
       "      <td>4633</td>\n",
       "      <td>1000</td>\n",
       "      <td>2019-06-09 01:17:44</td>\n",
       "      <td>2019-06-09 01:17:57</td>\n",
       "      <td>0.038186</td>\n",
       "      <td>0.022983</td>\n",
       "    </tr>\n",
       "    <tr>\n",
       "      <td>676</td>\n",
       "      <td>146</td>\n",
       "      <td>2019-05-08 19:18:55</td>\n",
       "      <td>2019-05-08 19:19:07</td>\n",
       "      <td>0.035400</td>\n",
       "      <td>0.023228</td>\n",
       "    </tr>\n",
       "    <tr>\n",
       "      <td>4063</td>\n",
       "      <td>873</td>\n",
       "      <td>2019-06-04 18:34:19</td>\n",
       "      <td>2019-06-04 18:34:30</td>\n",
       "      <td>0.040905</td>\n",
       "      <td>0.023569</td>\n",
       "    </tr>\n",
       "    <tr>\n",
       "      <td>6580</td>\n",
       "      <td>1432</td>\n",
       "      <td>2019-06-23 21:13:19</td>\n",
       "      <td>2019-06-23 21:13:34</td>\n",
       "      <td>0.034053</td>\n",
       "      <td>0.025329</td>\n",
       "    </tr>\n",
       "    <tr>\n",
       "      <td>8704</td>\n",
       "      <td>1892</td>\n",
       "      <td>2019-07-09 18:51:37</td>\n",
       "      <td>2019-07-09 18:51:50</td>\n",
       "      <td>0.038364</td>\n",
       "      <td>0.026079</td>\n",
       "    </tr>\n",
       "    <tr>\n",
       "      <td>4615</td>\n",
       "      <td>996</td>\n",
       "      <td>2019-06-08 22:06:27</td>\n",
       "      <td>2019-06-08 22:09:03</td>\n",
       "      <td>0.035165</td>\n",
       "      <td>0.026222</td>\n",
       "    </tr>\n",
       "  </tbody>\n",
       "</table>\n",
       "</div>"
      ],
      "text/plain": [
       "       key Начало нагрева дугой Конец нагрева дугой  Активная мощность  \\\n",
       "9780  2116  2019-07-24 00:44:48 2019-07-24 00:46:37           0.495782   \n",
       "5596  1216  2019-06-16 08:22:19 2019-06-16 08:22:30           0.030188   \n",
       "2419   521  2019-05-22 17:42:57 2019-05-22 17:43:11           0.030563   \n",
       "4914  1060  2019-06-11 04:31:57 2019-06-11 04:32:08           0.031630   \n",
       "4633  1000  2019-06-09 01:17:44 2019-06-09 01:17:57           0.038186   \n",
       "676    146  2019-05-08 19:18:55 2019-05-08 19:19:07           0.035400   \n",
       "4063   873  2019-06-04 18:34:19 2019-06-04 18:34:30           0.040905   \n",
       "6580  1432  2019-06-23 21:13:19 2019-06-23 21:13:34           0.034053   \n",
       "8704  1892  2019-07-09 18:51:37 2019-07-09 18:51:50           0.038364   \n",
       "4615   996  2019-06-08 22:06:27 2019-06-08 22:09:03           0.035165   \n",
       "\n",
       "      Реактивная мощность  \n",
       "9780          -715.504924  \n",
       "5596             0.020806  \n",
       "2419             0.021154  \n",
       "4914             0.022485  \n",
       "4633             0.022983  \n",
       "676              0.023228  \n",
       "4063             0.023569  \n",
       "6580             0.025329  \n",
       "8704             0.026079  \n",
       "4615             0.026222  "
      ]
     },
     "metadata": {},
     "output_type": "display_data"
    }
   ],
   "source": [
    "display(data_arc.sort_values('Реактивная мощность').head(10))"
   ]
  },
  {
   "cell_type": "markdown",
   "id": "eac541df",
   "metadata": {},
   "source": [
    "Реактивная мощность = -715 выглядит мощнейшим выбросом относительно других значений. Избавлюсь от него."
   ]
  },
  {
   "cell_type": "code",
   "execution_count": 11,
   "id": "703ef846",
   "metadata": {},
   "outputs": [],
   "source": [
    "data_arc = data_arc[data_arc['Реактивная мощность'] >= 0]"
   ]
  },
  {
   "cell_type": "code",
   "execution_count": 12,
   "id": "8c56c3f4",
   "metadata": {},
   "outputs": [
    {
     "data": {
      "image/png": "[encoded data removed]",
      "text/plain": [
       "<Figure size 960x480 with 1 Axes>"
      ]
     },
     "metadata": {},
     "output_type": "display_data"
    },
    {
     "name": "stdout",
     "output_type": "stream",
     "text": [
      "Количество статистических выбросов = 599\n",
      "Доля статистических выбросов = 0.0403\n"
     ]
    }
   ],
   "source": [
    "draw_plots(data_arc, 'Реактивная мощность')"
   ]
  },
  {
   "cell_type": "markdown",
   "id": "fc3cfb12",
   "metadata": {},
   "source": [
    "Так данные выглядят намного лучше."
   ]
  },
  {
   "cell_type": "markdown",
   "id": "d6ae6788",
   "metadata": {},
   "source": [
    "### Анализ данных о подаче сыпучих материалов (объём)"
   ]
  },
  {
   "cell_type": "code",
   "execution_count": 13,
   "id": "059b1675",
   "metadata": {},
   "outputs": [
    {
     "data": {
      "text/html": [
       "<div>\n",
       "<style scoped>\n",
       "    .dataframe tbody tr th:only-of-type {\n",
       "        vertical-align: middle;\n",
       "    }\n",
       "\n",
       "    .dataframe tbody tr th {\n",
       "        vertical-align: top;\n",
       "    }\n",
       "\n",
       "    .dataframe thead th {\n",
       "        text-align: right;\n",
       "    }\n",
       "</style>\n",
       "<table border=\"1\" class=\"dataframe\">\n",
       "  <thead>\n",
       "    <tr style=\"text-align: right;\">\n",
       "      <th></th>\n",
       "      <th>key</th>\n",
       "      <th>Bulk 1</th>\n",
       "      <th>Bulk 2</th>\n",
       "      <th>Bulk 3</th>\n",
       "      <th>Bulk 4</th>\n",
       "      <th>Bulk 5</th>\n",
       "      <th>Bulk 6</th>\n",
       "      <th>Bulk 7</th>\n",
       "      <th>Bulk 8</th>\n",
       "      <th>Bulk 9</th>\n",
       "      <th>Bulk 10</th>\n",
       "      <th>Bulk 11</th>\n",
       "      <th>Bulk 12</th>\n",
       "      <th>Bulk 13</th>\n",
       "      <th>Bulk 14</th>\n",
       "      <th>Bulk 15</th>\n",
       "    </tr>\n",
       "  </thead>\n",
       "  <tbody>\n",
       "    <tr>\n",
       "      <td>0</td>\n",
       "      <td>1</td>\n",
       "      <td>NaN</td>\n",
       "      <td>NaN</td>\n",
       "      <td>NaN</td>\n",
       "      <td>43.0</td>\n",
       "      <td>NaN</td>\n",
       "      <td>NaN</td>\n",
       "      <td>NaN</td>\n",
       "      <td>NaN</td>\n",
       "      <td>NaN</td>\n",
       "      <td>NaN</td>\n",
       "      <td>NaN</td>\n",
       "      <td>206.0</td>\n",
       "      <td>NaN</td>\n",
       "      <td>150.0</td>\n",
       "      <td>154.0</td>\n",
       "    </tr>\n",
       "    <tr>\n",
       "      <td>1</td>\n",
       "      <td>2</td>\n",
       "      <td>NaN</td>\n",
       "      <td>NaN</td>\n",
       "      <td>NaN</td>\n",
       "      <td>73.0</td>\n",
       "      <td>NaN</td>\n",
       "      <td>NaN</td>\n",
       "      <td>NaN</td>\n",
       "      <td>NaN</td>\n",
       "      <td>NaN</td>\n",
       "      <td>NaN</td>\n",
       "      <td>NaN</td>\n",
       "      <td>206.0</td>\n",
       "      <td>NaN</td>\n",
       "      <td>149.0</td>\n",
       "      <td>154.0</td>\n",
       "    </tr>\n",
       "    <tr>\n",
       "      <td>2</td>\n",
       "      <td>3</td>\n",
       "      <td>NaN</td>\n",
       "      <td>NaN</td>\n",
       "      <td>NaN</td>\n",
       "      <td>34.0</td>\n",
       "      <td>NaN</td>\n",
       "      <td>NaN</td>\n",
       "      <td>NaN</td>\n",
       "      <td>NaN</td>\n",
       "      <td>NaN</td>\n",
       "      <td>NaN</td>\n",
       "      <td>NaN</td>\n",
       "      <td>205.0</td>\n",
       "      <td>NaN</td>\n",
       "      <td>152.0</td>\n",
       "      <td>153.0</td>\n",
       "    </tr>\n",
       "    <tr>\n",
       "      <td>3</td>\n",
       "      <td>4</td>\n",
       "      <td>NaN</td>\n",
       "      <td>NaN</td>\n",
       "      <td>NaN</td>\n",
       "      <td>81.0</td>\n",
       "      <td>NaN</td>\n",
       "      <td>NaN</td>\n",
       "      <td>NaN</td>\n",
       "      <td>NaN</td>\n",
       "      <td>NaN</td>\n",
       "      <td>NaN</td>\n",
       "      <td>NaN</td>\n",
       "      <td>207.0</td>\n",
       "      <td>NaN</td>\n",
       "      <td>153.0</td>\n",
       "      <td>154.0</td>\n",
       "    </tr>\n",
       "    <tr>\n",
       "      <td>4</td>\n",
       "      <td>5</td>\n",
       "      <td>NaN</td>\n",
       "      <td>NaN</td>\n",
       "      <td>NaN</td>\n",
       "      <td>78.0</td>\n",
       "      <td>NaN</td>\n",
       "      <td>NaN</td>\n",
       "      <td>NaN</td>\n",
       "      <td>NaN</td>\n",
       "      <td>NaN</td>\n",
       "      <td>NaN</td>\n",
       "      <td>NaN</td>\n",
       "      <td>203.0</td>\n",
       "      <td>NaN</td>\n",
       "      <td>151.0</td>\n",
       "      <td>152.0</td>\n",
       "    </tr>\n",
       "  </tbody>\n",
       "</table>\n",
       "</div>"
      ],
      "text/plain": [
       "   key  Bulk 1  Bulk 2  Bulk 3  Bulk 4  Bulk 5  Bulk 6  Bulk 7  Bulk 8  \\\n",
       "0    1     NaN     NaN     NaN    43.0     NaN     NaN     NaN     NaN   \n",
       "1    2     NaN     NaN     NaN    73.0     NaN     NaN     NaN     NaN   \n",
       "2    3     NaN     NaN     NaN    34.0     NaN     NaN     NaN     NaN   \n",
       "3    4     NaN     NaN     NaN    81.0     NaN     NaN     NaN     NaN   \n",
       "4    5     NaN     NaN     NaN    78.0     NaN     NaN     NaN     NaN   \n",
       "\n",
       "   Bulk 9  Bulk 10  Bulk 11  Bulk 12  Bulk 13  Bulk 14  Bulk 15  \n",
       "0     NaN      NaN      NaN    206.0      NaN    150.0    154.0  \n",
       "1     NaN      NaN      NaN    206.0      NaN    149.0    154.0  \n",
       "2     NaN      NaN      NaN    205.0      NaN    152.0    153.0  \n",
       "3     NaN      NaN      NaN    207.0      NaN    153.0    154.0  \n",
       "4     NaN      NaN      NaN    203.0      NaN    151.0    152.0  "
      ]
     },
     "metadata": {},
     "output_type": "display_data"
    },
    {
     "data": {
      "text/html": [
       "<div>\n",
       "<style scoped>\n",
       "    .dataframe tbody tr th:only-of-type {\n",
       "        vertical-align: middle;\n",
       "    }\n",
       "\n",
       "    .dataframe tbody tr th {\n",
       "        vertical-align: top;\n",
       "    }\n",
       "\n",
       "    .dataframe thead th {\n",
       "        text-align: right;\n",
       "    }\n",
       "</style>\n",
       "<table border=\"1\" class=\"dataframe\">\n",
       "  <thead>\n",
       "    <tr style=\"text-align: right;\">\n",
       "      <th></th>\n",
       "      <th>key</th>\n",
       "      <th>Bulk 1</th>\n",
       "      <th>Bulk 2</th>\n",
       "      <th>Bulk 3</th>\n",
       "      <th>Bulk 4</th>\n",
       "      <th>Bulk 5</th>\n",
       "      <th>Bulk 6</th>\n",
       "      <th>Bulk 7</th>\n",
       "      <th>Bulk 8</th>\n",
       "      <th>Bulk 9</th>\n",
       "      <th>Bulk 10</th>\n",
       "      <th>Bulk 11</th>\n",
       "      <th>Bulk 12</th>\n",
       "      <th>Bulk 13</th>\n",
       "      <th>Bulk 14</th>\n",
       "      <th>Bulk 15</th>\n",
       "    </tr>\n",
       "  </thead>\n",
       "  <tbody>\n",
       "    <tr>\n",
       "      <td>count</td>\n",
       "      <td>3129.000</td>\n",
       "      <td>252.000</td>\n",
       "      <td>22.000</td>\n",
       "      <td>1298.000</td>\n",
       "      <td>1014.000</td>\n",
       "      <td>77.000</td>\n",
       "      <td>576.000</td>\n",
       "      <td>25.000</td>\n",
       "      <td>1.0</td>\n",
       "      <td>19.000</td>\n",
       "      <td>176.000</td>\n",
       "      <td>177.000</td>\n",
       "      <td>2450.000</td>\n",
       "      <td>18.000</td>\n",
       "      <td>2806.000</td>\n",
       "      <td>2248.000</td>\n",
       "    </tr>\n",
       "    <tr>\n",
       "      <td>mean</td>\n",
       "      <td>1624.384</td>\n",
       "      <td>39.242</td>\n",
       "      <td>253.045</td>\n",
       "      <td>113.879</td>\n",
       "      <td>104.394</td>\n",
       "      <td>107.026</td>\n",
       "      <td>118.925</td>\n",
       "      <td>305.600</td>\n",
       "      <td>49.0</td>\n",
       "      <td>76.316</td>\n",
       "      <td>83.284</td>\n",
       "      <td>76.819</td>\n",
       "      <td>260.471</td>\n",
       "      <td>181.111</td>\n",
       "      <td>170.285</td>\n",
       "      <td>160.513</td>\n",
       "    </tr>\n",
       "    <tr>\n",
       "      <td>std</td>\n",
       "      <td>933.338</td>\n",
       "      <td>18.278</td>\n",
       "      <td>21.181</td>\n",
       "      <td>75.483</td>\n",
       "      <td>48.184</td>\n",
       "      <td>81.791</td>\n",
       "      <td>72.058</td>\n",
       "      <td>191.023</td>\n",
       "      <td>NaN</td>\n",
       "      <td>21.721</td>\n",
       "      <td>26.060</td>\n",
       "      <td>59.655</td>\n",
       "      <td>120.649</td>\n",
       "      <td>46.088</td>\n",
       "      <td>65.869</td>\n",
       "      <td>51.765</td>\n",
       "    </tr>\n",
       "    <tr>\n",
       "      <td>min</td>\n",
       "      <td>1.000</td>\n",
       "      <td>10.000</td>\n",
       "      <td>228.000</td>\n",
       "      <td>6.000</td>\n",
       "      <td>12.000</td>\n",
       "      <td>11.000</td>\n",
       "      <td>17.000</td>\n",
       "      <td>47.000</td>\n",
       "      <td>49.0</td>\n",
       "      <td>63.000</td>\n",
       "      <td>24.000</td>\n",
       "      <td>8.000</td>\n",
       "      <td>53.000</td>\n",
       "      <td>151.000</td>\n",
       "      <td>16.000</td>\n",
       "      <td>1.000</td>\n",
       "    </tr>\n",
       "    <tr>\n",
       "      <td>25%</td>\n",
       "      <td>816.000</td>\n",
       "      <td>27.000</td>\n",
       "      <td>242.000</td>\n",
       "      <td>58.000</td>\n",
       "      <td>72.000</td>\n",
       "      <td>70.000</td>\n",
       "      <td>69.750</td>\n",
       "      <td>155.000</td>\n",
       "      <td>49.0</td>\n",
       "      <td>66.000</td>\n",
       "      <td>64.000</td>\n",
       "      <td>25.000</td>\n",
       "      <td>204.000</td>\n",
       "      <td>153.250</td>\n",
       "      <td>119.000</td>\n",
       "      <td>105.000</td>\n",
       "    </tr>\n",
       "    <tr>\n",
       "      <td>50%</td>\n",
       "      <td>1622.000</td>\n",
       "      <td>31.000</td>\n",
       "      <td>251.500</td>\n",
       "      <td>97.500</td>\n",
       "      <td>102.000</td>\n",
       "      <td>86.000</td>\n",
       "      <td>100.000</td>\n",
       "      <td>298.000</td>\n",
       "      <td>49.0</td>\n",
       "      <td>68.000</td>\n",
       "      <td>86.500</td>\n",
       "      <td>64.000</td>\n",
       "      <td>208.000</td>\n",
       "      <td>155.500</td>\n",
       "      <td>151.000</td>\n",
       "      <td>160.000</td>\n",
       "    </tr>\n",
       "    <tr>\n",
       "      <td>75%</td>\n",
       "      <td>2431.000</td>\n",
       "      <td>46.000</td>\n",
       "      <td>257.750</td>\n",
       "      <td>152.000</td>\n",
       "      <td>133.000</td>\n",
       "      <td>132.000</td>\n",
       "      <td>157.000</td>\n",
       "      <td>406.000</td>\n",
       "      <td>49.0</td>\n",
       "      <td>70.500</td>\n",
       "      <td>102.000</td>\n",
       "      <td>106.000</td>\n",
       "      <td>316.000</td>\n",
       "      <td>203.500</td>\n",
       "      <td>205.750</td>\n",
       "      <td>205.000</td>\n",
       "    </tr>\n",
       "    <tr>\n",
       "      <td>max</td>\n",
       "      <td>3241.000</td>\n",
       "      <td>185.000</td>\n",
       "      <td>325.000</td>\n",
       "      <td>454.000</td>\n",
       "      <td>281.000</td>\n",
       "      <td>603.000</td>\n",
       "      <td>503.000</td>\n",
       "      <td>772.000</td>\n",
       "      <td>49.0</td>\n",
       "      <td>147.000</td>\n",
       "      <td>159.000</td>\n",
       "      <td>313.000</td>\n",
       "      <td>1849.000</td>\n",
       "      <td>305.000</td>\n",
       "      <td>636.000</td>\n",
       "      <td>405.000</td>\n",
       "    </tr>\n",
       "  </tbody>\n",
       "</table>\n",
       "</div>"
      ],
      "text/plain": [
       "            key   Bulk 1   Bulk 2    Bulk 3    Bulk 4   Bulk 5   Bulk 6  \\\n",
       "count  3129.000  252.000   22.000  1298.000  1014.000   77.000  576.000   \n",
       "mean   1624.384   39.242  253.045   113.879   104.394  107.026  118.925   \n",
       "std     933.338   18.278   21.181    75.483    48.184   81.791   72.058   \n",
       "min       1.000   10.000  228.000     6.000    12.000   11.000   17.000   \n",
       "25%     816.000   27.000  242.000    58.000    72.000   70.000   69.750   \n",
       "50%    1622.000   31.000  251.500    97.500   102.000   86.000  100.000   \n",
       "75%    2431.000   46.000  257.750   152.000   133.000  132.000  157.000   \n",
       "max    3241.000  185.000  325.000   454.000   281.000  603.000  503.000   \n",
       "\n",
       "        Bulk 7  Bulk 8   Bulk 9  Bulk 10  Bulk 11   Bulk 12  Bulk 13  \\\n",
       "count   25.000     1.0   19.000  176.000  177.000  2450.000   18.000   \n",
       "mean   305.600    49.0   76.316   83.284   76.819   260.471  181.111   \n",
       "std    191.023     NaN   21.721   26.060   59.655   120.649   46.088   \n",
       "min     47.000    49.0   63.000   24.000    8.000    53.000  151.000   \n",
       "25%    155.000    49.0   66.000   64.000   25.000   204.000  153.250   \n",
       "50%    298.000    49.0   68.000   86.500   64.000   208.000  155.500   \n",
       "75%    406.000    49.0   70.500  102.000  106.000   316.000  203.500   \n",
       "max    772.000    49.0  147.000  159.000  313.000  1849.000  305.000   \n",
       "\n",
       "        Bulk 14   Bulk 15  \n",
       "count  2806.000  2248.000  \n",
       "mean    170.285   160.513  \n",
       "std      65.869    51.765  \n",
       "min      16.000     1.000  \n",
       "25%     119.000   105.000  \n",
       "50%     151.000   160.000  \n",
       "75%     205.750   205.000  \n",
       "max     636.000   405.000  "
      ]
     },
     "metadata": {},
     "output_type": "display_data"
    },
    {
     "name": "stdout",
     "output_type": "stream",
     "text": [
      "Количество дубликатов: 0\n",
      "\n",
      "<class 'pandas.core.frame.DataFrame'>\n",
      "RangeIndex: 3129 entries, 0 to 3128\n",
      "Data columns (total 16 columns):\n",
      "key        3129 non-null int64\n",
      "Bulk 1     252 non-null float64\n",
      "Bulk 2     22 non-null float64\n",
      "Bulk 3     1298 non-null float64\n",
      "Bulk 4     1014 non-null float64\n",
      "Bulk 5     77 non-null float64\n",
      "Bulk 6     576 non-null float64\n",
      "Bulk 7     25 non-null float64\n",
      "Bulk 8     1 non-null float64\n",
      "Bulk 9     19 non-null float64\n",
      "Bulk 10    176 non-null float64\n",
      "Bulk 11    177 non-null float64\n",
      "Bulk 12    2450 non-null float64\n",
      "Bulk 13    18 non-null float64\n",
      "Bulk 14    2806 non-null float64\n",
      "Bulk 15    2248 non-null float64\n",
      "dtypes: float64(15), int64(1)\n",
      "memory usage: 391.2 KB\n"
     ]
    }
   ],
   "source": [
    "data_an(data_bulk)"
   ]
  },
  {
   "cell_type": "markdown",
   "id": "20b9bd1b",
   "metadata": {},
   "source": [
    "Пустые значения в сыпучих материалах объясняются просто - для каждой партии подбирают определённое сочетание сыпучих материалов. Преположительно весь объём по каждой партии нужно будет суммировать.\n",
    "\n",
    "В этом датасете есть не все партии - кол-во key = 3129, а максимальный key = 3241. Возможно не во все партии добавляли вещества."
   ]
  },
  {
   "cell_type": "markdown",
   "id": "bb7676b0",
   "metadata": {},
   "source": [
    "### Анализ данных о подаче сыпучих материалов время"
   ]
  },
  {
   "cell_type": "code",
   "execution_count": 14,
   "id": "08802354",
   "metadata": {},
   "outputs": [
    {
     "data": {
      "text/html": [
       "<div>\n",
       "<style scoped>\n",
       "    .dataframe tbody tr th:only-of-type {\n",
       "        vertical-align: middle;\n",
       "    }\n",
       "\n",
       "    .dataframe tbody tr th {\n",
       "        vertical-align: top;\n",
       "    }\n",
       "\n",
       "    .dataframe thead th {\n",
       "        text-align: right;\n",
       "    }\n",
       "</style>\n",
       "<table border=\"1\" class=\"dataframe\">\n",
       "  <thead>\n",
       "    <tr style=\"text-align: right;\">\n",
       "      <th></th>\n",
       "      <th>key</th>\n",
       "      <th>Bulk 1</th>\n",
       "      <th>Bulk 2</th>\n",
       "      <th>Bulk 3</th>\n",
       "      <th>Bulk 4</th>\n",
       "      <th>Bulk 5</th>\n",
       "      <th>Bulk 6</th>\n",
       "      <th>Bulk 7</th>\n",
       "      <th>Bulk 8</th>\n",
       "      <th>Bulk 9</th>\n",
       "      <th>Bulk 10</th>\n",
       "      <th>Bulk 11</th>\n",
       "      <th>Bulk 12</th>\n",
       "      <th>Bulk 13</th>\n",
       "      <th>Bulk 14</th>\n",
       "      <th>Bulk 15</th>\n",
       "    </tr>\n",
       "  </thead>\n",
       "  <tbody>\n",
       "    <tr>\n",
       "      <td>0</td>\n",
       "      <td>1</td>\n",
       "      <td>NaN</td>\n",
       "      <td>NaN</td>\n",
       "      <td>NaN</td>\n",
       "      <td>2019-05-03 11:21:30</td>\n",
       "      <td>NaN</td>\n",
       "      <td>NaN</td>\n",
       "      <td>NaN</td>\n",
       "      <td>NaN</td>\n",
       "      <td>NaN</td>\n",
       "      <td>NaN</td>\n",
       "      <td>NaN</td>\n",
       "      <td>2019-05-03 11:03:52</td>\n",
       "      <td>NaN</td>\n",
       "      <td>2019-05-03 11:03:52</td>\n",
       "      <td>2019-05-03 11:03:52</td>\n",
       "    </tr>\n",
       "    <tr>\n",
       "      <td>1</td>\n",
       "      <td>2</td>\n",
       "      <td>NaN</td>\n",
       "      <td>NaN</td>\n",
       "      <td>NaN</td>\n",
       "      <td>2019-05-03 11:46:38</td>\n",
       "      <td>NaN</td>\n",
       "      <td>NaN</td>\n",
       "      <td>NaN</td>\n",
       "      <td>NaN</td>\n",
       "      <td>NaN</td>\n",
       "      <td>NaN</td>\n",
       "      <td>NaN</td>\n",
       "      <td>2019-05-03 11:40:20</td>\n",
       "      <td>NaN</td>\n",
       "      <td>2019-05-03 11:40:20</td>\n",
       "      <td>2019-05-03 11:40:20</td>\n",
       "    </tr>\n",
       "    <tr>\n",
       "      <td>2</td>\n",
       "      <td>3</td>\n",
       "      <td>NaN</td>\n",
       "      <td>NaN</td>\n",
       "      <td>NaN</td>\n",
       "      <td>2019-05-03 12:31:06</td>\n",
       "      <td>NaN</td>\n",
       "      <td>NaN</td>\n",
       "      <td>NaN</td>\n",
       "      <td>NaN</td>\n",
       "      <td>NaN</td>\n",
       "      <td>NaN</td>\n",
       "      <td>NaN</td>\n",
       "      <td>2019-05-03 12:09:40</td>\n",
       "      <td>NaN</td>\n",
       "      <td>2019-05-03 12:09:40</td>\n",
       "      <td>2019-05-03 12:09:40</td>\n",
       "    </tr>\n",
       "    <tr>\n",
       "      <td>3</td>\n",
       "      <td>4</td>\n",
       "      <td>NaN</td>\n",
       "      <td>NaN</td>\n",
       "      <td>NaN</td>\n",
       "      <td>2019-05-03 12:48:43</td>\n",
       "      <td>NaN</td>\n",
       "      <td>NaN</td>\n",
       "      <td>NaN</td>\n",
       "      <td>NaN</td>\n",
       "      <td>NaN</td>\n",
       "      <td>NaN</td>\n",
       "      <td>NaN</td>\n",
       "      <td>2019-05-03 12:41:24</td>\n",
       "      <td>NaN</td>\n",
       "      <td>2019-05-03 12:41:24</td>\n",
       "      <td>2019-05-03 12:41:24</td>\n",
       "    </tr>\n",
       "    <tr>\n",
       "      <td>4</td>\n",
       "      <td>5</td>\n",
       "      <td>NaN</td>\n",
       "      <td>NaN</td>\n",
       "      <td>NaN</td>\n",
       "      <td>2019-05-03 13:18:50</td>\n",
       "      <td>NaN</td>\n",
       "      <td>NaN</td>\n",
       "      <td>NaN</td>\n",
       "      <td>NaN</td>\n",
       "      <td>NaN</td>\n",
       "      <td>NaN</td>\n",
       "      <td>NaN</td>\n",
       "      <td>2019-05-03 13:12:56</td>\n",
       "      <td>NaN</td>\n",
       "      <td>2019-05-03 13:12:56</td>\n",
       "      <td>2019-05-03 13:12:56</td>\n",
       "    </tr>\n",
       "  </tbody>\n",
       "</table>\n",
       "</div>"
      ],
      "text/plain": [
       "   key Bulk 1 Bulk 2 Bulk 3               Bulk 4 Bulk 5 Bulk 6 Bulk 7 Bulk 8  \\\n",
       "0    1    NaN    NaN    NaN  2019-05-03 11:21:30    NaN    NaN    NaN    NaN   \n",
       "1    2    NaN    NaN    NaN  2019-05-03 11:46:38    NaN    NaN    NaN    NaN   \n",
       "2    3    NaN    NaN    NaN  2019-05-03 12:31:06    NaN    NaN    NaN    NaN   \n",
       "3    4    NaN    NaN    NaN  2019-05-03 12:48:43    NaN    NaN    NaN    NaN   \n",
       "4    5    NaN    NaN    NaN  2019-05-03 13:18:50    NaN    NaN    NaN    NaN   \n",
       "\n",
       "  Bulk 9 Bulk 10 Bulk 11              Bulk 12 Bulk 13              Bulk 14  \\\n",
       "0    NaN     NaN     NaN  2019-05-03 11:03:52     NaN  2019-05-03 11:03:52   \n",
       "1    NaN     NaN     NaN  2019-05-03 11:40:20     NaN  2019-05-03 11:40:20   \n",
       "2    NaN     NaN     NaN  2019-05-03 12:09:40     NaN  2019-05-03 12:09:40   \n",
       "3    NaN     NaN     NaN  2019-05-03 12:41:24     NaN  2019-05-03 12:41:24   \n",
       "4    NaN     NaN     NaN  2019-05-03 13:12:56     NaN  2019-05-03 13:12:56   \n",
       "\n",
       "               Bulk 15  \n",
       "0  2019-05-03 11:03:52  \n",
       "1  2019-05-03 11:40:20  \n",
       "2  2019-05-03 12:09:40  \n",
       "3  2019-05-03 12:41:24  \n",
       "4  2019-05-03 13:12:56  "
      ]
     },
     "metadata": {},
     "output_type": "display_data"
    },
    {
     "data": {
      "text/html": [
       "<div>\n",
       "<style scoped>\n",
       "    .dataframe tbody tr th:only-of-type {\n",
       "        vertical-align: middle;\n",
       "    }\n",
       "\n",
       "    .dataframe tbody tr th {\n",
       "        vertical-align: top;\n",
       "    }\n",
       "\n",
       "    .dataframe thead th {\n",
       "        text-align: right;\n",
       "    }\n",
       "</style>\n",
       "<table border=\"1\" class=\"dataframe\">\n",
       "  <thead>\n",
       "    <tr style=\"text-align: right;\">\n",
       "      <th></th>\n",
       "      <th>key</th>\n",
       "    </tr>\n",
       "  </thead>\n",
       "  <tbody>\n",
       "    <tr>\n",
       "      <td>count</td>\n",
       "      <td>3129.000</td>\n",
       "    </tr>\n",
       "    <tr>\n",
       "      <td>mean</td>\n",
       "      <td>1624.384</td>\n",
       "    </tr>\n",
       "    <tr>\n",
       "      <td>std</td>\n",
       "      <td>933.338</td>\n",
       "    </tr>\n",
       "    <tr>\n",
       "      <td>min</td>\n",
       "      <td>1.000</td>\n",
       "    </tr>\n",
       "    <tr>\n",
       "      <td>25%</td>\n",
       "      <td>816.000</td>\n",
       "    </tr>\n",
       "    <tr>\n",
       "      <td>50%</td>\n",
       "      <td>1622.000</td>\n",
       "    </tr>\n",
       "    <tr>\n",
       "      <td>75%</td>\n",
       "      <td>2431.000</td>\n",
       "    </tr>\n",
       "    <tr>\n",
       "      <td>max</td>\n",
       "      <td>3241.000</td>\n",
       "    </tr>\n",
       "  </tbody>\n",
       "</table>\n",
       "</div>"
      ],
      "text/plain": [
       "            key\n",
       "count  3129.000\n",
       "mean   1624.384\n",
       "std     933.338\n",
       "min       1.000\n",
       "25%     816.000\n",
       "50%    1622.000\n",
       "75%    2431.000\n",
       "max    3241.000"
      ]
     },
     "metadata": {},
     "output_type": "display_data"
    },
    {
     "name": "stdout",
     "output_type": "stream",
     "text": [
      "Количество дубликатов: 0\n",
      "\n",
      "<class 'pandas.core.frame.DataFrame'>\n",
      "RangeIndex: 3129 entries, 0 to 3128\n",
      "Data columns (total 16 columns):\n",
      "key        3129 non-null int64\n",
      "Bulk 1     252 non-null object\n",
      "Bulk 2     22 non-null object\n",
      "Bulk 3     1298 non-null object\n",
      "Bulk 4     1014 non-null object\n",
      "Bulk 5     77 non-null object\n",
      "Bulk 6     576 non-null object\n",
      "Bulk 7     25 non-null object\n",
      "Bulk 8     1 non-null object\n",
      "Bulk 9     19 non-null object\n",
      "Bulk 10    176 non-null object\n",
      "Bulk 11    177 non-null object\n",
      "Bulk 12    2450 non-null object\n",
      "Bulk 13    18 non-null object\n",
      "Bulk 14    2806 non-null object\n",
      "Bulk 15    2248 non-null object\n",
      "dtypes: int64(1), object(15)\n",
      "memory usage: 391.2+ KB\n"
     ]
    }
   ],
   "source": [
    "data_an(data_bulk_time)"
   ]
  },
  {
   "cell_type": "markdown",
   "id": "1bc20c1f",
   "metadata": {},
   "source": [
    "Этот датасет сообщает нам в какое время были добавлены сыпучие вещества из датасета с объёмом сыпучих веществ. Не знаю насколько полезен этот датасет для нас, т.к. объём мы собираемся суммировать."
   ]
  },
  {
   "cell_type": "markdown",
   "id": "7dff38a4",
   "metadata": {},
   "source": [
    "### Анализ данных о продувке сплава газом"
   ]
  },
  {
   "cell_type": "code",
   "execution_count": 15,
   "id": "b686e8d5",
   "metadata": {},
   "outputs": [
    {
     "data": {
      "text/html": [
       "<div>\n",
       "<style scoped>\n",
       "    .dataframe tbody tr th:only-of-type {\n",
       "        vertical-align: middle;\n",
       "    }\n",
       "\n",
       "    .dataframe tbody tr th {\n",
       "        vertical-align: top;\n",
       "    }\n",
       "\n",
       "    .dataframe thead th {\n",
       "        text-align: right;\n",
       "    }\n",
       "</style>\n",
       "<table border=\"1\" class=\"dataframe\">\n",
       "  <thead>\n",
       "    <tr style=\"text-align: right;\">\n",
       "      <th></th>\n",
       "      <th>key</th>\n",
       "      <th>Газ 1</th>\n",
       "    </tr>\n",
       "  </thead>\n",
       "  <tbody>\n",
       "    <tr>\n",
       "      <td>0</td>\n",
       "      <td>1</td>\n",
       "      <td>29.749986</td>\n",
       "    </tr>\n",
       "    <tr>\n",
       "      <td>1</td>\n",
       "      <td>2</td>\n",
       "      <td>12.555561</td>\n",
       "    </tr>\n",
       "    <tr>\n",
       "      <td>2</td>\n",
       "      <td>3</td>\n",
       "      <td>28.554793</td>\n",
       "    </tr>\n",
       "    <tr>\n",
       "      <td>3</td>\n",
       "      <td>4</td>\n",
       "      <td>18.841219</td>\n",
       "    </tr>\n",
       "    <tr>\n",
       "      <td>4</td>\n",
       "      <td>5</td>\n",
       "      <td>5.413692</td>\n",
       "    </tr>\n",
       "  </tbody>\n",
       "</table>\n",
       "</div>"
      ],
      "text/plain": [
       "   key      Газ 1\n",
       "0    1  29.749986\n",
       "1    2  12.555561\n",
       "2    3  28.554793\n",
       "3    4  18.841219\n",
       "4    5   5.413692"
      ]
     },
     "metadata": {},
     "output_type": "display_data"
    },
    {
     "data": {
      "text/html": [
       "<div>\n",
       "<style scoped>\n",
       "    .dataframe tbody tr th:only-of-type {\n",
       "        vertical-align: middle;\n",
       "    }\n",
       "\n",
       "    .dataframe tbody tr th {\n",
       "        vertical-align: top;\n",
       "    }\n",
       "\n",
       "    .dataframe thead th {\n",
       "        text-align: right;\n",
       "    }\n",
       "</style>\n",
       "<table border=\"1\" class=\"dataframe\">\n",
       "  <thead>\n",
       "    <tr style=\"text-align: right;\">\n",
       "      <th></th>\n",
       "      <th>key</th>\n",
       "      <th>Газ 1</th>\n",
       "    </tr>\n",
       "  </thead>\n",
       "  <tbody>\n",
       "    <tr>\n",
       "      <td>count</td>\n",
       "      <td>3239.000</td>\n",
       "      <td>3239.000</td>\n",
       "    </tr>\n",
       "    <tr>\n",
       "      <td>mean</td>\n",
       "      <td>1621.861</td>\n",
       "      <td>11.002</td>\n",
       "    </tr>\n",
       "    <tr>\n",
       "      <td>std</td>\n",
       "      <td>935.386</td>\n",
       "      <td>6.220</td>\n",
       "    </tr>\n",
       "    <tr>\n",
       "      <td>min</td>\n",
       "      <td>1.000</td>\n",
       "      <td>0.008</td>\n",
       "    </tr>\n",
       "    <tr>\n",
       "      <td>25%</td>\n",
       "      <td>812.500</td>\n",
       "      <td>7.043</td>\n",
       "    </tr>\n",
       "    <tr>\n",
       "      <td>50%</td>\n",
       "      <td>1622.000</td>\n",
       "      <td>9.836</td>\n",
       "    </tr>\n",
       "    <tr>\n",
       "      <td>75%</td>\n",
       "      <td>2431.500</td>\n",
       "      <td>13.770</td>\n",
       "    </tr>\n",
       "    <tr>\n",
       "      <td>max</td>\n",
       "      <td>3241.000</td>\n",
       "      <td>77.995</td>\n",
       "    </tr>\n",
       "  </tbody>\n",
       "</table>\n",
       "</div>"
      ],
      "text/plain": [
       "            key     Газ 1\n",
       "count  3239.000  3239.000\n",
       "mean   1621.861    11.002\n",
       "std     935.386     6.220\n",
       "min       1.000     0.008\n",
       "25%     812.500     7.043\n",
       "50%    1622.000     9.836\n",
       "75%    2431.500    13.770\n",
       "max    3241.000    77.995"
      ]
     },
     "metadata": {},
     "output_type": "display_data"
    },
    {
     "name": "stdout",
     "output_type": "stream",
     "text": [
      "Количество дубликатов: 0\n",
      "\n",
      "<class 'pandas.core.frame.DataFrame'>\n",
      "RangeIndex: 3239 entries, 0 to 3238\n",
      "Data columns (total 2 columns):\n",
      "key      3239 non-null int64\n",
      "Газ 1    3239 non-null float64\n",
      "dtypes: float64(1), int64(1)\n",
      "memory usage: 50.7 KB\n"
     ]
    }
   ],
   "source": [
    "data_an(data_gas)"
   ]
  },
  {
   "cell_type": "markdown",
   "id": "4dd0d6f5",
   "metadata": {},
   "source": [
    "Судя по всему не хватает 2 партий - максимум = 3241, а количество = 3239"
   ]
  },
  {
   "cell_type": "code",
   "execution_count": 16,
   "id": "97d82099",
   "metadata": {},
   "outputs": [
    {
     "data": {
      "image/png": "[encoded data removed]",
      "text/plain": [
       "<Figure size 960x480 with 1 Axes>"
      ]
     },
     "metadata": {},
     "output_type": "display_data"
    },
    {
     "name": "stdout",
     "output_type": "stream",
     "text": [
      "Количество статистических выбросов = 126\n",
      "Доля статистических выбросов = 0.0389\n"
     ]
    }
   ],
   "source": [
    "draw_plots(data_gas, 'Газ 1')"
   ]
  },
  {
   "cell_type": "code",
   "execution_count": 17,
   "id": "31516cbe",
   "metadata": {},
   "outputs": [
    {
     "data": {
      "text/html": [
       "<div>\n",
       "<style scoped>\n",
       "    .dataframe tbody tr th:only-of-type {\n",
       "        vertical-align: middle;\n",
       "    }\n",
       "\n",
       "    .dataframe tbody tr th {\n",
       "        vertical-align: top;\n",
       "    }\n",
       "\n",
       "    .dataframe thead th {\n",
       "        text-align: right;\n",
       "    }\n",
       "</style>\n",
       "<table border=\"1\" class=\"dataframe\">\n",
       "  <thead>\n",
       "    <tr style=\"text-align: right;\">\n",
       "      <th></th>\n",
       "      <th>key</th>\n",
       "      <th>Газ 1</th>\n",
       "    </tr>\n",
       "  </thead>\n",
       "  <tbody>\n",
       "    <tr>\n",
       "      <td>319</td>\n",
       "      <td>322</td>\n",
       "      <td>77.995040</td>\n",
       "    </tr>\n",
       "    <tr>\n",
       "      <td>277</td>\n",
       "      <td>280</td>\n",
       "      <td>60.935689</td>\n",
       "    </tr>\n",
       "    <tr>\n",
       "      <td>2107</td>\n",
       "      <td>2110</td>\n",
       "      <td>52.142373</td>\n",
       "    </tr>\n",
       "    <tr>\n",
       "      <td>2567</td>\n",
       "      <td>2570</td>\n",
       "      <td>51.380229</td>\n",
       "    </tr>\n",
       "    <tr>\n",
       "      <td>116</td>\n",
       "      <td>117</td>\n",
       "      <td>50.581035</td>\n",
       "    </tr>\n",
       "    <tr>\n",
       "      <td>2105</td>\n",
       "      <td>2108</td>\n",
       "      <td>45.638999</td>\n",
       "    </tr>\n",
       "    <tr>\n",
       "      <td>1461</td>\n",
       "      <td>1464</td>\n",
       "      <td>43.655411</td>\n",
       "    </tr>\n",
       "    <tr>\n",
       "      <td>660</td>\n",
       "      <td>663</td>\n",
       "      <td>41.854643</td>\n",
       "    </tr>\n",
       "    <tr>\n",
       "      <td>525</td>\n",
       "      <td>528</td>\n",
       "      <td>39.728826</td>\n",
       "    </tr>\n",
       "    <tr>\n",
       "      <td>610</td>\n",
       "      <td>613</td>\n",
       "      <td>39.425706</td>\n",
       "    </tr>\n",
       "  </tbody>\n",
       "</table>\n",
       "</div>"
      ],
      "text/plain": [
       "       key      Газ 1\n",
       "319    322  77.995040\n",
       "277    280  60.935689\n",
       "2107  2110  52.142373\n",
       "2567  2570  51.380229\n",
       "116    117  50.581035\n",
       "2105  2108  45.638999\n",
       "1461  1464  43.655411\n",
       "660    663  41.854643\n",
       "525    528  39.728826\n",
       "610    613  39.425706"
      ]
     },
     "metadata": {},
     "output_type": "display_data"
    }
   ],
   "source": [
    "display(data_gas.sort_values(by='Газ 1', ascending=False).head(10))"
   ]
  },
  {
   "cell_type": "markdown",
   "id": "40fb158e",
   "metadata": {},
   "source": [
    "Данные выглядят в порядке, ничего критичного не вижу."
   ]
  },
  {
   "cell_type": "markdown",
   "id": "6e1c81c4",
   "metadata": {},
   "source": [
    "### Анализ результатов измерения температуры"
   ]
  },
  {
   "cell_type": "code",
   "execution_count": 18,
   "id": "62fe3598",
   "metadata": {},
   "outputs": [
    {
     "data": {
      "text/html": [
       "<div>\n",
       "<style scoped>\n",
       "    .dataframe tbody tr th:only-of-type {\n",
       "        vertical-align: middle;\n",
       "    }\n",
       "\n",
       "    .dataframe tbody tr th {\n",
       "        vertical-align: top;\n",
       "    }\n",
       "\n",
       "    .dataframe thead th {\n",
       "        text-align: right;\n",
       "    }\n",
       "</style>\n",
       "<table border=\"1\" class=\"dataframe\">\n",
       "  <thead>\n",
       "    <tr style=\"text-align: right;\">\n",
       "      <th></th>\n",
       "      <th>key</th>\n",
       "      <th>Время замера</th>\n",
       "      <th>Температура</th>\n",
       "    </tr>\n",
       "  </thead>\n",
       "  <tbody>\n",
       "    <tr>\n",
       "      <td>0</td>\n",
       "      <td>1</td>\n",
       "      <td>2019-05-03 11:16:18</td>\n",
       "      <td>1571.0</td>\n",
       "    </tr>\n",
       "    <tr>\n",
       "      <td>1</td>\n",
       "      <td>1</td>\n",
       "      <td>2019-05-03 11:25:53</td>\n",
       "      <td>1604.0</td>\n",
       "    </tr>\n",
       "    <tr>\n",
       "      <td>2</td>\n",
       "      <td>1</td>\n",
       "      <td>2019-05-03 11:29:11</td>\n",
       "      <td>1618.0</td>\n",
       "    </tr>\n",
       "    <tr>\n",
       "      <td>3</td>\n",
       "      <td>1</td>\n",
       "      <td>2019-05-03 11:30:01</td>\n",
       "      <td>1601.0</td>\n",
       "    </tr>\n",
       "    <tr>\n",
       "      <td>4</td>\n",
       "      <td>1</td>\n",
       "      <td>2019-05-03 11:30:39</td>\n",
       "      <td>1613.0</td>\n",
       "    </tr>\n",
       "  </tbody>\n",
       "</table>\n",
       "</div>"
      ],
      "text/plain": [
       "   key         Время замера  Температура\n",
       "0    1  2019-05-03 11:16:18       1571.0\n",
       "1    1  2019-05-03 11:25:53       1604.0\n",
       "2    1  2019-05-03 11:29:11       1618.0\n",
       "3    1  2019-05-03 11:30:01       1601.0\n",
       "4    1  2019-05-03 11:30:39       1613.0"
      ]
     },
     "metadata": {},
     "output_type": "display_data"
    },
    {
     "data": {
      "text/html": [
       "<div>\n",
       "<style scoped>\n",
       "    .dataframe tbody tr th:only-of-type {\n",
       "        vertical-align: middle;\n",
       "    }\n",
       "\n",
       "    .dataframe tbody tr th {\n",
       "        vertical-align: top;\n",
       "    }\n",
       "\n",
       "    .dataframe thead th {\n",
       "        text-align: right;\n",
       "    }\n",
       "</style>\n",
       "<table border=\"1\" class=\"dataframe\">\n",
       "  <thead>\n",
       "    <tr style=\"text-align: right;\">\n",
       "      <th></th>\n",
       "      <th>key</th>\n",
       "      <th>Температура</th>\n",
       "    </tr>\n",
       "  </thead>\n",
       "  <tbody>\n",
       "    <tr>\n",
       "      <td>count</td>\n",
       "      <td>15907.000</td>\n",
       "      <td>13006.000</td>\n",
       "    </tr>\n",
       "    <tr>\n",
       "      <td>mean</td>\n",
       "      <td>1607.881</td>\n",
       "      <td>1591.841</td>\n",
       "    </tr>\n",
       "    <tr>\n",
       "      <td>std</td>\n",
       "      <td>942.212</td>\n",
       "      <td>21.376</td>\n",
       "    </tr>\n",
       "    <tr>\n",
       "      <td>min</td>\n",
       "      <td>1.000</td>\n",
       "      <td>1191.000</td>\n",
       "    </tr>\n",
       "    <tr>\n",
       "      <td>25%</td>\n",
       "      <td>790.000</td>\n",
       "      <td>1581.000</td>\n",
       "    </tr>\n",
       "    <tr>\n",
       "      <td>50%</td>\n",
       "      <td>1618.000</td>\n",
       "      <td>1591.000</td>\n",
       "    </tr>\n",
       "    <tr>\n",
       "      <td>75%</td>\n",
       "      <td>2427.000</td>\n",
       "      <td>1601.000</td>\n",
       "    </tr>\n",
       "    <tr>\n",
       "      <td>max</td>\n",
       "      <td>3241.000</td>\n",
       "      <td>1705.000</td>\n",
       "    </tr>\n",
       "  </tbody>\n",
       "</table>\n",
       "</div>"
      ],
      "text/plain": [
       "             key  Температура\n",
       "count  15907.000    13006.000\n",
       "mean    1607.881     1591.841\n",
       "std      942.212       21.376\n",
       "min        1.000     1191.000\n",
       "25%      790.000     1581.000\n",
       "50%     1618.000     1591.000\n",
       "75%     2427.000     1601.000\n",
       "max     3241.000     1705.000"
      ]
     },
     "metadata": {},
     "output_type": "display_data"
    },
    {
     "name": "stdout",
     "output_type": "stream",
     "text": [
      "Количество дубликатов: 0\n",
      "\n",
      "<class 'pandas.core.frame.DataFrame'>\n",
      "RangeIndex: 15907 entries, 0 to 15906\n",
      "Data columns (total 3 columns):\n",
      "key             15907 non-null int64\n",
      "Время замера    15907 non-null object\n",
      "Температура     13006 non-null float64\n",
      "dtypes: float64(1), int64(1), object(1)\n",
      "memory usage: 372.9+ KB\n"
     ]
    }
   ],
   "source": [
    "data_an(data_temp)"
   ]
  },
  {
   "cell_type": "markdown",
   "id": "6d871032",
   "metadata": {},
   "source": [
    "Судя по всему температура не везде записалась, т.к. есть пропуски, а жаль. Скорее всего придётся дропать пустые строки.\n",
    "\n",
    "Средняя температура практически равна медианной.\n",
    "\n",
    "Изменим тип данных у времени замера."
   ]
  },
  {
   "cell_type": "code",
   "execution_count": 19,
   "id": "ea55b8f7",
   "metadata": {},
   "outputs": [
    {
     "name": "stdout",
     "output_type": "stream",
     "text": [
      "<class 'pandas.core.frame.DataFrame'>\n",
      "RangeIndex: 15907 entries, 0 to 15906\n",
      "Data columns (total 3 columns):\n",
      "key             15907 non-null int64\n",
      "Время замера    15907 non-null datetime64[ns]\n",
      "Температура     13006 non-null float64\n",
      "dtypes: datetime64[ns](1), float64(1), int64(1)\n",
      "memory usage: 372.9 KB\n"
     ]
    }
   ],
   "source": [
    "data_temp['Время замера'] = pd.to_datetime(data_temp['Время замера'])\n",
    "data_temp.info()"
   ]
  },
  {
   "cell_type": "code",
   "execution_count": 20,
   "id": "9597ea4d",
   "metadata": {},
   "outputs": [
    {
     "data": {
      "image/png": "[encoded data removed]",
      "text/plain": [
       "<Figure size 960x480 with 1 Axes>"
      ]
     },
     "metadata": {},
     "output_type": "display_data"
    },
    {
     "name": "stdout",
     "output_type": "stream",
     "text": [
      "Количество статистических выбросов = 0\n",
      "Доля статистических выбросов = 0.0\n"
     ]
    }
   ],
   "source": [
    "draw_plots(data_temp, 'Температура')"
   ]
  },
  {
   "cell_type": "code",
   "execution_count": 21,
   "id": "968b0e16",
   "metadata": {},
   "outputs": [
    {
     "data": {
      "text/html": [
       "<div>\n",
       "<style scoped>\n",
       "    .dataframe tbody tr th:only-of-type {\n",
       "        vertical-align: middle;\n",
       "    }\n",
       "\n",
       "    .dataframe tbody tr th {\n",
       "        vertical-align: top;\n",
       "    }\n",
       "\n",
       "    .dataframe thead th {\n",
       "        text-align: right;\n",
       "    }\n",
       "</style>\n",
       "<table border=\"1\" class=\"dataframe\">\n",
       "  <thead>\n",
       "    <tr style=\"text-align: right;\">\n",
       "      <th></th>\n",
       "      <th>Кол-во замеров</th>\n",
       "      <th>Кол-во партий</th>\n",
       "    </tr>\n",
       "  </thead>\n",
       "  <tbody>\n",
       "    <tr>\n",
       "      <td>0</td>\n",
       "      <td>1</td>\n",
       "      <td>741</td>\n",
       "    </tr>\n",
       "    <tr>\n",
       "      <td>1</td>\n",
       "      <td>2</td>\n",
       "      <td>56</td>\n",
       "    </tr>\n",
       "    <tr>\n",
       "      <td>2</td>\n",
       "      <td>3</td>\n",
       "      <td>432</td>\n",
       "    </tr>\n",
       "    <tr>\n",
       "      <td>3</td>\n",
       "      <td>4</td>\n",
       "      <td>650</td>\n",
       "    </tr>\n",
       "    <tr>\n",
       "      <td>4</td>\n",
       "      <td>5</td>\n",
       "      <td>585</td>\n",
       "    </tr>\n",
       "    <tr>\n",
       "      <td>5</td>\n",
       "      <td>6</td>\n",
       "      <td>370</td>\n",
       "    </tr>\n",
       "    <tr>\n",
       "      <td>6</td>\n",
       "      <td>7</td>\n",
       "      <td>182</td>\n",
       "    </tr>\n",
       "    <tr>\n",
       "      <td>7</td>\n",
       "      <td>8</td>\n",
       "      <td>100</td>\n",
       "    </tr>\n",
       "    <tr>\n",
       "      <td>8</td>\n",
       "      <td>9</td>\n",
       "      <td>43</td>\n",
       "    </tr>\n",
       "    <tr>\n",
       "      <td>9</td>\n",
       "      <td>10</td>\n",
       "      <td>21</td>\n",
       "    </tr>\n",
       "    <tr>\n",
       "      <td>10</td>\n",
       "      <td>11</td>\n",
       "      <td>16</td>\n",
       "    </tr>\n",
       "    <tr>\n",
       "      <td>11</td>\n",
       "      <td>12</td>\n",
       "      <td>12</td>\n",
       "    </tr>\n",
       "    <tr>\n",
       "      <td>12</td>\n",
       "      <td>13</td>\n",
       "      <td>1</td>\n",
       "    </tr>\n",
       "    <tr>\n",
       "      <td>13</td>\n",
       "      <td>14</td>\n",
       "      <td>1</td>\n",
       "    </tr>\n",
       "    <tr>\n",
       "      <td>14</td>\n",
       "      <td>15</td>\n",
       "      <td>2</td>\n",
       "    </tr>\n",
       "    <tr>\n",
       "      <td>15</td>\n",
       "      <td>16</td>\n",
       "      <td>4</td>\n",
       "    </tr>\n",
       "  </tbody>\n",
       "</table>\n",
       "</div>"
      ],
      "text/plain": [
       "    Кол-во замеров  Кол-во партий\n",
       "0                1            741\n",
       "1                2             56\n",
       "2                3            432\n",
       "3                4            650\n",
       "4                5            585\n",
       "5                6            370\n",
       "6                7            182\n",
       "7                8            100\n",
       "8                9             43\n",
       "9               10             21\n",
       "10              11             16\n",
       "11              12             12\n",
       "12              13              1\n",
       "13              14              1\n",
       "14              15              2\n",
       "15              16              4"
      ]
     },
     "metadata": {},
     "output_type": "display_data"
    }
   ],
   "source": [
    "temp = data_temp.groupby('key', as_index=False)['Температура'].count()\n",
    "temp_count = temp.groupby('Температура', as_index=False).count()\n",
    "temp_count.rename(columns={'key':'Кол-во партий', 'Температура':'Кол-во замеров'}, inplace=True)\n",
    "display(temp_count)"
   ]
  },
  {
   "cell_type": "markdown",
   "id": "c3bae499",
   "metadata": {},
   "source": [
    "По 741 партии был сделан всего 1 замер. Т.к. для модели таргетом будет являться конечная температура, скорее всего все партии с одним замером придётся удалить, т.к. будет сложно выяснить какой по счёту замер температуры мы видим - первый, последний или какой-то промежуточный."
   ]
  },
  {
   "cell_type": "markdown",
   "id": "17e75d13",
   "metadata": {},
   "source": [
    "### Анализ данных о проволочных материалах + время"
   ]
  },
  {
   "cell_type": "code",
   "execution_count": 22,
   "id": "11dcf5c6",
   "metadata": {},
   "outputs": [
    {
     "data": {
      "text/html": [
       "<div>\n",
       "<style scoped>\n",
       "    .dataframe tbody tr th:only-of-type {\n",
       "        vertical-align: middle;\n",
       "    }\n",
       "\n",
       "    .dataframe tbody tr th {\n",
       "        vertical-align: top;\n",
       "    }\n",
       "\n",
       "    .dataframe thead th {\n",
       "        text-align: right;\n",
       "    }\n",
       "</style>\n",
       "<table border=\"1\" class=\"dataframe\">\n",
       "  <thead>\n",
       "    <tr style=\"text-align: right;\">\n",
       "      <th></th>\n",
       "      <th>key</th>\n",
       "      <th>Wire 1</th>\n",
       "      <th>Wire 2</th>\n",
       "      <th>Wire 3</th>\n",
       "      <th>Wire 4</th>\n",
       "      <th>Wire 5</th>\n",
       "      <th>Wire 6</th>\n",
       "      <th>Wire 7</th>\n",
       "      <th>Wire 8</th>\n",
       "      <th>Wire 9</th>\n",
       "    </tr>\n",
       "  </thead>\n",
       "  <tbody>\n",
       "    <tr>\n",
       "      <td>0</td>\n",
       "      <td>1</td>\n",
       "      <td>60.059998</td>\n",
       "      <td>NaN</td>\n",
       "      <td>NaN</td>\n",
       "      <td>NaN</td>\n",
       "      <td>NaN</td>\n",
       "      <td>NaN</td>\n",
       "      <td>NaN</td>\n",
       "      <td>NaN</td>\n",
       "      <td>NaN</td>\n",
       "    </tr>\n",
       "    <tr>\n",
       "      <td>1</td>\n",
       "      <td>2</td>\n",
       "      <td>96.052315</td>\n",
       "      <td>NaN</td>\n",
       "      <td>NaN</td>\n",
       "      <td>NaN</td>\n",
       "      <td>NaN</td>\n",
       "      <td>NaN</td>\n",
       "      <td>NaN</td>\n",
       "      <td>NaN</td>\n",
       "      <td>NaN</td>\n",
       "    </tr>\n",
       "    <tr>\n",
       "      <td>2</td>\n",
       "      <td>3</td>\n",
       "      <td>91.160157</td>\n",
       "      <td>NaN</td>\n",
       "      <td>NaN</td>\n",
       "      <td>NaN</td>\n",
       "      <td>NaN</td>\n",
       "      <td>NaN</td>\n",
       "      <td>NaN</td>\n",
       "      <td>NaN</td>\n",
       "      <td>NaN</td>\n",
       "    </tr>\n",
       "    <tr>\n",
       "      <td>3</td>\n",
       "      <td>4</td>\n",
       "      <td>89.063515</td>\n",
       "      <td>NaN</td>\n",
       "      <td>NaN</td>\n",
       "      <td>NaN</td>\n",
       "      <td>NaN</td>\n",
       "      <td>NaN</td>\n",
       "      <td>NaN</td>\n",
       "      <td>NaN</td>\n",
       "      <td>NaN</td>\n",
       "    </tr>\n",
       "    <tr>\n",
       "      <td>4</td>\n",
       "      <td>5</td>\n",
       "      <td>89.238236</td>\n",
       "      <td>9.11456</td>\n",
       "      <td>NaN</td>\n",
       "      <td>NaN</td>\n",
       "      <td>NaN</td>\n",
       "      <td>NaN</td>\n",
       "      <td>NaN</td>\n",
       "      <td>NaN</td>\n",
       "      <td>NaN</td>\n",
       "    </tr>\n",
       "  </tbody>\n",
       "</table>\n",
       "</div>"
      ],
      "text/plain": [
       "   key     Wire 1   Wire 2  Wire 3  Wire 4  Wire 5  Wire 6  Wire 7  Wire 8  \\\n",
       "0    1  60.059998      NaN     NaN     NaN     NaN     NaN     NaN     NaN   \n",
       "1    2  96.052315      NaN     NaN     NaN     NaN     NaN     NaN     NaN   \n",
       "2    3  91.160157      NaN     NaN     NaN     NaN     NaN     NaN     NaN   \n",
       "3    4  89.063515      NaN     NaN     NaN     NaN     NaN     NaN     NaN   \n",
       "4    5  89.238236  9.11456     NaN     NaN     NaN     NaN     NaN     NaN   \n",
       "\n",
       "   Wire 9  \n",
       "0     NaN  \n",
       "1     NaN  \n",
       "2     NaN  \n",
       "3     NaN  \n",
       "4     NaN  "
      ]
     },
     "metadata": {},
     "output_type": "display_data"
    },
    {
     "data": {
      "text/html": [
       "<div>\n",
       "<style scoped>\n",
       "    .dataframe tbody tr th:only-of-type {\n",
       "        vertical-align: middle;\n",
       "    }\n",
       "\n",
       "    .dataframe tbody tr th {\n",
       "        vertical-align: top;\n",
       "    }\n",
       "\n",
       "    .dataframe thead th {\n",
       "        text-align: right;\n",
       "    }\n",
       "</style>\n",
       "<table border=\"1\" class=\"dataframe\">\n",
       "  <thead>\n",
       "    <tr style=\"text-align: right;\">\n",
       "      <th></th>\n",
       "      <th>key</th>\n",
       "      <th>Wire 1</th>\n",
       "      <th>Wire 2</th>\n",
       "      <th>Wire 3</th>\n",
       "      <th>Wire 4</th>\n",
       "      <th>Wire 5</th>\n",
       "      <th>Wire 6</th>\n",
       "      <th>Wire 7</th>\n",
       "      <th>Wire 8</th>\n",
       "      <th>Wire 9</th>\n",
       "    </tr>\n",
       "  </thead>\n",
       "  <tbody>\n",
       "    <tr>\n",
       "      <td>count</td>\n",
       "      <td>3081.000</td>\n",
       "      <td>3055.000</td>\n",
       "      <td>1079.000</td>\n",
       "      <td>63.000</td>\n",
       "      <td>14.000</td>\n",
       "      <td>1.000</td>\n",
       "      <td>73.000</td>\n",
       "      <td>11.000</td>\n",
       "      <td>19.000</td>\n",
       "      <td>29.000</td>\n",
       "    </tr>\n",
       "    <tr>\n",
       "      <td>mean</td>\n",
       "      <td>1623.426</td>\n",
       "      <td>100.896</td>\n",
       "      <td>50.577</td>\n",
       "      <td>189.483</td>\n",
       "      <td>57.443</td>\n",
       "      <td>15.132</td>\n",
       "      <td>48.017</td>\n",
       "      <td>10.039</td>\n",
       "      <td>53.625</td>\n",
       "      <td>34.156</td>\n",
       "    </tr>\n",
       "    <tr>\n",
       "      <td>std</td>\n",
       "      <td>932.997</td>\n",
       "      <td>42.013</td>\n",
       "      <td>39.320</td>\n",
       "      <td>99.513</td>\n",
       "      <td>28.825</td>\n",
       "      <td>NaN</td>\n",
       "      <td>33.920</td>\n",
       "      <td>8.611</td>\n",
       "      <td>16.882</td>\n",
       "      <td>19.932</td>\n",
       "    </tr>\n",
       "    <tr>\n",
       "      <td>min</td>\n",
       "      <td>1.000</td>\n",
       "      <td>1.919</td>\n",
       "      <td>0.030</td>\n",
       "      <td>0.144</td>\n",
       "      <td>24.149</td>\n",
       "      <td>15.132</td>\n",
       "      <td>0.034</td>\n",
       "      <td>0.234</td>\n",
       "      <td>45.077</td>\n",
       "      <td>4.623</td>\n",
       "    </tr>\n",
       "    <tr>\n",
       "      <td>25%</td>\n",
       "      <td>823.000</td>\n",
       "      <td>72.116</td>\n",
       "      <td>20.194</td>\n",
       "      <td>95.135</td>\n",
       "      <td>40.807</td>\n",
       "      <td>15.132</td>\n",
       "      <td>25.054</td>\n",
       "      <td>6.763</td>\n",
       "      <td>46.095</td>\n",
       "      <td>22.058</td>\n",
       "    </tr>\n",
       "    <tr>\n",
       "      <td>50%</td>\n",
       "      <td>1619.000</td>\n",
       "      <td>100.158</td>\n",
       "      <td>40.143</td>\n",
       "      <td>235.195</td>\n",
       "      <td>45.234</td>\n",
       "      <td>15.132</td>\n",
       "      <td>42.076</td>\n",
       "      <td>9.017</td>\n",
       "      <td>46.280</td>\n",
       "      <td>30.066</td>\n",
       "    </tr>\n",
       "    <tr>\n",
       "      <td>75%</td>\n",
       "      <td>2434.000</td>\n",
       "      <td>126.060</td>\n",
       "      <td>70.228</td>\n",
       "      <td>276.252</td>\n",
       "      <td>76.125</td>\n",
       "      <td>15.132</td>\n",
       "      <td>64.213</td>\n",
       "      <td>11.886</td>\n",
       "      <td>48.090</td>\n",
       "      <td>43.862</td>\n",
       "    </tr>\n",
       "    <tr>\n",
       "      <td>max</td>\n",
       "      <td>3241.000</td>\n",
       "      <td>330.314</td>\n",
       "      <td>282.780</td>\n",
       "      <td>385.009</td>\n",
       "      <td>113.231</td>\n",
       "      <td>15.132</td>\n",
       "      <td>180.455</td>\n",
       "      <td>32.848</td>\n",
       "      <td>102.762</td>\n",
       "      <td>90.054</td>\n",
       "    </tr>\n",
       "  </tbody>\n",
       "</table>\n",
       "</div>"
      ],
      "text/plain": [
       "            key    Wire 1    Wire 2   Wire 3   Wire 4  Wire 5   Wire 6  \\\n",
       "count  3081.000  3055.000  1079.000   63.000   14.000   1.000   73.000   \n",
       "mean   1623.426   100.896    50.577  189.483   57.443  15.132   48.017   \n",
       "std     932.997    42.013    39.320   99.513   28.825     NaN   33.920   \n",
       "min       1.000     1.919     0.030    0.144   24.149  15.132    0.034   \n",
       "25%     823.000    72.116    20.194   95.135   40.807  15.132   25.054   \n",
       "50%    1619.000   100.158    40.143  235.195   45.234  15.132   42.076   \n",
       "75%    2434.000   126.060    70.228  276.252   76.125  15.132   64.213   \n",
       "max    3241.000   330.314   282.780  385.009  113.231  15.132  180.455   \n",
       "\n",
       "       Wire 7   Wire 8  Wire 9  \n",
       "count  11.000   19.000  29.000  \n",
       "mean   10.039   53.625  34.156  \n",
       "std     8.611   16.882  19.932  \n",
       "min     0.234   45.077   4.623  \n",
       "25%     6.763   46.095  22.058  \n",
       "50%     9.017   46.280  30.066  \n",
       "75%    11.886   48.090  43.862  \n",
       "max    32.848  102.762  90.054  "
      ]
     },
     "metadata": {},
     "output_type": "display_data"
    },
    {
     "name": "stdout",
     "output_type": "stream",
     "text": [
      "Количество дубликатов: 0\n",
      "\n",
      "<class 'pandas.core.frame.DataFrame'>\n",
      "RangeIndex: 3081 entries, 0 to 3080\n",
      "Data columns (total 10 columns):\n",
      "key       3081 non-null int64\n",
      "Wire 1    3055 non-null float64\n",
      "Wire 2    1079 non-null float64\n",
      "Wire 3    63 non-null float64\n",
      "Wire 4    14 non-null float64\n",
      "Wire 5    1 non-null float64\n",
      "Wire 6    73 non-null float64\n",
      "Wire 7    11 non-null float64\n",
      "Wire 8    19 non-null float64\n",
      "Wire 9    29 non-null float64\n",
      "dtypes: float64(9), int64(1)\n",
      "memory usage: 240.8 KB\n"
     ]
    }
   ],
   "source": [
    "data_an(data_wire)"
   ]
  },
  {
   "cell_type": "code",
   "execution_count": 23,
   "id": "391e0cb3",
   "metadata": {},
   "outputs": [
    {
     "data": {
      "text/html": [
       "<div>\n",
       "<style scoped>\n",
       "    .dataframe tbody tr th:only-of-type {\n",
       "        vertical-align: middle;\n",
       "    }\n",
       "\n",
       "    .dataframe tbody tr th {\n",
       "        vertical-align: top;\n",
       "    }\n",
       "\n",
       "    .dataframe thead th {\n",
       "        text-align: right;\n",
       "    }\n",
       "</style>\n",
       "<table border=\"1\" class=\"dataframe\">\n",
       "  <thead>\n",
       "    <tr style=\"text-align: right;\">\n",
       "      <th></th>\n",
       "      <th>key</th>\n",
       "      <th>Wire 1</th>\n",
       "      <th>Wire 2</th>\n",
       "      <th>Wire 3</th>\n",
       "      <th>Wire 4</th>\n",
       "      <th>Wire 5</th>\n",
       "      <th>Wire 6</th>\n",
       "      <th>Wire 7</th>\n",
       "      <th>Wire 8</th>\n",
       "      <th>Wire 9</th>\n",
       "    </tr>\n",
       "  </thead>\n",
       "  <tbody>\n",
       "    <tr>\n",
       "      <td>0</td>\n",
       "      <td>1</td>\n",
       "      <td>2019-05-03 11:11:41</td>\n",
       "      <td>NaN</td>\n",
       "      <td>NaN</td>\n",
       "      <td>NaN</td>\n",
       "      <td>NaN</td>\n",
       "      <td>NaN</td>\n",
       "      <td>NaN</td>\n",
       "      <td>NaN</td>\n",
       "      <td>NaN</td>\n",
       "    </tr>\n",
       "    <tr>\n",
       "      <td>1</td>\n",
       "      <td>2</td>\n",
       "      <td>2019-05-03 11:46:10</td>\n",
       "      <td>NaN</td>\n",
       "      <td>NaN</td>\n",
       "      <td>NaN</td>\n",
       "      <td>NaN</td>\n",
       "      <td>NaN</td>\n",
       "      <td>NaN</td>\n",
       "      <td>NaN</td>\n",
       "      <td>NaN</td>\n",
       "    </tr>\n",
       "    <tr>\n",
       "      <td>2</td>\n",
       "      <td>3</td>\n",
       "      <td>2019-05-03 12:13:47</td>\n",
       "      <td>NaN</td>\n",
       "      <td>NaN</td>\n",
       "      <td>NaN</td>\n",
       "      <td>NaN</td>\n",
       "      <td>NaN</td>\n",
       "      <td>NaN</td>\n",
       "      <td>NaN</td>\n",
       "      <td>NaN</td>\n",
       "    </tr>\n",
       "    <tr>\n",
       "      <td>3</td>\n",
       "      <td>4</td>\n",
       "      <td>2019-05-03 12:48:05</td>\n",
       "      <td>NaN</td>\n",
       "      <td>NaN</td>\n",
       "      <td>NaN</td>\n",
       "      <td>NaN</td>\n",
       "      <td>NaN</td>\n",
       "      <td>NaN</td>\n",
       "      <td>NaN</td>\n",
       "      <td>NaN</td>\n",
       "    </tr>\n",
       "    <tr>\n",
       "      <td>4</td>\n",
       "      <td>5</td>\n",
       "      <td>2019-05-03 13:18:15</td>\n",
       "      <td>2019-05-03 13:32:06</td>\n",
       "      <td>NaN</td>\n",
       "      <td>NaN</td>\n",
       "      <td>NaN</td>\n",
       "      <td>NaN</td>\n",
       "      <td>NaN</td>\n",
       "      <td>NaN</td>\n",
       "      <td>NaN</td>\n",
       "    </tr>\n",
       "  </tbody>\n",
       "</table>\n",
       "</div>"
      ],
      "text/plain": [
       "   key               Wire 1               Wire 2 Wire 3 Wire 4 Wire 5 Wire 6  \\\n",
       "0    1  2019-05-03 11:11:41                  NaN    NaN    NaN    NaN    NaN   \n",
       "1    2  2019-05-03 11:46:10                  NaN    NaN    NaN    NaN    NaN   \n",
       "2    3  2019-05-03 12:13:47                  NaN    NaN    NaN    NaN    NaN   \n",
       "3    4  2019-05-03 12:48:05                  NaN    NaN    NaN    NaN    NaN   \n",
       "4    5  2019-05-03 13:18:15  2019-05-03 13:32:06    NaN    NaN    NaN    NaN   \n",
       "\n",
       "  Wire 7 Wire 8 Wire 9  \n",
       "0    NaN    NaN    NaN  \n",
       "1    NaN    NaN    NaN  \n",
       "2    NaN    NaN    NaN  \n",
       "3    NaN    NaN    NaN  \n",
       "4    NaN    NaN    NaN  "
      ]
     },
     "metadata": {},
     "output_type": "display_data"
    },
    {
     "data": {
      "text/html": [
       "<div>\n",
       "<style scoped>\n",
       "    .dataframe tbody tr th:only-of-type {\n",
       "        vertical-align: middle;\n",
       "    }\n",
       "\n",
       "    .dataframe tbody tr th {\n",
       "        vertical-align: top;\n",
       "    }\n",
       "\n",
       "    .dataframe thead th {\n",
       "        text-align: right;\n",
       "    }\n",
       "</style>\n",
       "<table border=\"1\" class=\"dataframe\">\n",
       "  <thead>\n",
       "    <tr style=\"text-align: right;\">\n",
       "      <th></th>\n",
       "      <th>key</th>\n",
       "    </tr>\n",
       "  </thead>\n",
       "  <tbody>\n",
       "    <tr>\n",
       "      <td>count</td>\n",
       "      <td>3081.000</td>\n",
       "    </tr>\n",
       "    <tr>\n",
       "      <td>mean</td>\n",
       "      <td>1623.426</td>\n",
       "    </tr>\n",
       "    <tr>\n",
       "      <td>std</td>\n",
       "      <td>932.997</td>\n",
       "    </tr>\n",
       "    <tr>\n",
       "      <td>min</td>\n",
       "      <td>1.000</td>\n",
       "    </tr>\n",
       "    <tr>\n",
       "      <td>25%</td>\n",
       "      <td>823.000</td>\n",
       "    </tr>\n",
       "    <tr>\n",
       "      <td>50%</td>\n",
       "      <td>1619.000</td>\n",
       "    </tr>\n",
       "    <tr>\n",
       "      <td>75%</td>\n",
       "      <td>2434.000</td>\n",
       "    </tr>\n",
       "    <tr>\n",
       "      <td>max</td>\n",
       "      <td>3241.000</td>\n",
       "    </tr>\n",
       "  </tbody>\n",
       "</table>\n",
       "</div>"
      ],
      "text/plain": [
       "            key\n",
       "count  3081.000\n",
       "mean   1623.426\n",
       "std     932.997\n",
       "min       1.000\n",
       "25%     823.000\n",
       "50%    1619.000\n",
       "75%    2434.000\n",
       "max    3241.000"
      ]
     },
     "metadata": {},
     "output_type": "display_data"
    },
    {
     "name": "stdout",
     "output_type": "stream",
     "text": [
      "Количество дубликатов: 0\n",
      "\n",
      "<class 'pandas.core.frame.DataFrame'>\n",
      "RangeIndex: 3081 entries, 0 to 3080\n",
      "Data columns (total 10 columns):\n",
      "key       3081 non-null int64\n",
      "Wire 1    3055 non-null object\n",
      "Wire 2    1079 non-null object\n",
      "Wire 3    63 non-null object\n",
      "Wire 4    14 non-null object\n",
      "Wire 5    1 non-null object\n",
      "Wire 6    73 non-null object\n",
      "Wire 7    11 non-null object\n",
      "Wire 8    19 non-null object\n",
      "Wire 9    29 non-null object\n",
      "dtypes: int64(1), object(9)\n",
      "memory usage: 240.8+ KB\n"
     ]
    }
   ],
   "source": [
    "data_an(data_wire_time)"
   ]
  },
  {
   "cell_type": "markdown",
   "id": "b5886bc6",
   "metadata": {},
   "source": [
    "По этим двум датасетам ситуация аналогична сыпучим материалам. Скорее всего объём проволок будем скалыдвать, а время нам не понадобится."
   ]
  },
  {
   "cell_type": "markdown",
   "id": "e2bbb915",
   "metadata": {},
   "source": [
    "## Подготовка признаков"
   ]
  },
  {
   "cell_type": "markdown",
   "id": "2869afd1",
   "metadata": {},
   "source": [
    "За основу возьмём таблицу с температурами, т.к. в ней у нас таргет, а далее к ней будет присоединять остальные признаки."
   ]
  },
  {
   "cell_type": "markdown",
   "id": "cb68016d",
   "metadata": {},
   "source": [
    "### Измерения температуры"
   ]
  },
  {
   "cell_type": "code",
   "execution_count": 24,
   "id": "53f41004",
   "metadata": {},
   "outputs": [
    {
     "data": {
      "text/html": [
       "<div>\n",
       "<style scoped>\n",
       "    .dataframe tbody tr th:only-of-type {\n",
       "        vertical-align: middle;\n",
       "    }\n",
       "\n",
       "    .dataframe tbody tr th {\n",
       "        vertical-align: top;\n",
       "    }\n",
       "\n",
       "    .dataframe thead th {\n",
       "        text-align: right;\n",
       "    }\n",
       "</style>\n",
       "<table border=\"1\" class=\"dataframe\">\n",
       "  <thead>\n",
       "    <tr style=\"text-align: right;\">\n",
       "      <th></th>\n",
       "      <th>key</th>\n",
       "      <th>Время замера</th>\n",
       "      <th>Температура</th>\n",
       "    </tr>\n",
       "  </thead>\n",
       "  <tbody>\n",
       "    <tr>\n",
       "      <td>0</td>\n",
       "      <td>1</td>\n",
       "      <td>2019-05-03 11:16:18</td>\n",
       "      <td>1571.0</td>\n",
       "    </tr>\n",
       "    <tr>\n",
       "      <td>1</td>\n",
       "      <td>1</td>\n",
       "      <td>2019-05-03 11:25:53</td>\n",
       "      <td>1604.0</td>\n",
       "    </tr>\n",
       "    <tr>\n",
       "      <td>2</td>\n",
       "      <td>1</td>\n",
       "      <td>2019-05-03 11:29:11</td>\n",
       "      <td>1618.0</td>\n",
       "    </tr>\n",
       "    <tr>\n",
       "      <td>3</td>\n",
       "      <td>1</td>\n",
       "      <td>2019-05-03 11:30:01</td>\n",
       "      <td>1601.0</td>\n",
       "    </tr>\n",
       "    <tr>\n",
       "      <td>4</td>\n",
       "      <td>1</td>\n",
       "      <td>2019-05-03 11:30:39</td>\n",
       "      <td>1613.0</td>\n",
       "    </tr>\n",
       "  </tbody>\n",
       "</table>\n",
       "</div>"
      ],
      "text/plain": [
       "   key        Время замера  Температура\n",
       "0    1 2019-05-03 11:16:18       1571.0\n",
       "1    1 2019-05-03 11:25:53       1604.0\n",
       "2    1 2019-05-03 11:29:11       1618.0\n",
       "3    1 2019-05-03 11:30:01       1601.0\n",
       "4    1 2019-05-03 11:30:39       1613.0"
      ]
     },
     "metadata": {},
     "output_type": "display_data"
    }
   ],
   "source": [
    "display(data_temp.head())"
   ]
  },
  {
   "cell_type": "code",
   "execution_count": 25,
   "id": "a582cc9f",
   "metadata": {},
   "outputs": [],
   "source": [
    "data_temp = data_temp.dropna().reset_index(drop=True)"
   ]
  },
  {
   "cell_type": "code",
   "execution_count": 26,
   "id": "4b473305",
   "metadata": {},
   "outputs": [
    {
     "data": {
      "text/html": [
       "<div>\n",
       "<style scoped>\n",
       "    .dataframe tbody tr th:only-of-type {\n",
       "        vertical-align: middle;\n",
       "    }\n",
       "\n",
       "    .dataframe tbody tr th {\n",
       "        vertical-align: top;\n",
       "    }\n",
       "\n",
       "    .dataframe thead th {\n",
       "        text-align: right;\n",
       "    }\n",
       "</style>\n",
       "<table border=\"1\" class=\"dataframe\">\n",
       "  <thead>\n",
       "    <tr style=\"text-align: right;\">\n",
       "      <th></th>\n",
       "      <th>key</th>\n",
       "      <th>measure_count</th>\n",
       "      <th>first_temp_dttm</th>\n",
       "      <th>first_temp</th>\n",
       "      <th>last_temp_dttm</th>\n",
       "      <th>last_temp</th>\n",
       "    </tr>\n",
       "  </thead>\n",
       "  <tbody>\n",
       "    <tr>\n",
       "      <td>0</td>\n",
       "      <td>1</td>\n",
       "      <td>5</td>\n",
       "      <td>2019-05-03 11:16:18</td>\n",
       "      <td>1571.0</td>\n",
       "      <td>2019-05-03 11:30:39</td>\n",
       "      <td>1613.0</td>\n",
       "    </tr>\n",
       "    <tr>\n",
       "      <td>1</td>\n",
       "      <td>2</td>\n",
       "      <td>6</td>\n",
       "      <td>2019-05-03 11:37:27</td>\n",
       "      <td>1581.0</td>\n",
       "      <td>2019-05-03 11:59:12</td>\n",
       "      <td>1602.0</td>\n",
       "    </tr>\n",
       "    <tr>\n",
       "      <td>2</td>\n",
       "      <td>3</td>\n",
       "      <td>5</td>\n",
       "      <td>2019-05-03 12:13:17</td>\n",
       "      <td>1596.0</td>\n",
       "      <td>2019-05-03 12:34:57</td>\n",
       "      <td>1599.0</td>\n",
       "    </tr>\n",
       "    <tr>\n",
       "      <td>3</td>\n",
       "      <td>4</td>\n",
       "      <td>3</td>\n",
       "      <td>2019-05-03 12:52:57</td>\n",
       "      <td>1601.0</td>\n",
       "      <td>2019-05-03 12:59:25</td>\n",
       "      <td>1625.0</td>\n",
       "    </tr>\n",
       "    <tr>\n",
       "      <td>4</td>\n",
       "      <td>5</td>\n",
       "      <td>2</td>\n",
       "      <td>2019-05-03 13:23:19</td>\n",
       "      <td>1576.0</td>\n",
       "      <td>2019-05-03 13:36:01</td>\n",
       "      <td>1602.0</td>\n",
       "    </tr>\n",
       "  </tbody>\n",
       "</table>\n",
       "</div>"
      ],
      "text/plain": [
       "   key  measure_count     first_temp_dttm  first_temp      last_temp_dttm  \\\n",
       "0    1              5 2019-05-03 11:16:18      1571.0 2019-05-03 11:30:39   \n",
       "1    2              6 2019-05-03 11:37:27      1581.0 2019-05-03 11:59:12   \n",
       "2    3              5 2019-05-03 12:13:17      1596.0 2019-05-03 12:34:57   \n",
       "3    4              3 2019-05-03 12:52:57      1601.0 2019-05-03 12:59:25   \n",
       "4    5              2 2019-05-03 13:23:19      1576.0 2019-05-03 13:36:01   \n",
       "\n",
       "   last_temp  \n",
       "0     1613.0  \n",
       "1     1602.0  \n",
       "2     1599.0  \n",
       "3     1625.0  \n",
       "4     1602.0  "
      ]
     },
     "metadata": {},
     "output_type": "display_data"
    }
   ],
   "source": [
    "df = data_temp.groupby(by='key').agg(measure_count=('Температура', 'count'),\n",
    "                                                  first_temp_dttm=('Время замера', 'first'),\n",
    "                                                  first_temp=('Температура', 'first'),\n",
    "                                                  last_temp_dttm=('Время замера', 'last'),\n",
    "                                                  last_temp=('Температура', 'last')\n",
    "                                                 ).reset_index()\n",
    "display(df.head())"
   ]
  },
  {
   "cell_type": "code",
   "execution_count": 27,
   "id": "12f523c5",
   "metadata": {
    "scrolled": true
   },
   "outputs": [
    {
     "data": {
      "text/html": [
       "<div>\n",
       "<style scoped>\n",
       "    .dataframe tbody tr th:only-of-type {\n",
       "        vertical-align: middle;\n",
       "    }\n",
       "\n",
       "    .dataframe tbody tr th {\n",
       "        vertical-align: top;\n",
       "    }\n",
       "\n",
       "    .dataframe thead th {\n",
       "        text-align: right;\n",
       "    }\n",
       "</style>\n",
       "<table border=\"1\" class=\"dataframe\">\n",
       "  <thead>\n",
       "    <tr style=\"text-align: right;\">\n",
       "      <th></th>\n",
       "      <th>key</th>\n",
       "      <th>measure_count</th>\n",
       "      <th>first_temp_dttm</th>\n",
       "      <th>first_temp</th>\n",
       "      <th>last_temp_dttm</th>\n",
       "      <th>last_temp</th>\n",
       "    </tr>\n",
       "  </thead>\n",
       "  <tbody>\n",
       "    <tr>\n",
       "      <td>192</td>\n",
       "      <td>195</td>\n",
       "      <td>1</td>\n",
       "      <td>2019-05-10 14:10:23</td>\n",
       "      <td>1583.0</td>\n",
       "      <td>2019-05-10 14:10:23</td>\n",
       "      <td>1583.0</td>\n",
       "    </tr>\n",
       "    <tr>\n",
       "      <td>276</td>\n",
       "      <td>279</td>\n",
       "      <td>1</td>\n",
       "      <td>2019-05-13 23:07:28</td>\n",
       "      <td>1603.0</td>\n",
       "      <td>2019-05-13 23:07:28</td>\n",
       "      <td>1603.0</td>\n",
       "    </tr>\n",
       "    <tr>\n",
       "      <td>2477</td>\n",
       "      <td>2500</td>\n",
       "      <td>1</td>\n",
       "      <td>2019-08-06 03:11:31</td>\n",
       "      <td>1539.0</td>\n",
       "      <td>2019-08-06 03:11:31</td>\n",
       "      <td>1539.0</td>\n",
       "    </tr>\n",
       "    <tr>\n",
       "      <td>2478</td>\n",
       "      <td>2501</td>\n",
       "      <td>1</td>\n",
       "      <td>2019-08-06 03:44:42</td>\n",
       "      <td>1587.0</td>\n",
       "      <td>2019-08-06 03:44:42</td>\n",
       "      <td>1587.0</td>\n",
       "    </tr>\n",
       "    <tr>\n",
       "      <td>2479</td>\n",
       "      <td>2502</td>\n",
       "      <td>1</td>\n",
       "      <td>2019-08-06 04:45:26</td>\n",
       "      <td>1583.0</td>\n",
       "      <td>2019-08-06 04:45:26</td>\n",
       "      <td>1583.0</td>\n",
       "    </tr>\n",
       "  </tbody>\n",
       "</table>\n",
       "</div>"
      ],
      "text/plain": [
       "       key  measure_count     first_temp_dttm  first_temp      last_temp_dttm  \\\n",
       "192    195              1 2019-05-10 14:10:23      1583.0 2019-05-10 14:10:23   \n",
       "276    279              1 2019-05-13 23:07:28      1603.0 2019-05-13 23:07:28   \n",
       "2477  2500              1 2019-08-06 03:11:31      1539.0 2019-08-06 03:11:31   \n",
       "2478  2501              1 2019-08-06 03:44:42      1587.0 2019-08-06 03:44:42   \n",
       "2479  2502              1 2019-08-06 04:45:26      1583.0 2019-08-06 04:45:26   \n",
       "\n",
       "      last_temp  \n",
       "192      1583.0  \n",
       "276      1603.0  \n",
       "2477     1539.0  \n",
       "2478     1587.0  \n",
       "2479     1583.0  "
      ]
     },
     "metadata": {},
     "output_type": "display_data"
    },
    {
     "data": {
      "text/plain": [
       "741"
      ]
     },
     "metadata": {},
     "output_type": "display_data"
    }
   ],
   "source": [
    "display(df[df['measure_count']<=1].head())\n",
    "display(df[df['measure_count']<=1]['key'].count())"
   ]
  },
  {
   "cell_type": "markdown",
   "id": "d2f84236",
   "metadata": {},
   "source": [
    "Удалим партии с замерами температуры <=1, т.к. сложно определить какой по счёту это замер. В таргете нужен только последний."
   ]
  },
  {
   "cell_type": "code",
   "execution_count": 28,
   "id": "6591da62",
   "metadata": {},
   "outputs": [],
   "source": [
    "df = df[df['measure_count']>1]"
   ]
  },
  {
   "cell_type": "markdown",
   "id": "1dbfaee2",
   "metadata": {},
   "source": [
    "С температурой закончили. Перейдём к нагреваниям электродами."
   ]
  },
  {
   "cell_type": "markdown",
   "id": "448e5f5a",
   "metadata": {},
   "source": [
    "### Электроды"
   ]
  },
  {
   "cell_type": "code",
   "execution_count": 29,
   "id": "2b5b90eb",
   "metadata": {},
   "outputs": [
    {
     "data": {
      "text/html": [
       "<div>\n",
       "<style scoped>\n",
       "    .dataframe tbody tr th:only-of-type {\n",
       "        vertical-align: middle;\n",
       "    }\n",
       "\n",
       "    .dataframe tbody tr th {\n",
       "        vertical-align: top;\n",
       "    }\n",
       "\n",
       "    .dataframe thead th {\n",
       "        text-align: right;\n",
       "    }\n",
       "</style>\n",
       "<table border=\"1\" class=\"dataframe\">\n",
       "  <thead>\n",
       "    <tr style=\"text-align: right;\">\n",
       "      <th></th>\n",
       "      <th>key</th>\n",
       "      <th>Начало нагрева дугой</th>\n",
       "      <th>Конец нагрева дугой</th>\n",
       "      <th>Активная мощность</th>\n",
       "      <th>Реактивная мощность</th>\n",
       "    </tr>\n",
       "  </thead>\n",
       "  <tbody>\n",
       "    <tr>\n",
       "      <td>0</td>\n",
       "      <td>1</td>\n",
       "      <td>2019-05-03 11:02:14</td>\n",
       "      <td>2019-05-03 11:06:02</td>\n",
       "      <td>0.976059</td>\n",
       "      <td>0.687084</td>\n",
       "    </tr>\n",
       "    <tr>\n",
       "      <td>1</td>\n",
       "      <td>1</td>\n",
       "      <td>2019-05-03 11:07:28</td>\n",
       "      <td>2019-05-03 11:10:33</td>\n",
       "      <td>0.805607</td>\n",
       "      <td>0.520285</td>\n",
       "    </tr>\n",
       "    <tr>\n",
       "      <td>2</td>\n",
       "      <td>1</td>\n",
       "      <td>2019-05-03 11:11:44</td>\n",
       "      <td>2019-05-03 11:14:36</td>\n",
       "      <td>0.744363</td>\n",
       "      <td>0.498805</td>\n",
       "    </tr>\n",
       "    <tr>\n",
       "      <td>3</td>\n",
       "      <td>1</td>\n",
       "      <td>2019-05-03 11:18:14</td>\n",
       "      <td>2019-05-03 11:24:19</td>\n",
       "      <td>1.659363</td>\n",
       "      <td>1.062669</td>\n",
       "    </tr>\n",
       "    <tr>\n",
       "      <td>4</td>\n",
       "      <td>1</td>\n",
       "      <td>2019-05-03 11:26:09</td>\n",
       "      <td>2019-05-03 11:28:37</td>\n",
       "      <td>0.692755</td>\n",
       "      <td>0.414397</td>\n",
       "    </tr>\n",
       "  </tbody>\n",
       "</table>\n",
       "</div>"
      ],
      "text/plain": [
       "   key Начало нагрева дугой Конец нагрева дугой  Активная мощность  \\\n",
       "0    1  2019-05-03 11:02:14 2019-05-03 11:06:02           0.976059   \n",
       "1    1  2019-05-03 11:07:28 2019-05-03 11:10:33           0.805607   \n",
       "2    1  2019-05-03 11:11:44 2019-05-03 11:14:36           0.744363   \n",
       "3    1  2019-05-03 11:18:14 2019-05-03 11:24:19           1.659363   \n",
       "4    1  2019-05-03 11:26:09 2019-05-03 11:28:37           0.692755   \n",
       "\n",
       "   Реактивная мощность  \n",
       "0             0.687084  \n",
       "1             0.520285  \n",
       "2             0.498805  \n",
       "3             1.062669  \n",
       "4             0.414397  "
      ]
     },
     "metadata": {},
     "output_type": "display_data"
    }
   ],
   "source": [
    "display(data_arc.head())"
   ]
  },
  {
   "cell_type": "markdown",
   "id": "fb6ed6f3",
   "metadata": {},
   "source": [
    "Эти данные нужно агрегировать - вытащить суммарные мощности, первое и последнее нагревания, чтобы сравнить его с временем замера температур."
   ]
  },
  {
   "cell_type": "code",
   "execution_count": 30,
   "id": "76062141",
   "metadata": {},
   "outputs": [
    {
     "data": {
      "text/html": [
       "<div>\n",
       "<style scoped>\n",
       "    .dataframe tbody tr th:only-of-type {\n",
       "        vertical-align: middle;\n",
       "    }\n",
       "\n",
       "    .dataframe tbody tr th {\n",
       "        vertical-align: top;\n",
       "    }\n",
       "\n",
       "    .dataframe thead th {\n",
       "        text-align: right;\n",
       "    }\n",
       "</style>\n",
       "<table border=\"1\" class=\"dataframe\">\n",
       "  <thead>\n",
       "    <tr style=\"text-align: right;\">\n",
       "      <th></th>\n",
       "      <th>key</th>\n",
       "      <th>Начало нагрева дугой</th>\n",
       "      <th>Конец нагрева дугой</th>\n",
       "      <th>Активная мощность</th>\n",
       "      <th>Реактивная мощность</th>\n",
       "    </tr>\n",
       "  </thead>\n",
       "  <tbody>\n",
       "    <tr>\n",
       "      <td>0</td>\n",
       "      <td>1</td>\n",
       "      <td>2019-05-03 11:02:14</td>\n",
       "      <td>2019-05-03 11:06:02</td>\n",
       "      <td>0.976059</td>\n",
       "      <td>0.687084</td>\n",
       "    </tr>\n",
       "    <tr>\n",
       "      <td>1</td>\n",
       "      <td>1</td>\n",
       "      <td>2019-05-03 11:07:28</td>\n",
       "      <td>2019-05-03 11:10:33</td>\n",
       "      <td>0.805607</td>\n",
       "      <td>0.520285</td>\n",
       "    </tr>\n",
       "    <tr>\n",
       "      <td>2</td>\n",
       "      <td>1</td>\n",
       "      <td>2019-05-03 11:11:44</td>\n",
       "      <td>2019-05-03 11:14:36</td>\n",
       "      <td>0.744363</td>\n",
       "      <td>0.498805</td>\n",
       "    </tr>\n",
       "    <tr>\n",
       "      <td>3</td>\n",
       "      <td>1</td>\n",
       "      <td>2019-05-03 11:18:14</td>\n",
       "      <td>2019-05-03 11:24:19</td>\n",
       "      <td>1.659363</td>\n",
       "      <td>1.062669</td>\n",
       "    </tr>\n",
       "    <tr>\n",
       "      <td>4</td>\n",
       "      <td>1</td>\n",
       "      <td>2019-05-03 11:26:09</td>\n",
       "      <td>2019-05-03 11:28:37</td>\n",
       "      <td>0.692755</td>\n",
       "      <td>0.414397</td>\n",
       "    </tr>\n",
       "  </tbody>\n",
       "</table>\n",
       "</div>"
      ],
      "text/plain": [
       "   key Начало нагрева дугой Конец нагрева дугой  Активная мощность  \\\n",
       "0    1  2019-05-03 11:02:14 2019-05-03 11:06:02           0.976059   \n",
       "1    1  2019-05-03 11:07:28 2019-05-03 11:10:33           0.805607   \n",
       "2    1  2019-05-03 11:11:44 2019-05-03 11:14:36           0.744363   \n",
       "3    1  2019-05-03 11:18:14 2019-05-03 11:24:19           1.659363   \n",
       "4    1  2019-05-03 11:26:09 2019-05-03 11:28:37           0.692755   \n",
       "\n",
       "   Реактивная мощность  \n",
       "0             0.687084  \n",
       "1             0.520285  \n",
       "2             0.498805  \n",
       "3             1.062669  \n",
       "4             0.414397  "
      ]
     },
     "metadata": {},
     "output_type": "display_data"
    }
   ],
   "source": [
    "display(data_arc.head())"
   ]
  },
  {
   "cell_type": "code",
   "execution_count": 31,
   "id": "0a28504b",
   "metadata": {
    "scrolled": true
   },
   "outputs": [
    {
     "data": {
      "text/html": [
       "<div>\n",
       "<style scoped>\n",
       "    .dataframe tbody tr th:only-of-type {\n",
       "        vertical-align: middle;\n",
       "    }\n",
       "\n",
       "    .dataframe tbody tr th {\n",
       "        vertical-align: top;\n",
       "    }\n",
       "\n",
       "    .dataframe thead th {\n",
       "        text-align: right;\n",
       "    }\n",
       "</style>\n",
       "<table border=\"1\" class=\"dataframe\">\n",
       "  <thead>\n",
       "    <tr style=\"text-align: right;\">\n",
       "      <th></th>\n",
       "      <th>key</th>\n",
       "      <th>first_heat_dttm</th>\n",
       "      <th>last_heat_dttm</th>\n",
       "      <th>sum_active_power</th>\n",
       "      <th>sum_reactive_power</th>\n",
       "    </tr>\n",
       "  </thead>\n",
       "  <tbody>\n",
       "    <tr>\n",
       "      <td>0</td>\n",
       "      <td>1</td>\n",
       "      <td>2019-05-03 11:02:14</td>\n",
       "      <td>2019-05-03 11:28:37</td>\n",
       "      <td>4.878147</td>\n",
       "      <td>3.183241</td>\n",
       "    </tr>\n",
       "    <tr>\n",
       "      <td>1</td>\n",
       "      <td>2</td>\n",
       "      <td>2019-05-03 11:34:14</td>\n",
       "      <td>2019-05-03 11:53:18</td>\n",
       "      <td>3.052598</td>\n",
       "      <td>1.998112</td>\n",
       "    </tr>\n",
       "    <tr>\n",
       "      <td>2</td>\n",
       "      <td>3</td>\n",
       "      <td>2019-05-03 12:06:54</td>\n",
       "      <td>2019-05-03 12:32:19</td>\n",
       "      <td>2.525882</td>\n",
       "      <td>1.599076</td>\n",
       "    </tr>\n",
       "    <tr>\n",
       "      <td>3</td>\n",
       "      <td>4</td>\n",
       "      <td>2019-05-03 12:39:37</td>\n",
       "      <td>2019-05-03 12:57:50</td>\n",
       "      <td>3.209250</td>\n",
       "      <td>2.060298</td>\n",
       "    </tr>\n",
       "    <tr>\n",
       "      <td>4</td>\n",
       "      <td>5</td>\n",
       "      <td>2019-05-03 13:11:13</td>\n",
       "      <td>2019-05-03 13:33:55</td>\n",
       "      <td>3.347173</td>\n",
       "      <td>2.252643</td>\n",
       "    </tr>\n",
       "  </tbody>\n",
       "</table>\n",
       "</div>"
      ],
      "text/plain": [
       "   key     first_heat_dttm      last_heat_dttm  sum_active_power  \\\n",
       "0    1 2019-05-03 11:02:14 2019-05-03 11:28:37          4.878147   \n",
       "1    2 2019-05-03 11:34:14 2019-05-03 11:53:18          3.052598   \n",
       "2    3 2019-05-03 12:06:54 2019-05-03 12:32:19          2.525882   \n",
       "3    4 2019-05-03 12:39:37 2019-05-03 12:57:50          3.209250   \n",
       "4    5 2019-05-03 13:11:13 2019-05-03 13:33:55          3.347173   \n",
       "\n",
       "   sum_reactive_power  \n",
       "0            3.183241  \n",
       "1            1.998112  \n",
       "2            1.599076  \n",
       "3            2.060298  \n",
       "4            2.252643  "
      ]
     },
     "metadata": {},
     "output_type": "display_data"
    }
   ],
   "source": [
    "df_arc = data_arc.groupby(by='key').agg(first_heat_dttm=('Начало нагрева дугой', 'first'),\n",
    "                                                    last_heat_dttm=('Конец нагрева дугой', 'last'),\n",
    "                                                    sum_active_power=('Активная мощность', 'sum'),\n",
    "                                                    sum_reactive_power=('Реактивная мощность', 'sum')\n",
    "                                                    #heat_count=('Начало нагрева дугой', 'count') маловажный признак\n",
    "                                                    ).reset_index()\n",
    "display(df_arc.head())"
   ]
  },
  {
   "cell_type": "code",
   "execution_count": 32,
   "id": "3b2561d2",
   "metadata": {},
   "outputs": [
    {
     "data": {
      "text/html": [
       "<div>\n",
       "<style scoped>\n",
       "    .dataframe tbody tr th:only-of-type {\n",
       "        vertical-align: middle;\n",
       "    }\n",
       "\n",
       "    .dataframe tbody tr th {\n",
       "        vertical-align: top;\n",
       "    }\n",
       "\n",
       "    .dataframe thead th {\n",
       "        text-align: right;\n",
       "    }\n",
       "</style>\n",
       "<table border=\"1\" class=\"dataframe\">\n",
       "  <thead>\n",
       "    <tr style=\"text-align: right;\">\n",
       "      <th></th>\n",
       "      <th>key</th>\n",
       "      <th>measure_count</th>\n",
       "      <th>first_temp_dttm</th>\n",
       "      <th>first_temp</th>\n",
       "      <th>last_temp_dttm</th>\n",
       "      <th>last_temp</th>\n",
       "      <th>first_heat_dttm</th>\n",
       "      <th>last_heat_dttm</th>\n",
       "      <th>sum_active_power</th>\n",
       "      <th>sum_reactive_power</th>\n",
       "    </tr>\n",
       "  </thead>\n",
       "  <tbody>\n",
       "    <tr>\n",
       "      <td>0</td>\n",
       "      <td>1</td>\n",
       "      <td>5</td>\n",
       "      <td>2019-05-03 11:16:18</td>\n",
       "      <td>1571.0</td>\n",
       "      <td>2019-05-03 11:30:39</td>\n",
       "      <td>1613.0</td>\n",
       "      <td>2019-05-03 11:02:14</td>\n",
       "      <td>2019-05-03 11:28:37</td>\n",
       "      <td>4.878147</td>\n",
       "      <td>3.183241</td>\n",
       "    </tr>\n",
       "    <tr>\n",
       "      <td>1</td>\n",
       "      <td>2</td>\n",
       "      <td>6</td>\n",
       "      <td>2019-05-03 11:37:27</td>\n",
       "      <td>1581.0</td>\n",
       "      <td>2019-05-03 11:59:12</td>\n",
       "      <td>1602.0</td>\n",
       "      <td>2019-05-03 11:34:14</td>\n",
       "      <td>2019-05-03 11:53:18</td>\n",
       "      <td>3.052598</td>\n",
       "      <td>1.998112</td>\n",
       "    </tr>\n",
       "    <tr>\n",
       "      <td>2</td>\n",
       "      <td>3</td>\n",
       "      <td>5</td>\n",
       "      <td>2019-05-03 12:13:17</td>\n",
       "      <td>1596.0</td>\n",
       "      <td>2019-05-03 12:34:57</td>\n",
       "      <td>1599.0</td>\n",
       "      <td>2019-05-03 12:06:54</td>\n",
       "      <td>2019-05-03 12:32:19</td>\n",
       "      <td>2.525882</td>\n",
       "      <td>1.599076</td>\n",
       "    </tr>\n",
       "    <tr>\n",
       "      <td>3</td>\n",
       "      <td>4</td>\n",
       "      <td>3</td>\n",
       "      <td>2019-05-03 12:52:57</td>\n",
       "      <td>1601.0</td>\n",
       "      <td>2019-05-03 12:59:25</td>\n",
       "      <td>1625.0</td>\n",
       "      <td>2019-05-03 12:39:37</td>\n",
       "      <td>2019-05-03 12:57:50</td>\n",
       "      <td>3.209250</td>\n",
       "      <td>2.060298</td>\n",
       "    </tr>\n",
       "    <tr>\n",
       "      <td>4</td>\n",
       "      <td>5</td>\n",
       "      <td>2</td>\n",
       "      <td>2019-05-03 13:23:19</td>\n",
       "      <td>1576.0</td>\n",
       "      <td>2019-05-03 13:36:01</td>\n",
       "      <td>1602.0</td>\n",
       "      <td>2019-05-03 13:11:13</td>\n",
       "      <td>2019-05-03 13:33:55</td>\n",
       "      <td>3.347173</td>\n",
       "      <td>2.252643</td>\n",
       "    </tr>\n",
       "  </tbody>\n",
       "</table>\n",
       "</div>"
      ],
      "text/plain": [
       "   key  measure_count     first_temp_dttm  first_temp      last_temp_dttm  \\\n",
       "0    1              5 2019-05-03 11:16:18      1571.0 2019-05-03 11:30:39   \n",
       "1    2              6 2019-05-03 11:37:27      1581.0 2019-05-03 11:59:12   \n",
       "2    3              5 2019-05-03 12:13:17      1596.0 2019-05-03 12:34:57   \n",
       "3    4              3 2019-05-03 12:52:57      1601.0 2019-05-03 12:59:25   \n",
       "4    5              2 2019-05-03 13:23:19      1576.0 2019-05-03 13:36:01   \n",
       "\n",
       "   last_temp     first_heat_dttm      last_heat_dttm  sum_active_power  \\\n",
       "0     1613.0 2019-05-03 11:02:14 2019-05-03 11:28:37          4.878147   \n",
       "1     1602.0 2019-05-03 11:34:14 2019-05-03 11:53:18          3.052598   \n",
       "2     1599.0 2019-05-03 12:06:54 2019-05-03 12:32:19          2.525882   \n",
       "3     1625.0 2019-05-03 12:39:37 2019-05-03 12:57:50          3.209250   \n",
       "4     1602.0 2019-05-03 13:11:13 2019-05-03 13:33:55          3.347173   \n",
       "\n",
       "   sum_reactive_power  \n",
       "0            3.183241  \n",
       "1            1.998112  \n",
       "2            1.599076  \n",
       "3            2.060298  \n",
       "4            2.252643  "
      ]
     },
     "metadata": {},
     "output_type": "display_data"
    }
   ],
   "source": [
    "df_fin = df.merge(df_arc, on='key', how='left')\n",
    "display(df_fin.head())"
   ]
  },
  {
   "cell_type": "code",
   "execution_count": 33,
   "id": "e078d911",
   "metadata": {},
   "outputs": [
    {
     "data": {
      "text/html": [
       "<div>\n",
       "<style scoped>\n",
       "    .dataframe tbody tr th:only-of-type {\n",
       "        vertical-align: middle;\n",
       "    }\n",
       "\n",
       "    .dataframe tbody tr th {\n",
       "        vertical-align: top;\n",
       "    }\n",
       "\n",
       "    .dataframe thead th {\n",
       "        text-align: right;\n",
       "    }\n",
       "</style>\n",
       "<table border=\"1\" class=\"dataframe\">\n",
       "  <thead>\n",
       "    <tr style=\"text-align: right;\">\n",
       "      <th></th>\n",
       "      <th>key</th>\n",
       "      <th>measure_count</th>\n",
       "      <th>first_temp_dttm</th>\n",
       "      <th>first_temp</th>\n",
       "      <th>last_temp_dttm</th>\n",
       "      <th>last_temp</th>\n",
       "      <th>first_heat_dttm</th>\n",
       "      <th>last_heat_dttm</th>\n",
       "      <th>sum_active_power</th>\n",
       "      <th>sum_reactive_power</th>\n",
       "    </tr>\n",
       "  </thead>\n",
       "  <tbody>\n",
       "    <tr>\n",
       "      <td>0</td>\n",
       "      <td>1</td>\n",
       "      <td>5</td>\n",
       "      <td>2019-05-03 11:16:18</td>\n",
       "      <td>1571.0</td>\n",
       "      <td>2019-05-03 11:30:39</td>\n",
       "      <td>1613.0</td>\n",
       "      <td>2019-05-03 11:02:14</td>\n",
       "      <td>2019-05-03 11:28:37</td>\n",
       "      <td>4.878147</td>\n",
       "      <td>3.183241</td>\n",
       "    </tr>\n",
       "    <tr>\n",
       "      <td>1</td>\n",
       "      <td>2</td>\n",
       "      <td>6</td>\n",
       "      <td>2019-05-03 11:37:27</td>\n",
       "      <td>1581.0</td>\n",
       "      <td>2019-05-03 11:59:12</td>\n",
       "      <td>1602.0</td>\n",
       "      <td>2019-05-03 11:34:14</td>\n",
       "      <td>2019-05-03 11:53:18</td>\n",
       "      <td>3.052598</td>\n",
       "      <td>1.998112</td>\n",
       "    </tr>\n",
       "    <tr>\n",
       "      <td>2</td>\n",
       "      <td>3</td>\n",
       "      <td>5</td>\n",
       "      <td>2019-05-03 12:13:17</td>\n",
       "      <td>1596.0</td>\n",
       "      <td>2019-05-03 12:34:57</td>\n",
       "      <td>1599.0</td>\n",
       "      <td>2019-05-03 12:06:54</td>\n",
       "      <td>2019-05-03 12:32:19</td>\n",
       "      <td>2.525882</td>\n",
       "      <td>1.599076</td>\n",
       "    </tr>\n",
       "    <tr>\n",
       "      <td>3</td>\n",
       "      <td>4</td>\n",
       "      <td>3</td>\n",
       "      <td>2019-05-03 12:52:57</td>\n",
       "      <td>1601.0</td>\n",
       "      <td>2019-05-03 12:59:25</td>\n",
       "      <td>1625.0</td>\n",
       "      <td>2019-05-03 12:39:37</td>\n",
       "      <td>2019-05-03 12:57:50</td>\n",
       "      <td>3.209250</td>\n",
       "      <td>2.060298</td>\n",
       "    </tr>\n",
       "    <tr>\n",
       "      <td>4</td>\n",
       "      <td>5</td>\n",
       "      <td>2</td>\n",
       "      <td>2019-05-03 13:23:19</td>\n",
       "      <td>1576.0</td>\n",
       "      <td>2019-05-03 13:36:01</td>\n",
       "      <td>1602.0</td>\n",
       "      <td>2019-05-03 13:11:13</td>\n",
       "      <td>2019-05-03 13:33:55</td>\n",
       "      <td>3.347173</td>\n",
       "      <td>2.252643</td>\n",
       "    </tr>\n",
       "  </tbody>\n",
       "</table>\n",
       "</div>"
      ],
      "text/plain": [
       "   key  measure_count     first_temp_dttm  first_temp      last_temp_dttm  \\\n",
       "0    1              5 2019-05-03 11:16:18      1571.0 2019-05-03 11:30:39   \n",
       "1    2              6 2019-05-03 11:37:27      1581.0 2019-05-03 11:59:12   \n",
       "2    3              5 2019-05-03 12:13:17      1596.0 2019-05-03 12:34:57   \n",
       "3    4              3 2019-05-03 12:52:57      1601.0 2019-05-03 12:59:25   \n",
       "4    5              2 2019-05-03 13:23:19      1576.0 2019-05-03 13:36:01   \n",
       "\n",
       "   last_temp     first_heat_dttm      last_heat_dttm  sum_active_power  \\\n",
       "0     1613.0 2019-05-03 11:02:14 2019-05-03 11:28:37          4.878147   \n",
       "1     1602.0 2019-05-03 11:34:14 2019-05-03 11:53:18          3.052598   \n",
       "2     1599.0 2019-05-03 12:06:54 2019-05-03 12:32:19          2.525882   \n",
       "3     1625.0 2019-05-03 12:39:37 2019-05-03 12:57:50          3.209250   \n",
       "4     1602.0 2019-05-03 13:11:13 2019-05-03 13:33:55          3.347173   \n",
       "\n",
       "   sum_reactive_power  \n",
       "0            3.183241  \n",
       "1            1.998112  \n",
       "2            1.599076  \n",
       "3            2.060298  \n",
       "4            2.252643  "
      ]
     },
     "metadata": {},
     "output_type": "display_data"
    }
   ],
   "source": [
    "display(df_fin.query('last_temp_dttm < last_heat_dttm | first_temp_dttm > first_heat_dttm').head())"
   ]
  },
  {
   "cell_type": "code",
   "execution_count": 34,
   "id": "d9eeda0f",
   "metadata": {},
   "outputs": [
    {
     "name": "stdout",
     "output_type": "stream",
     "text": [
      "Кол-во партий с нагревом до первого замера температуры 2442\n",
      "Доля партий с нагревом до первого замера температуры 0.9867\n"
     ]
    }
   ],
   "source": [
    "print('Кол-во партий с нагревом до первого замера температуры',\n",
    "      df_fin.query('first_temp_dttm > first_heat_dttm')['key'].count())\n",
    "print('Доля партий с нагревом до первого замера температуры',\n",
    "      round(df_fin.query('first_temp_dttm > first_heat_dttm')['key'].count()/df_fin['key'].count(), 4))"
   ]
  },
  {
   "cell_type": "markdown",
   "id": "6ac4fbd7",
   "metadata": {},
   "source": [
    "Надо уточнять у бизнеса зачем нагревают до первого замера температуры."
   ]
  },
  {
   "cell_type": "code",
   "execution_count": 35,
   "id": "43c5f326",
   "metadata": {},
   "outputs": [
    {
     "name": "stdout",
     "output_type": "stream",
     "text": [
      "Кол-во партий с нагревом после последнего замера температуры 131\n",
      "Доля партий с нагревом после последнего замера температуры 0.0529\n"
     ]
    }
   ],
   "source": [
    "print('Кол-во партий с нагревом после последнего замера температуры',\n",
    "      df_fin.query('last_temp_dttm < last_heat_dttm')['key'].count())\n",
    "print('Доля партий с нагревом после последнего замера температуры',\n",
    "      round(df_fin.query('last_temp_dttm < last_heat_dttm')['key'].count()/df_fin['key'].count(), 4))"
   ]
  },
  {
   "cell_type": "markdown",
   "id": "82ef571d",
   "metadata": {},
   "source": [
    "Партии, которые нагревались после финального замера температуры, будем удалять. Т.к. последний замер температуры - это таргет, после которого не должно выполняться каких-либо действий."
   ]
  },
  {
   "cell_type": "code",
   "execution_count": 36,
   "id": "73de3330",
   "metadata": {},
   "outputs": [],
   "source": [
    "df_fin = df_fin.query('last_temp_dttm >= last_heat_dttm')"
   ]
  },
  {
   "cell_type": "markdown",
   "id": "b2bccee2",
   "metadata": {},
   "source": [
    "Переходим к сыпучим материалам. Посчитаем количество засыпаний."
   ]
  },
  {
   "cell_type": "markdown",
   "id": "ee7ccd75",
   "metadata": {},
   "source": [
    "### Сыпучие материалы"
   ]
  },
  {
   "cell_type": "code",
   "execution_count": 37,
   "id": "d9603960",
   "metadata": {
    "scrolled": false
   },
   "outputs": [
    {
     "data": {
      "text/html": [
       "<div>\n",
       "<style scoped>\n",
       "    .dataframe tbody tr th:only-of-type {\n",
       "        vertical-align: middle;\n",
       "    }\n",
       "\n",
       "    .dataframe tbody tr th {\n",
       "        vertical-align: top;\n",
       "    }\n",
       "\n",
       "    .dataframe thead th {\n",
       "        text-align: right;\n",
       "    }\n",
       "</style>\n",
       "<table border=\"1\" class=\"dataframe\">\n",
       "  <thead>\n",
       "    <tr style=\"text-align: right;\">\n",
       "      <th></th>\n",
       "      <th>key</th>\n",
       "      <th>Bulk 1</th>\n",
       "      <th>Bulk 2</th>\n",
       "      <th>Bulk 3</th>\n",
       "      <th>Bulk 4</th>\n",
       "      <th>Bulk 5</th>\n",
       "      <th>Bulk 6</th>\n",
       "      <th>Bulk 7</th>\n",
       "      <th>Bulk 8</th>\n",
       "      <th>Bulk 9</th>\n",
       "      <th>Bulk 10</th>\n",
       "      <th>Bulk 11</th>\n",
       "      <th>Bulk 12</th>\n",
       "      <th>Bulk 13</th>\n",
       "      <th>Bulk 14</th>\n",
       "      <th>Bulk 15</th>\n",
       "    </tr>\n",
       "  </thead>\n",
       "  <tbody>\n",
       "    <tr>\n",
       "      <td>0</td>\n",
       "      <td>1</td>\n",
       "      <td>0.0</td>\n",
       "      <td>0.0</td>\n",
       "      <td>0.0</td>\n",
       "      <td>43.0</td>\n",
       "      <td>0.0</td>\n",
       "      <td>0.0</td>\n",
       "      <td>0.0</td>\n",
       "      <td>0.0</td>\n",
       "      <td>0.0</td>\n",
       "      <td>0.0</td>\n",
       "      <td>0.0</td>\n",
       "      <td>206.0</td>\n",
       "      <td>0.0</td>\n",
       "      <td>150.0</td>\n",
       "      <td>154.0</td>\n",
       "    </tr>\n",
       "    <tr>\n",
       "      <td>1</td>\n",
       "      <td>2</td>\n",
       "      <td>0.0</td>\n",
       "      <td>0.0</td>\n",
       "      <td>0.0</td>\n",
       "      <td>73.0</td>\n",
       "      <td>0.0</td>\n",
       "      <td>0.0</td>\n",
       "      <td>0.0</td>\n",
       "      <td>0.0</td>\n",
       "      <td>0.0</td>\n",
       "      <td>0.0</td>\n",
       "      <td>0.0</td>\n",
       "      <td>206.0</td>\n",
       "      <td>0.0</td>\n",
       "      <td>149.0</td>\n",
       "      <td>154.0</td>\n",
       "    </tr>\n",
       "    <tr>\n",
       "      <td>2</td>\n",
       "      <td>3</td>\n",
       "      <td>0.0</td>\n",
       "      <td>0.0</td>\n",
       "      <td>0.0</td>\n",
       "      <td>34.0</td>\n",
       "      <td>0.0</td>\n",
       "      <td>0.0</td>\n",
       "      <td>0.0</td>\n",
       "      <td>0.0</td>\n",
       "      <td>0.0</td>\n",
       "      <td>0.0</td>\n",
       "      <td>0.0</td>\n",
       "      <td>205.0</td>\n",
       "      <td>0.0</td>\n",
       "      <td>152.0</td>\n",
       "      <td>153.0</td>\n",
       "    </tr>\n",
       "    <tr>\n",
       "      <td>3</td>\n",
       "      <td>4</td>\n",
       "      <td>0.0</td>\n",
       "      <td>0.0</td>\n",
       "      <td>0.0</td>\n",
       "      <td>81.0</td>\n",
       "      <td>0.0</td>\n",
       "      <td>0.0</td>\n",
       "      <td>0.0</td>\n",
       "      <td>0.0</td>\n",
       "      <td>0.0</td>\n",
       "      <td>0.0</td>\n",
       "      <td>0.0</td>\n",
       "      <td>207.0</td>\n",
       "      <td>0.0</td>\n",
       "      <td>153.0</td>\n",
       "      <td>154.0</td>\n",
       "    </tr>\n",
       "    <tr>\n",
       "      <td>4</td>\n",
       "      <td>5</td>\n",
       "      <td>0.0</td>\n",
       "      <td>0.0</td>\n",
       "      <td>0.0</td>\n",
       "      <td>78.0</td>\n",
       "      <td>0.0</td>\n",
       "      <td>0.0</td>\n",
       "      <td>0.0</td>\n",
       "      <td>0.0</td>\n",
       "      <td>0.0</td>\n",
       "      <td>0.0</td>\n",
       "      <td>0.0</td>\n",
       "      <td>203.0</td>\n",
       "      <td>0.0</td>\n",
       "      <td>151.0</td>\n",
       "      <td>152.0</td>\n",
       "    </tr>\n",
       "  </tbody>\n",
       "</table>\n",
       "</div>"
      ],
      "text/plain": [
       "   key  Bulk 1  Bulk 2  Bulk 3  Bulk 4  Bulk 5  Bulk 6  Bulk 7  Bulk 8  \\\n",
       "0    1     0.0     0.0     0.0    43.0     0.0     0.0     0.0     0.0   \n",
       "1    2     0.0     0.0     0.0    73.0     0.0     0.0     0.0     0.0   \n",
       "2    3     0.0     0.0     0.0    34.0     0.0     0.0     0.0     0.0   \n",
       "3    4     0.0     0.0     0.0    81.0     0.0     0.0     0.0     0.0   \n",
       "4    5     0.0     0.0     0.0    78.0     0.0     0.0     0.0     0.0   \n",
       "\n",
       "   Bulk 9  Bulk 10  Bulk 11  Bulk 12  Bulk 13  Bulk 14  Bulk 15  \n",
       "0     0.0      0.0      0.0    206.0      0.0    150.0    154.0  \n",
       "1     0.0      0.0      0.0    206.0      0.0    149.0    154.0  \n",
       "2     0.0      0.0      0.0    205.0      0.0    152.0    153.0  \n",
       "3     0.0      0.0      0.0    207.0      0.0    153.0    154.0  \n",
       "4     0.0      0.0      0.0    203.0      0.0    151.0    152.0  "
      ]
     },
     "metadata": {},
     "output_type": "display_data"
    }
   ],
   "source": [
    "#data_bulk['bulk_count'] = data_bulk.iloc[:,1:].count(axis=1) маловажный признак\n",
    "df_bulk = data_bulk.fillna(0)\n",
    "display(df_bulk.head())"
   ]
  },
  {
   "cell_type": "markdown",
   "id": "ba33b246",
   "metadata": {},
   "source": [
    "Просуммируем все засыпанные объёмы."
   ]
  },
  {
   "cell_type": "code",
   "execution_count": 38,
   "id": "8c4173a5",
   "metadata": {},
   "outputs": [
    {
     "data": {
      "text/html": [
       "<div>\n",
       "<style scoped>\n",
       "    .dataframe tbody tr th:only-of-type {\n",
       "        vertical-align: middle;\n",
       "    }\n",
       "\n",
       "    .dataframe tbody tr th {\n",
       "        vertical-align: top;\n",
       "    }\n",
       "\n",
       "    .dataframe thead th {\n",
       "        text-align: right;\n",
       "    }\n",
       "</style>\n",
       "<table border=\"1\" class=\"dataframe\">\n",
       "  <thead>\n",
       "    <tr style=\"text-align: right;\">\n",
       "      <th></th>\n",
       "      <th>key</th>\n",
       "      <th>Bulk 1</th>\n",
       "      <th>Bulk 2</th>\n",
       "      <th>Bulk 3</th>\n",
       "      <th>Bulk 4</th>\n",
       "      <th>Bulk 5</th>\n",
       "      <th>Bulk 6</th>\n",
       "      <th>Bulk 7</th>\n",
       "      <th>Bulk 8</th>\n",
       "      <th>Bulk 9</th>\n",
       "      <th>Bulk 10</th>\n",
       "      <th>Bulk 11</th>\n",
       "      <th>Bulk 12</th>\n",
       "      <th>Bulk 13</th>\n",
       "      <th>Bulk 14</th>\n",
       "      <th>Bulk 15</th>\n",
       "      <th>bulk_sum</th>\n",
       "    </tr>\n",
       "  </thead>\n",
       "  <tbody>\n",
       "    <tr>\n",
       "      <td>0</td>\n",
       "      <td>1</td>\n",
       "      <td>0.0</td>\n",
       "      <td>0.0</td>\n",
       "      <td>0.0</td>\n",
       "      <td>43.0</td>\n",
       "      <td>0.0</td>\n",
       "      <td>0.0</td>\n",
       "      <td>0.0</td>\n",
       "      <td>0.0</td>\n",
       "      <td>0.0</td>\n",
       "      <td>0.0</td>\n",
       "      <td>0.0</td>\n",
       "      <td>206.0</td>\n",
       "      <td>0.0</td>\n",
       "      <td>150.0</td>\n",
       "      <td>154.0</td>\n",
       "      <td>553.0</td>\n",
       "    </tr>\n",
       "    <tr>\n",
       "      <td>1</td>\n",
       "      <td>2</td>\n",
       "      <td>0.0</td>\n",
       "      <td>0.0</td>\n",
       "      <td>0.0</td>\n",
       "      <td>73.0</td>\n",
       "      <td>0.0</td>\n",
       "      <td>0.0</td>\n",
       "      <td>0.0</td>\n",
       "      <td>0.0</td>\n",
       "      <td>0.0</td>\n",
       "      <td>0.0</td>\n",
       "      <td>0.0</td>\n",
       "      <td>206.0</td>\n",
       "      <td>0.0</td>\n",
       "      <td>149.0</td>\n",
       "      <td>154.0</td>\n",
       "      <td>582.0</td>\n",
       "    </tr>\n",
       "    <tr>\n",
       "      <td>2</td>\n",
       "      <td>3</td>\n",
       "      <td>0.0</td>\n",
       "      <td>0.0</td>\n",
       "      <td>0.0</td>\n",
       "      <td>34.0</td>\n",
       "      <td>0.0</td>\n",
       "      <td>0.0</td>\n",
       "      <td>0.0</td>\n",
       "      <td>0.0</td>\n",
       "      <td>0.0</td>\n",
       "      <td>0.0</td>\n",
       "      <td>0.0</td>\n",
       "      <td>205.0</td>\n",
       "      <td>0.0</td>\n",
       "      <td>152.0</td>\n",
       "      <td>153.0</td>\n",
       "      <td>544.0</td>\n",
       "    </tr>\n",
       "    <tr>\n",
       "      <td>3</td>\n",
       "      <td>4</td>\n",
       "      <td>0.0</td>\n",
       "      <td>0.0</td>\n",
       "      <td>0.0</td>\n",
       "      <td>81.0</td>\n",
       "      <td>0.0</td>\n",
       "      <td>0.0</td>\n",
       "      <td>0.0</td>\n",
       "      <td>0.0</td>\n",
       "      <td>0.0</td>\n",
       "      <td>0.0</td>\n",
       "      <td>0.0</td>\n",
       "      <td>207.0</td>\n",
       "      <td>0.0</td>\n",
       "      <td>153.0</td>\n",
       "      <td>154.0</td>\n",
       "      <td>595.0</td>\n",
       "    </tr>\n",
       "    <tr>\n",
       "      <td>4</td>\n",
       "      <td>5</td>\n",
       "      <td>0.0</td>\n",
       "      <td>0.0</td>\n",
       "      <td>0.0</td>\n",
       "      <td>78.0</td>\n",
       "      <td>0.0</td>\n",
       "      <td>0.0</td>\n",
       "      <td>0.0</td>\n",
       "      <td>0.0</td>\n",
       "      <td>0.0</td>\n",
       "      <td>0.0</td>\n",
       "      <td>0.0</td>\n",
       "      <td>203.0</td>\n",
       "      <td>0.0</td>\n",
       "      <td>151.0</td>\n",
       "      <td>152.0</td>\n",
       "      <td>584.0</td>\n",
       "    </tr>\n",
       "  </tbody>\n",
       "</table>\n",
       "</div>"
      ],
      "text/plain": [
       "   key  Bulk 1  Bulk 2  Bulk 3  Bulk 4  Bulk 5  Bulk 6  Bulk 7  Bulk 8  \\\n",
       "0    1     0.0     0.0     0.0    43.0     0.0     0.0     0.0     0.0   \n",
       "1    2     0.0     0.0     0.0    73.0     0.0     0.0     0.0     0.0   \n",
       "2    3     0.0     0.0     0.0    34.0     0.0     0.0     0.0     0.0   \n",
       "3    4     0.0     0.0     0.0    81.0     0.0     0.0     0.0     0.0   \n",
       "4    5     0.0     0.0     0.0    78.0     0.0     0.0     0.0     0.0   \n",
       "\n",
       "   Bulk 9  Bulk 10  Bulk 11  Bulk 12  Bulk 13  Bulk 14  Bulk 15  bulk_sum  \n",
       "0     0.0      0.0      0.0    206.0      0.0    150.0    154.0     553.0  \n",
       "1     0.0      0.0      0.0    206.0      0.0    149.0    154.0     582.0  \n",
       "2     0.0      0.0      0.0    205.0      0.0    152.0    153.0     544.0  \n",
       "3     0.0      0.0      0.0    207.0      0.0    153.0    154.0     595.0  \n",
       "4     0.0      0.0      0.0    203.0      0.0    151.0    152.0     584.0  "
      ]
     },
     "metadata": {},
     "output_type": "display_data"
    }
   ],
   "source": [
    "df_bulk['bulk_sum'] = df_bulk.iloc[:,1:16].sum(axis=1)\n",
    "#df_bulk = df_bulk[['key', 'bulk_sum', 'bulk_count']] оставим все зассыпанные присадки\n",
    "display(df_bulk.head())"
   ]
  },
  {
   "cell_type": "code",
   "execution_count": 39,
   "id": "d498eb9f",
   "metadata": {},
   "outputs": [
    {
     "data": {
      "text/html": [
       "<div>\n",
       "<style scoped>\n",
       "    .dataframe tbody tr th:only-of-type {\n",
       "        vertical-align: middle;\n",
       "    }\n",
       "\n",
       "    .dataframe tbody tr th {\n",
       "        vertical-align: top;\n",
       "    }\n",
       "\n",
       "    .dataframe thead th {\n",
       "        text-align: right;\n",
       "    }\n",
       "</style>\n",
       "<table border=\"1\" class=\"dataframe\">\n",
       "  <thead>\n",
       "    <tr style=\"text-align: right;\">\n",
       "      <th></th>\n",
       "      <th>key</th>\n",
       "      <th>Bulk 1</th>\n",
       "      <th>Bulk 2</th>\n",
       "      <th>Bulk 3</th>\n",
       "      <th>Bulk 4</th>\n",
       "      <th>Bulk 5</th>\n",
       "      <th>Bulk 6</th>\n",
       "      <th>Bulk 7</th>\n",
       "      <th>Bulk 8</th>\n",
       "      <th>Bulk 9</th>\n",
       "      <th>Bulk 10</th>\n",
       "      <th>Bulk 11</th>\n",
       "      <th>Bulk 12</th>\n",
       "      <th>Bulk 13</th>\n",
       "      <th>Bulk 14</th>\n",
       "      <th>Bulk 15</th>\n",
       "    </tr>\n",
       "  </thead>\n",
       "  <tbody>\n",
       "    <tr>\n",
       "      <td>0</td>\n",
       "      <td>1</td>\n",
       "      <td>NaN</td>\n",
       "      <td>NaN</td>\n",
       "      <td>NaN</td>\n",
       "      <td>2019-05-03 11:21:30</td>\n",
       "      <td>NaN</td>\n",
       "      <td>NaN</td>\n",
       "      <td>NaN</td>\n",
       "      <td>NaN</td>\n",
       "      <td>NaN</td>\n",
       "      <td>NaN</td>\n",
       "      <td>NaN</td>\n",
       "      <td>2019-05-03 11:03:52</td>\n",
       "      <td>NaN</td>\n",
       "      <td>2019-05-03 11:03:52</td>\n",
       "      <td>2019-05-03 11:03:52</td>\n",
       "    </tr>\n",
       "    <tr>\n",
       "      <td>1</td>\n",
       "      <td>2</td>\n",
       "      <td>NaN</td>\n",
       "      <td>NaN</td>\n",
       "      <td>NaN</td>\n",
       "      <td>2019-05-03 11:46:38</td>\n",
       "      <td>NaN</td>\n",
       "      <td>NaN</td>\n",
       "      <td>NaN</td>\n",
       "      <td>NaN</td>\n",
       "      <td>NaN</td>\n",
       "      <td>NaN</td>\n",
       "      <td>NaN</td>\n",
       "      <td>2019-05-03 11:40:20</td>\n",
       "      <td>NaN</td>\n",
       "      <td>2019-05-03 11:40:20</td>\n",
       "      <td>2019-05-03 11:40:20</td>\n",
       "    </tr>\n",
       "    <tr>\n",
       "      <td>2</td>\n",
       "      <td>3</td>\n",
       "      <td>NaN</td>\n",
       "      <td>NaN</td>\n",
       "      <td>NaN</td>\n",
       "      <td>2019-05-03 12:31:06</td>\n",
       "      <td>NaN</td>\n",
       "      <td>NaN</td>\n",
       "      <td>NaN</td>\n",
       "      <td>NaN</td>\n",
       "      <td>NaN</td>\n",
       "      <td>NaN</td>\n",
       "      <td>NaN</td>\n",
       "      <td>2019-05-03 12:09:40</td>\n",
       "      <td>NaN</td>\n",
       "      <td>2019-05-03 12:09:40</td>\n",
       "      <td>2019-05-03 12:09:40</td>\n",
       "    </tr>\n",
       "    <tr>\n",
       "      <td>3</td>\n",
       "      <td>4</td>\n",
       "      <td>NaN</td>\n",
       "      <td>NaN</td>\n",
       "      <td>NaN</td>\n",
       "      <td>2019-05-03 12:48:43</td>\n",
       "      <td>NaN</td>\n",
       "      <td>NaN</td>\n",
       "      <td>NaN</td>\n",
       "      <td>NaN</td>\n",
       "      <td>NaN</td>\n",
       "      <td>NaN</td>\n",
       "      <td>NaN</td>\n",
       "      <td>2019-05-03 12:41:24</td>\n",
       "      <td>NaN</td>\n",
       "      <td>2019-05-03 12:41:24</td>\n",
       "      <td>2019-05-03 12:41:24</td>\n",
       "    </tr>\n",
       "    <tr>\n",
       "      <td>4</td>\n",
       "      <td>5</td>\n",
       "      <td>NaN</td>\n",
       "      <td>NaN</td>\n",
       "      <td>NaN</td>\n",
       "      <td>2019-05-03 13:18:50</td>\n",
       "      <td>NaN</td>\n",
       "      <td>NaN</td>\n",
       "      <td>NaN</td>\n",
       "      <td>NaN</td>\n",
       "      <td>NaN</td>\n",
       "      <td>NaN</td>\n",
       "      <td>NaN</td>\n",
       "      <td>2019-05-03 13:12:56</td>\n",
       "      <td>NaN</td>\n",
       "      <td>2019-05-03 13:12:56</td>\n",
       "      <td>2019-05-03 13:12:56</td>\n",
       "    </tr>\n",
       "  </tbody>\n",
       "</table>\n",
       "</div>"
      ],
      "text/plain": [
       "   key Bulk 1 Bulk 2 Bulk 3               Bulk 4 Bulk 5 Bulk 6 Bulk 7 Bulk 8  \\\n",
       "0    1    NaN    NaN    NaN  2019-05-03 11:21:30    NaN    NaN    NaN    NaN   \n",
       "1    2    NaN    NaN    NaN  2019-05-03 11:46:38    NaN    NaN    NaN    NaN   \n",
       "2    3    NaN    NaN    NaN  2019-05-03 12:31:06    NaN    NaN    NaN    NaN   \n",
       "3    4    NaN    NaN    NaN  2019-05-03 12:48:43    NaN    NaN    NaN    NaN   \n",
       "4    5    NaN    NaN    NaN  2019-05-03 13:18:50    NaN    NaN    NaN    NaN   \n",
       "\n",
       "  Bulk 9 Bulk 10 Bulk 11              Bulk 12 Bulk 13              Bulk 14  \\\n",
       "0    NaN     NaN     NaN  2019-05-03 11:03:52     NaN  2019-05-03 11:03:52   \n",
       "1    NaN     NaN     NaN  2019-05-03 11:40:20     NaN  2019-05-03 11:40:20   \n",
       "2    NaN     NaN     NaN  2019-05-03 12:09:40     NaN  2019-05-03 12:09:40   \n",
       "3    NaN     NaN     NaN  2019-05-03 12:41:24     NaN  2019-05-03 12:41:24   \n",
       "4    NaN     NaN     NaN  2019-05-03 13:12:56     NaN  2019-05-03 13:12:56   \n",
       "\n",
       "               Bulk 15  \n",
       "0  2019-05-03 11:03:52  \n",
       "1  2019-05-03 11:40:20  \n",
       "2  2019-05-03 12:09:40  \n",
       "3  2019-05-03 12:41:24  \n",
       "4  2019-05-03 13:12:56  "
      ]
     },
     "metadata": {},
     "output_type": "display_data"
    },
    {
     "name": "stdout",
     "output_type": "stream",
     "text": [
      "<class 'pandas.core.frame.DataFrame'>\n",
      "RangeIndex: 3129 entries, 0 to 3128\n",
      "Data columns (total 16 columns):\n",
      "key        3129 non-null int64\n",
      "Bulk 1     252 non-null object\n",
      "Bulk 2     22 non-null object\n",
      "Bulk 3     1298 non-null object\n",
      "Bulk 4     1014 non-null object\n",
      "Bulk 5     77 non-null object\n",
      "Bulk 6     576 non-null object\n",
      "Bulk 7     25 non-null object\n",
      "Bulk 8     1 non-null object\n",
      "Bulk 9     19 non-null object\n",
      "Bulk 10    176 non-null object\n",
      "Bulk 11    177 non-null object\n",
      "Bulk 12    2450 non-null object\n",
      "Bulk 13    18 non-null object\n",
      "Bulk 14    2806 non-null object\n",
      "Bulk 15    2248 non-null object\n",
      "dtypes: int64(1), object(15)\n",
      "memory usage: 391.2+ KB\n"
     ]
    }
   ],
   "source": [
    "display(data_bulk_time.head())\n",
    "data_bulk_time.info()"
   ]
  },
  {
   "cell_type": "markdown",
   "id": "965add57",
   "metadata": {},
   "source": [
    "Из времени засыпания материалов нужно достать первое и последнее время, чтобы сравнить с временем замеров температур."
   ]
  },
  {
   "cell_type": "code",
   "execution_count": 40,
   "id": "e198ef31",
   "metadata": {
    "scrolled": true
   },
   "outputs": [
    {
     "data": {
      "text/html": [
       "<div>\n",
       "<style scoped>\n",
       "    .dataframe tbody tr th:only-of-type {\n",
       "        vertical-align: middle;\n",
       "    }\n",
       "\n",
       "    .dataframe tbody tr th {\n",
       "        vertical-align: top;\n",
       "    }\n",
       "\n",
       "    .dataframe thead th {\n",
       "        text-align: right;\n",
       "    }\n",
       "</style>\n",
       "<table border=\"1\" class=\"dataframe\">\n",
       "  <thead>\n",
       "    <tr style=\"text-align: right;\">\n",
       "      <th></th>\n",
       "      <th>key</th>\n",
       "      <th>Bulk 1</th>\n",
       "      <th>Bulk 2</th>\n",
       "      <th>Bulk 3</th>\n",
       "      <th>Bulk 4</th>\n",
       "      <th>Bulk 5</th>\n",
       "      <th>Bulk 6</th>\n",
       "      <th>Bulk 7</th>\n",
       "      <th>Bulk 8</th>\n",
       "      <th>Bulk 9</th>\n",
       "      <th>Bulk 10</th>\n",
       "      <th>Bulk 11</th>\n",
       "      <th>Bulk 12</th>\n",
       "      <th>Bulk 13</th>\n",
       "      <th>Bulk 14</th>\n",
       "      <th>Bulk 15</th>\n",
       "      <th>min_bulk_dttm</th>\n",
       "      <th>max_bulk_dttm</th>\n",
       "    </tr>\n",
       "  </thead>\n",
       "  <tbody>\n",
       "    <tr>\n",
       "      <td>0</td>\n",
       "      <td>1</td>\n",
       "      <td>NaT</td>\n",
       "      <td>NaT</td>\n",
       "      <td>NaT</td>\n",
       "      <td>2019-05-03 11:21:30</td>\n",
       "      <td>NaT</td>\n",
       "      <td>NaT</td>\n",
       "      <td>NaT</td>\n",
       "      <td>NaT</td>\n",
       "      <td>NaT</td>\n",
       "      <td>NaT</td>\n",
       "      <td>NaT</td>\n",
       "      <td>2019-05-03 11:03:52</td>\n",
       "      <td>NaT</td>\n",
       "      <td>2019-05-03 11:03:52</td>\n",
       "      <td>2019-05-03 11:03:52</td>\n",
       "      <td>2019-05-03 11:03:52</td>\n",
       "      <td>2019-05-03 11:21:30</td>\n",
       "    </tr>\n",
       "    <tr>\n",
       "      <td>1</td>\n",
       "      <td>2</td>\n",
       "      <td>NaT</td>\n",
       "      <td>NaT</td>\n",
       "      <td>NaT</td>\n",
       "      <td>2019-05-03 11:46:38</td>\n",
       "      <td>NaT</td>\n",
       "      <td>NaT</td>\n",
       "      <td>NaT</td>\n",
       "      <td>NaT</td>\n",
       "      <td>NaT</td>\n",
       "      <td>NaT</td>\n",
       "      <td>NaT</td>\n",
       "      <td>2019-05-03 11:40:20</td>\n",
       "      <td>NaT</td>\n",
       "      <td>2019-05-03 11:40:20</td>\n",
       "      <td>2019-05-03 11:40:20</td>\n",
       "      <td>2019-05-03 11:40:20</td>\n",
       "      <td>2019-05-03 11:46:38</td>\n",
       "    </tr>\n",
       "    <tr>\n",
       "      <td>2</td>\n",
       "      <td>3</td>\n",
       "      <td>NaT</td>\n",
       "      <td>NaT</td>\n",
       "      <td>NaT</td>\n",
       "      <td>2019-05-03 12:31:06</td>\n",
       "      <td>NaT</td>\n",
       "      <td>NaT</td>\n",
       "      <td>NaT</td>\n",
       "      <td>NaT</td>\n",
       "      <td>NaT</td>\n",
       "      <td>NaT</td>\n",
       "      <td>NaT</td>\n",
       "      <td>2019-05-03 12:09:40</td>\n",
       "      <td>NaT</td>\n",
       "      <td>2019-05-03 12:09:40</td>\n",
       "      <td>2019-05-03 12:09:40</td>\n",
       "      <td>2019-05-03 12:09:40</td>\n",
       "      <td>2019-05-03 12:31:06</td>\n",
       "    </tr>\n",
       "    <tr>\n",
       "      <td>3</td>\n",
       "      <td>4</td>\n",
       "      <td>NaT</td>\n",
       "      <td>NaT</td>\n",
       "      <td>NaT</td>\n",
       "      <td>2019-05-03 12:48:43</td>\n",
       "      <td>NaT</td>\n",
       "      <td>NaT</td>\n",
       "      <td>NaT</td>\n",
       "      <td>NaT</td>\n",
       "      <td>NaT</td>\n",
       "      <td>NaT</td>\n",
       "      <td>NaT</td>\n",
       "      <td>2019-05-03 12:41:24</td>\n",
       "      <td>NaT</td>\n",
       "      <td>2019-05-03 12:41:24</td>\n",
       "      <td>2019-05-03 12:41:24</td>\n",
       "      <td>2019-05-03 12:41:24</td>\n",
       "      <td>2019-05-03 12:48:43</td>\n",
       "    </tr>\n",
       "    <tr>\n",
       "      <td>4</td>\n",
       "      <td>5</td>\n",
       "      <td>NaT</td>\n",
       "      <td>NaT</td>\n",
       "      <td>NaT</td>\n",
       "      <td>2019-05-03 13:18:50</td>\n",
       "      <td>NaT</td>\n",
       "      <td>NaT</td>\n",
       "      <td>NaT</td>\n",
       "      <td>NaT</td>\n",
       "      <td>NaT</td>\n",
       "      <td>NaT</td>\n",
       "      <td>NaT</td>\n",
       "      <td>2019-05-03 13:12:56</td>\n",
       "      <td>NaT</td>\n",
       "      <td>2019-05-03 13:12:56</td>\n",
       "      <td>2019-05-03 13:12:56</td>\n",
       "      <td>2019-05-03 13:12:56</td>\n",
       "      <td>2019-05-03 13:18:50</td>\n",
       "    </tr>\n",
       "  </tbody>\n",
       "</table>\n",
       "</div>"
      ],
      "text/plain": [
       "   key Bulk 1 Bulk 2 Bulk 3              Bulk 4 Bulk 5 Bulk 6 Bulk 7 Bulk 8  \\\n",
       "0    1    NaT    NaT    NaT 2019-05-03 11:21:30    NaT    NaT    NaT    NaT   \n",
       "1    2    NaT    NaT    NaT 2019-05-03 11:46:38    NaT    NaT    NaT    NaT   \n",
       "2    3    NaT    NaT    NaT 2019-05-03 12:31:06    NaT    NaT    NaT    NaT   \n",
       "3    4    NaT    NaT    NaT 2019-05-03 12:48:43    NaT    NaT    NaT    NaT   \n",
       "4    5    NaT    NaT    NaT 2019-05-03 13:18:50    NaT    NaT    NaT    NaT   \n",
       "\n",
       "  Bulk 9 Bulk 10 Bulk 11             Bulk 12 Bulk 13             Bulk 14  \\\n",
       "0    NaT     NaT     NaT 2019-05-03 11:03:52     NaT 2019-05-03 11:03:52   \n",
       "1    NaT     NaT     NaT 2019-05-03 11:40:20     NaT 2019-05-03 11:40:20   \n",
       "2    NaT     NaT     NaT 2019-05-03 12:09:40     NaT 2019-05-03 12:09:40   \n",
       "3    NaT     NaT     NaT 2019-05-03 12:41:24     NaT 2019-05-03 12:41:24   \n",
       "4    NaT     NaT     NaT 2019-05-03 13:12:56     NaT 2019-05-03 13:12:56   \n",
       "\n",
       "              Bulk 15       min_bulk_dttm       max_bulk_dttm  \n",
       "0 2019-05-03 11:03:52 2019-05-03 11:03:52 2019-05-03 11:21:30  \n",
       "1 2019-05-03 11:40:20 2019-05-03 11:40:20 2019-05-03 11:46:38  \n",
       "2 2019-05-03 12:09:40 2019-05-03 12:09:40 2019-05-03 12:31:06  \n",
       "3 2019-05-03 12:41:24 2019-05-03 12:41:24 2019-05-03 12:48:43  \n",
       "4 2019-05-03 13:12:56 2019-05-03 13:12:56 2019-05-03 13:18:50  "
      ]
     },
     "metadata": {},
     "output_type": "display_data"
    }
   ],
   "source": [
    "data_bulk_time.iloc[:,1:] = data_bulk_time.iloc[:,1:].apply(pd.to_datetime)\n",
    "data_bulk_time['min_bulk_dttm'] = data_bulk_time.iloc[:,1:].min(axis=1)\n",
    "data_bulk_time['max_bulk_dttm'] = data_bulk_time.iloc[:,1:].max(axis=1)\n",
    "display(data_bulk_time.head())"
   ]
  },
  {
   "cell_type": "code",
   "execution_count": 41,
   "id": "43c2c015",
   "metadata": {},
   "outputs": [
    {
     "data": {
      "text/html": [
       "<div>\n",
       "<style scoped>\n",
       "    .dataframe tbody tr th:only-of-type {\n",
       "        vertical-align: middle;\n",
       "    }\n",
       "\n",
       "    .dataframe tbody tr th {\n",
       "        vertical-align: top;\n",
       "    }\n",
       "\n",
       "    .dataframe thead th {\n",
       "        text-align: right;\n",
       "    }\n",
       "</style>\n",
       "<table border=\"1\" class=\"dataframe\">\n",
       "  <thead>\n",
       "    <tr style=\"text-align: right;\">\n",
       "      <th></th>\n",
       "      <th>key</th>\n",
       "      <th>Bulk 1</th>\n",
       "      <th>Bulk 2</th>\n",
       "      <th>Bulk 3</th>\n",
       "      <th>Bulk 4</th>\n",
       "      <th>Bulk 5</th>\n",
       "      <th>Bulk 6</th>\n",
       "      <th>Bulk 7</th>\n",
       "      <th>Bulk 8</th>\n",
       "      <th>Bulk 9</th>\n",
       "      <th>Bulk 10</th>\n",
       "      <th>Bulk 11</th>\n",
       "      <th>Bulk 12</th>\n",
       "      <th>Bulk 13</th>\n",
       "      <th>Bulk 14</th>\n",
       "      <th>Bulk 15</th>\n",
       "      <th>bulk_sum</th>\n",
       "      <th>min_bulk_dttm</th>\n",
       "      <th>max_bulk_dttm</th>\n",
       "    </tr>\n",
       "  </thead>\n",
       "  <tbody>\n",
       "    <tr>\n",
       "      <td>0</td>\n",
       "      <td>1</td>\n",
       "      <td>0.0</td>\n",
       "      <td>0.0</td>\n",
       "      <td>0.0</td>\n",
       "      <td>43.0</td>\n",
       "      <td>0.0</td>\n",
       "      <td>0.0</td>\n",
       "      <td>0.0</td>\n",
       "      <td>0.0</td>\n",
       "      <td>0.0</td>\n",
       "      <td>0.0</td>\n",
       "      <td>0.0</td>\n",
       "      <td>206.0</td>\n",
       "      <td>0.0</td>\n",
       "      <td>150.0</td>\n",
       "      <td>154.0</td>\n",
       "      <td>553.0</td>\n",
       "      <td>2019-05-03 11:03:52</td>\n",
       "      <td>2019-05-03 11:21:30</td>\n",
       "    </tr>\n",
       "    <tr>\n",
       "      <td>1</td>\n",
       "      <td>2</td>\n",
       "      <td>0.0</td>\n",
       "      <td>0.0</td>\n",
       "      <td>0.0</td>\n",
       "      <td>73.0</td>\n",
       "      <td>0.0</td>\n",
       "      <td>0.0</td>\n",
       "      <td>0.0</td>\n",
       "      <td>0.0</td>\n",
       "      <td>0.0</td>\n",
       "      <td>0.0</td>\n",
       "      <td>0.0</td>\n",
       "      <td>206.0</td>\n",
       "      <td>0.0</td>\n",
       "      <td>149.0</td>\n",
       "      <td>154.0</td>\n",
       "      <td>582.0</td>\n",
       "      <td>2019-05-03 11:40:20</td>\n",
       "      <td>2019-05-03 11:46:38</td>\n",
       "    </tr>\n",
       "    <tr>\n",
       "      <td>2</td>\n",
       "      <td>3</td>\n",
       "      <td>0.0</td>\n",
       "      <td>0.0</td>\n",
       "      <td>0.0</td>\n",
       "      <td>34.0</td>\n",
       "      <td>0.0</td>\n",
       "      <td>0.0</td>\n",
       "      <td>0.0</td>\n",
       "      <td>0.0</td>\n",
       "      <td>0.0</td>\n",
       "      <td>0.0</td>\n",
       "      <td>0.0</td>\n",
       "      <td>205.0</td>\n",
       "      <td>0.0</td>\n",
       "      <td>152.0</td>\n",
       "      <td>153.0</td>\n",
       "      <td>544.0</td>\n",
       "      <td>2019-05-03 12:09:40</td>\n",
       "      <td>2019-05-03 12:31:06</td>\n",
       "    </tr>\n",
       "    <tr>\n",
       "      <td>3</td>\n",
       "      <td>4</td>\n",
       "      <td>0.0</td>\n",
       "      <td>0.0</td>\n",
       "      <td>0.0</td>\n",
       "      <td>81.0</td>\n",
       "      <td>0.0</td>\n",
       "      <td>0.0</td>\n",
       "      <td>0.0</td>\n",
       "      <td>0.0</td>\n",
       "      <td>0.0</td>\n",
       "      <td>0.0</td>\n",
       "      <td>0.0</td>\n",
       "      <td>207.0</td>\n",
       "      <td>0.0</td>\n",
       "      <td>153.0</td>\n",
       "      <td>154.0</td>\n",
       "      <td>595.0</td>\n",
       "      <td>2019-05-03 12:41:24</td>\n",
       "      <td>2019-05-03 12:48:43</td>\n",
       "    </tr>\n",
       "    <tr>\n",
       "      <td>4</td>\n",
       "      <td>5</td>\n",
       "      <td>0.0</td>\n",
       "      <td>0.0</td>\n",
       "      <td>0.0</td>\n",
       "      <td>78.0</td>\n",
       "      <td>0.0</td>\n",
       "      <td>0.0</td>\n",
       "      <td>0.0</td>\n",
       "      <td>0.0</td>\n",
       "      <td>0.0</td>\n",
       "      <td>0.0</td>\n",
       "      <td>0.0</td>\n",
       "      <td>203.0</td>\n",
       "      <td>0.0</td>\n",
       "      <td>151.0</td>\n",
       "      <td>152.0</td>\n",
       "      <td>584.0</td>\n",
       "      <td>2019-05-03 13:12:56</td>\n",
       "      <td>2019-05-03 13:18:50</td>\n",
       "    </tr>\n",
       "  </tbody>\n",
       "</table>\n",
       "</div>"
      ],
      "text/plain": [
       "   key  Bulk 1  Bulk 2  Bulk 3  Bulk 4  Bulk 5  Bulk 6  Bulk 7  Bulk 8  \\\n",
       "0    1     0.0     0.0     0.0    43.0     0.0     0.0     0.0     0.0   \n",
       "1    2     0.0     0.0     0.0    73.0     0.0     0.0     0.0     0.0   \n",
       "2    3     0.0     0.0     0.0    34.0     0.0     0.0     0.0     0.0   \n",
       "3    4     0.0     0.0     0.0    81.0     0.0     0.0     0.0     0.0   \n",
       "4    5     0.0     0.0     0.0    78.0     0.0     0.0     0.0     0.0   \n",
       "\n",
       "   Bulk 9  Bulk 10  Bulk 11  Bulk 12  Bulk 13  Bulk 14  Bulk 15  bulk_sum  \\\n",
       "0     0.0      0.0      0.0    206.0      0.0    150.0    154.0     553.0   \n",
       "1     0.0      0.0      0.0    206.0      0.0    149.0    154.0     582.0   \n",
       "2     0.0      0.0      0.0    205.0      0.0    152.0    153.0     544.0   \n",
       "3     0.0      0.0      0.0    207.0      0.0    153.0    154.0     595.0   \n",
       "4     0.0      0.0      0.0    203.0      0.0    151.0    152.0     584.0   \n",
       "\n",
       "        min_bulk_dttm       max_bulk_dttm  \n",
       "0 2019-05-03 11:03:52 2019-05-03 11:21:30  \n",
       "1 2019-05-03 11:40:20 2019-05-03 11:46:38  \n",
       "2 2019-05-03 12:09:40 2019-05-03 12:31:06  \n",
       "3 2019-05-03 12:41:24 2019-05-03 12:48:43  \n",
       "4 2019-05-03 13:12:56 2019-05-03 13:18:50  "
      ]
     },
     "metadata": {},
     "output_type": "display_data"
    },
    {
     "name": "stdout",
     "output_type": "stream",
     "text": [
      "<class 'pandas.core.frame.DataFrame'>\n",
      "Int64Index: 3129 entries, 0 to 3128\n",
      "Data columns (total 19 columns):\n",
      "key              3129 non-null int64\n",
      "Bulk 1           3129 non-null float64\n",
      "Bulk 2           3129 non-null float64\n",
      "Bulk 3           3129 non-null float64\n",
      "Bulk 4           3129 non-null float64\n",
      "Bulk 5           3129 non-null float64\n",
      "Bulk 6           3129 non-null float64\n",
      "Bulk 7           3129 non-null float64\n",
      "Bulk 8           3129 non-null float64\n",
      "Bulk 9           3129 non-null float64\n",
      "Bulk 10          3129 non-null float64\n",
      "Bulk 11          3129 non-null float64\n",
      "Bulk 12          3129 non-null float64\n",
      "Bulk 13          3129 non-null float64\n",
      "Bulk 14          3129 non-null float64\n",
      "Bulk 15          3129 non-null float64\n",
      "bulk_sum         3129 non-null float64\n",
      "min_bulk_dttm    3129 non-null datetime64[ns]\n",
      "max_bulk_dttm    3129 non-null datetime64[ns]\n",
      "dtypes: datetime64[ns](2), float64(16), int64(1)\n",
      "memory usage: 488.9 KB\n"
     ]
    }
   ],
   "source": [
    "df_bulk = df_bulk.merge(data_bulk_time[['key', 'min_bulk_dttm', 'max_bulk_dttm']], on='key', how='left')\n",
    "display(df_bulk.head())\n",
    "df_bulk.info()"
   ]
  },
  {
   "cell_type": "code",
   "execution_count": 42,
   "id": "0b29d977",
   "metadata": {},
   "outputs": [
    {
     "data": {
      "text/html": [
       "<div>\n",
       "<style scoped>\n",
       "    .dataframe tbody tr th:only-of-type {\n",
       "        vertical-align: middle;\n",
       "    }\n",
       "\n",
       "    .dataframe tbody tr th {\n",
       "        vertical-align: top;\n",
       "    }\n",
       "\n",
       "    .dataframe thead th {\n",
       "        text-align: right;\n",
       "    }\n",
       "</style>\n",
       "<table border=\"1\" class=\"dataframe\">\n",
       "  <thead>\n",
       "    <tr style=\"text-align: right;\">\n",
       "      <th></th>\n",
       "      <th>key</th>\n",
       "      <th>measure_count</th>\n",
       "      <th>first_temp_dttm</th>\n",
       "      <th>first_temp</th>\n",
       "      <th>last_temp_dttm</th>\n",
       "      <th>last_temp</th>\n",
       "      <th>first_heat_dttm</th>\n",
       "      <th>last_heat_dttm</th>\n",
       "      <th>sum_active_power</th>\n",
       "      <th>sum_reactive_power</th>\n",
       "      <th>...</th>\n",
       "      <th>Bulk 9</th>\n",
       "      <th>Bulk 10</th>\n",
       "      <th>Bulk 11</th>\n",
       "      <th>Bulk 12</th>\n",
       "      <th>Bulk 13</th>\n",
       "      <th>Bulk 14</th>\n",
       "      <th>Bulk 15</th>\n",
       "      <th>bulk_sum</th>\n",
       "      <th>min_bulk_dttm</th>\n",
       "      <th>max_bulk_dttm</th>\n",
       "    </tr>\n",
       "  </thead>\n",
       "  <tbody>\n",
       "    <tr>\n",
       "      <td>0</td>\n",
       "      <td>1</td>\n",
       "      <td>5</td>\n",
       "      <td>2019-05-03 11:16:18</td>\n",
       "      <td>1571.0</td>\n",
       "      <td>2019-05-03 11:30:39</td>\n",
       "      <td>1613.0</td>\n",
       "      <td>2019-05-03 11:02:14</td>\n",
       "      <td>2019-05-03 11:28:37</td>\n",
       "      <td>4.878147</td>\n",
       "      <td>3.183241</td>\n",
       "      <td>...</td>\n",
       "      <td>0.0</td>\n",
       "      <td>0.0</td>\n",
       "      <td>0.0</td>\n",
       "      <td>206.0</td>\n",
       "      <td>0.0</td>\n",
       "      <td>150.0</td>\n",
       "      <td>154.0</td>\n",
       "      <td>553.0</td>\n",
       "      <td>2019-05-03 11:03:52</td>\n",
       "      <td>2019-05-03 11:21:30</td>\n",
       "    </tr>\n",
       "    <tr>\n",
       "      <td>1</td>\n",
       "      <td>2</td>\n",
       "      <td>6</td>\n",
       "      <td>2019-05-03 11:37:27</td>\n",
       "      <td>1581.0</td>\n",
       "      <td>2019-05-03 11:59:12</td>\n",
       "      <td>1602.0</td>\n",
       "      <td>2019-05-03 11:34:14</td>\n",
       "      <td>2019-05-03 11:53:18</td>\n",
       "      <td>3.052598</td>\n",
       "      <td>1.998112</td>\n",
       "      <td>...</td>\n",
       "      <td>0.0</td>\n",
       "      <td>0.0</td>\n",
       "      <td>0.0</td>\n",
       "      <td>206.0</td>\n",
       "      <td>0.0</td>\n",
       "      <td>149.0</td>\n",
       "      <td>154.0</td>\n",
       "      <td>582.0</td>\n",
       "      <td>2019-05-03 11:40:20</td>\n",
       "      <td>2019-05-03 11:46:38</td>\n",
       "    </tr>\n",
       "    <tr>\n",
       "      <td>2</td>\n",
       "      <td>3</td>\n",
       "      <td>5</td>\n",
       "      <td>2019-05-03 12:13:17</td>\n",
       "      <td>1596.0</td>\n",
       "      <td>2019-05-03 12:34:57</td>\n",
       "      <td>1599.0</td>\n",
       "      <td>2019-05-03 12:06:54</td>\n",
       "      <td>2019-05-03 12:32:19</td>\n",
       "      <td>2.525882</td>\n",
       "      <td>1.599076</td>\n",
       "      <td>...</td>\n",
       "      <td>0.0</td>\n",
       "      <td>0.0</td>\n",
       "      <td>0.0</td>\n",
       "      <td>205.0</td>\n",
       "      <td>0.0</td>\n",
       "      <td>152.0</td>\n",
       "      <td>153.0</td>\n",
       "      <td>544.0</td>\n",
       "      <td>2019-05-03 12:09:40</td>\n",
       "      <td>2019-05-03 12:31:06</td>\n",
       "    </tr>\n",
       "    <tr>\n",
       "      <td>3</td>\n",
       "      <td>4</td>\n",
       "      <td>3</td>\n",
       "      <td>2019-05-03 12:52:57</td>\n",
       "      <td>1601.0</td>\n",
       "      <td>2019-05-03 12:59:25</td>\n",
       "      <td>1625.0</td>\n",
       "      <td>2019-05-03 12:39:37</td>\n",
       "      <td>2019-05-03 12:57:50</td>\n",
       "      <td>3.209250</td>\n",
       "      <td>2.060298</td>\n",
       "      <td>...</td>\n",
       "      <td>0.0</td>\n",
       "      <td>0.0</td>\n",
       "      <td>0.0</td>\n",
       "      <td>207.0</td>\n",
       "      <td>0.0</td>\n",
       "      <td>153.0</td>\n",
       "      <td>154.0</td>\n",
       "      <td>595.0</td>\n",
       "      <td>2019-05-03 12:41:24</td>\n",
       "      <td>2019-05-03 12:48:43</td>\n",
       "    </tr>\n",
       "    <tr>\n",
       "      <td>4</td>\n",
       "      <td>5</td>\n",
       "      <td>2</td>\n",
       "      <td>2019-05-03 13:23:19</td>\n",
       "      <td>1576.0</td>\n",
       "      <td>2019-05-03 13:36:01</td>\n",
       "      <td>1602.0</td>\n",
       "      <td>2019-05-03 13:11:13</td>\n",
       "      <td>2019-05-03 13:33:55</td>\n",
       "      <td>3.347173</td>\n",
       "      <td>2.252643</td>\n",
       "      <td>...</td>\n",
       "      <td>0.0</td>\n",
       "      <td>0.0</td>\n",
       "      <td>0.0</td>\n",
       "      <td>203.0</td>\n",
       "      <td>0.0</td>\n",
       "      <td>151.0</td>\n",
       "      <td>152.0</td>\n",
       "      <td>584.0</td>\n",
       "      <td>2019-05-03 13:12:56</td>\n",
       "      <td>2019-05-03 13:18:50</td>\n",
       "    </tr>\n",
       "  </tbody>\n",
       "</table>\n",
       "<p>5 rows × 28 columns</p>\n",
       "</div>"
      ],
      "text/plain": [
       "   key  measure_count     first_temp_dttm  first_temp      last_temp_dttm  \\\n",
       "0    1              5 2019-05-03 11:16:18      1571.0 2019-05-03 11:30:39   \n",
       "1    2              6 2019-05-03 11:37:27      1581.0 2019-05-03 11:59:12   \n",
       "2    3              5 2019-05-03 12:13:17      1596.0 2019-05-03 12:34:57   \n",
       "3    4              3 2019-05-03 12:52:57      1601.0 2019-05-03 12:59:25   \n",
       "4    5              2 2019-05-03 13:23:19      1576.0 2019-05-03 13:36:01   \n",
       "\n",
       "   last_temp     first_heat_dttm      last_heat_dttm  sum_active_power  \\\n",
       "0     1613.0 2019-05-03 11:02:14 2019-05-03 11:28:37          4.878147   \n",
       "1     1602.0 2019-05-03 11:34:14 2019-05-03 11:53:18          3.052598   \n",
       "2     1599.0 2019-05-03 12:06:54 2019-05-03 12:32:19          2.525882   \n",
       "3     1625.0 2019-05-03 12:39:37 2019-05-03 12:57:50          3.209250   \n",
       "4     1602.0 2019-05-03 13:11:13 2019-05-03 13:33:55          3.347173   \n",
       "\n",
       "   sum_reactive_power  ...  Bulk 9  Bulk 10  Bulk 11  Bulk 12  Bulk 13  \\\n",
       "0            3.183241  ...     0.0      0.0      0.0    206.0      0.0   \n",
       "1            1.998112  ...     0.0      0.0      0.0    206.0      0.0   \n",
       "2            1.599076  ...     0.0      0.0      0.0    205.0      0.0   \n",
       "3            2.060298  ...     0.0      0.0      0.0    207.0      0.0   \n",
       "4            2.252643  ...     0.0      0.0      0.0    203.0      0.0   \n",
       "\n",
       "   Bulk 14  Bulk 15  bulk_sum       min_bulk_dttm       max_bulk_dttm  \n",
       "0    150.0    154.0     553.0 2019-05-03 11:03:52 2019-05-03 11:21:30  \n",
       "1    149.0    154.0     582.0 2019-05-03 11:40:20 2019-05-03 11:46:38  \n",
       "2    152.0    153.0     544.0 2019-05-03 12:09:40 2019-05-03 12:31:06  \n",
       "3    153.0    154.0     595.0 2019-05-03 12:41:24 2019-05-03 12:48:43  \n",
       "4    151.0    152.0     584.0 2019-05-03 13:12:56 2019-05-03 13:18:50  \n",
       "\n",
       "[5 rows x 28 columns]"
      ]
     },
     "metadata": {},
     "output_type": "display_data"
    }
   ],
   "source": [
    "df_fin = df_fin.merge(df_bulk, on='key', how='left')\n",
    "display(df_fin.head())"
   ]
  },
  {
   "cell_type": "code",
   "execution_count": 43,
   "id": "cdb1658c",
   "metadata": {},
   "outputs": [
    {
     "name": "stdout",
     "output_type": "stream",
     "text": [
      "Кол-во партий с добавлением сыпучих веществ до первого замера температуры 398\n",
      "Доля партий с добавлением сыпучих веществ до первого замера температуры 0.1698\n"
     ]
    }
   ],
   "source": [
    "print('Кол-во партий с добавлением сыпучих веществ до первого замера температуры',\n",
    "      df_fin.query('first_temp_dttm > min_bulk_dttm')['key'].count())\n",
    "print('Доля партий с добавлением сыпучих веществ до первого замера температуры',\n",
    "      round(df_fin.query('first_temp_dttm > min_bulk_dttm')['key'].count()/df_fin['key'].count(), 4))"
   ]
  },
  {
   "cell_type": "markdown",
   "id": "1d132e5a",
   "metadata": {},
   "source": [
    "Нужно задать бизнесу вопрос зачем добавлять сыпучие вещества до первого замера температуры."
   ]
  },
  {
   "cell_type": "code",
   "execution_count": 44,
   "id": "12387956",
   "metadata": {},
   "outputs": [
    {
     "name": "stdout",
     "output_type": "stream",
     "text": [
      "Кол-во партий с добавлением сыпучих веществ после финального замера температуры 4\n",
      "Доля партий с добавлением сыпучих веществ после финального замера температуры 0.0017\n"
     ]
    }
   ],
   "source": [
    "print('Кол-во партий с добавлением сыпучих веществ после финального замера температуры',\n",
    "      df_fin.query('last_temp_dttm < max_bulk_dttm')['key'].count())\n",
    "print('Доля партий с добавлением сыпучих веществ после финального замера температуры',\n",
    "      round(df_fin.query('last_temp_dttm < max_bulk_dttm')['key'].count()/df_fin['key'].count(), 4))"
   ]
  },
  {
   "cell_type": "markdown",
   "id": "9753b219",
   "metadata": {},
   "source": [
    "Партии, в которых были добавления веществ после финального замера, мы удалим из датасета, т.к. финальный замер - это таргет, после которого не должно быть никаких действий."
   ]
  },
  {
   "cell_type": "code",
   "execution_count": 45,
   "id": "bcc1646a",
   "metadata": {},
   "outputs": [],
   "source": [
    "#макс балк дата <= последнему замеру или пустая\n",
    "df_fin = df_fin.query('last_temp_dttm >= max_bulk_dttm | max_bulk_dttm != max_bulk_dttm')"
   ]
  },
  {
   "cell_type": "markdown",
   "id": "e113b96b",
   "metadata": {},
   "source": [
    "С сыпучими материалами закончили. Переходим к проволчным."
   ]
  },
  {
   "cell_type": "markdown",
   "id": "d70db618",
   "metadata": {},
   "source": [
    "### Проволочные материалы"
   ]
  },
  {
   "cell_type": "code",
   "execution_count": 46,
   "id": "4885677c",
   "metadata": {},
   "outputs": [
    {
     "data": {
      "text/html": [
       "<div>\n",
       "<style scoped>\n",
       "    .dataframe tbody tr th:only-of-type {\n",
       "        vertical-align: middle;\n",
       "    }\n",
       "\n",
       "    .dataframe tbody tr th {\n",
       "        vertical-align: top;\n",
       "    }\n",
       "\n",
       "    .dataframe thead th {\n",
       "        text-align: right;\n",
       "    }\n",
       "</style>\n",
       "<table border=\"1\" class=\"dataframe\">\n",
       "  <thead>\n",
       "    <tr style=\"text-align: right;\">\n",
       "      <th></th>\n",
       "      <th>key</th>\n",
       "      <th>Wire 1</th>\n",
       "      <th>Wire 2</th>\n",
       "      <th>Wire 3</th>\n",
       "      <th>Wire 4</th>\n",
       "      <th>Wire 5</th>\n",
       "      <th>Wire 6</th>\n",
       "      <th>Wire 7</th>\n",
       "      <th>Wire 8</th>\n",
       "      <th>Wire 9</th>\n",
       "    </tr>\n",
       "  </thead>\n",
       "  <tbody>\n",
       "    <tr>\n",
       "      <td>0</td>\n",
       "      <td>1</td>\n",
       "      <td>60.059998</td>\n",
       "      <td>NaN</td>\n",
       "      <td>NaN</td>\n",
       "      <td>NaN</td>\n",
       "      <td>NaN</td>\n",
       "      <td>NaN</td>\n",
       "      <td>NaN</td>\n",
       "      <td>NaN</td>\n",
       "      <td>NaN</td>\n",
       "    </tr>\n",
       "    <tr>\n",
       "      <td>1</td>\n",
       "      <td>2</td>\n",
       "      <td>96.052315</td>\n",
       "      <td>NaN</td>\n",
       "      <td>NaN</td>\n",
       "      <td>NaN</td>\n",
       "      <td>NaN</td>\n",
       "      <td>NaN</td>\n",
       "      <td>NaN</td>\n",
       "      <td>NaN</td>\n",
       "      <td>NaN</td>\n",
       "    </tr>\n",
       "    <tr>\n",
       "      <td>2</td>\n",
       "      <td>3</td>\n",
       "      <td>91.160157</td>\n",
       "      <td>NaN</td>\n",
       "      <td>NaN</td>\n",
       "      <td>NaN</td>\n",
       "      <td>NaN</td>\n",
       "      <td>NaN</td>\n",
       "      <td>NaN</td>\n",
       "      <td>NaN</td>\n",
       "      <td>NaN</td>\n",
       "    </tr>\n",
       "    <tr>\n",
       "      <td>3</td>\n",
       "      <td>4</td>\n",
       "      <td>89.063515</td>\n",
       "      <td>NaN</td>\n",
       "      <td>NaN</td>\n",
       "      <td>NaN</td>\n",
       "      <td>NaN</td>\n",
       "      <td>NaN</td>\n",
       "      <td>NaN</td>\n",
       "      <td>NaN</td>\n",
       "      <td>NaN</td>\n",
       "    </tr>\n",
       "    <tr>\n",
       "      <td>4</td>\n",
       "      <td>5</td>\n",
       "      <td>89.238236</td>\n",
       "      <td>9.11456</td>\n",
       "      <td>NaN</td>\n",
       "      <td>NaN</td>\n",
       "      <td>NaN</td>\n",
       "      <td>NaN</td>\n",
       "      <td>NaN</td>\n",
       "      <td>NaN</td>\n",
       "      <td>NaN</td>\n",
       "    </tr>\n",
       "  </tbody>\n",
       "</table>\n",
       "</div>"
      ],
      "text/plain": [
       "   key     Wire 1   Wire 2  Wire 3  Wire 4  Wire 5  Wire 6  Wire 7  Wire 8  \\\n",
       "0    1  60.059998      NaN     NaN     NaN     NaN     NaN     NaN     NaN   \n",
       "1    2  96.052315      NaN     NaN     NaN     NaN     NaN     NaN     NaN   \n",
       "2    3  91.160157      NaN     NaN     NaN     NaN     NaN     NaN     NaN   \n",
       "3    4  89.063515      NaN     NaN     NaN     NaN     NaN     NaN     NaN   \n",
       "4    5  89.238236  9.11456     NaN     NaN     NaN     NaN     NaN     NaN   \n",
       "\n",
       "   Wire 9  \n",
       "0     NaN  \n",
       "1     NaN  \n",
       "2     NaN  \n",
       "3     NaN  \n",
       "4     NaN  "
      ]
     },
     "metadata": {},
     "output_type": "display_data"
    }
   ],
   "source": [
    "display(data_wire.head())"
   ]
  },
  {
   "cell_type": "code",
   "execution_count": 47,
   "id": "f61c53cd",
   "metadata": {
    "scrolled": true
   },
   "outputs": [
    {
     "data": {
      "text/html": [
       "<div>\n",
       "<style scoped>\n",
       "    .dataframe tbody tr th:only-of-type {\n",
       "        vertical-align: middle;\n",
       "    }\n",
       "\n",
       "    .dataframe tbody tr th {\n",
       "        vertical-align: top;\n",
       "    }\n",
       "\n",
       "    .dataframe thead th {\n",
       "        text-align: right;\n",
       "    }\n",
       "</style>\n",
       "<table border=\"1\" class=\"dataframe\">\n",
       "  <thead>\n",
       "    <tr style=\"text-align: right;\">\n",
       "      <th></th>\n",
       "      <th>key</th>\n",
       "      <th>Wire 1</th>\n",
       "      <th>Wire 2</th>\n",
       "      <th>Wire 3</th>\n",
       "      <th>Wire 4</th>\n",
       "      <th>Wire 5</th>\n",
       "      <th>Wire 6</th>\n",
       "      <th>Wire 7</th>\n",
       "      <th>Wire 8</th>\n",
       "      <th>Wire 9</th>\n",
       "      <th>sum_wire</th>\n",
       "    </tr>\n",
       "  </thead>\n",
       "  <tbody>\n",
       "    <tr>\n",
       "      <td>0</td>\n",
       "      <td>1</td>\n",
       "      <td>60.059998</td>\n",
       "      <td>0.00000</td>\n",
       "      <td>0.0</td>\n",
       "      <td>0.0</td>\n",
       "      <td>0.0</td>\n",
       "      <td>0.0</td>\n",
       "      <td>0.0</td>\n",
       "      <td>0.0</td>\n",
       "      <td>0.0</td>\n",
       "      <td>60.059998</td>\n",
       "    </tr>\n",
       "    <tr>\n",
       "      <td>1</td>\n",
       "      <td>2</td>\n",
       "      <td>96.052315</td>\n",
       "      <td>0.00000</td>\n",
       "      <td>0.0</td>\n",
       "      <td>0.0</td>\n",
       "      <td>0.0</td>\n",
       "      <td>0.0</td>\n",
       "      <td>0.0</td>\n",
       "      <td>0.0</td>\n",
       "      <td>0.0</td>\n",
       "      <td>96.052315</td>\n",
       "    </tr>\n",
       "    <tr>\n",
       "      <td>2</td>\n",
       "      <td>3</td>\n",
       "      <td>91.160157</td>\n",
       "      <td>0.00000</td>\n",
       "      <td>0.0</td>\n",
       "      <td>0.0</td>\n",
       "      <td>0.0</td>\n",
       "      <td>0.0</td>\n",
       "      <td>0.0</td>\n",
       "      <td>0.0</td>\n",
       "      <td>0.0</td>\n",
       "      <td>91.160157</td>\n",
       "    </tr>\n",
       "    <tr>\n",
       "      <td>3</td>\n",
       "      <td>4</td>\n",
       "      <td>89.063515</td>\n",
       "      <td>0.00000</td>\n",
       "      <td>0.0</td>\n",
       "      <td>0.0</td>\n",
       "      <td>0.0</td>\n",
       "      <td>0.0</td>\n",
       "      <td>0.0</td>\n",
       "      <td>0.0</td>\n",
       "      <td>0.0</td>\n",
       "      <td>89.063515</td>\n",
       "    </tr>\n",
       "    <tr>\n",
       "      <td>4</td>\n",
       "      <td>5</td>\n",
       "      <td>89.238236</td>\n",
       "      <td>9.11456</td>\n",
       "      <td>0.0</td>\n",
       "      <td>0.0</td>\n",
       "      <td>0.0</td>\n",
       "      <td>0.0</td>\n",
       "      <td>0.0</td>\n",
       "      <td>0.0</td>\n",
       "      <td>0.0</td>\n",
       "      <td>98.352796</td>\n",
       "    </tr>\n",
       "  </tbody>\n",
       "</table>\n",
       "</div>"
      ],
      "text/plain": [
       "   key     Wire 1   Wire 2  Wire 3  Wire 4  Wire 5  Wire 6  Wire 7  Wire 8  \\\n",
       "0    1  60.059998  0.00000     0.0     0.0     0.0     0.0     0.0     0.0   \n",
       "1    2  96.052315  0.00000     0.0     0.0     0.0     0.0     0.0     0.0   \n",
       "2    3  91.160157  0.00000     0.0     0.0     0.0     0.0     0.0     0.0   \n",
       "3    4  89.063515  0.00000     0.0     0.0     0.0     0.0     0.0     0.0   \n",
       "4    5  89.238236  9.11456     0.0     0.0     0.0     0.0     0.0     0.0   \n",
       "\n",
       "   Wire 9   sum_wire  \n",
       "0     0.0  60.059998  \n",
       "1     0.0  96.052315  \n",
       "2     0.0  91.160157  \n",
       "3     0.0  89.063515  \n",
       "4     0.0  98.352796  "
      ]
     },
     "metadata": {},
     "output_type": "display_data"
    }
   ],
   "source": [
    "#data_wire['count_wire'] = data_wire.iloc[:,1:].count(axis=1) маловажный признак\n",
    "df_wire = data_wire.fillna(0)\n",
    "df_wire['sum_wire'] = df_wire.iloc[:,1:10].sum(axis=1)\n",
    "#df_wire = df_wire[['key', 'sum_wire', 'count_wire']] оставим все проволочные материалы\n",
    "display(df_wire.head())"
   ]
  },
  {
   "cell_type": "code",
   "execution_count": 48,
   "id": "b743ae99",
   "metadata": {},
   "outputs": [
    {
     "data": {
      "text/html": [
       "<div>\n",
       "<style scoped>\n",
       "    .dataframe tbody tr th:only-of-type {\n",
       "        vertical-align: middle;\n",
       "    }\n",
       "\n",
       "    .dataframe tbody tr th {\n",
       "        vertical-align: top;\n",
       "    }\n",
       "\n",
       "    .dataframe thead th {\n",
       "        text-align: right;\n",
       "    }\n",
       "</style>\n",
       "<table border=\"1\" class=\"dataframe\">\n",
       "  <thead>\n",
       "    <tr style=\"text-align: right;\">\n",
       "      <th></th>\n",
       "      <th>key</th>\n",
       "      <th>Wire 1</th>\n",
       "      <th>Wire 2</th>\n",
       "      <th>Wire 3</th>\n",
       "      <th>Wire 4</th>\n",
       "      <th>Wire 5</th>\n",
       "      <th>Wire 6</th>\n",
       "      <th>Wire 7</th>\n",
       "      <th>Wire 8</th>\n",
       "      <th>Wire 9</th>\n",
       "      <th>min_wire_dttm</th>\n",
       "      <th>max_wire_dttm</th>\n",
       "    </tr>\n",
       "  </thead>\n",
       "  <tbody>\n",
       "    <tr>\n",
       "      <td>0</td>\n",
       "      <td>1</td>\n",
       "      <td>2019-05-03 11:11:41</td>\n",
       "      <td>NaT</td>\n",
       "      <td>NaT</td>\n",
       "      <td>NaT</td>\n",
       "      <td>NaT</td>\n",
       "      <td>NaT</td>\n",
       "      <td>NaT</td>\n",
       "      <td>NaT</td>\n",
       "      <td>NaT</td>\n",
       "      <td>2019-05-03 11:11:41</td>\n",
       "      <td>2019-05-03 11:11:41</td>\n",
       "    </tr>\n",
       "    <tr>\n",
       "      <td>1</td>\n",
       "      <td>2</td>\n",
       "      <td>2019-05-03 11:46:10</td>\n",
       "      <td>NaT</td>\n",
       "      <td>NaT</td>\n",
       "      <td>NaT</td>\n",
       "      <td>NaT</td>\n",
       "      <td>NaT</td>\n",
       "      <td>NaT</td>\n",
       "      <td>NaT</td>\n",
       "      <td>NaT</td>\n",
       "      <td>2019-05-03 11:46:10</td>\n",
       "      <td>2019-05-03 11:46:10</td>\n",
       "    </tr>\n",
       "    <tr>\n",
       "      <td>2</td>\n",
       "      <td>3</td>\n",
       "      <td>2019-05-03 12:13:47</td>\n",
       "      <td>NaT</td>\n",
       "      <td>NaT</td>\n",
       "      <td>NaT</td>\n",
       "      <td>NaT</td>\n",
       "      <td>NaT</td>\n",
       "      <td>NaT</td>\n",
       "      <td>NaT</td>\n",
       "      <td>NaT</td>\n",
       "      <td>2019-05-03 12:13:47</td>\n",
       "      <td>2019-05-03 12:13:47</td>\n",
       "    </tr>\n",
       "    <tr>\n",
       "      <td>3</td>\n",
       "      <td>4</td>\n",
       "      <td>2019-05-03 12:48:05</td>\n",
       "      <td>NaT</td>\n",
       "      <td>NaT</td>\n",
       "      <td>NaT</td>\n",
       "      <td>NaT</td>\n",
       "      <td>NaT</td>\n",
       "      <td>NaT</td>\n",
       "      <td>NaT</td>\n",
       "      <td>NaT</td>\n",
       "      <td>2019-05-03 12:48:05</td>\n",
       "      <td>2019-05-03 12:48:05</td>\n",
       "    </tr>\n",
       "    <tr>\n",
       "      <td>4</td>\n",
       "      <td>5</td>\n",
       "      <td>2019-05-03 13:18:15</td>\n",
       "      <td>2019-05-03 13:32:06</td>\n",
       "      <td>NaT</td>\n",
       "      <td>NaT</td>\n",
       "      <td>NaT</td>\n",
       "      <td>NaT</td>\n",
       "      <td>NaT</td>\n",
       "      <td>NaT</td>\n",
       "      <td>NaT</td>\n",
       "      <td>2019-05-03 13:18:15</td>\n",
       "      <td>2019-05-03 13:32:06</td>\n",
       "    </tr>\n",
       "  </tbody>\n",
       "</table>\n",
       "</div>"
      ],
      "text/plain": [
       "   key              Wire 1              Wire 2 Wire 3 Wire 4 Wire 5 Wire 6  \\\n",
       "0    1 2019-05-03 11:11:41                 NaT    NaT    NaT    NaT    NaT   \n",
       "1    2 2019-05-03 11:46:10                 NaT    NaT    NaT    NaT    NaT   \n",
       "2    3 2019-05-03 12:13:47                 NaT    NaT    NaT    NaT    NaT   \n",
       "3    4 2019-05-03 12:48:05                 NaT    NaT    NaT    NaT    NaT   \n",
       "4    5 2019-05-03 13:18:15 2019-05-03 13:32:06    NaT    NaT    NaT    NaT   \n",
       "\n",
       "  Wire 7 Wire 8 Wire 9       min_wire_dttm       max_wire_dttm  \n",
       "0    NaT    NaT    NaT 2019-05-03 11:11:41 2019-05-03 11:11:41  \n",
       "1    NaT    NaT    NaT 2019-05-03 11:46:10 2019-05-03 11:46:10  \n",
       "2    NaT    NaT    NaT 2019-05-03 12:13:47 2019-05-03 12:13:47  \n",
       "3    NaT    NaT    NaT 2019-05-03 12:48:05 2019-05-03 12:48:05  \n",
       "4    NaT    NaT    NaT 2019-05-03 13:18:15 2019-05-03 13:32:06  "
      ]
     },
     "metadata": {},
     "output_type": "display_data"
    }
   ],
   "source": [
    "data_wire_time.iloc[:,1:] = data_wire_time.iloc[:,1:].apply(pd.to_datetime)\n",
    "data_wire_time['min_wire_dttm'] = data_wire_time.iloc[:,1:].min(axis=1)\n",
    "data_wire_time['max_wire_dttm'] = data_wire_time.iloc[:,1:].max(axis=1)\n",
    "display(data_wire_time.head())"
   ]
  },
  {
   "cell_type": "code",
   "execution_count": 49,
   "id": "af778afa",
   "metadata": {},
   "outputs": [
    {
     "data": {
      "text/html": [
       "<div>\n",
       "<style scoped>\n",
       "    .dataframe tbody tr th:only-of-type {\n",
       "        vertical-align: middle;\n",
       "    }\n",
       "\n",
       "    .dataframe tbody tr th {\n",
       "        vertical-align: top;\n",
       "    }\n",
       "\n",
       "    .dataframe thead th {\n",
       "        text-align: right;\n",
       "    }\n",
       "</style>\n",
       "<table border=\"1\" class=\"dataframe\">\n",
       "  <thead>\n",
       "    <tr style=\"text-align: right;\">\n",
       "      <th></th>\n",
       "      <th>key</th>\n",
       "      <th>Wire 1</th>\n",
       "      <th>Wire 2</th>\n",
       "      <th>Wire 3</th>\n",
       "      <th>Wire 4</th>\n",
       "      <th>Wire 5</th>\n",
       "      <th>Wire 6</th>\n",
       "      <th>Wire 7</th>\n",
       "      <th>Wire 8</th>\n",
       "      <th>Wire 9</th>\n",
       "      <th>sum_wire</th>\n",
       "      <th>min_wire_dttm</th>\n",
       "      <th>max_wire_dttm</th>\n",
       "    </tr>\n",
       "  </thead>\n",
       "  <tbody>\n",
       "    <tr>\n",
       "      <td>0</td>\n",
       "      <td>1</td>\n",
       "      <td>60.059998</td>\n",
       "      <td>0.00000</td>\n",
       "      <td>0.0</td>\n",
       "      <td>0.0</td>\n",
       "      <td>0.0</td>\n",
       "      <td>0.0</td>\n",
       "      <td>0.0</td>\n",
       "      <td>0.0</td>\n",
       "      <td>0.0</td>\n",
       "      <td>60.059998</td>\n",
       "      <td>2019-05-03 11:11:41</td>\n",
       "      <td>2019-05-03 11:11:41</td>\n",
       "    </tr>\n",
       "    <tr>\n",
       "      <td>1</td>\n",
       "      <td>2</td>\n",
       "      <td>96.052315</td>\n",
       "      <td>0.00000</td>\n",
       "      <td>0.0</td>\n",
       "      <td>0.0</td>\n",
       "      <td>0.0</td>\n",
       "      <td>0.0</td>\n",
       "      <td>0.0</td>\n",
       "      <td>0.0</td>\n",
       "      <td>0.0</td>\n",
       "      <td>96.052315</td>\n",
       "      <td>2019-05-03 11:46:10</td>\n",
       "      <td>2019-05-03 11:46:10</td>\n",
       "    </tr>\n",
       "    <tr>\n",
       "      <td>2</td>\n",
       "      <td>3</td>\n",
       "      <td>91.160157</td>\n",
       "      <td>0.00000</td>\n",
       "      <td>0.0</td>\n",
       "      <td>0.0</td>\n",
       "      <td>0.0</td>\n",
       "      <td>0.0</td>\n",
       "      <td>0.0</td>\n",
       "      <td>0.0</td>\n",
       "      <td>0.0</td>\n",
       "      <td>91.160157</td>\n",
       "      <td>2019-05-03 12:13:47</td>\n",
       "      <td>2019-05-03 12:13:47</td>\n",
       "    </tr>\n",
       "    <tr>\n",
       "      <td>3</td>\n",
       "      <td>4</td>\n",
       "      <td>89.063515</td>\n",
       "      <td>0.00000</td>\n",
       "      <td>0.0</td>\n",
       "      <td>0.0</td>\n",
       "      <td>0.0</td>\n",
       "      <td>0.0</td>\n",
       "      <td>0.0</td>\n",
       "      <td>0.0</td>\n",
       "      <td>0.0</td>\n",
       "      <td>89.063515</td>\n",
       "      <td>2019-05-03 12:48:05</td>\n",
       "      <td>2019-05-03 12:48:05</td>\n",
       "    </tr>\n",
       "    <tr>\n",
       "      <td>4</td>\n",
       "      <td>5</td>\n",
       "      <td>89.238236</td>\n",
       "      <td>9.11456</td>\n",
       "      <td>0.0</td>\n",
       "      <td>0.0</td>\n",
       "      <td>0.0</td>\n",
       "      <td>0.0</td>\n",
       "      <td>0.0</td>\n",
       "      <td>0.0</td>\n",
       "      <td>0.0</td>\n",
       "      <td>98.352796</td>\n",
       "      <td>2019-05-03 13:18:15</td>\n",
       "      <td>2019-05-03 13:32:06</td>\n",
       "    </tr>\n",
       "  </tbody>\n",
       "</table>\n",
       "</div>"
      ],
      "text/plain": [
       "   key     Wire 1   Wire 2  Wire 3  Wire 4  Wire 5  Wire 6  Wire 7  Wire 8  \\\n",
       "0    1  60.059998  0.00000     0.0     0.0     0.0     0.0     0.0     0.0   \n",
       "1    2  96.052315  0.00000     0.0     0.0     0.0     0.0     0.0     0.0   \n",
       "2    3  91.160157  0.00000     0.0     0.0     0.0     0.0     0.0     0.0   \n",
       "3    4  89.063515  0.00000     0.0     0.0     0.0     0.0     0.0     0.0   \n",
       "4    5  89.238236  9.11456     0.0     0.0     0.0     0.0     0.0     0.0   \n",
       "\n",
       "   Wire 9   sum_wire       min_wire_dttm       max_wire_dttm  \n",
       "0     0.0  60.059998 2019-05-03 11:11:41 2019-05-03 11:11:41  \n",
       "1     0.0  96.052315 2019-05-03 11:46:10 2019-05-03 11:46:10  \n",
       "2     0.0  91.160157 2019-05-03 12:13:47 2019-05-03 12:13:47  \n",
       "3     0.0  89.063515 2019-05-03 12:48:05 2019-05-03 12:48:05  \n",
       "4     0.0  98.352796 2019-05-03 13:18:15 2019-05-03 13:32:06  "
      ]
     },
     "metadata": {},
     "output_type": "display_data"
    },
    {
     "name": "stdout",
     "output_type": "stream",
     "text": [
      "<class 'pandas.core.frame.DataFrame'>\n",
      "Int64Index: 3081 entries, 0 to 3080\n",
      "Data columns (total 13 columns):\n",
      "key              3081 non-null int64\n",
      "Wire 1           3081 non-null float64\n",
      "Wire 2           3081 non-null float64\n",
      "Wire 3           3081 non-null float64\n",
      "Wire 4           3081 non-null float64\n",
      "Wire 5           3081 non-null float64\n",
      "Wire 6           3081 non-null float64\n",
      "Wire 7           3081 non-null float64\n",
      "Wire 8           3081 non-null float64\n",
      "Wire 9           3081 non-null float64\n",
      "sum_wire         3081 non-null float64\n",
      "min_wire_dttm    3081 non-null datetime64[ns]\n",
      "max_wire_dttm    3081 non-null datetime64[ns]\n",
      "dtypes: datetime64[ns](2), float64(10), int64(1)\n",
      "memory usage: 337.0 KB\n"
     ]
    }
   ],
   "source": [
    "df_wire = df_wire.merge(data_wire_time[['key', 'min_wire_dttm', 'max_wire_dttm']], on='key', how='left')\n",
    "display(df_wire.head())\n",
    "df_wire.info()"
   ]
  },
  {
   "cell_type": "code",
   "execution_count": 50,
   "id": "393b4c7e",
   "metadata": {},
   "outputs": [
    {
     "data": {
      "text/html": [
       "<div>\n",
       "<style scoped>\n",
       "    .dataframe tbody tr th:only-of-type {\n",
       "        vertical-align: middle;\n",
       "    }\n",
       "\n",
       "    .dataframe tbody tr th {\n",
       "        vertical-align: top;\n",
       "    }\n",
       "\n",
       "    .dataframe thead th {\n",
       "        text-align: right;\n",
       "    }\n",
       "</style>\n",
       "<table border=\"1\" class=\"dataframe\">\n",
       "  <thead>\n",
       "    <tr style=\"text-align: right;\">\n",
       "      <th></th>\n",
       "      <th>key</th>\n",
       "      <th>measure_count</th>\n",
       "      <th>first_temp_dttm</th>\n",
       "      <th>first_temp</th>\n",
       "      <th>last_temp_dttm</th>\n",
       "      <th>last_temp</th>\n",
       "      <th>first_heat_dttm</th>\n",
       "      <th>last_heat_dttm</th>\n",
       "      <th>sum_active_power</th>\n",
       "      <th>sum_reactive_power</th>\n",
       "      <th>...</th>\n",
       "      <th>Wire 3</th>\n",
       "      <th>Wire 4</th>\n",
       "      <th>Wire 5</th>\n",
       "      <th>Wire 6</th>\n",
       "      <th>Wire 7</th>\n",
       "      <th>Wire 8</th>\n",
       "      <th>Wire 9</th>\n",
       "      <th>sum_wire</th>\n",
       "      <th>min_wire_dttm</th>\n",
       "      <th>max_wire_dttm</th>\n",
       "    </tr>\n",
       "  </thead>\n",
       "  <tbody>\n",
       "    <tr>\n",
       "      <td>0</td>\n",
       "      <td>1</td>\n",
       "      <td>5</td>\n",
       "      <td>2019-05-03 11:16:18</td>\n",
       "      <td>1571.0</td>\n",
       "      <td>2019-05-03 11:30:39</td>\n",
       "      <td>1613.0</td>\n",
       "      <td>2019-05-03 11:02:14</td>\n",
       "      <td>2019-05-03 11:28:37</td>\n",
       "      <td>4.878147</td>\n",
       "      <td>3.183241</td>\n",
       "      <td>...</td>\n",
       "      <td>0.0</td>\n",
       "      <td>0.0</td>\n",
       "      <td>0.0</td>\n",
       "      <td>0.0</td>\n",
       "      <td>0.0</td>\n",
       "      <td>0.0</td>\n",
       "      <td>0.0</td>\n",
       "      <td>60.059998</td>\n",
       "      <td>2019-05-03 11:11:41</td>\n",
       "      <td>2019-05-03 11:11:41</td>\n",
       "    </tr>\n",
       "    <tr>\n",
       "      <td>1</td>\n",
       "      <td>2</td>\n",
       "      <td>6</td>\n",
       "      <td>2019-05-03 11:37:27</td>\n",
       "      <td>1581.0</td>\n",
       "      <td>2019-05-03 11:59:12</td>\n",
       "      <td>1602.0</td>\n",
       "      <td>2019-05-03 11:34:14</td>\n",
       "      <td>2019-05-03 11:53:18</td>\n",
       "      <td>3.052598</td>\n",
       "      <td>1.998112</td>\n",
       "      <td>...</td>\n",
       "      <td>0.0</td>\n",
       "      <td>0.0</td>\n",
       "      <td>0.0</td>\n",
       "      <td>0.0</td>\n",
       "      <td>0.0</td>\n",
       "      <td>0.0</td>\n",
       "      <td>0.0</td>\n",
       "      <td>96.052315</td>\n",
       "      <td>2019-05-03 11:46:10</td>\n",
       "      <td>2019-05-03 11:46:10</td>\n",
       "    </tr>\n",
       "    <tr>\n",
       "      <td>2</td>\n",
       "      <td>3</td>\n",
       "      <td>5</td>\n",
       "      <td>2019-05-03 12:13:17</td>\n",
       "      <td>1596.0</td>\n",
       "      <td>2019-05-03 12:34:57</td>\n",
       "      <td>1599.0</td>\n",
       "      <td>2019-05-03 12:06:54</td>\n",
       "      <td>2019-05-03 12:32:19</td>\n",
       "      <td>2.525882</td>\n",
       "      <td>1.599076</td>\n",
       "      <td>...</td>\n",
       "      <td>0.0</td>\n",
       "      <td>0.0</td>\n",
       "      <td>0.0</td>\n",
       "      <td>0.0</td>\n",
       "      <td>0.0</td>\n",
       "      <td>0.0</td>\n",
       "      <td>0.0</td>\n",
       "      <td>91.160157</td>\n",
       "      <td>2019-05-03 12:13:47</td>\n",
       "      <td>2019-05-03 12:13:47</td>\n",
       "    </tr>\n",
       "    <tr>\n",
       "      <td>3</td>\n",
       "      <td>4</td>\n",
       "      <td>3</td>\n",
       "      <td>2019-05-03 12:52:57</td>\n",
       "      <td>1601.0</td>\n",
       "      <td>2019-05-03 12:59:25</td>\n",
       "      <td>1625.0</td>\n",
       "      <td>2019-05-03 12:39:37</td>\n",
       "      <td>2019-05-03 12:57:50</td>\n",
       "      <td>3.209250</td>\n",
       "      <td>2.060298</td>\n",
       "      <td>...</td>\n",
       "      <td>0.0</td>\n",
       "      <td>0.0</td>\n",
       "      <td>0.0</td>\n",
       "      <td>0.0</td>\n",
       "      <td>0.0</td>\n",
       "      <td>0.0</td>\n",
       "      <td>0.0</td>\n",
       "      <td>89.063515</td>\n",
       "      <td>2019-05-03 12:48:05</td>\n",
       "      <td>2019-05-03 12:48:05</td>\n",
       "    </tr>\n",
       "    <tr>\n",
       "      <td>4</td>\n",
       "      <td>5</td>\n",
       "      <td>2</td>\n",
       "      <td>2019-05-03 13:23:19</td>\n",
       "      <td>1576.0</td>\n",
       "      <td>2019-05-03 13:36:01</td>\n",
       "      <td>1602.0</td>\n",
       "      <td>2019-05-03 13:11:13</td>\n",
       "      <td>2019-05-03 13:33:55</td>\n",
       "      <td>3.347173</td>\n",
       "      <td>2.252643</td>\n",
       "      <td>...</td>\n",
       "      <td>0.0</td>\n",
       "      <td>0.0</td>\n",
       "      <td>0.0</td>\n",
       "      <td>0.0</td>\n",
       "      <td>0.0</td>\n",
       "      <td>0.0</td>\n",
       "      <td>0.0</td>\n",
       "      <td>98.352796</td>\n",
       "      <td>2019-05-03 13:18:15</td>\n",
       "      <td>2019-05-03 13:32:06</td>\n",
       "    </tr>\n",
       "  </tbody>\n",
       "</table>\n",
       "<p>5 rows × 40 columns</p>\n",
       "</div>"
      ],
      "text/plain": [
       "   key  measure_count     first_temp_dttm  first_temp      last_temp_dttm  \\\n",
       "0    1              5 2019-05-03 11:16:18      1571.0 2019-05-03 11:30:39   \n",
       "1    2              6 2019-05-03 11:37:27      1581.0 2019-05-03 11:59:12   \n",
       "2    3              5 2019-05-03 12:13:17      1596.0 2019-05-03 12:34:57   \n",
       "3    4              3 2019-05-03 12:52:57      1601.0 2019-05-03 12:59:25   \n",
       "4    5              2 2019-05-03 13:23:19      1576.0 2019-05-03 13:36:01   \n",
       "\n",
       "   last_temp     first_heat_dttm      last_heat_dttm  sum_active_power  \\\n",
       "0     1613.0 2019-05-03 11:02:14 2019-05-03 11:28:37          4.878147   \n",
       "1     1602.0 2019-05-03 11:34:14 2019-05-03 11:53:18          3.052598   \n",
       "2     1599.0 2019-05-03 12:06:54 2019-05-03 12:32:19          2.525882   \n",
       "3     1625.0 2019-05-03 12:39:37 2019-05-03 12:57:50          3.209250   \n",
       "4     1602.0 2019-05-03 13:11:13 2019-05-03 13:33:55          3.347173   \n",
       "\n",
       "   sum_reactive_power  ...  Wire 3  Wire 4  Wire 5  Wire 6  Wire 7  Wire 8  \\\n",
       "0            3.183241  ...     0.0     0.0     0.0     0.0     0.0     0.0   \n",
       "1            1.998112  ...     0.0     0.0     0.0     0.0     0.0     0.0   \n",
       "2            1.599076  ...     0.0     0.0     0.0     0.0     0.0     0.0   \n",
       "3            2.060298  ...     0.0     0.0     0.0     0.0     0.0     0.0   \n",
       "4            2.252643  ...     0.0     0.0     0.0     0.0     0.0     0.0   \n",
       "\n",
       "   Wire 9   sum_wire       min_wire_dttm       max_wire_dttm  \n",
       "0     0.0  60.059998 2019-05-03 11:11:41 2019-05-03 11:11:41  \n",
       "1     0.0  96.052315 2019-05-03 11:46:10 2019-05-03 11:46:10  \n",
       "2     0.0  91.160157 2019-05-03 12:13:47 2019-05-03 12:13:47  \n",
       "3     0.0  89.063515 2019-05-03 12:48:05 2019-05-03 12:48:05  \n",
       "4     0.0  98.352796 2019-05-03 13:18:15 2019-05-03 13:32:06  \n",
       "\n",
       "[5 rows x 40 columns]"
      ]
     },
     "metadata": {},
     "output_type": "display_data"
    }
   ],
   "source": [
    "df_fin = df_fin.merge(df_wire, on='key', how='left')\n",
    "display(df_fin.head())"
   ]
  },
  {
   "cell_type": "code",
   "execution_count": 51,
   "id": "9c3b474c",
   "metadata": {},
   "outputs": [
    {
     "name": "stdout",
     "output_type": "stream",
     "text": [
      "Кол-во партий с добавлением проволоки до первого замера температуры 195\n",
      "Доля партий с добавлением проволоки до первого замера температуры 0.0833\n"
     ]
    }
   ],
   "source": [
    "print('Кол-во партий с добавлением проволоки до первого замера температуры',\n",
    "      df_fin.query('first_temp_dttm > min_wire_dttm')['key'].count())\n",
    "print('Доля партий с добавлением проволоки до первого замера температуры',\n",
    "      round(df_fin.query('first_temp_dttm > min_wire_dttm')['key'].count()/df_fin['key'].count(), 4))"
   ]
  },
  {
   "cell_type": "markdown",
   "id": "aa900d4f",
   "metadata": {},
   "source": [
    "Спрашиваем у бизнеса зачем добавлять материалы до замера первоначальной температуры."
   ]
  },
  {
   "cell_type": "code",
   "execution_count": 52,
   "id": "7408bfd9",
   "metadata": {
    "scrolled": true
   },
   "outputs": [
    {
     "name": "stdout",
     "output_type": "stream",
     "text": [
      "Кол-во партий с добавлением проволоки после финального замера температуры 0\n",
      "Доля партий с добавлением проволоки после финального замера температуры 0.0\n"
     ]
    }
   ],
   "source": [
    "print('Кол-во партий с добавлением проволоки после финального замера температуры',\n",
    "      df_fin.query('last_temp_dttm < max_wire_dttm')['key'].count())\n",
    "print('Доля партий с добавлением проволоки после финального замера температуры',\n",
    "      round(df_fin.query('last_temp_dttm < max_wire_dttm')['key'].count()/df_fin['key'].count(), 4))"
   ]
  },
  {
   "cell_type": "markdown",
   "id": "c564ac60",
   "metadata": {},
   "source": [
    "ОК. Остался газ."
   ]
  },
  {
   "cell_type": "markdown",
   "id": "64f41bf2",
   "metadata": {},
   "source": [
    "### Газ"
   ]
  },
  {
   "cell_type": "code",
   "execution_count": 53,
   "id": "e1c981ec",
   "metadata": {},
   "outputs": [
    {
     "data": {
      "text/html": [
       "<div>\n",
       "<style scoped>\n",
       "    .dataframe tbody tr th:only-of-type {\n",
       "        vertical-align: middle;\n",
       "    }\n",
       "\n",
       "    .dataframe tbody tr th {\n",
       "        vertical-align: top;\n",
       "    }\n",
       "\n",
       "    .dataframe thead th {\n",
       "        text-align: right;\n",
       "    }\n",
       "</style>\n",
       "<table border=\"1\" class=\"dataframe\">\n",
       "  <thead>\n",
       "    <tr style=\"text-align: right;\">\n",
       "      <th></th>\n",
       "      <th>key</th>\n",
       "      <th>gas</th>\n",
       "    </tr>\n",
       "  </thead>\n",
       "  <tbody>\n",
       "    <tr>\n",
       "      <td>0</td>\n",
       "      <td>1</td>\n",
       "      <td>29.749986</td>\n",
       "    </tr>\n",
       "    <tr>\n",
       "      <td>1</td>\n",
       "      <td>2</td>\n",
       "      <td>12.555561</td>\n",
       "    </tr>\n",
       "    <tr>\n",
       "      <td>2</td>\n",
       "      <td>3</td>\n",
       "      <td>28.554793</td>\n",
       "    </tr>\n",
       "    <tr>\n",
       "      <td>3</td>\n",
       "      <td>4</td>\n",
       "      <td>18.841219</td>\n",
       "    </tr>\n",
       "    <tr>\n",
       "      <td>4</td>\n",
       "      <td>5</td>\n",
       "      <td>5.413692</td>\n",
       "    </tr>\n",
       "  </tbody>\n",
       "</table>\n",
       "</div>"
      ],
      "text/plain": [
       "   key        gas\n",
       "0    1  29.749986\n",
       "1    2  12.555561\n",
       "2    3  28.554793\n",
       "3    4  18.841219\n",
       "4    5   5.413692"
      ]
     },
     "metadata": {},
     "output_type": "display_data"
    }
   ],
   "source": [
    "data_gas.rename(columns={'Газ 1':'gas'}, inplace=True)\n",
    "display(data_gas.head())"
   ]
  },
  {
   "cell_type": "code",
   "execution_count": 54,
   "id": "5c61b432",
   "metadata": {},
   "outputs": [
    {
     "data": {
      "text/html": [
       "<div>\n",
       "<style scoped>\n",
       "    .dataframe tbody tr th:only-of-type {\n",
       "        vertical-align: middle;\n",
       "    }\n",
       "\n",
       "    .dataframe tbody tr th {\n",
       "        vertical-align: top;\n",
       "    }\n",
       "\n",
       "    .dataframe thead th {\n",
       "        text-align: right;\n",
       "    }\n",
       "</style>\n",
       "<table border=\"1\" class=\"dataframe\">\n",
       "  <thead>\n",
       "    <tr style=\"text-align: right;\">\n",
       "      <th></th>\n",
       "      <th>key</th>\n",
       "      <th>measure_count</th>\n",
       "      <th>first_temp_dttm</th>\n",
       "      <th>first_temp</th>\n",
       "      <th>last_temp_dttm</th>\n",
       "      <th>last_temp</th>\n",
       "      <th>first_heat_dttm</th>\n",
       "      <th>last_heat_dttm</th>\n",
       "      <th>sum_active_power</th>\n",
       "      <th>sum_reactive_power</th>\n",
       "      <th>...</th>\n",
       "      <th>Wire 4</th>\n",
       "      <th>Wire 5</th>\n",
       "      <th>Wire 6</th>\n",
       "      <th>Wire 7</th>\n",
       "      <th>Wire 8</th>\n",
       "      <th>Wire 9</th>\n",
       "      <th>sum_wire</th>\n",
       "      <th>min_wire_dttm</th>\n",
       "      <th>max_wire_dttm</th>\n",
       "      <th>gas</th>\n",
       "    </tr>\n",
       "  </thead>\n",
       "  <tbody>\n",
       "    <tr>\n",
       "      <td>0</td>\n",
       "      <td>1</td>\n",
       "      <td>5</td>\n",
       "      <td>2019-05-03 11:16:18</td>\n",
       "      <td>1571.0</td>\n",
       "      <td>2019-05-03 11:30:39</td>\n",
       "      <td>1613.0</td>\n",
       "      <td>2019-05-03 11:02:14</td>\n",
       "      <td>2019-05-03 11:28:37</td>\n",
       "      <td>4.878147</td>\n",
       "      <td>3.183241</td>\n",
       "      <td>...</td>\n",
       "      <td>0.0</td>\n",
       "      <td>0.0</td>\n",
       "      <td>0.0</td>\n",
       "      <td>0.0</td>\n",
       "      <td>0.0</td>\n",
       "      <td>0.0</td>\n",
       "      <td>60.059998</td>\n",
       "      <td>2019-05-03 11:11:41</td>\n",
       "      <td>2019-05-03 11:11:41</td>\n",
       "      <td>29.749986</td>\n",
       "    </tr>\n",
       "    <tr>\n",
       "      <td>1</td>\n",
       "      <td>2</td>\n",
       "      <td>6</td>\n",
       "      <td>2019-05-03 11:37:27</td>\n",
       "      <td>1581.0</td>\n",
       "      <td>2019-05-03 11:59:12</td>\n",
       "      <td>1602.0</td>\n",
       "      <td>2019-05-03 11:34:14</td>\n",
       "      <td>2019-05-03 11:53:18</td>\n",
       "      <td>3.052598</td>\n",
       "      <td>1.998112</td>\n",
       "      <td>...</td>\n",
       "      <td>0.0</td>\n",
       "      <td>0.0</td>\n",
       "      <td>0.0</td>\n",
       "      <td>0.0</td>\n",
       "      <td>0.0</td>\n",
       "      <td>0.0</td>\n",
       "      <td>96.052315</td>\n",
       "      <td>2019-05-03 11:46:10</td>\n",
       "      <td>2019-05-03 11:46:10</td>\n",
       "      <td>12.555561</td>\n",
       "    </tr>\n",
       "    <tr>\n",
       "      <td>2</td>\n",
       "      <td>3</td>\n",
       "      <td>5</td>\n",
       "      <td>2019-05-03 12:13:17</td>\n",
       "      <td>1596.0</td>\n",
       "      <td>2019-05-03 12:34:57</td>\n",
       "      <td>1599.0</td>\n",
       "      <td>2019-05-03 12:06:54</td>\n",
       "      <td>2019-05-03 12:32:19</td>\n",
       "      <td>2.525882</td>\n",
       "      <td>1.599076</td>\n",
       "      <td>...</td>\n",
       "      <td>0.0</td>\n",
       "      <td>0.0</td>\n",
       "      <td>0.0</td>\n",
       "      <td>0.0</td>\n",
       "      <td>0.0</td>\n",
       "      <td>0.0</td>\n",
       "      <td>91.160157</td>\n",
       "      <td>2019-05-03 12:13:47</td>\n",
       "      <td>2019-05-03 12:13:47</td>\n",
       "      <td>28.554793</td>\n",
       "    </tr>\n",
       "    <tr>\n",
       "      <td>3</td>\n",
       "      <td>4</td>\n",
       "      <td>3</td>\n",
       "      <td>2019-05-03 12:52:57</td>\n",
       "      <td>1601.0</td>\n",
       "      <td>2019-05-03 12:59:25</td>\n",
       "      <td>1625.0</td>\n",
       "      <td>2019-05-03 12:39:37</td>\n",
       "      <td>2019-05-03 12:57:50</td>\n",
       "      <td>3.209250</td>\n",
       "      <td>2.060298</td>\n",
       "      <td>...</td>\n",
       "      <td>0.0</td>\n",
       "      <td>0.0</td>\n",
       "      <td>0.0</td>\n",
       "      <td>0.0</td>\n",
       "      <td>0.0</td>\n",
       "      <td>0.0</td>\n",
       "      <td>89.063515</td>\n",
       "      <td>2019-05-03 12:48:05</td>\n",
       "      <td>2019-05-03 12:48:05</td>\n",
       "      <td>18.841219</td>\n",
       "    </tr>\n",
       "    <tr>\n",
       "      <td>4</td>\n",
       "      <td>5</td>\n",
       "      <td>2</td>\n",
       "      <td>2019-05-03 13:23:19</td>\n",
       "      <td>1576.0</td>\n",
       "      <td>2019-05-03 13:36:01</td>\n",
       "      <td>1602.0</td>\n",
       "      <td>2019-05-03 13:11:13</td>\n",
       "      <td>2019-05-03 13:33:55</td>\n",
       "      <td>3.347173</td>\n",
       "      <td>2.252643</td>\n",
       "      <td>...</td>\n",
       "      <td>0.0</td>\n",
       "      <td>0.0</td>\n",
       "      <td>0.0</td>\n",
       "      <td>0.0</td>\n",
       "      <td>0.0</td>\n",
       "      <td>0.0</td>\n",
       "      <td>98.352796</td>\n",
       "      <td>2019-05-03 13:18:15</td>\n",
       "      <td>2019-05-03 13:32:06</td>\n",
       "      <td>5.413692</td>\n",
       "    </tr>\n",
       "  </tbody>\n",
       "</table>\n",
       "<p>5 rows × 41 columns</p>\n",
       "</div>"
      ],
      "text/plain": [
       "   key  measure_count     first_temp_dttm  first_temp      last_temp_dttm  \\\n",
       "0    1              5 2019-05-03 11:16:18      1571.0 2019-05-03 11:30:39   \n",
       "1    2              6 2019-05-03 11:37:27      1581.0 2019-05-03 11:59:12   \n",
       "2    3              5 2019-05-03 12:13:17      1596.0 2019-05-03 12:34:57   \n",
       "3    4              3 2019-05-03 12:52:57      1601.0 2019-05-03 12:59:25   \n",
       "4    5              2 2019-05-03 13:23:19      1576.0 2019-05-03 13:36:01   \n",
       "\n",
       "   last_temp     first_heat_dttm      last_heat_dttm  sum_active_power  \\\n",
       "0     1613.0 2019-05-03 11:02:14 2019-05-03 11:28:37          4.878147   \n",
       "1     1602.0 2019-05-03 11:34:14 2019-05-03 11:53:18          3.052598   \n",
       "2     1599.0 2019-05-03 12:06:54 2019-05-03 12:32:19          2.525882   \n",
       "3     1625.0 2019-05-03 12:39:37 2019-05-03 12:57:50          3.209250   \n",
       "4     1602.0 2019-05-03 13:11:13 2019-05-03 13:33:55          3.347173   \n",
       "\n",
       "   sum_reactive_power  ...  Wire 4  Wire 5  Wire 6  Wire 7  Wire 8  Wire 9  \\\n",
       "0            3.183241  ...     0.0     0.0     0.0     0.0     0.0     0.0   \n",
       "1            1.998112  ...     0.0     0.0     0.0     0.0     0.0     0.0   \n",
       "2            1.599076  ...     0.0     0.0     0.0     0.0     0.0     0.0   \n",
       "3            2.060298  ...     0.0     0.0     0.0     0.0     0.0     0.0   \n",
       "4            2.252643  ...     0.0     0.0     0.0     0.0     0.0     0.0   \n",
       "\n",
       "    sum_wire       min_wire_dttm       max_wire_dttm        gas  \n",
       "0  60.059998 2019-05-03 11:11:41 2019-05-03 11:11:41  29.749986  \n",
       "1  96.052315 2019-05-03 11:46:10 2019-05-03 11:46:10  12.555561  \n",
       "2  91.160157 2019-05-03 12:13:47 2019-05-03 12:13:47  28.554793  \n",
       "3  89.063515 2019-05-03 12:48:05 2019-05-03 12:48:05  18.841219  \n",
       "4  98.352796 2019-05-03 13:18:15 2019-05-03 13:32:06   5.413692  \n",
       "\n",
       "[5 rows x 41 columns]"
      ]
     },
     "metadata": {},
     "output_type": "display_data"
    },
    {
     "name": "stdout",
     "output_type": "stream",
     "text": [
      "<class 'pandas.core.frame.DataFrame'>\n",
      "Int64Index: 2340 entries, 0 to 2339\n",
      "Data columns (total 41 columns):\n",
      "key                   2340 non-null int64\n",
      "measure_count         2340 non-null int64\n",
      "first_temp_dttm       2340 non-null datetime64[ns]\n",
      "first_temp            2340 non-null float64\n",
      "last_temp_dttm        2340 non-null datetime64[ns]\n",
      "last_temp             2340 non-null float64\n",
      "first_heat_dttm       2340 non-null datetime64[ns]\n",
      "last_heat_dttm        2340 non-null datetime64[ns]\n",
      "sum_active_power      2340 non-null float64\n",
      "sum_reactive_power    2340 non-null float64\n",
      "Bulk 1                2279 non-null float64\n",
      "Bulk 2                2279 non-null float64\n",
      "Bulk 3                2279 non-null float64\n",
      "Bulk 4                2279 non-null float64\n",
      "Bulk 5                2279 non-null float64\n",
      "Bulk 6                2279 non-null float64\n",
      "Bulk 7                2279 non-null float64\n",
      "Bulk 8                2279 non-null float64\n",
      "Bulk 9                2279 non-null float64\n",
      "Bulk 10               2279 non-null float64\n",
      "Bulk 11               2279 non-null float64\n",
      "Bulk 12               2279 non-null float64\n",
      "Bulk 13               2279 non-null float64\n",
      "Bulk 14               2279 non-null float64\n",
      "Bulk 15               2279 non-null float64\n",
      "bulk_sum              2279 non-null float64\n",
      "min_bulk_dttm         2279 non-null datetime64[ns]\n",
      "max_bulk_dttm         2279 non-null datetime64[ns]\n",
      "Wire 1                2246 non-null float64\n",
      "Wire 2                2246 non-null float64\n",
      "Wire 3                2246 non-null float64\n",
      "Wire 4                2246 non-null float64\n",
      "Wire 5                2246 non-null float64\n",
      "Wire 6                2246 non-null float64\n",
      "Wire 7                2246 non-null float64\n",
      "Wire 8                2246 non-null float64\n",
      "Wire 9                2246 non-null float64\n",
      "sum_wire              2246 non-null float64\n",
      "min_wire_dttm         2246 non-null datetime64[ns]\n",
      "max_wire_dttm         2246 non-null datetime64[ns]\n",
      "gas                   2338 non-null float64\n",
      "dtypes: datetime64[ns](8), float64(31), int64(2)\n",
      "memory usage: 767.8 KB\n"
     ]
    }
   ],
   "source": [
    "df_fin = df_fin.merge(data_gas, on='key', how='left')\n",
    "display(df_fin.head())\n",
    "df_fin.info()"
   ]
  },
  {
   "cell_type": "markdown",
   "id": "dfc63865",
   "metadata": {},
   "source": [
    "Получился практически итоговый датасет, который можно разбивать на выборки и начинать обучать модели.\n",
    "Осталось:\n",
    "1. Удалить лишние столбцы - даты и номер партии\n",
    "2. Заполнить пропуски в объемах проволочных и сыпучих материалов, газе. Пропуски заполним 0, т.к. предположим, что если данных нет, значит ничего не добавляли.\n",
    "3. Проверить признаки на мультиколлинеарность."
   ]
  },
  {
   "cell_type": "code",
   "execution_count": 55,
   "id": "f1110040",
   "metadata": {},
   "outputs": [
    {
     "data": {
      "text/html": [
       "<div>\n",
       "<style scoped>\n",
       "    .dataframe tbody tr th:only-of-type {\n",
       "        vertical-align: middle;\n",
       "    }\n",
       "\n",
       "    .dataframe tbody tr th {\n",
       "        vertical-align: top;\n",
       "    }\n",
       "\n",
       "    .dataframe thead th {\n",
       "        text-align: right;\n",
       "    }\n",
       "</style>\n",
       "<table border=\"1\" class=\"dataframe\">\n",
       "  <thead>\n",
       "    <tr style=\"text-align: right;\">\n",
       "      <th></th>\n",
       "      <th>first_temp</th>\n",
       "      <th>last_temp</th>\n",
       "      <th>sum_active_power</th>\n",
       "      <th>sum_reactive_power</th>\n",
       "      <th>Bulk 1</th>\n",
       "      <th>Bulk 2</th>\n",
       "      <th>Bulk 3</th>\n",
       "      <th>Bulk 4</th>\n",
       "      <th>Bulk 5</th>\n",
       "      <th>Bulk 6</th>\n",
       "      <th>...</th>\n",
       "      <th>Wire 2</th>\n",
       "      <th>Wire 3</th>\n",
       "      <th>Wire 4</th>\n",
       "      <th>Wire 5</th>\n",
       "      <th>Wire 6</th>\n",
       "      <th>Wire 7</th>\n",
       "      <th>Wire 8</th>\n",
       "      <th>Wire 9</th>\n",
       "      <th>sum_wire</th>\n",
       "      <th>gas</th>\n",
       "    </tr>\n",
       "  </thead>\n",
       "  <tbody>\n",
       "    <tr>\n",
       "      <td>0</td>\n",
       "      <td>1571.0</td>\n",
       "      <td>1613.0</td>\n",
       "      <td>4.878147</td>\n",
       "      <td>3.183241</td>\n",
       "      <td>0.0</td>\n",
       "      <td>0.0</td>\n",
       "      <td>0.0</td>\n",
       "      <td>43.0</td>\n",
       "      <td>0.0</td>\n",
       "      <td>0.0</td>\n",
       "      <td>...</td>\n",
       "      <td>0.00000</td>\n",
       "      <td>0.0</td>\n",
       "      <td>0.0</td>\n",
       "      <td>0.0</td>\n",
       "      <td>0.0</td>\n",
       "      <td>0.0</td>\n",
       "      <td>0.0</td>\n",
       "      <td>0.0</td>\n",
       "      <td>60.059998</td>\n",
       "      <td>29.749986</td>\n",
       "    </tr>\n",
       "    <tr>\n",
       "      <td>1</td>\n",
       "      <td>1581.0</td>\n",
       "      <td>1602.0</td>\n",
       "      <td>3.052598</td>\n",
       "      <td>1.998112</td>\n",
       "      <td>0.0</td>\n",
       "      <td>0.0</td>\n",
       "      <td>0.0</td>\n",
       "      <td>73.0</td>\n",
       "      <td>0.0</td>\n",
       "      <td>0.0</td>\n",
       "      <td>...</td>\n",
       "      <td>0.00000</td>\n",
       "      <td>0.0</td>\n",
       "      <td>0.0</td>\n",
       "      <td>0.0</td>\n",
       "      <td>0.0</td>\n",
       "      <td>0.0</td>\n",
       "      <td>0.0</td>\n",
       "      <td>0.0</td>\n",
       "      <td>96.052315</td>\n",
       "      <td>12.555561</td>\n",
       "    </tr>\n",
       "    <tr>\n",
       "      <td>2</td>\n",
       "      <td>1596.0</td>\n",
       "      <td>1599.0</td>\n",
       "      <td>2.525882</td>\n",
       "      <td>1.599076</td>\n",
       "      <td>0.0</td>\n",
       "      <td>0.0</td>\n",
       "      <td>0.0</td>\n",
       "      <td>34.0</td>\n",
       "      <td>0.0</td>\n",
       "      <td>0.0</td>\n",
       "      <td>...</td>\n",
       "      <td>0.00000</td>\n",
       "      <td>0.0</td>\n",
       "      <td>0.0</td>\n",
       "      <td>0.0</td>\n",
       "      <td>0.0</td>\n",
       "      <td>0.0</td>\n",
       "      <td>0.0</td>\n",
       "      <td>0.0</td>\n",
       "      <td>91.160157</td>\n",
       "      <td>28.554793</td>\n",
       "    </tr>\n",
       "    <tr>\n",
       "      <td>3</td>\n",
       "      <td>1601.0</td>\n",
       "      <td>1625.0</td>\n",
       "      <td>3.209250</td>\n",
       "      <td>2.060298</td>\n",
       "      <td>0.0</td>\n",
       "      <td>0.0</td>\n",
       "      <td>0.0</td>\n",
       "      <td>81.0</td>\n",
       "      <td>0.0</td>\n",
       "      <td>0.0</td>\n",
       "      <td>...</td>\n",
       "      <td>0.00000</td>\n",
       "      <td>0.0</td>\n",
       "      <td>0.0</td>\n",
       "      <td>0.0</td>\n",
       "      <td>0.0</td>\n",
       "      <td>0.0</td>\n",
       "      <td>0.0</td>\n",
       "      <td>0.0</td>\n",
       "      <td>89.063515</td>\n",
       "      <td>18.841219</td>\n",
       "    </tr>\n",
       "    <tr>\n",
       "      <td>4</td>\n",
       "      <td>1576.0</td>\n",
       "      <td>1602.0</td>\n",
       "      <td>3.347173</td>\n",
       "      <td>2.252643</td>\n",
       "      <td>0.0</td>\n",
       "      <td>0.0</td>\n",
       "      <td>0.0</td>\n",
       "      <td>78.0</td>\n",
       "      <td>0.0</td>\n",
       "      <td>0.0</td>\n",
       "      <td>...</td>\n",
       "      <td>9.11456</td>\n",
       "      <td>0.0</td>\n",
       "      <td>0.0</td>\n",
       "      <td>0.0</td>\n",
       "      <td>0.0</td>\n",
       "      <td>0.0</td>\n",
       "      <td>0.0</td>\n",
       "      <td>0.0</td>\n",
       "      <td>98.352796</td>\n",
       "      <td>5.413692</td>\n",
       "    </tr>\n",
       "  </tbody>\n",
       "</table>\n",
       "<p>5 rows × 31 columns</p>\n",
       "</div>"
      ],
      "text/plain": [
       "   first_temp  last_temp  sum_active_power  sum_reactive_power  Bulk 1  \\\n",
       "0      1571.0     1613.0          4.878147            3.183241     0.0   \n",
       "1      1581.0     1602.0          3.052598            1.998112     0.0   \n",
       "2      1596.0     1599.0          2.525882            1.599076     0.0   \n",
       "3      1601.0     1625.0          3.209250            2.060298     0.0   \n",
       "4      1576.0     1602.0          3.347173            2.252643     0.0   \n",
       "\n",
       "   Bulk 2  Bulk 3  Bulk 4  Bulk 5  Bulk 6  ...   Wire 2  Wire 3  Wire 4  \\\n",
       "0     0.0     0.0    43.0     0.0     0.0  ...  0.00000     0.0     0.0   \n",
       "1     0.0     0.0    73.0     0.0     0.0  ...  0.00000     0.0     0.0   \n",
       "2     0.0     0.0    34.0     0.0     0.0  ...  0.00000     0.0     0.0   \n",
       "3     0.0     0.0    81.0     0.0     0.0  ...  0.00000     0.0     0.0   \n",
       "4     0.0     0.0    78.0     0.0     0.0  ...  9.11456     0.0     0.0   \n",
       "\n",
       "   Wire 5  Wire 6  Wire 7  Wire 8  Wire 9   sum_wire        gas  \n",
       "0     0.0     0.0     0.0     0.0     0.0  60.059998  29.749986  \n",
       "1     0.0     0.0     0.0     0.0     0.0  96.052315  12.555561  \n",
       "2     0.0     0.0     0.0     0.0     0.0  91.160157  28.554793  \n",
       "3     0.0     0.0     0.0     0.0     0.0  89.063515  18.841219  \n",
       "4     0.0     0.0     0.0     0.0     0.0  98.352796   5.413692  \n",
       "\n",
       "[5 rows x 31 columns]"
      ]
     },
     "metadata": {},
     "output_type": "display_data"
    },
    {
     "data": {
      "text/html": [
       "<div>\n",
       "<style scoped>\n",
       "    .dataframe tbody tr th:only-of-type {\n",
       "        vertical-align: middle;\n",
       "    }\n",
       "\n",
       "    .dataframe tbody tr th {\n",
       "        vertical-align: top;\n",
       "    }\n",
       "\n",
       "    .dataframe thead th {\n",
       "        text-align: right;\n",
       "    }\n",
       "</style>\n",
       "<table border=\"1\" class=\"dataframe\">\n",
       "  <thead>\n",
       "    <tr style=\"text-align: right;\">\n",
       "      <th></th>\n",
       "      <th>first_temp</th>\n",
       "      <th>last_temp</th>\n",
       "      <th>sum_active_power</th>\n",
       "      <th>sum_reactive_power</th>\n",
       "      <th>Bulk 1</th>\n",
       "      <th>Bulk 2</th>\n",
       "      <th>Bulk 3</th>\n",
       "      <th>Bulk 4</th>\n",
       "      <th>Bulk 5</th>\n",
       "      <th>Bulk 6</th>\n",
       "      <th>...</th>\n",
       "      <th>Wire 2</th>\n",
       "      <th>Wire 3</th>\n",
       "      <th>Wire 4</th>\n",
       "      <th>Wire 5</th>\n",
       "      <th>Wire 6</th>\n",
       "      <th>Wire 7</th>\n",
       "      <th>Wire 8</th>\n",
       "      <th>Wire 9</th>\n",
       "      <th>sum_wire</th>\n",
       "      <th>gas</th>\n",
       "    </tr>\n",
       "  </thead>\n",
       "  <tbody>\n",
       "    <tr>\n",
       "      <td>count</td>\n",
       "      <td>2340.000</td>\n",
       "      <td>2340.000</td>\n",
       "      <td>2340.000</td>\n",
       "      <td>2340.000</td>\n",
       "      <td>2340.000</td>\n",
       "      <td>2340.000</td>\n",
       "      <td>2340.000</td>\n",
       "      <td>2340.000</td>\n",
       "      <td>2340.000</td>\n",
       "      <td>2340.000</td>\n",
       "      <td>...</td>\n",
       "      <td>2340.000</td>\n",
       "      <td>2340.000</td>\n",
       "      <td>2340.000</td>\n",
       "      <td>2340.0</td>\n",
       "      <td>2340.000</td>\n",
       "      <td>2340.000</td>\n",
       "      <td>2340.000</td>\n",
       "      <td>2340.000</td>\n",
       "      <td>2340.000</td>\n",
       "      <td>2340.000</td>\n",
       "    </tr>\n",
       "    <tr>\n",
       "      <td>mean</td>\n",
       "      <td>1588.376</td>\n",
       "      <td>1595.344</td>\n",
       "      <td>3.129</td>\n",
       "      <td>2.328</td>\n",
       "      <td>3.223</td>\n",
       "      <td>1.416</td>\n",
       "      <td>45.804</td>\n",
       "      <td>34.528</td>\n",
       "      <td>2.628</td>\n",
       "      <td>21.991</td>\n",
       "      <td>...</td>\n",
       "      <td>17.259</td>\n",
       "      <td>3.220</td>\n",
       "      <td>0.305</td>\n",
       "      <td>0.0</td>\n",
       "      <td>0.974</td>\n",
       "      <td>0.006</td>\n",
       "      <td>0.310</td>\n",
       "      <td>0.392</td>\n",
       "      <td>119.962</td>\n",
       "      <td>11.181</td>\n",
       "    </tr>\n",
       "    <tr>\n",
       "      <td>std</td>\n",
       "      <td>29.304</td>\n",
       "      <td>15.782</td>\n",
       "      <td>1.428</td>\n",
       "      <td>1.080</td>\n",
       "      <td>12.026</td>\n",
       "      <td>19.037</td>\n",
       "      <td>74.905</td>\n",
       "      <td>57.297</td>\n",
       "      <td>22.350</td>\n",
       "      <td>55.148</td>\n",
       "      <td>...</td>\n",
       "      <td>33.428</td>\n",
       "      <td>27.878</td>\n",
       "      <td>4.747</td>\n",
       "      <td>0.0</td>\n",
       "      <td>8.673</td>\n",
       "      <td>0.205</td>\n",
       "      <td>4.392</td>\n",
       "      <td>4.258</td>\n",
       "      <td>67.475</td>\n",
       "      <td>6.340</td>\n",
       "    </tr>\n",
       "    <tr>\n",
       "      <td>min</td>\n",
       "      <td>1191.000</td>\n",
       "      <td>1541.000</td>\n",
       "      <td>0.186</td>\n",
       "      <td>0.158</td>\n",
       "      <td>0.000</td>\n",
       "      <td>0.000</td>\n",
       "      <td>0.000</td>\n",
       "      <td>0.000</td>\n",
       "      <td>0.000</td>\n",
       "      <td>0.000</td>\n",
       "      <td>...</td>\n",
       "      <td>0.000</td>\n",
       "      <td>0.000</td>\n",
       "      <td>0.000</td>\n",
       "      <td>0.0</td>\n",
       "      <td>0.000</td>\n",
       "      <td>0.000</td>\n",
       "      <td>0.000</td>\n",
       "      <td>0.000</td>\n",
       "      <td>0.000</td>\n",
       "      <td>0.000</td>\n",
       "    </tr>\n",
       "    <tr>\n",
       "      <td>25%</td>\n",
       "      <td>1572.000</td>\n",
       "      <td>1587.000</td>\n",
       "      <td>2.147</td>\n",
       "      <td>1.599</td>\n",
       "      <td>0.000</td>\n",
       "      <td>0.000</td>\n",
       "      <td>0.000</td>\n",
       "      <td>0.000</td>\n",
       "      <td>0.000</td>\n",
       "      <td>0.000</td>\n",
       "      <td>...</td>\n",
       "      <td>0.000</td>\n",
       "      <td>0.000</td>\n",
       "      <td>0.000</td>\n",
       "      <td>0.0</td>\n",
       "      <td>0.000</td>\n",
       "      <td>0.000</td>\n",
       "      <td>0.000</td>\n",
       "      <td>0.000</td>\n",
       "      <td>82.318</td>\n",
       "      <td>7.124</td>\n",
       "    </tr>\n",
       "    <tr>\n",
       "      <td>50%</td>\n",
       "      <td>1587.500</td>\n",
       "      <td>1593.000</td>\n",
       "      <td>3.024</td>\n",
       "      <td>2.229</td>\n",
       "      <td>0.000</td>\n",
       "      <td>0.000</td>\n",
       "      <td>0.000</td>\n",
       "      <td>0.000</td>\n",
       "      <td>0.000</td>\n",
       "      <td>0.000</td>\n",
       "      <td>...</td>\n",
       "      <td>0.000</td>\n",
       "      <td>0.000</td>\n",
       "      <td>0.000</td>\n",
       "      <td>0.0</td>\n",
       "      <td>0.000</td>\n",
       "      <td>0.000</td>\n",
       "      <td>0.000</td>\n",
       "      <td>0.000</td>\n",
       "      <td>114.048</td>\n",
       "      <td>9.956</td>\n",
       "    </tr>\n",
       "    <tr>\n",
       "      <td>75%</td>\n",
       "      <td>1605.000</td>\n",
       "      <td>1599.000</td>\n",
       "      <td>3.910</td>\n",
       "      <td>2.905</td>\n",
       "      <td>0.000</td>\n",
       "      <td>0.000</td>\n",
       "      <td>74.250</td>\n",
       "      <td>69.000</td>\n",
       "      <td>0.000</td>\n",
       "      <td>0.000</td>\n",
       "      <td>...</td>\n",
       "      <td>21.149</td>\n",
       "      <td>0.000</td>\n",
       "      <td>0.000</td>\n",
       "      <td>0.0</td>\n",
       "      <td>0.000</td>\n",
       "      <td>0.000</td>\n",
       "      <td>0.000</td>\n",
       "      <td>0.000</td>\n",
       "      <td>149.479</td>\n",
       "      <td>13.951</td>\n",
       "    </tr>\n",
       "    <tr>\n",
       "      <td>max</td>\n",
       "      <td>1679.000</td>\n",
       "      <td>1700.000</td>\n",
       "      <td>17.496</td>\n",
       "      <td>12.588</td>\n",
       "      <td>185.000</td>\n",
       "      <td>325.000</td>\n",
       "      <td>454.000</td>\n",
       "      <td>281.000</td>\n",
       "      <td>603.000</td>\n",
       "      <td>503.000</td>\n",
       "      <td>...</td>\n",
       "      <td>282.780</td>\n",
       "      <td>385.009</td>\n",
       "      <td>113.231</td>\n",
       "      <td>0.0</td>\n",
       "      <td>180.455</td>\n",
       "      <td>8.490</td>\n",
       "      <td>102.762</td>\n",
       "      <td>90.054</td>\n",
       "      <td>568.778</td>\n",
       "      <td>77.995</td>\n",
       "    </tr>\n",
       "  </tbody>\n",
       "</table>\n",
       "<p>8 rows × 31 columns</p>\n",
       "</div>"
      ],
      "text/plain": [
       "       first_temp  last_temp  sum_active_power  sum_reactive_power    Bulk 1  \\\n",
       "count    2340.000   2340.000          2340.000            2340.000  2340.000   \n",
       "mean     1588.376   1595.344             3.129               2.328     3.223   \n",
       "std        29.304     15.782             1.428               1.080    12.026   \n",
       "min      1191.000   1541.000             0.186               0.158     0.000   \n",
       "25%      1572.000   1587.000             2.147               1.599     0.000   \n",
       "50%      1587.500   1593.000             3.024               2.229     0.000   \n",
       "75%      1605.000   1599.000             3.910               2.905     0.000   \n",
       "max      1679.000   1700.000            17.496              12.588   185.000   \n",
       "\n",
       "         Bulk 2    Bulk 3    Bulk 4    Bulk 5    Bulk 6  ...    Wire 2  \\\n",
       "count  2340.000  2340.000  2340.000  2340.000  2340.000  ...  2340.000   \n",
       "mean      1.416    45.804    34.528     2.628    21.991  ...    17.259   \n",
       "std      19.037    74.905    57.297    22.350    55.148  ...    33.428   \n",
       "min       0.000     0.000     0.000     0.000     0.000  ...     0.000   \n",
       "25%       0.000     0.000     0.000     0.000     0.000  ...     0.000   \n",
       "50%       0.000     0.000     0.000     0.000     0.000  ...     0.000   \n",
       "75%       0.000    74.250    69.000     0.000     0.000  ...    21.149   \n",
       "max     325.000   454.000   281.000   603.000   503.000  ...   282.780   \n",
       "\n",
       "         Wire 3    Wire 4  Wire 5    Wire 6    Wire 7    Wire 8    Wire 9  \\\n",
       "count  2340.000  2340.000  2340.0  2340.000  2340.000  2340.000  2340.000   \n",
       "mean      3.220     0.305     0.0     0.974     0.006     0.310     0.392   \n",
       "std      27.878     4.747     0.0     8.673     0.205     4.392     4.258   \n",
       "min       0.000     0.000     0.0     0.000     0.000     0.000     0.000   \n",
       "25%       0.000     0.000     0.0     0.000     0.000     0.000     0.000   \n",
       "50%       0.000     0.000     0.0     0.000     0.000     0.000     0.000   \n",
       "75%       0.000     0.000     0.0     0.000     0.000     0.000     0.000   \n",
       "max     385.009   113.231     0.0   180.455     8.490   102.762    90.054   \n",
       "\n",
       "       sum_wire       gas  \n",
       "count  2340.000  2340.000  \n",
       "mean    119.962    11.181  \n",
       "std      67.475     6.340  \n",
       "min       0.000     0.000  \n",
       "25%      82.318     7.124  \n",
       "50%     114.048     9.956  \n",
       "75%     149.479    13.951  \n",
       "max     568.778    77.995  \n",
       "\n",
       "[8 rows x 31 columns]"
      ]
     },
     "metadata": {},
     "output_type": "display_data"
    },
    {
     "name": "stdout",
     "output_type": "stream",
     "text": [
      "Количество дубликатов: 0\n",
      "\n",
      "<class 'pandas.core.frame.DataFrame'>\n",
      "Int64Index: 2340 entries, 0 to 2339\n",
      "Data columns (total 31 columns):\n",
      "first_temp            2340 non-null float64\n",
      "last_temp             2340 non-null float64\n",
      "sum_active_power      2340 non-null float64\n",
      "sum_reactive_power    2340 non-null float64\n",
      "Bulk 1                2340 non-null float64\n",
      "Bulk 2                2340 non-null float64\n",
      "Bulk 3                2340 non-null float64\n",
      "Bulk 4                2340 non-null float64\n",
      "Bulk 5                2340 non-null float64\n",
      "Bulk 6                2340 non-null float64\n",
      "Bulk 7                2340 non-null float64\n",
      "Bulk 8                2340 non-null float64\n",
      "Bulk 9                2340 non-null float64\n",
      "Bulk 10               2340 non-null float64\n",
      "Bulk 11               2340 non-null float64\n",
      "Bulk 12               2340 non-null float64\n",
      "Bulk 13               2340 non-null float64\n",
      "Bulk 14               2340 non-null float64\n",
      "Bulk 15               2340 non-null float64\n",
      "bulk_sum              2340 non-null float64\n",
      "Wire 1                2340 non-null float64\n",
      "Wire 2                2340 non-null float64\n",
      "Wire 3                2340 non-null float64\n",
      "Wire 4                2340 non-null float64\n",
      "Wire 5                2340 non-null float64\n",
      "Wire 6                2340 non-null float64\n",
      "Wire 7                2340 non-null float64\n",
      "Wire 8                2340 non-null float64\n",
      "Wire 9                2340 non-null float64\n",
      "sum_wire              2340 non-null float64\n",
      "gas                   2340 non-null float64\n",
      "dtypes: float64(31)\n",
      "memory usage: 585.0 KB\n"
     ]
    }
   ],
   "source": [
    "drop_col = ['key', 'measure_count',\n",
    "            'first_temp_dttm', 'last_temp_dttm',\n",
    "            'first_heat_dttm', 'last_heat_dttm',\n",
    "            'min_bulk_dttm', 'max_bulk_dttm',\n",
    "            'min_wire_dttm', 'max_wire_dttm']\n",
    "final_df = df_fin.drop(drop_col, axis=1)\n",
    "final_df.fillna(0, inplace=True)\n",
    "\n",
    "data_an(final_df)"
   ]
  },
  {
   "cell_type": "code",
   "execution_count": 56,
   "id": "3530581c",
   "metadata": {},
   "outputs": [
    {
     "data": {
      "text/plain": [
       "(2340, 30)"
      ]
     },
     "metadata": {},
     "output_type": "display_data"
    },
    {
     "data": {
      "text/plain": [
       "(2340,)"
      ]
     },
     "metadata": {},
     "output_type": "display_data"
    }
   ],
   "source": [
    "target = final_df['last_temp']\n",
    "features = final_df.drop('last_temp', axis=1)\n",
    "display(features.shape, target.shape)"
   ]
  },
  {
   "cell_type": "code",
   "execution_count": 57,
   "id": "63b08cfd",
   "metadata": {},
   "outputs": [
    {
     "data": {
      "image/png": "[encoded data removed]",
      "text/plain": [
       "<Figure size 1152x1152 with 2 Axes>"
      ]
     },
     "metadata": {},
     "output_type": "display_data"
    }
   ],
   "source": [
    "plt.figure(figsize=(16,16))\n",
    "ax = sns.heatmap(features.corr(), square=True)\n",
    "ax.set_xticklabels(ax.get_xmajorticklabels(), fontsize=10, rotation=45)\n",
    "ax.set_yticklabels(ax.get_ymajorticklabels(), fontsize=10, rotation=45)\n",
    "plt.show()"
   ]
  },
  {
   "cell_type": "code",
   "execution_count": 58,
   "id": "4a0174ab",
   "metadata": {},
   "outputs": [
    {
     "data": {
      "text/plain": [
       "0.0    2340\n",
       "Name: Wire 5, dtype: int64"
      ]
     },
     "metadata": {},
     "output_type": "display_data"
    }
   ],
   "source": [
    "display(features['Wire 5'].value_counts())"
   ]
  },
  {
   "cell_type": "markdown",
   "id": "08eefa14",
   "metadata": {},
   "source": [
    "Мы видим, что у активной и реактивной мощностях корреляция очень высокая. Исключим один из признаков. Попробуем реактивную мощность.\n",
    "\n",
    "Также признак Wire 5 явно бесползеный, т.к. в нём только значения = 0. Дропнем его."
   ]
  },
  {
   "cell_type": "code",
   "execution_count": 59,
   "id": "cdad0097",
   "metadata": {},
   "outputs": [],
   "source": [
    "features = features.drop(['sum_reactive_power', 'Wire 5'], axis=1)"
   ]
  },
  {
   "cell_type": "markdown",
   "id": "2bd5b9ff",
   "metadata": {},
   "source": [
    "### Вывод"
   ]
  },
  {
   "cell_type": "markdown",
   "id": "444e5125",
   "metadata": {},
   "source": [
    "Мы собрали датасет с признаками, который можно разбивать на выборки и обучать модели.\n",
    "\n",
    "В процессе подготовки признаков возникли вопросы к бизнесу - зачем выполнять действия с партией (добавление материалов, нагрев) до первого и после финального замеров температуры?\n",
    "\n",
    "Мы удалили из итогового датасета партии, по которым выполнялись действия после финального замера температуры, и с менее чем двумя замерами температуры.\n",
    "\n",
    "Пропуски в данных по добавлением материалов и газа заполнили 0, т.к. предположили, если данных нет, значит добавлений не было.\n",
    "\n",
    "Заметили коллинеарность в активной и реактивной мощностях, в связи с чем удалили один из признаков - реактивную мощность. Также удалили столбец Wire 5, т.к. в нём были только нули."
   ]
  },
  {
   "cell_type": "markdown",
   "id": "ca0bfca3",
   "metadata": {},
   "source": [
    "## Обучение моделей"
   ]
  },
  {
   "cell_type": "markdown",
   "id": "6b28c050",
   "metadata": {},
   "source": [
    "Разобьём данные на выборки."
   ]
  },
  {
   "cell_type": "code",
   "execution_count": 60,
   "id": "9b444663",
   "metadata": {},
   "outputs": [
    {
     "data": {
      "text/plain": [
       "(1755, 28)"
      ]
     },
     "metadata": {},
     "output_type": "display_data"
    },
    {
     "data": {
      "text/plain": [
       "(585, 28)"
      ]
     },
     "metadata": {},
     "output_type": "display_data"
    }
   ],
   "source": [
    "features_train, features_test, target_train, target_test = train_test_split(features, target, test_size=.25,\n",
    "                                                                           random_state=12345)\n",
    "display(features_train.shape, features_test.shape)"
   ]
  },
  {
   "cell_type": "markdown",
   "id": "33407a7d",
   "metadata": {},
   "source": [
    "Данные готовы к обучению.\n",
    "\n",
    "Напишем функцию для отслеживания важности признаков."
   ]
  },
  {
   "cell_type": "code",
   "execution_count": 61,
   "id": "51b1af01",
   "metadata": {},
   "outputs": [],
   "source": [
    "def features_importance_plt(importance,features,model_type):\n",
    "\n",
    "    feature_importance = np.array(importance)\n",
    "    feature_names = np.array(features)\n",
    "\n",
    "    data={'feature_names':feature_names,'feature_importance':feature_importance}\n",
    "    fi_df = pd.DataFrame(data)\n",
    "    fi_df.sort_values(by=['feature_importance'], ascending=False,inplace=True)\n",
    "\n",
    "    plt.figure(figsize=(10,8))\n",
    "    ax = sns.barplot(x=fi_df['feature_importance'], y=fi_df['feature_names'], palette='hls')\n",
    "    ax.set_yticklabels(ax.get_yticklabels(), fontsize=13)\n",
    "    plt.title('Важность признаков в ' + model_type, fontsize=16)\n",
    "    plt.xlabel('Важность признака', fontsize=10.5)\n",
    "    plt.ylabel('Название признака', fontsize=10.5)"
   ]
  },
  {
   "cell_type": "markdown",
   "id": "3a779bd0",
   "metadata": {},
   "source": [
    "### LinearRegression"
   ]
  },
  {
   "cell_type": "code",
   "execution_count": 62,
   "id": "8b024e37",
   "metadata": {},
   "outputs": [
    {
     "data": {
      "text/plain": [
       "(1316, 28)"
      ]
     },
     "metadata": {},
     "output_type": "display_data"
    },
    {
     "data": {
      "text/plain": [
       "(439, 28)"
      ]
     },
     "metadata": {},
     "output_type": "display_data"
    }
   ],
   "source": [
    "X_train, features_valid, y_train, target_valid = train_test_split(features_train, target_train,\n",
    "                                                                              test_size=.25, random_state=12345)\n",
    "display(X_train.shape,features_valid.shape)"
   ]
  },
  {
   "cell_type": "code",
   "execution_count": 63,
   "id": "5d8e4f82",
   "metadata": {},
   "outputs": [
    {
     "data": {
      "image/png": "[encoded data removed]",
      "text/plain": [
       "<Figure size 720x576 with 1 Axes>"
      ]
     },
     "metadata": {},
     "output_type": "display_data"
    }
   ],
   "source": [
    "results = []\n",
    "\n",
    "#scalers = [StandardScaler(), MinMaxScaler()]\n",
    "s = StandardScaler()\n",
    "s.fit(X_train)\n",
    "\n",
    "X_train_scaled = s.transform(X_train)\n",
    "features_valid_scaled = s.transform(features_valid)\n",
    "\n",
    "model_lr = LinearRegression()\n",
    "model_lr.fit(X_train_scaled, y_train)\n",
    "pred = model_lr.predict(features_valid_scaled)\n",
    "results.append({'Модель': 'LinearRegression',\n",
    "                'MAE': mae(target_valid, pred)})\n",
    "\n",
    "features_importance_plt(model_lr.coef_, features.columns, 'LinearRegression ')"
   ]
  },
  {
   "cell_type": "markdown",
   "id": "639438d6",
   "metadata": {},
   "source": [
    "bulk_sum явно не самый важный признак для регрессии :)\n",
    "\n",
    "Посмотрим что будет дальше."
   ]
  },
  {
   "cell_type": "code",
   "execution_count": 64,
   "id": "29f9267d",
   "metadata": {},
   "outputs": [
    {
     "data": {
      "text/plain": [
       "[{'Модель': 'LinearRegression', 'MAE': 8.714699280616532}]"
      ]
     },
     "metadata": {},
     "output_type": "display_data"
    }
   ],
   "source": [
    "display(results)"
   ]
  },
  {
   "cell_type": "markdown",
   "id": "9e934c95",
   "metadata": {},
   "source": [
    "<div style=\"background: #cceeaa; padding: 5px; border: 1px solid green; border-radius: 5px;\">\n",
    "<font color='green'> \n",
    "<u>КОММЕНТАРИЙ РЕВЬЮЕРА</u>\n",
    "</font>\n",
    "<font color='green'><br>ОК! важность для линейной регрессии смотрим по коэффициентам. Важно только помнить, что признаки обязательно всегда надо стандартизироыать для этого рейтина в линейной регрессии."
   ]
  },
  {
   "cell_type": "markdown",
   "id": "65bee626",
   "metadata": {},
   "source": [
    "### Lasso"
   ]
  },
  {
   "cell_type": "code",
   "execution_count": 65,
   "id": "b180d421",
   "metadata": {},
   "outputs": [
    {
     "data": {
      "image/png": "[encoded data removed]",
      "text/plain": [
       "<Figure size 720x576 with 1 Axes>"
      ]
     },
     "metadata": {},
     "output_type": "display_data"
    }
   ],
   "source": [
    "s.fit(features_train)\n",
    "\n",
    "features_train_scaled = s.transform(features_train)\n",
    "\n",
    "lasso_params = {'alpha':np.array([x for x in range(0,10001,250)])/10**4,\n",
    "                'max_iter':range(500,1501,500),\n",
    "                'random_state':[12345]}\n",
    "model_lss = Lasso()\n",
    "\n",
    "grid = GridSearchCV(model_lss,\n",
    "                    param_grid=lasso_params,\n",
    "                    scoring='neg_mean_absolute_error',\n",
    "                    cv=5,\n",
    "                    n_jobs=-1\n",
    "                   ).fit(features_train_scaled, target_train)\n",
    "model_lss.set_params(**grid.best_params_).fit(features_train_scaled, target_train)\n",
    "pred_lss = model_lss.predict(features_train_scaled)\n",
    "results.append({'Модель': 'Lasso',\n",
    "                'MAE': mae(target_train, pred_lss)})\n",
    "features_importance_plt(model_lss.coef_, features.columns, 'Lasso')"
   ]
  },
  {
   "cell_type": "code",
   "execution_count": 66,
   "id": "15134026",
   "metadata": {},
   "outputs": [
    {
     "data": {
      "text/plain": [
       "[{'Модель': 'LinearRegression', 'MAE': 8.714699280616532},\n",
       " {'Модель': 'Lasso', 'MAE': 7.549048306563667}]"
      ]
     },
     "metadata": {},
     "output_type": "display_data"
    }
   ],
   "source": [
    "display(results)"
   ]
  },
  {
   "cell_type": "markdown",
   "id": "d431e95b",
   "metadata": {},
   "source": [
    "### CatBoost"
   ]
  },
  {
   "cell_type": "code",
   "execution_count": 67,
   "id": "9181cc55",
   "metadata": {},
   "outputs": [],
   "source": [
    "cbr_pool_train = Pool(features_train, label=target_train)\n",
    "cbr_pool_v = Pool(features_train)"
   ]
  },
  {
   "cell_type": "markdown",
   "id": "44ec6015",
   "metadata": {},
   "source": [
    "cbr_params = {#'iterations':range(386,395),\n",
    "              #'depth':[3,4],\n",
    "              'learning_rate':np.array([x for x in range(15490,15510)])/10**5\n",
    "              #'l2_leaf_reg':[2,3,4,5,7]\n",
    "             }\n",
    "\n",
    "model_cbr = CatBoostRegressor(loss_function='MAE', #'RMSE'\n",
    "                              #eval_metric='MAE',\n",
    "                              iterations=386,\n",
    "                              depth=3,\n",
    "                              l2_leaf_reg=3,\n",
    "                              #learning_rate=0.155,\n",
    "                              grow_policy='SymmetricTree',\n",
    "                              random_state=12345,\n",
    "                              logging_level='Silent')"
   ]
  },
  {
   "cell_type": "markdown",
   "id": "f74c99d8",
   "metadata": {},
   "source": [
    "#сделаю заметкой, очень долго работающая штука. время работы на серверах яндекса ~4 часа, локально ~1.5 часа\n",
    "\n",
    "\n",
    "grid_search_result = model_cbr.grid_search(cbr_params, cv=5, X=cbr_pool, verbose=5) #X=features_train, y=target_train)#, plot=True)"
   ]
  },
  {
   "cell_type": "markdown",
   "id": "71b9a080",
   "metadata": {},
   "source": [
    "Лучшие параметры после gridsearch:\n",
    "{'iterations': 386,\n",
    " 'depth': 3,\n",
    " 'l2_leaf_reg': 3,\n",
    " 'loss_function': 'MAE',\n",
    " 'logging_level': 'Silent',\n",
    " 'random_state': 12345,\n",
    " 'grow_policy': 'SymmetricTree',\n",
    " 'learning_rate': 0.155}"
   ]
  },
  {
   "cell_type": "code",
   "execution_count": 68,
   "id": "85532578",
   "metadata": {
    "scrolled": true
   },
   "outputs": [
    {
     "data": {
      "text/plain": [
       "'Лучшие параметры'"
      ]
     },
     "metadata": {},
     "output_type": "display_data"
    },
    {
     "data": {
      "text/plain": [
       "{'iterations': 386,\n",
       " 'depth': 3,\n",
       " 'l2_leaf_reg': 3,\n",
       " 'loss_function': 'MAE',\n",
       " 'logging_level': 'Silent',\n",
       " 'random_state': 12345,\n",
       " 'grow_policy': 'SymmetricTree',\n",
       " 'learning_rate': 0.155}"
      ]
     },
     "metadata": {},
     "output_type": "display_data"
    }
   ],
   "source": [
    "#cbr_best_params = model_cbr.get_params()\n",
    "cbr_best_params = {'iterations': 386,\n",
    " 'depth': 3,\n",
    " 'l2_leaf_reg': 3,\n",
    " 'loss_function': 'MAE',\n",
    " 'logging_level': 'Silent',\n",
    " 'random_state': 12345,\n",
    " 'grow_policy': 'SymmetricTree',\n",
    " 'learning_rate': 0.155}\n",
    "display('Лучшие параметры', cbr_best_params)"
   ]
  },
  {
   "cell_type": "code",
   "execution_count": 69,
   "id": "5084d523",
   "metadata": {
    "scrolled": true
   },
   "outputs": [],
   "source": [
    "model_cbr = CatBoostRegressor(**cbr_best_params)\n",
    "model_cbr.fit(cbr_pool_train)\n",
    "pred_cbr = model_cbr.predict(cbr_pool_v)\n",
    "MAE = mae(target_train, pred_cbr)\n",
    "results.append({'Модель': 'CatBoostRegressor', \n",
    "                'Параметры': cbr_best_params,\n",
    "                'MAE': MAE})"
   ]
  },
  {
   "cell_type": "code",
   "execution_count": 70,
   "id": "25007c3c",
   "metadata": {
    "scrolled": false
   },
   "outputs": [
    {
     "data": {
      "image/png": "[encoded data removed]",
      "text/plain": [
       "<Figure size 720x576 with 1 Axes>"
      ]
     },
     "metadata": {},
     "output_type": "display_data"
    }
   ],
   "source": [
    "features_importance_plt(model_cbr.feature_importances_, features_train.columns, 'CatBoost')"
   ]
  },
  {
   "cell_type": "markdown",
   "id": "b2cc4c6b",
   "metadata": {},
   "source": [
    "<div class=\"alert alert-block alert-warning\">\n",
    "<b>Комментарий студента ПОСЛЕ РЕВЬЮ 2:</b> это новое.\n",
    "</div>"
   ]
  },
  {
   "cell_type": "markdown",
   "id": "e9276ceb",
   "metadata": {},
   "source": [
    "Уберём маловажные признаки."
   ]
  },
  {
   "cell_type": "code",
   "execution_count": 71,
   "id": "bebff8df",
   "metadata": {},
   "outputs": [],
   "source": [
    "cbr_non_imp_feat = ['Bulk 13', 'Wire 9', 'Bulk 9', 'Wire 8', 'Bulk 8']\n",
    "cbr_features_train = features_train.drop(cbr_non_imp_feat, axis=1)\n",
    "cbr_features_test = features_test.drop(cbr_non_imp_feat, axis=1)\n",
    "\n",
    "cbr_pool_train_fi = Pool(cbr_features_train, label=target_train)\n",
    "cbr_pool_v_fi = Pool(cbr_features_train)\n",
    "\n",
    "model_cbr.fit(cbr_pool_train_fi)\n",
    "pred_cbr = model_cbr.predict(cbr_pool_v_fi)\n",
    "MAE = mae(target_train, pred_cbr)\n",
    "results.append({'Модель': 'CatBoostRegressor WO NI', \n",
    "                'Параметры': cbr_best_params,\n",
    "                'MAE': MAE})"
   ]
  },
  {
   "cell_type": "code",
   "execution_count": 72,
   "id": "7a8c9302",
   "metadata": {},
   "outputs": [
    {
     "data": {
      "image/png": "[encoded data removed]",
      "text/plain": [
       "<Figure size 720x576 with 1 Axes>"
      ]
     },
     "metadata": {},
     "output_type": "display_data"
    }
   ],
   "source": [
    "features_importance_plt(model_cbr.feature_importances_, cbr_features_train.columns, 'CatBoost WO NI')"
   ]
  },
  {
   "cell_type": "markdown",
   "id": "fb2b11a2",
   "metadata": {},
   "source": [
    "<div style=\"background: #cceeaa; padding: 5px; border: 1px solid green; border-radius: 5px;\">\n",
    "    <font color='green'> <b><u>КОММЕНТАРИЙ РЕВЬЮЕРА</u></b>\n",
    "</font>\n",
    "<font color='green'><br>писал, наверное, уже. Но повторюсь: хорошо, что используешь этот инструмент. На начальном этапе мы можем нагенерить множество разных фич, в том чтисле и лишних. И вот этот инструмент, вкупе с анализом мультиколлинеарности позволяет избавляться от \"балласта\")"
   ]
  },
  {
   "cell_type": "markdown",
   "id": "e18e1e5e",
   "metadata": {},
   "source": [
    "### LGBMRegressor"
   ]
  },
  {
   "cell_type": "markdown",
   "id": "84da5bd8",
   "metadata": {},
   "source": [
    "#долго отрабатывает, делаю заметкой\n",
    "\n",
    "\n",
    "lgbm_params = {\n",
    "    #'num_leaves':range(7,12),\n",
    "    #'max_depth':[3,4],\n",
    "    #'learning_rate':np.array([x for x in range(798,803)])/10**4\n",
    "    #'n_estimators':range(144,148)\n",
    "    'lambda_l1':range(48,53),\n",
    "    }\n",
    "model_lgbm = lgb.LGBMRegressor(max_depth=3,\n",
    "                               n_estimators=147,\n",
    "                               num_leaves=8,\n",
    "                               learning_rate=0.08,\n",
    "                               lambda_l1=50\n",
    "                               random_state=12345)\n",
    "\n",
    "grid = GridSearchCV(model_lgbm,\n",
    "                    param_grid=lgbm_params,\n",
    "                    scoring='neg_mean_absolute_error',\n",
    "                    cv=5).fit(features_train, target_train)"
   ]
  },
  {
   "cell_type": "code",
   "execution_count": 73,
   "id": "37399d2f",
   "metadata": {},
   "outputs": [
    {
     "data": {
      "text/plain": [
       "{'max_depth': 3,\n",
       " 'n_estimators': 147,\n",
       " 'num_leaves': 8,\n",
       " 'learning_rate': 0.08,\n",
       " 'lambda_l1': 50,\n",
       " 'random_state': 12345}"
      ]
     },
     "metadata": {},
     "output_type": "display_data"
    }
   ],
   "source": [
    "#lgbm_best_params = grid.best_params_\n",
    "lgbm_best_params = {'max_depth':3,\n",
    "                    'n_estimators':147,\n",
    "                    'num_leaves':8,\n",
    "                    'learning_rate':0.08,\n",
    "                    'lambda_l1':50,\n",
    "                    'random_state':12345}\n",
    "display(lgbm_best_params)"
   ]
  },
  {
   "cell_type": "markdown",
   "id": "35cc2be6",
   "metadata": {},
   "source": [
    "Лучшие параметры LGBM после GridSearch\n",
    "{'max_depth': 3,\n",
    " 'n_estimators': 147,\n",
    " 'num_leaves': 8,\n",
    " 'learning_rate': 0.08,\n",
    " 'lambda_l1': 50,\n",
    " 'random_state': 12345}"
   ]
  },
  {
   "cell_type": "code",
   "execution_count": 74,
   "id": "a0eeb83b",
   "metadata": {},
   "outputs": [],
   "source": [
    "model_lgbm = lgb.LGBMRegressor(**lgbm_best_params)\n",
    "model_lgbm.fit(features_train,target_train)\n",
    "pred_lgbm = model_lgbm.predict(features_train)\n",
    "results.append({'Модель': 'LGBMRegressor', \n",
    "                'Параметры': lgbm_best_params,  \n",
    "                'MAE': mae(target_train, pred_lgbm)})"
   ]
  },
  {
   "cell_type": "code",
   "execution_count": 75,
   "id": "566df0b9",
   "metadata": {},
   "outputs": [
    {
     "data": {
      "image/png": "[encoded data removed]",
      "text/plain": [
       "<Figure size 720x576 with 1 Axes>"
      ]
     },
     "metadata": {},
     "output_type": "display_data"
    }
   ],
   "source": [
    "features_importance_plt(model_lgbm.feature_importances_, features_train.columns, 'LGBMRegressor')"
   ]
  },
  {
   "cell_type": "markdown",
   "id": "e7511e69",
   "metadata": {},
   "source": [
    "<div class=\"alert alert-block alert-warning\">\n",
    "<b>Комментарий студента ПОСЛЕ РЕВЬЮ 2:</b> и это новое\n",
    "</div>"
   ]
  },
  {
   "cell_type": "code",
   "execution_count": 76,
   "id": "65aeca67",
   "metadata": {},
   "outputs": [],
   "source": [
    "lgbm_non_imp_feat = ['Bulk 2', 'Bulk 10', 'Bulk 9', 'Bulk 8', 'Bulk 7',\n",
    "                     'Wire 4','Wire 7', 'Wire 8', 'Wire 9', 'Bulk 13']\n",
    "lgbm_features_train = features_train.drop(lgbm_non_imp_feat, axis=1)\n",
    "lgbm_features_test = features_test.drop(lgbm_non_imp_feat, axis=1)\n",
    "\n",
    "model_lgbm.fit(lgbm_features_train, target_train)\n",
    "pred_lgbm = model_lgbm.predict(lgbm_features_train)\n",
    "\n",
    "results.append({'Модель': 'LGBMRegressor WO NI', \n",
    "                'Параметры': lgbm_best_params,  \n",
    "                'MAE': mae(target_train, pred_lgbm)})"
   ]
  },
  {
   "cell_type": "code",
   "execution_count": 77,
   "id": "5bfbe18c",
   "metadata": {
    "scrolled": false
   },
   "outputs": [
    {
     "data": {
      "image/png": "[encoded data removed]",
      "text/plain": [
       "<Figure size 720x576 with 1 Axes>"
      ]
     },
     "metadata": {},
     "output_type": "display_data"
    }
   ],
   "source": [
    "features_importance_plt(model_lgbm.feature_importances_, lgbm_features_train.columns, 'LGBMRegressor WO NI')"
   ]
  },
  {
   "cell_type": "markdown",
   "id": "522a12a2",
   "metadata": {},
   "source": [
    "Посмотрим на таблицу с результатами."
   ]
  },
  {
   "cell_type": "code",
   "execution_count": 78,
   "id": "45c0eeeb",
   "metadata": {},
   "outputs": [
    {
     "data": {
      "text/html": [
       "<div>\n",
       "<style scoped>\n",
       "    .dataframe tbody tr th:only-of-type {\n",
       "        vertical-align: middle;\n",
       "    }\n",
       "\n",
       "    .dataframe tbody tr th {\n",
       "        vertical-align: top;\n",
       "    }\n",
       "\n",
       "    .dataframe thead th {\n",
       "        text-align: right;\n",
       "    }\n",
       "</style>\n",
       "<table border=\"1\" class=\"dataframe\">\n",
       "  <thead>\n",
       "    <tr style=\"text-align: right;\">\n",
       "      <th></th>\n",
       "      <th>Модель</th>\n",
       "      <th>MAE</th>\n",
       "      <th>Параметры</th>\n",
       "    </tr>\n",
       "  </thead>\n",
       "  <tbody>\n",
       "    <tr>\n",
       "      <td>0</td>\n",
       "      <td>CatBoostRegressor WO NI</td>\n",
       "      <td>4.344000</td>\n",
       "      <td>{'iterations': 386, 'depth': 3, 'l2_leaf_reg':...</td>\n",
       "    </tr>\n",
       "    <tr>\n",
       "      <td>1</td>\n",
       "      <td>CatBoostRegressor</td>\n",
       "      <td>4.477161</td>\n",
       "      <td>{'iterations': 386, 'depth': 3, 'l2_leaf_reg':...</td>\n",
       "    </tr>\n",
       "    <tr>\n",
       "      <td>2</td>\n",
       "      <td>LGBMRegressor</td>\n",
       "      <td>5.118398</td>\n",
       "      <td>{'max_depth': 3, 'n_estimators': 147, 'num_lea...</td>\n",
       "    </tr>\n",
       "    <tr>\n",
       "      <td>3</td>\n",
       "      <td>LGBMRegressor WO NI</td>\n",
       "      <td>5.118398</td>\n",
       "      <td>{'max_depth': 3, 'n_estimators': 147, 'num_lea...</td>\n",
       "    </tr>\n",
       "    <tr>\n",
       "      <td>4</td>\n",
       "      <td>Lasso</td>\n",
       "      <td>7.549048</td>\n",
       "      <td>NaN</td>\n",
       "    </tr>\n",
       "    <tr>\n",
       "      <td>5</td>\n",
       "      <td>LinearRegression</td>\n",
       "      <td>8.714699</td>\n",
       "      <td>NaN</td>\n",
       "    </tr>\n",
       "  </tbody>\n",
       "</table>\n",
       "</div>"
      ],
      "text/plain": [
       "                    Модель       MAE  \\\n",
       "0  CatBoostRegressor WO NI  4.344000   \n",
       "1        CatBoostRegressor  4.477161   \n",
       "2            LGBMRegressor  5.118398   \n",
       "3      LGBMRegressor WO NI  5.118398   \n",
       "4                    Lasso  7.549048   \n",
       "5         LinearRegression  8.714699   \n",
       "\n",
       "                                           Параметры  \n",
       "0  {'iterations': 386, 'depth': 3, 'l2_leaf_reg':...  \n",
       "1  {'iterations': 386, 'depth': 3, 'l2_leaf_reg':...  \n",
       "2  {'max_depth': 3, 'n_estimators': 147, 'num_lea...  \n",
       "3  {'max_depth': 3, 'n_estimators': 147, 'num_lea...  \n",
       "4                                                NaN  \n",
       "5                                                NaN  "
      ]
     },
     "metadata": {},
     "output_type": "display_data"
    }
   ],
   "source": [
    "results_df = pd.DataFrame(results).sort_values('MAE').reset_index(drop=True)\n",
    "display(results_df.sort_values('MAE'))"
   ]
  },
  {
   "cell_type": "markdown",
   "id": "adc616a4",
   "metadata": {},
   "source": [
    "Лучше всего себя показал CatBoostRegressor. Проверим модели на тесте.\n",
    "\n",
    "Интересно заметить, что после удаления маловажных признаков, MAE CatBoost улучшилась, а по LGBM не изменилась."
   ]
  },
  {
   "cell_type": "markdown",
   "id": "7e69f3f9",
   "metadata": {},
   "source": [
    "## Проверка на тесте"
   ]
  },
  {
   "cell_type": "code",
   "execution_count": 79,
   "id": "39d8ead7",
   "metadata": {},
   "outputs": [
    {
     "name": "stdout",
     "output_type": "stream",
     "text": [
      "МАЕ LGBM на тестовой выборке: 6.411996637205036\n"
     ]
    }
   ],
   "source": [
    "pred_test_lgbm = model_lgbm.predict(lgbm_features_test)\n",
    "MAE_test_lgbm = mae(target_test, pred_test_lgbm)\n",
    "print('МАЕ LGBM на тестовой выборке:', MAE_test_lgbm)"
   ]
  },
  {
   "cell_type": "code",
   "execution_count": 80,
   "id": "c27edacb",
   "metadata": {},
   "outputs": [
    {
     "name": "stdout",
     "output_type": "stream",
     "text": [
      "МАЕ CatBoost на тестовой выборке: 6.181646187723035\n"
     ]
    }
   ],
   "source": [
    "pred_test_cbr = model_cbr.predict(cbr_features_test)\n",
    "MAE_test_cbr = mae(target_test, pred_test_cbr)\n",
    "print('МАЕ CatBoost на тестовой выборке:', MAE_test_cbr)"
   ]
  },
  {
   "cell_type": "markdown",
   "id": "73a6675a",
   "metadata": {},
   "source": [
    "### Вывод"
   ]
  },
  {
   "cell_type": "markdown",
   "id": "7f296c75",
   "metadata": {},
   "source": [
    "Мы обучили 4 модели:\n",
    "1. LinearRegression - выделили валидационную выборку, нормализовали данные StandardScaler\n",
    "2. Lasso - попробовали подобрать гиперпараметры с помощью GridSearchCV, данные нормализовали в StandardScaler.\n",
    "3. CatBoostRegressor - с помощью gridsearch подобрали лучшие гиперпараметры. Модель показала себя лучше всех. MAE на тесте = 6.1816\n",
    "4. LGBMRegressor - с помощью GridSearchCV подобрали лучшие гиперпараметры. Обученная модель оказалась на втором месте. MAE на тесте = 6.4119\n",
    "\n",
    "Также можно обратить внимание, что самые значимые признаки - первый замер температуры и активная мощность. Этот факт объясним, т.к. по сути основной вклад в финальную температуру делают начальной температуре + нагрев(мощность на электродах)."
   ]
  },
  {
   "cell_type": "markdown",
   "id": "978a9e80",
   "metadata": {},
   "source": [
    "<div class=\"alert alert-block alert-warning\">\n",
    "<b>Комментарий студента:</b> Привет! Подскажи, пожалуйста, как бы я ещё мог улучшить результат, а то я всю голову и глаза сломал, пока рылся в интернетах.\n",
    "    Может с признаками что-то ещё придумать можно, или какие-то другие гиперпараметры использовать?\n",
    "</div>"
   ]
  },
  {
   "cell_type": "markdown",
   "id": "30574e41",
   "metadata": {},
   "source": [
    "<div style=\"background: #cceeaa; padding: 5px; border: 1px solid green; border-radius: 5px;\">\n",
    "    <font color='green'> <b><u>КОММЕНТАРИЙ РЕВЬЮЕРА</u></b>\n",
    "</font>\n",
    "<font color='green'><br>\n",
    "И не зря, Егор - хороший проект вышел - 5 баллов! Метрика - уже классная.<br>\n",
    "Обработка данных, модельная работа, конечные результаты, анализ важности, мультиколлинеарность, подбор парамптров - многое удалось как надо<br> Очень здорово, что сразу ищешь новые фичи, думаешь над ними, анализируешь. Это тот самый подход, который нужен, чтобы искать ту саму модель для заказчика)<br> \n",
    "    \n",
    "Тут улучшить можно, добавив суммарные значения по каждой присадке. Метрика будет получше.<br>\n",
    "Попробуешь?<br>По идеее, факторы, обозначенные у тебя \".._count\" - можно удалять. Их сложно будте потом точно спрогнозировать. Количество мощности и присадок - ещё туда-сюда, а вот количество итерация - очень случайная вещь, скорее всено.<br>\n",
    "    \n",
    "Плюc - перестал с какого-то момента запускаться код - почмотри, пожалуйста.\n",
    "Спасибо)<br>\n",
    "БУДУ ЖДАТЬ КОММЕНТАРИЕВ."
   ]
  },
  {
   "cell_type": "markdown",
   "id": "678e27d4",
   "metadata": {},
   "source": [
    "<div class=\"alert alert-block alert-warning\">\n",
    "<b>Комментарий студента ПОСЛЕ РЕВЬЮ:</b> Никак не получилось сделать MAE меньше 6.3. :(\n",
    "    \n",
    "Надо либо ещё фичи выдумывать, либо как-то иначе существующие обрабатывать, либо подбирать ещё другие гиперпараметры, либо вообще другую модель брать.\n",
    "</div>"
   ]
  },
  {
   "cell_type": "markdown",
   "id": "014a7cbf",
   "metadata": {},
   "source": [
    "<div style=\"background: #cceeaa; padding: 5px; border: 1px solid green; border-radius: 5px;\">\n",
    "    <font color='green'> <b><u>КОММЕНТАРИЙ РЕВЬЮЕРА 2</u></b>\n",
    "</font>\n",
    "<font color='green'><br>\n",
    "ОК, Егор, увидел твои доработки, принято.<br>\n",
    "Метрика 6.3 - отличный результат. В масштабах производства ( у нас целевая 1500 градусов) разница пол-градуса между моделями - вряд ли существенна)) Да и сравнивать  метрики моделей надо не только по среднему, но и с учётом разброса. Поэтому счита твой результат - однозначно приемлемым. Дальнейшее улучшение уже лежит в области отсечения некоторых строк из модели, гиперпараметры - ты прав.<br>\n",
    " \n",
    "Технически - очень добротная работа. <br>\n",
    "Всегда стараюсь на этом проекте сказать всем вот ещё что: цель заказчика - экономия энергоресурсов.<br>\n",
    "И в этом проекте искали как раз способ точно предсказывать температуру. И круто использовали для этого весь арсенал<br>\n",
    "А если рассудать с позиции такой: а что нужно сделать, чтобы снизить энергопотребление?<br>\n",
    "Судя по модели, самым важным фактором является первая температура. Это значит, что управляя ею, мы сможем управлять энергозатратами. Вывод понятен. Теперь надо разработать мероприятия для этого решения. И тут вопрос возникает скм собой: а это так точно? мы можем управлять первой температурой? В общем, наша модель - только начало работы над энергоэффективностью.<br>\n",
    "    \n",
    "Так же есть ещё одна идея, которую хотел предложить тебе на обсуждение.<br>\n",
    "Возможно, покажется интересным<br><br> \n",
    "\n",
    "Дело касается принципиально иного подхода к поиску решения для снижения энергопотребления на производстве<br>\n",
    "Смотри, Создание данной модели (таково было задание) двигалось по пути \"угадывания\" температуры<br>\n",
    "Но мы же знаем жизнь)) лёгкие колебания температур (как и нашего настроения, нашего веса.....)<br>\n",
    "есть всегда. Более того - будут вегда! И нам что, стараться угадывать их?<br>\n",
    "Не угонимся, \"пупок\" развяжется))))) <br>\n",
    "Предложу для подобных проектов подумать вот в какую сторону<br>\n",
    "    \n",
    "Итак, разброс в измерениях - есть, был и будет!! (т.к. этому благоприятствует разнообразие факторов самого проиозводства)<br>\n",
    "    Тогда задачу можно поставить так: <u>надо уменьшить разброс в измерениях</u>. В данном случае в температуре.<br>\n",
    "Один из подходов такой: Наверняка есть границы, в пределах которых колебания температур - дело нормальное.<br>\n",
    "А что, если фикировать случаи, когда температура выходит за эти границы?<br>\n",
    "Скажем, как \"1\". И тогда для таких моментов времени собирать инфо по производству: <br>\n",
    "а что был за материал (химия материала), что был за газ (химический состав газа), какая бригада работала, <br>\n",
    "что там было с электродами, ограничения только в фантазиях ну и в знаниях самого производства..... <br>\n",
    "И вот тут можем реально находить причины (через корреляции, проверки гипотез, разные модельки...), фиксировать эти причины. <br>\n",
    "Ну и разрабатывать энергосберегательные мероприятия.<br><br>\n",
    " \n",
    "<font color='green'>\n",
    "В общем-то, готов ОК-уть проект. Или ты будешь ещё пробовать улучшать?"
   ]
  },
  {
   "cell_type": "markdown",
   "id": "35a8807a",
   "metadata": {},
   "source": [
    "<div class=\"alert alert-block alert-warning\">\n",
    "<b>Комментарий студента ПОСЛЕ РЕВЬЮ 2:</b> CatBoost упал до 6.18, думаю можно заканчивать.\n",
    "    Кстати, по поводу решения этой задачи через классификацию я думал, но всё таки задание стояло для метрики MAE\n",
    "</div>"
   ]
  },
  {
   "cell_type": "markdown",
   "id": "097a34a7",
   "metadata": {},
   "source": [
    "<div style=\"background: #cceeaa; padding: 5px; border: 1px solid green; border-radius: 5px;\">\n",
    "    <font color='green'> <b><u>КОММЕНТАРИЙ РЕВЬЮЕРА 3</u></b>\n",
    "</font>\n",
    "<font color='green'><br>И это - СУПЕР. Ты молодец, что ещё \"поджал\" эту метрику!<br>\n",
    "А любую задачку можно решать разными способами. Тут важно изначально с бизнес-посылом разобраться, а потом и метод решения уже придумывать.<br>\n",
    "Спасибо за этот труд и за совместную работу на других проектах)<br>\n",
    "Искренне желаю покорить ещё не один аналитический Эверест)<br>"
   ]
  },
  {
   "cell_type": "markdown",
   "id": "07c365f4",
   "metadata": {},
   "source": [
    "## Отчёт по проекту"
   ]
  },
  {
   "cell_type": "markdown",
   "id": "0b13b92e",
   "metadata": {},
   "source": [
    "1. Мы загрузили датасеты и провели исследовательский анализ данных. В результате анализа были выявлены:\n",
    "- пустые значения в добавлении присадков, которые заполнили 0, и в первой/конечной температуре, которые удалили;\n",
    "- выброс по реактивной мощности, который слишком отбивался от всех значений. Его удалили;\n",
    "- некорректные типы значений дат, которые привели к нужным типам;\n",
    "- всего один замер температуры по 741 партии, которые пришлось удалить, т.к. крайне сложно было бы выявить последний замер, который являлся таргетом для моделей;\n",
    "\n",
    "2. Собрали из предобработанных датасетов один датасет с признаками и таргетом, убрав всё лишнее или сагрегировав имеющиеся данные;\n",
    "\n",
    "3. Оценили данные на адекватность - сравнили время первого и последнего замера температуры с временем выполнения других действий по партии (добавление присадков, нагрев электродами), в результате чего возникли вопросы к бизнесу - зачем выполнять действия с партией (добавление материалов, нагрев) до первого и после финального замеров температуры? Из итогового датасета удалили партии, по которым выполнялись действия после финального замера температуры, т.к. он является таргетом.\n",
    "\n",
    "4. Проверили данные на мультиколинеарность. Заметили коллинеарность в активной и реактивной мощностях, в связи с чем удалили один из признаков - реактивную мощность. Также удалили столбец Wire 5, т.к. в нём были только нули.\n",
    "\n",
    "5. Мы обучили 4 модели:\n",
    "    1. LinearRegression - выделили валидационную выборку, нормализовали данные в StandardScaler\n",
    "    2. Lasso - попробовали подобрать гиперпараметры с помощью GridSearchCV, данные нормализовали в StandardScaler.\n",
    "    3. CatBoostRegressor - с помощью gridsearch подобрали лучшие гиперпараметры. Модель показала себя лучше всех. MAE на тесте = 6.1816\n",
    "    4. LGBMRegressor - с помощью GridSearchCV подобрали лучшие гиперпараметры. Обученная модель оказалась на втором месте. MAE на тесте = 6.4119\n",
    "\n",
    "6. Самые значимые признаки для моделей - первый замер температуры и активная мощность. Этот факт объясним, т.к. по сути основной вклад в финальную температуру делают начальной температуре + нагрев(мощность на электродах).\n",
    "\n",
    "**Итог:**\n",
    "\n",
    "Мы построили модель CatBoostRegressor, которая предсказывает финальную температуру на основании данных по начальной температуре, нагреву и добавлении присадков. Таким образом, чтобы снизить электропотребление и знать финалную температуру, необходимо контролировать диапазон первоначальной температуры, внимательно следить за химичиеским составом присадков, и выстроить чёткий производственный процесс по времени добавления присадков."
   ]
  },
  {
   "cell_type": "markdown",
   "id": "c95fe4db",
   "metadata": {},
   "source": [
    "<div style=\"background: #cceeaa; padding: 5px; border: 1px solid green; border-radius: 5px;\">\n",
    "<font color='green'> \n",
    "<u>КОММЕНТАРИЙ ТИМЛИДА</u>\n",
    "</font>\n",
    "<font color='green'><br>\n",
    "Привет Егор!<br>\n",
    "Поздравляю с приобретением ещщё одной специальности!!!!<br>\n",
    "    \n",
    "С отчётом - ОК. Замечу ещё, что изучение бизнес-процессов заказчика - очень важный этап, который может вызывать сложности. Но без этого в нашей работа не обойтись. Можно сказать - вскрывать особенности процессов заказчика - часть нашей работы. Ведь замоделировать можно только то, что понимаешь). Также, хотел бы отметить твою графическую работу. Она хорошо подкрепляла аналитику. На защите заказчику - хорошая графика - может прибавить дополнительной лояльности. Поэтому, стоит её улублять и дальше. <br>\n",
    "Также отмечу, что тебе удалось быстро вникнуть в суть задачи. А это не проcто - понять новую бизнес-задачу. Здорово, что есть такой важный скил.<br>\n",
    "\n",
    "Далее скажу, что стараюсь говорить всем на финале.<br>\n",
    "Пройден большой путь. Со своими коcогорами и равнинами, медианами и дисперсиями)<br>\n",
    "Умение аналитически мыслить, писать красивый код, эффективно автоматизировать расчёты, видеть задачи бизнеса через призму моделирования - вот то основное, что  останется у тебя важного после нашей школы. А дальше - только взращивать посеянные зёрна и укреплять свои скилы.<br><br>\n",
    "Если говорить о развитии дополнительных компетенций, рекомендовал бы ещё глянуть такие области знаний:<br>\n",
    "1) Организация проектов по проведению моделирования (например Методология CRISP-DM (Cross-Industry Standard Process)<br>\n",
    "2) Умения системно подходить к решению аналитической задачи. (например методология ТРИЗ, системный анализ)<br>\n",
    "3) Если в промышленности будут проекты, то рекоммендовал бы освоить  \"Статистичекий контроль качества (SPC)\"<br>\n",
    "4) Ещё важный навык: перевод результататов моделирования на язык бизнеса. Т.е. понимание, как целевые показатели моделей влияют на финансовую выгоду заказчика.<br>\n",
    "5) Если говорить о модельных рекоммендациях, то есть ещё такие способы как блендинг и стакинг разных моделей.<br><br>\n",
    "\n",
    "Спасибо!<br>\n",
    "И УДАЧИ)"
   ]
  },
  {
   "cell_type": "code",
   "execution_count": null,
   "id": "36b6e2fe",
   "metadata": {},
   "outputs": [],
   "source": []
  }
 ],
 "metadata": {
  "ExecuteTimeLog": [
   {
    "duration": 1552,
    "start_time": "2021-12-16T14:30:13.335Z"
   },
   {
    "duration": 259,
    "start_time": "2021-12-16T14:30:18.849Z"
   },
   {
    "duration": 1633,
    "start_time": "2021-12-19T13:05:48.156Z"
   },
   {
    "duration": 220,
    "start_time": "2021-12-19T13:05:50.079Z"
   },
   {
    "duration": 4,
    "start_time": "2021-12-19T13:06:20.839Z"
   },
   {
    "duration": 1228,
    "start_time": "2021-12-19T13:06:21.021Z"
   },
   {
    "duration": 478,
    "start_time": "2021-12-19T13:06:22.252Z"
   },
   {
    "duration": 352,
    "start_time": "2021-12-19T13:06:22.733Z"
   },
   {
    "duration": 309,
    "start_time": "2021-12-19T13:06:23.089Z"
   },
   {
    "duration": 917,
    "start_time": "2021-12-19T13:06:23.400Z"
   },
   {
    "duration": 1061,
    "start_time": "2021-12-19T13:06:24.320Z"
   },
   {
    "duration": 16,
    "start_time": "2021-12-19T13:06:25.383Z"
   },
   {
    "duration": 7,
    "start_time": "2021-12-19T13:06:25.402Z"
   },
   {
    "duration": 1065,
    "start_time": "2021-12-19T13:06:25.412Z"
   },
   {
    "duration": 139,
    "start_time": "2021-12-19T13:06:26.479Z"
   },
   {
    "duration": 179,
    "start_time": "2021-12-19T13:06:26.622Z"
   },
   {
    "duration": 95,
    "start_time": "2021-12-19T13:06:26.880Z"
   },
   {
    "duration": 946,
    "start_time": "2021-12-19T13:06:26.979Z"
   },
   {
    "duration": 11,
    "start_time": "2021-12-19T13:06:27.928Z"
   },
   {
    "duration": 59,
    "start_time": "2021-12-19T13:06:27.942Z"
   },
   {
    "duration": 15,
    "start_time": "2021-12-19T13:06:28.004Z"
   },
   {
    "duration": 998,
    "start_time": "2021-12-19T13:06:28.021Z"
   },
   {
    "duration": 19,
    "start_time": "2021-12-19T13:06:29.022Z"
   },
   {
    "duration": 979,
    "start_time": "2021-12-19T13:06:29.044Z"
   },
   {
    "duration": 62,
    "start_time": "2021-12-19T13:06:30.025Z"
   },
   {
    "duration": 96,
    "start_time": "2021-12-19T13:07:19.370Z"
   },
   {
    "duration": 8,
    "start_time": "2021-12-19T13:07:20.444Z"
   },
   {
    "duration": 37,
    "start_time": "2021-12-19T13:07:21.898Z"
   },
   {
    "duration": 8661,
    "start_time": "2021-12-19T13:07:37.654Z"
   },
   {
    "duration": 205,
    "start_time": "2021-12-19T13:07:46.113Z"
   },
   {
    "duration": 5,
    "start_time": "2021-12-19T13:08:40.317Z"
   },
   {
    "duration": 13,
    "start_time": "2021-12-19T13:09:18.994Z"
   },
   {
    "duration": 13,
    "start_time": "2021-12-19T13:09:20.347Z"
   },
   {
    "duration": 38,
    "start_time": "2021-12-19T13:09:21.554Z"
   },
   {
    "duration": 363,
    "start_time": "2021-12-19T13:09:22.325Z"
   },
   {
    "duration": 364,
    "start_time": "2021-12-19T13:10:01.558Z"
   },
   {
    "duration": 430,
    "start_time": "2021-12-19T13:10:10.530Z"
   },
   {
    "duration": 38,
    "start_time": "2021-12-19T13:22:43.354Z"
   },
   {
    "duration": 371,
    "start_time": "2021-12-19T13:22:44.738Z"
   },
   {
    "duration": 337,
    "start_time": "2021-12-19T13:22:50.387Z"
   },
   {
    "duration": 372,
    "start_time": "2021-12-19T13:22:51.975Z"
   },
   {
    "duration": 1499,
    "start_time": "2021-12-19T21:10:23.972Z"
   },
   {
    "duration": 212,
    "start_time": "2021-12-19T21:10:28.298Z"
   },
   {
    "duration": 6,
    "start_time": "2021-12-19T21:10:35.195Z"
   },
   {
    "duration": 23,
    "start_time": "2021-12-19T21:10:35.965Z"
   },
   {
    "duration": 83,
    "start_time": "2021-12-19T21:10:36.973Z"
   },
   {
    "duration": 70,
    "start_time": "2021-12-19T21:10:38.900Z"
   },
   {
    "duration": 12,
    "start_time": "2021-12-19T21:10:39.633Z"
   },
   {
    "duration": 911,
    "start_time": "2021-12-19T21:10:40.519Z"
   },
   {
    "duration": 949,
    "start_time": "2021-12-19T21:10:44.204Z"
   },
   {
    "duration": 25,
    "start_time": "2021-12-19T21:10:46.685Z"
   },
   {
    "duration": 7,
    "start_time": "2021-12-19T21:10:52.349Z"
   },
   {
    "duration": 1205,
    "start_time": "2021-12-19T21:10:53.994Z"
   },
   {
    "duration": 111,
    "start_time": "2021-12-19T21:10:58.781Z"
   },
   {
    "duration": 66,
    "start_time": "2021-12-19T21:11:01.079Z"
   },
   {
    "duration": 44,
    "start_time": "2021-12-19T21:11:03.319Z"
   },
   {
    "duration": 894,
    "start_time": "2021-12-19T21:11:05.616Z"
   },
   {
    "duration": 13,
    "start_time": "2021-12-19T21:11:07.659Z"
   },
   {
    "duration": 49,
    "start_time": "2021-12-19T21:11:12.725Z"
   },
   {
    "duration": 16,
    "start_time": "2021-12-19T21:11:15.575Z"
   },
   {
    "duration": 843,
    "start_time": "2021-12-19T21:11:16.473Z"
   },
   {
    "duration": 18,
    "start_time": "2021-12-19T21:11:17.357Z"
   },
   {
    "duration": 150,
    "start_time": "2021-12-19T21:11:20.766Z"
   },
   {
    "duration": 46,
    "start_time": "2021-12-19T21:11:21.219Z"
   },
   {
    "duration": 11,
    "start_time": "2021-12-19T21:11:27.466Z"
   },
   {
    "duration": 8,
    "start_time": "2021-12-19T21:11:30.018Z"
   },
   {
    "duration": 32,
    "start_time": "2021-12-19T21:11:30.789Z"
   },
   {
    "duration": 7732,
    "start_time": "2021-12-19T21:11:35.344Z"
   },
   {
    "duration": 22,
    "start_time": "2021-12-19T21:12:05.874Z"
   },
   {
    "duration": 34,
    "start_time": "2021-12-19T21:12:20.850Z"
   },
   {
    "duration": 32,
    "start_time": "2021-12-19T21:12:49.427Z"
   },
   {
    "duration": 30,
    "start_time": "2021-12-19T21:12:56.501Z"
   },
   {
    "duration": 32,
    "start_time": "2021-12-19T21:13:09.444Z"
   },
   {
    "duration": 7,
    "start_time": "2021-12-19T21:15:28.631Z"
   },
   {
    "duration": 12,
    "start_time": "2021-12-19T21:15:30.564Z"
   },
   {
    "duration": 13,
    "start_time": "2021-12-19T21:15:33.442Z"
   },
   {
    "duration": 35,
    "start_time": "2021-12-19T21:15:36.257Z"
   },
   {
    "duration": 287,
    "start_time": "2021-12-19T21:15:44.670Z"
   },
   {
    "duration": 35,
    "start_time": "2021-12-19T21:16:05.039Z"
   },
   {
    "duration": 28,
    "start_time": "2021-12-19T21:16:06.865Z"
   },
   {
    "duration": 29,
    "start_time": "2021-12-19T21:17:03.061Z"
   },
   {
    "duration": 14,
    "start_time": "2021-12-19T21:17:03.909Z"
   },
   {
    "duration": 12,
    "start_time": "2021-12-19T21:17:07.622Z"
   },
   {
    "duration": 7,
    "start_time": "2021-12-19T21:17:09.647Z"
   },
   {
    "duration": 28,
    "start_time": "2021-12-19T21:17:10.953Z"
   },
   {
    "duration": 14,
    "start_time": "2021-12-19T21:17:15.325Z"
   },
   {
    "duration": 28,
    "start_time": "2021-12-19T21:21:46.517Z"
   },
   {
    "duration": 7576,
    "start_time": "2021-12-19T21:21:49.392Z"
   },
   {
    "duration": 35,
    "start_time": "2021-12-19T21:22:18.582Z"
   },
   {
    "duration": 20,
    "start_time": "2021-12-19T21:22:19.572Z"
   },
   {
    "duration": 6,
    "start_time": "2021-12-19T21:22:23.380Z"
   },
   {
    "duration": 13,
    "start_time": "2021-12-19T21:22:26.231Z"
   },
   {
    "duration": 14,
    "start_time": "2021-12-19T21:22:29.464Z"
   },
   {
    "duration": 34,
    "start_time": "2021-12-19T21:23:35.862Z"
   },
   {
    "duration": 25,
    "start_time": "2021-12-19T21:23:43.034Z"
   },
   {
    "duration": 25,
    "start_time": "2021-12-19T21:23:47.037Z"
   },
   {
    "duration": 24,
    "start_time": "2021-12-19T21:23:59.360Z"
   },
   {
    "duration": 14,
    "start_time": "2021-12-19T21:24:00.837Z"
   },
   {
    "duration": 13,
    "start_time": "2021-12-19T21:24:03.211Z"
   },
   {
    "duration": 28,
    "start_time": "2021-12-19T21:28:06.268Z"
   },
   {
    "duration": 14,
    "start_time": "2021-12-19T21:28:12.216Z"
   },
   {
    "duration": 13,
    "start_time": "2021-12-19T21:28:46.663Z"
   },
   {
    "duration": 24,
    "start_time": "2021-12-19T21:28:51.889Z"
   },
   {
    "duration": 26,
    "start_time": "2021-12-19T21:28:54.160Z"
   },
   {
    "duration": 31,
    "start_time": "2021-12-19T21:28:57.986Z"
   },
   {
    "duration": 89,
    "start_time": "2021-12-19T21:29:05.938Z"
   },
   {
    "duration": 47,
    "start_time": "2021-12-19T21:29:08.992Z"
   },
   {
    "duration": 45,
    "start_time": "2021-12-19T21:29:12.700Z"
   },
   {
    "duration": 16,
    "start_time": "2021-12-19T21:29:17.251Z"
   },
   {
    "duration": 12,
    "start_time": "2021-12-19T21:29:28.751Z"
   },
   {
    "duration": 9,
    "start_time": "2021-12-19T21:29:39.468Z"
   },
   {
    "duration": 17,
    "start_time": "2021-12-19T21:29:41.258Z"
   },
   {
    "duration": 15,
    "start_time": "2021-12-19T21:30:01.229Z"
   },
   {
    "duration": 18,
    "start_time": "2021-12-19T21:30:01.912Z"
   },
   {
    "duration": 22,
    "start_time": "2021-12-19T21:30:54.355Z"
   },
   {
    "duration": 79,
    "start_time": "2021-12-19T21:31:04.409Z"
   },
   {
    "duration": 36,
    "start_time": "2021-12-19T21:31:05.983Z"
   },
   {
    "duration": 45,
    "start_time": "2021-12-19T21:31:07.191Z"
   },
   {
    "duration": 17,
    "start_time": "2021-12-19T21:31:08.886Z"
   },
   {
    "duration": 13,
    "start_time": "2021-12-19T21:31:12.291Z"
   },
   {
    "duration": 9,
    "start_time": "2021-12-19T21:31:40.116Z"
   },
   {
    "duration": 55,
    "start_time": "2021-12-19T21:31:41.032Z"
   },
   {
    "duration": 189,
    "start_time": "2021-12-19T21:32:06.340Z"
   },
   {
    "duration": 9,
    "start_time": "2021-12-19T21:32:10.744Z"
   },
   {
    "duration": 1383,
    "start_time": "2021-12-19T21:32:11.883Z"
   },
   {
    "duration": 1360,
    "start_time": "2021-12-19T21:32:28.877Z"
   },
   {
    "duration": 1504,
    "start_time": "2021-12-19T21:32:37.715Z"
   },
   {
    "duration": 9,
    "start_time": "2021-12-19T21:33:31.142Z"
   },
   {
    "duration": 53,
    "start_time": "2021-12-19T21:33:51.385Z"
   },
   {
    "duration": 8,
    "start_time": "2021-12-19T21:34:14.166Z"
   },
   {
    "duration": 6,
    "start_time": "2021-12-19T21:35:37.838Z"
   },
   {
    "duration": 12,
    "start_time": "2021-12-19T21:37:10.851Z"
   },
   {
    "duration": 1594,
    "start_time": "2021-12-19T21:38:09.554Z"
   },
   {
    "duration": 182,
    "start_time": "2021-12-19T21:38:11.150Z"
   },
   {
    "duration": 5,
    "start_time": "2021-12-19T21:38:11.335Z"
   },
   {
    "duration": 35,
    "start_time": "2021-12-19T21:38:11.342Z"
   },
   {
    "duration": 70,
    "start_time": "2021-12-19T21:38:11.379Z"
   },
   {
    "duration": 84,
    "start_time": "2021-12-19T21:38:11.451Z"
   },
   {
    "duration": 13,
    "start_time": "2021-12-19T21:38:11.539Z"
   },
   {
    "duration": 878,
    "start_time": "2021-12-19T21:38:11.557Z"
   },
   {
    "duration": 1059,
    "start_time": "2021-12-19T21:38:12.439Z"
   },
   {
    "duration": 28,
    "start_time": "2021-12-19T21:38:13.501Z"
   },
   {
    "duration": 7,
    "start_time": "2021-12-19T21:38:13.532Z"
   },
   {
    "duration": 921,
    "start_time": "2021-12-19T21:38:13.542Z"
   },
   {
    "duration": 142,
    "start_time": "2021-12-19T21:38:14.466Z"
   },
   {
    "duration": 66,
    "start_time": "2021-12-19T21:38:14.611Z"
   },
   {
    "duration": 62,
    "start_time": "2021-12-19T21:38:14.679Z"
   },
   {
    "duration": 877,
    "start_time": "2021-12-19T21:38:14.743Z"
   },
   {
    "duration": 11,
    "start_time": "2021-12-19T21:38:15.624Z"
   },
   {
    "duration": 57,
    "start_time": "2021-12-19T21:38:15.637Z"
   },
   {
    "duration": 14,
    "start_time": "2021-12-19T21:38:15.697Z"
   },
   {
    "duration": 848,
    "start_time": "2021-12-19T21:38:15.714Z"
   },
   {
    "duration": 72,
    "start_time": "2021-12-19T21:38:16.565Z"
   },
   {
    "duration": 287,
    "start_time": "2021-12-19T21:38:16.640Z"
   },
   {
    "duration": 42,
    "start_time": "2021-12-19T21:38:16.933Z"
   },
   {
    "duration": 11,
    "start_time": "2021-12-19T21:38:16.978Z"
   },
   {
    "duration": 22,
    "start_time": "2021-12-19T21:38:16.992Z"
   },
   {
    "duration": 53,
    "start_time": "2021-12-19T21:38:17.016Z"
   },
   {
    "duration": 67,
    "start_time": "2021-12-19T21:38:17.072Z"
   },
   {
    "duration": 5,
    "start_time": "2021-12-19T21:38:17.141Z"
   },
   {
    "duration": 21,
    "start_time": "2021-12-19T21:38:17.149Z"
   },
   {
    "duration": 58,
    "start_time": "2021-12-19T21:38:17.173Z"
   },
   {
    "duration": 94,
    "start_time": "2021-12-19T21:38:17.233Z"
   },
   {
    "duration": 23,
    "start_time": "2021-12-19T21:38:17.329Z"
   },
   {
    "duration": 76,
    "start_time": "2021-12-19T21:38:17.354Z"
   },
   {
    "duration": 12,
    "start_time": "2021-12-19T21:38:17.433Z"
   },
   {
    "duration": 23,
    "start_time": "2021-12-19T21:38:17.447Z"
   },
   {
    "duration": 24,
    "start_time": "2021-12-19T21:38:17.472Z"
   },
   {
    "duration": 43,
    "start_time": "2021-12-19T21:38:17.498Z"
   },
   {
    "duration": 25,
    "start_time": "2021-12-19T21:38:17.543Z"
   },
   {
    "duration": 33,
    "start_time": "2021-12-19T21:38:17.571Z"
   },
   {
    "duration": 86,
    "start_time": "2021-12-19T21:38:17.624Z"
   },
   {
    "duration": 47,
    "start_time": "2021-12-19T21:38:17.724Z"
   },
   {
    "duration": 66,
    "start_time": "2021-12-19T21:38:17.774Z"
   },
   {
    "duration": 15,
    "start_time": "2021-12-19T21:38:17.842Z"
   },
   {
    "duration": 21,
    "start_time": "2021-12-19T21:38:17.860Z"
   },
   {
    "duration": 15,
    "start_time": "2021-12-19T21:38:17.884Z"
   },
   {
    "duration": 38,
    "start_time": "2021-12-19T21:38:17.901Z"
   },
   {
    "duration": 44,
    "start_time": "2021-12-19T21:38:17.942Z"
   },
   {
    "duration": 78,
    "start_time": "2021-12-19T21:38:17.989Z"
   },
   {
    "duration": 56,
    "start_time": "2021-12-19T21:38:18.070Z"
   },
   {
    "duration": 56,
    "start_time": "2021-12-19T21:38:18.129Z"
   },
   {
    "duration": 48,
    "start_time": "2021-12-19T21:38:18.188Z"
   },
   {
    "duration": 14,
    "start_time": "2021-12-19T21:38:18.239Z"
   },
   {
    "duration": 25,
    "start_time": "2021-12-19T21:38:18.255Z"
   },
   {
    "duration": 78,
    "start_time": "2021-12-19T21:38:18.282Z"
   },
   {
    "duration": 200,
    "start_time": "2021-12-19T21:38:18.362Z"
   },
   {
    "duration": 8,
    "start_time": "2021-12-19T21:38:18.565Z"
   },
   {
    "duration": 1643,
    "start_time": "2021-12-19T21:38:18.575Z"
   },
   {
    "duration": 7,
    "start_time": "2021-12-19T21:38:20.224Z"
   },
   {
    "duration": 14,
    "start_time": "2021-12-19T21:38:20.234Z"
   },
   {
    "duration": 24,
    "start_time": "2021-12-19T21:38:20.250Z"
   },
   {
    "duration": 20,
    "start_time": "2021-12-19T21:38:20.277Z"
   },
   {
    "duration": 11,
    "start_time": "2021-12-19T21:38:32.253Z"
   },
   {
    "duration": 1134,
    "start_time": "2021-12-19T21:38:33.227Z"
   },
   {
    "duration": 437,
    "start_time": "2021-12-19T21:40:27.762Z"
   },
   {
    "duration": 1139,
    "start_time": "2021-12-19T21:40:36.651Z"
   },
   {
    "duration": 151740,
    "start_time": "2021-12-19T21:40:41.392Z"
   },
   {
    "duration": 6,
    "start_time": "2021-12-19T21:43:13.135Z"
   },
   {
    "duration": 13933011,
    "start_time": "2021-12-19T21:43:13.143Z"
   },
   {
    "duration": 7,
    "start_time": "2021-12-20T01:35:26.170Z"
   },
   {
    "duration": 8639,
    "start_time": "2021-12-20T01:35:26.180Z"
   },
   {
    "duration": 885,
    "start_time": "2021-12-20T01:35:34.822Z"
   },
   {
    "duration": 2036921,
    "start_time": "2021-12-20T01:35:35.710Z"
   },
   {
    "duration": 5,
    "start_time": "2021-12-20T02:09:32.633Z"
   },
   {
    "duration": 492,
    "start_time": "2021-12-20T02:09:32.641Z"
   },
   {
    "duration": 899,
    "start_time": "2021-12-20T02:09:33.135Z"
   },
   {
    "duration": 18,
    "start_time": "2021-12-20T02:09:34.036Z"
   },
   {
    "duration": 15,
    "start_time": "2021-12-20T02:09:34.056Z"
   },
   {
    "duration": 54,
    "start_time": "2021-12-20T02:09:34.074Z"
   },
   {
    "duration": 6,
    "start_time": "2021-12-20T02:56:20.575Z"
   },
   {
    "duration": 15169559,
    "start_time": "2021-12-20T02:56:22.110Z"
   },
   {
    "duration": 6,
    "start_time": "2021-12-20T07:09:11.672Z"
   },
   {
    "duration": 11902,
    "start_time": "2021-12-20T07:09:11.685Z"
   },
   {
    "duration": 798,
    "start_time": "2021-12-20T07:09:23.589Z"
   },
   {
    "duration": 91,
    "start_time": "2021-12-20T07:09:24.390Z"
   },
   {
    "duration": 46,
    "start_time": "2021-12-20T07:09:24.439Z"
   },
   {
    "duration": 33,
    "start_time": "2021-12-20T07:09:24.453Z"
   },
   {
    "duration": 18,
    "start_time": "2021-12-20T07:09:24.469Z"
   },
   {
    "duration": 8,
    "start_time": "2021-12-20T07:09:24.481Z"
   },
   {
    "duration": -7,
    "start_time": "2021-12-20T07:09:24.497Z"
   },
   {
    "duration": -17,
    "start_time": "2021-12-20T07:09:24.509Z"
   },
   {
    "duration": 24,
    "start_time": "2021-12-20T07:13:58.405Z"
   },
   {
    "duration": 9,
    "start_time": "2021-12-20T07:14:01.123Z"
   },
   {
    "duration": 839710,
    "start_time": "2021-12-20T07:15:33.820Z"
   },
   {
    "duration": 4,
    "start_time": "2021-12-20T07:29:33.533Z"
   },
   {
    "duration": 606,
    "start_time": "2021-12-20T07:29:33.540Z"
   },
   {
    "duration": 962,
    "start_time": "2021-12-20T07:29:34.149Z"
   },
   {
    "duration": 25,
    "start_time": "2021-12-20T07:29:35.114Z"
   },
   {
    "duration": 83,
    "start_time": "2021-12-20T07:29:35.142Z"
   },
   {
    "duration": 30,
    "start_time": "2021-12-20T07:33:15.203Z"
   },
   {
    "duration": 6,
    "start_time": "2021-12-20T07:36:22.655Z"
   },
   {
    "duration": 1478360,
    "start_time": "2021-12-20T07:36:27.787Z"
   },
   {
    "duration": 7,
    "start_time": "2021-12-20T08:01:19.856Z"
   },
   {
    "duration": 12709,
    "start_time": "2021-12-20T08:01:29.396Z"
   },
   {
    "duration": 827,
    "start_time": "2021-12-20T08:01:42.108Z"
   },
   {
    "duration": 10,
    "start_time": "2021-12-20T08:01:52.188Z"
   },
   {
    "duration": 8,
    "start_time": "2021-12-20T08:07:21.466Z"
   },
   {
    "duration": 2071788,
    "start_time": "2021-12-20T08:07:26.545Z"
   },
   {
    "duration": 8,
    "start_time": "2021-12-20T08:42:45.211Z"
   },
   {
    "duration": 2363,
    "start_time": "2021-12-20T08:43:10.358Z"
   },
   {
    "duration": 815,
    "start_time": "2021-12-20T08:43:15.710Z"
   },
   {
    "duration": 8,
    "start_time": "2021-12-20T08:43:24.031Z"
   },
   {
    "duration": 5,
    "start_time": "2021-12-20T08:44:28.022Z"
   },
   {
    "duration": 5,
    "start_time": "2021-12-20T08:44:45.951Z"
   },
   {
    "duration": 7,
    "start_time": "2021-12-20T08:44:55.491Z"
   },
   {
    "duration": 5,
    "start_time": "2021-12-20T08:45:16.610Z"
   },
   {
    "duration": 7,
    "start_time": "2021-12-20T08:46:17.507Z"
   },
   {
    "duration": 6,
    "start_time": "2021-12-20T08:46:30.548Z"
   },
   {
    "duration": 6,
    "start_time": "2021-12-20T08:46:52.136Z"
   },
   {
    "duration": 6,
    "start_time": "2021-12-20T08:47:16.168Z"
   },
   {
    "duration": 7,
    "start_time": "2021-12-20T08:47:21.837Z"
   },
   {
    "duration": 5,
    "start_time": "2021-12-20T08:47:56.828Z"
   },
   {
    "duration": 1497,
    "start_time": "2021-12-20T08:50:43.799Z"
   },
   {
    "duration": 242,
    "start_time": "2021-12-20T08:50:45.299Z"
   },
   {
    "duration": 6,
    "start_time": "2021-12-20T08:50:45.544Z"
   },
   {
    "duration": 24,
    "start_time": "2021-12-20T08:50:45.553Z"
   },
   {
    "duration": 58,
    "start_time": "2021-12-20T08:50:45.579Z"
   },
   {
    "duration": 62,
    "start_time": "2021-12-20T08:50:45.639Z"
   },
   {
    "duration": 11,
    "start_time": "2021-12-20T08:50:45.703Z"
   },
   {
    "duration": 927,
    "start_time": "2021-12-20T08:50:45.723Z"
   },
   {
    "duration": 1275,
    "start_time": "2021-12-20T08:50:46.653Z"
   },
   {
    "duration": 20,
    "start_time": "2021-12-20T08:50:47.931Z"
   },
   {
    "duration": 6,
    "start_time": "2021-12-20T08:50:47.954Z"
   },
   {
    "duration": 953,
    "start_time": "2021-12-20T08:50:47.964Z"
   },
   {
    "duration": 136,
    "start_time": "2021-12-20T08:50:48.919Z"
   },
   {
    "duration": 78,
    "start_time": "2021-12-20T08:50:49.058Z"
   },
   {
    "duration": 33,
    "start_time": "2021-12-20T08:50:49.138Z"
   },
   {
    "duration": 852,
    "start_time": "2021-12-20T08:50:49.173Z"
   },
   {
    "duration": 13,
    "start_time": "2021-12-20T08:50:50.028Z"
   },
   {
    "duration": 39,
    "start_time": "2021-12-20T08:50:50.043Z"
   },
   {
    "duration": 46,
    "start_time": "2021-12-20T08:50:50.085Z"
   },
   {
    "duration": 837,
    "start_time": "2021-12-20T08:50:50.133Z"
   },
   {
    "duration": 18,
    "start_time": "2021-12-20T08:50:50.972Z"
   },
   {
    "duration": 179,
    "start_time": "2021-12-20T08:50:50.992Z"
   },
   {
    "duration": 58,
    "start_time": "2021-12-20T08:50:51.176Z"
   },
   {
    "duration": 9,
    "start_time": "2021-12-20T08:50:51.237Z"
   },
   {
    "duration": 12,
    "start_time": "2021-12-20T08:50:51.248Z"
   },
   {
    "duration": 45,
    "start_time": "2021-12-20T08:50:51.263Z"
   },
   {
    "duration": 28,
    "start_time": "2021-12-20T08:50:51.310Z"
   },
   {
    "duration": 5,
    "start_time": "2021-12-20T08:50:51.340Z"
   },
   {
    "duration": 15,
    "start_time": "2021-12-20T08:50:51.347Z"
   },
   {
    "duration": 14,
    "start_time": "2021-12-20T08:50:51.364Z"
   },
   {
    "duration": 66,
    "start_time": "2021-12-20T08:50:51.380Z"
   },
   {
    "duration": 23,
    "start_time": "2021-12-20T08:50:51.449Z"
   },
   {
    "duration": 26,
    "start_time": "2021-12-20T08:50:51.474Z"
   },
   {
    "duration": 30,
    "start_time": "2021-12-20T08:50:51.502Z"
   },
   {
    "duration": 14,
    "start_time": "2021-12-20T08:50:51.535Z"
   },
   {
    "duration": 7,
    "start_time": "2021-12-20T08:50:51.552Z"
   },
   {
    "duration": 66,
    "start_time": "2021-12-20T08:50:51.561Z"
   },
   {
    "duration": 27,
    "start_time": "2021-12-20T08:50:51.630Z"
   },
   {
    "duration": 34,
    "start_time": "2021-12-20T08:50:51.660Z"
   },
   {
    "duration": 104,
    "start_time": "2021-12-20T08:50:51.724Z"
   },
   {
    "duration": 44,
    "start_time": "2021-12-20T08:50:51.831Z"
   },
   {
    "duration": 67,
    "start_time": "2021-12-20T08:50:51.877Z"
   },
   {
    "duration": 15,
    "start_time": "2021-12-20T08:50:51.946Z"
   },
   {
    "duration": 15,
    "start_time": "2021-12-20T08:50:51.963Z"
   },
   {
    "duration": 8,
    "start_time": "2021-12-20T08:50:51.980Z"
   },
   {
    "duration": 16,
    "start_time": "2021-12-20T08:50:52.023Z"
   },
   {
    "duration": 30,
    "start_time": "2021-12-20T08:50:52.041Z"
   },
   {
    "duration": 75,
    "start_time": "2021-12-20T08:50:52.073Z"
   },
   {
    "duration": 32,
    "start_time": "2021-12-20T08:50:52.151Z"
   },
   {
    "duration": 70,
    "start_time": "2021-12-20T08:50:52.186Z"
   },
   {
    "duration": 17,
    "start_time": "2021-12-20T08:50:52.259Z"
   },
   {
    "duration": 12,
    "start_time": "2021-12-20T08:50:52.279Z"
   },
   {
    "duration": 36,
    "start_time": "2021-12-20T08:50:52.294Z"
   },
   {
    "duration": 53,
    "start_time": "2021-12-20T08:50:52.332Z"
   },
   {
    "duration": 211,
    "start_time": "2021-12-20T08:50:52.387Z"
   },
   {
    "duration": 23,
    "start_time": "2021-12-20T08:50:52.601Z"
   },
   {
    "duration": 1479,
    "start_time": "2021-12-20T08:50:52.626Z"
   },
   {
    "duration": 17,
    "start_time": "2021-12-20T08:50:54.107Z"
   },
   {
    "duration": 6,
    "start_time": "2021-12-20T08:50:54.127Z"
   },
   {
    "duration": 19,
    "start_time": "2021-12-20T08:50:54.135Z"
   },
   {
    "duration": 7,
    "start_time": "2021-12-20T08:50:54.156Z"
   },
   {
    "duration": 15,
    "start_time": "2021-12-20T08:50:54.165Z"
   },
   {
    "duration": 1043,
    "start_time": "2021-12-20T08:50:54.182Z"
   },
   {
    "duration": 172388,
    "start_time": "2021-12-20T08:50:55.229Z"
   },
   {
    "duration": 5,
    "start_time": "2021-12-20T08:53:47.623Z"
   },
   {
    "duration": 9,
    "start_time": "2021-12-20T08:53:47.630Z"
   },
   {
    "duration": 17,
    "start_time": "2021-12-20T08:54:24.411Z"
   },
   {
    "duration": 377818,
    "start_time": "2021-12-20T08:54:37.402Z"
   },
   {
    "duration": 8,
    "start_time": "2021-12-20T09:00:57.173Z"
   },
   {
    "duration": 2574,
    "start_time": "2021-12-20T09:01:27.145Z"
   },
   {
    "duration": 818,
    "start_time": "2021-12-20T09:01:32.077Z"
   },
   {
    "duration": 10,
    "start_time": "2021-12-20T09:01:38.115Z"
   },
   {
    "duration": 8,
    "start_time": "2021-12-20T09:02:32.362Z"
   },
   {
    "duration": 2478,
    "start_time": "2021-12-20T09:02:35.494Z"
   },
   {
    "duration": 11,
    "start_time": "2021-12-20T09:02:45.095Z"
   },
   {
    "duration": 7,
    "start_time": "2021-12-20T09:02:56.274Z"
   },
   {
    "duration": 11917,
    "start_time": "2021-12-20T09:02:59.346Z"
   },
   {
    "duration": 10,
    "start_time": "2021-12-20T09:03:11.265Z"
   },
   {
    "duration": 5,
    "start_time": "2021-12-20T09:04:16.540Z"
   },
   {
    "duration": 6,
    "start_time": "2021-12-20T09:04:37.781Z"
   },
   {
    "duration": 7,
    "start_time": "2021-12-20T09:05:12.004Z"
   },
   {
    "duration": 7,
    "start_time": "2021-12-20T09:05:19.608Z"
   },
   {
    "duration": 6,
    "start_time": "2021-12-20T09:05:27.594Z"
   },
   {
    "duration": 5237,
    "start_time": "2021-12-20T09:05:45.653Z"
   },
   {
    "duration": 7,
    "start_time": "2021-12-20T09:06:25.613Z"
   },
   {
    "duration": 6,
    "start_time": "2021-12-20T09:06:38.052Z"
   },
   {
    "duration": 6,
    "start_time": "2021-12-20T09:07:02.083Z"
   },
   {
    "duration": -48,
    "start_time": "2021-12-20T09:08:26.054Z"
   },
   {
    "duration": 11,
    "start_time": "2021-12-20T09:08:47.002Z"
   },
   {
    "duration": 197,
    "start_time": "2021-12-20T09:08:47.017Z"
   },
   {
    "duration": 4,
    "start_time": "2021-12-20T09:08:47.218Z"
   },
   {
    "duration": 46,
    "start_time": "2021-12-20T09:08:47.226Z"
   },
   {
    "duration": 64,
    "start_time": "2021-12-20T09:08:47.274Z"
   },
   {
    "duration": 85,
    "start_time": "2021-12-20T09:08:47.340Z"
   },
   {
    "duration": 10,
    "start_time": "2021-12-20T09:08:47.428Z"
   },
   {
    "duration": 1036,
    "start_time": "2021-12-20T09:08:47.441Z"
   },
   {
    "duration": 1040,
    "start_time": "2021-12-20T09:08:48.483Z"
   },
   {
    "duration": 15,
    "start_time": "2021-12-20T09:08:49.527Z"
   },
   {
    "duration": 5,
    "start_time": "2021-12-20T09:08:49.544Z"
   },
   {
    "duration": 988,
    "start_time": "2021-12-20T09:08:49.552Z"
   },
   {
    "duration": 127,
    "start_time": "2021-12-20T09:08:50.542Z"
   },
   {
    "duration": 71,
    "start_time": "2021-12-20T09:08:50.672Z"
   },
   {
    "duration": 32,
    "start_time": "2021-12-20T09:08:50.745Z"
   },
   {
    "duration": 869,
    "start_time": "2021-12-20T09:08:50.780Z"
   },
   {
    "duration": 11,
    "start_time": "2021-12-20T09:08:51.651Z"
   },
   {
    "duration": 67,
    "start_time": "2021-12-20T09:08:51.664Z"
   },
   {
    "duration": 14,
    "start_time": "2021-12-20T09:08:51.734Z"
   },
   {
    "duration": 862,
    "start_time": "2021-12-20T09:08:51.750Z"
   },
   {
    "duration": 26,
    "start_time": "2021-12-20T09:08:52.614Z"
   },
   {
    "duration": 114,
    "start_time": "2021-12-20T09:08:52.643Z"
   },
   {
    "duration": 68,
    "start_time": "2021-12-20T09:08:52.761Z"
   },
   {
    "duration": 10,
    "start_time": "2021-12-20T09:08:52.831Z"
   },
   {
    "duration": 11,
    "start_time": "2021-12-20T09:08:52.843Z"
   },
   {
    "duration": 35,
    "start_time": "2021-12-20T09:08:52.856Z"
   },
   {
    "duration": 20,
    "start_time": "2021-12-20T09:08:52.926Z"
   },
   {
    "duration": 9,
    "start_time": "2021-12-20T09:08:52.949Z"
   },
   {
    "duration": 24,
    "start_time": "2021-12-20T09:08:52.960Z"
   },
   {
    "duration": 39,
    "start_time": "2021-12-20T09:08:52.986Z"
   },
   {
    "duration": 35,
    "start_time": "2021-12-20T09:08:53.028Z"
   },
   {
    "duration": 24,
    "start_time": "2021-12-20T09:08:53.065Z"
   },
   {
    "duration": 52,
    "start_time": "2021-12-20T09:08:53.091Z"
   },
   {
    "duration": 15,
    "start_time": "2021-12-20T09:08:53.145Z"
   },
   {
    "duration": 15,
    "start_time": "2021-12-20T09:08:53.162Z"
   },
   {
    "duration": 44,
    "start_time": "2021-12-20T09:08:53.179Z"
   },
   {
    "duration": 25,
    "start_time": "2021-12-20T09:08:53.226Z"
   },
   {
    "duration": 26,
    "start_time": "2021-12-20T09:08:53.253Z"
   },
   {
    "duration": 52,
    "start_time": "2021-12-20T09:08:53.282Z"
   },
   {
    "duration": 112,
    "start_time": "2021-12-20T09:08:53.336Z"
   },
   {
    "duration": 41,
    "start_time": "2021-12-20T09:08:53.450Z"
   },
   {
    "duration": 68,
    "start_time": "2021-12-20T09:08:53.494Z"
   },
   {
    "duration": 16,
    "start_time": "2021-12-20T09:08:53.564Z"
   },
   {
    "duration": 12,
    "start_time": "2021-12-20T09:08:53.582Z"
   },
   {
    "duration": 9,
    "start_time": "2021-12-20T09:08:53.624Z"
   },
   {
    "duration": 18,
    "start_time": "2021-12-20T09:08:53.635Z"
   },
   {
    "duration": 24,
    "start_time": "2021-12-20T09:08:53.656Z"
   },
   {
    "duration": 87,
    "start_time": "2021-12-20T09:08:53.682Z"
   },
   {
    "duration": 53,
    "start_time": "2021-12-20T09:08:53.772Z"
   },
   {
    "duration": 42,
    "start_time": "2021-12-20T09:08:53.828Z"
   },
   {
    "duration": 18,
    "start_time": "2021-12-20T09:08:53.872Z"
   },
   {
    "duration": 37,
    "start_time": "2021-12-20T09:08:53.892Z"
   },
   {
    "duration": 10,
    "start_time": "2021-12-20T09:08:53.931Z"
   },
   {
    "duration": 54,
    "start_time": "2021-12-20T09:08:53.943Z"
   },
   {
    "duration": 212,
    "start_time": "2021-12-20T09:08:54.023Z"
   },
   {
    "duration": 8,
    "start_time": "2021-12-20T09:08:54.238Z"
   },
   {
    "duration": 1475,
    "start_time": "2021-12-20T09:08:54.248Z"
   },
   {
    "duration": 8,
    "start_time": "2021-12-20T09:08:55.726Z"
   },
   {
    "duration": 9,
    "start_time": "2021-12-20T09:08:55.737Z"
   },
   {
    "duration": 11,
    "start_time": "2021-12-20T09:08:55.748Z"
   },
   {
    "duration": 6,
    "start_time": "2021-12-20T09:08:55.762Z"
   },
   {
    "duration": 12,
    "start_time": "2021-12-20T09:08:55.770Z"
   },
   {
    "duration": 1142,
    "start_time": "2021-12-20T09:08:55.823Z"
   },
   {
    "duration": 77447,
    "start_time": "2021-12-20T09:08:56.967Z"
   },
   {
    "duration": 6,
    "start_time": "2021-12-20T09:10:14.422Z"
   },
   {
    "duration": 8,
    "start_time": "2021-12-20T09:10:43.277Z"
   },
   {
    "duration": 6,
    "start_time": "2021-12-20T09:11:09.480Z"
   },
   {
    "duration": 6,
    "start_time": "2021-12-20T09:11:27.562Z"
   },
   {
    "duration": 6,
    "start_time": "2021-12-20T09:11:41.559Z"
   },
   {
    "duration": 6,
    "start_time": "2021-12-20T09:12:11.430Z"
   },
   {
    "duration": 2562146,
    "start_time": "2021-12-20T09:12:12.294Z"
   },
   {
    "duration": 7,
    "start_time": "2021-12-20T10:06:59.770Z"
   },
   {
    "duration": 11087,
    "start_time": "2021-12-20T10:07:08.842Z"
   },
   {
    "duration": 10,
    "start_time": "2021-12-20T10:07:36.979Z"
   },
   {
    "duration": 7,
    "start_time": "2021-12-20T10:08:09.765Z"
   },
   {
    "duration": 6,
    "start_time": "2021-12-20T10:09:02.709Z"
   },
   {
    "duration": 5,
    "start_time": "2021-12-20T10:09:23.112Z"
   },
   {
    "duration": 11,
    "start_time": "2021-12-20T10:09:48.933Z"
   },
   {
    "duration": 5,
    "start_time": "2021-12-20T10:11:12.426Z"
   },
   {
    "duration": 6,
    "start_time": "2021-12-20T10:11:25.007Z"
   },
   {
    "duration": 7,
    "start_time": "2021-12-20T10:11:46.332Z"
   },
   {
    "duration": 3351303,
    "start_time": "2021-12-20T10:11:48.336Z"
   },
   {
    "duration": 9,
    "start_time": "2021-12-20T11:07:46.179Z"
   },
   {
    "duration": 7,
    "start_time": "2021-12-20T11:08:04.493Z"
   },
   {
    "duration": 11434,
    "start_time": "2021-12-20T11:08:23.412Z"
   },
   {
    "duration": 24,
    "start_time": "2021-12-20T11:08:50.266Z"
   },
   {
    "duration": 7,
    "start_time": "2021-12-20T11:10:11.020Z"
   },
   {
    "duration": 7,
    "start_time": "2021-12-20T11:10:33.187Z"
   },
   {
    "duration": 5,
    "start_time": "2021-12-20T11:11:55.279Z"
   },
   {
    "duration": 5,
    "start_time": "2021-12-20T11:12:06.040Z"
   },
   {
    "duration": 134,
    "start_time": "2021-12-20T11:12:22.153Z"
   },
   {
    "duration": 5,
    "start_time": "2021-12-20T11:12:27.012Z"
   },
   {
    "duration": 491067,
    "start_time": "2021-12-20T11:12:31.062Z"
   },
   {
    "duration": 8,
    "start_time": "2021-12-20T11:20:42.132Z"
   },
   {
    "duration": 11183,
    "start_time": "2021-12-20T11:21:07.435Z"
   },
   {
    "duration": 9,
    "start_time": "2021-12-20T11:21:18.621Z"
   },
   {
    "duration": 8,
    "start_time": "2021-12-20T11:24:09.000Z"
   },
   {
    "duration": 8,
    "start_time": "2021-12-20T11:24:25.592Z"
   },
   {
    "duration": 8,
    "start_time": "2021-12-20T11:24:32.192Z"
   },
   {
    "duration": 8,
    "start_time": "2021-12-20T11:24:43.312Z"
   },
   {
    "duration": 6,
    "start_time": "2021-12-20T11:25:07.770Z"
   },
   {
    "duration": 46199,
    "start_time": "2021-12-20T11:25:10.729Z"
   },
   {
    "duration": -59,
    "start_time": "2021-12-20T11:25:56.991Z"
   },
   {
    "duration": -63,
    "start_time": "2021-12-20T11:25:56.997Z"
   },
   {
    "duration": 11,
    "start_time": "2021-12-20T11:26:00.285Z"
   },
   {
    "duration": 1599,
    "start_time": "2021-12-20T11:26:35.479Z"
   },
   {
    "duration": 177,
    "start_time": "2021-12-20T11:26:37.081Z"
   },
   {
    "duration": 4,
    "start_time": "2021-12-20T11:26:37.261Z"
   },
   {
    "duration": 28,
    "start_time": "2021-12-20T11:26:37.268Z"
   },
   {
    "duration": 65,
    "start_time": "2021-12-20T11:26:37.299Z"
   },
   {
    "duration": 78,
    "start_time": "2021-12-20T11:26:37.366Z"
   },
   {
    "duration": 11,
    "start_time": "2021-12-20T11:26:37.446Z"
   },
   {
    "duration": 913,
    "start_time": "2021-12-20T11:26:37.460Z"
   },
   {
    "duration": 994,
    "start_time": "2021-12-20T11:26:38.377Z"
   },
   {
    "duration": 21,
    "start_time": "2021-12-20T11:26:39.374Z"
   },
   {
    "duration": 35,
    "start_time": "2021-12-20T11:26:39.398Z"
   },
   {
    "duration": 1068,
    "start_time": "2021-12-20T11:26:39.436Z"
   },
   {
    "duration": 133,
    "start_time": "2021-12-20T11:26:40.507Z"
   },
   {
    "duration": 55,
    "start_time": "2021-12-20T11:26:40.643Z"
   },
   {
    "duration": 53,
    "start_time": "2021-12-20T11:26:40.700Z"
   },
   {
    "duration": 930,
    "start_time": "2021-12-20T11:26:40.755Z"
   },
   {
    "duration": 12,
    "start_time": "2021-12-20T11:26:41.688Z"
   },
   {
    "duration": 62,
    "start_time": "2021-12-20T11:26:41.702Z"
   },
   {
    "duration": 15,
    "start_time": "2021-12-20T11:26:41.767Z"
   },
   {
    "duration": 918,
    "start_time": "2021-12-20T11:26:41.784Z"
   },
   {
    "duration": 33,
    "start_time": "2021-12-20T11:26:42.706Z"
   },
   {
    "duration": 194,
    "start_time": "2021-12-20T11:26:42.742Z"
   },
   {
    "duration": 43,
    "start_time": "2021-12-20T11:26:42.942Z"
   },
   {
    "duration": 42,
    "start_time": "2021-12-20T11:26:42.990Z"
   },
   {
    "duration": 13,
    "start_time": "2021-12-20T11:26:43.035Z"
   },
   {
    "duration": 33,
    "start_time": "2021-12-20T11:26:43.051Z"
   },
   {
    "duration": 55,
    "start_time": "2021-12-20T11:26:43.087Z"
   },
   {
    "duration": 6,
    "start_time": "2021-12-20T11:26:43.145Z"
   },
   {
    "duration": 16,
    "start_time": "2021-12-20T11:26:43.154Z"
   },
   {
    "duration": 51,
    "start_time": "2021-12-20T11:26:43.173Z"
   },
   {
    "duration": 42,
    "start_time": "2021-12-20T11:26:43.227Z"
   },
   {
    "duration": 24,
    "start_time": "2021-12-20T11:26:43.272Z"
   },
   {
    "duration": 48,
    "start_time": "2021-12-20T11:26:43.298Z"
   },
   {
    "duration": 20,
    "start_time": "2021-12-20T11:26:43.348Z"
   },
   {
    "duration": 23,
    "start_time": "2021-12-20T11:26:43.370Z"
   },
   {
    "duration": 33,
    "start_time": "2021-12-20T11:26:43.395Z"
   },
   {
    "duration": 39,
    "start_time": "2021-12-20T11:26:43.430Z"
   },
   {
    "duration": 33,
    "start_time": "2021-12-20T11:26:43.471Z"
   },
   {
    "duration": 35,
    "start_time": "2021-12-20T11:26:43.507Z"
   },
   {
    "duration": 107,
    "start_time": "2021-12-20T11:26:43.544Z"
   },
   {
    "duration": 47,
    "start_time": "2021-12-20T11:26:43.654Z"
   },
   {
    "duration": 45,
    "start_time": "2021-12-20T11:26:43.722Z"
   },
   {
    "duration": 15,
    "start_time": "2021-12-20T11:26:43.770Z"
   },
   {
    "duration": 41,
    "start_time": "2021-12-20T11:26:43.788Z"
   },
   {
    "duration": 17,
    "start_time": "2021-12-20T11:26:43.831Z"
   },
   {
    "duration": 21,
    "start_time": "2021-12-20T11:26:43.850Z"
   },
   {
    "duration": 23,
    "start_time": "2021-12-20T11:26:43.873Z"
   },
   {
    "duration": 78,
    "start_time": "2021-12-20T11:26:43.898Z"
   },
   {
    "duration": 60,
    "start_time": "2021-12-20T11:26:43.979Z"
   },
   {
    "duration": 44,
    "start_time": "2021-12-20T11:26:44.042Z"
   },
   {
    "duration": 46,
    "start_time": "2021-12-20T11:26:44.088Z"
   },
   {
    "duration": 13,
    "start_time": "2021-12-20T11:26:44.137Z"
   },
   {
    "duration": 13,
    "start_time": "2021-12-20T11:26:44.153Z"
   },
   {
    "duration": 86,
    "start_time": "2021-12-20T11:26:44.169Z"
   },
   {
    "duration": 208,
    "start_time": "2021-12-20T11:26:44.258Z"
   },
   {
    "duration": 9,
    "start_time": "2021-12-20T11:26:44.469Z"
   },
   {
    "duration": 1482,
    "start_time": "2021-12-20T11:26:44.480Z"
   },
   {
    "duration": 8,
    "start_time": "2021-12-20T11:26:45.965Z"
   },
   {
    "duration": 9,
    "start_time": "2021-12-20T11:26:45.976Z"
   },
   {
    "duration": 42,
    "start_time": "2021-12-20T11:26:45.987Z"
   },
   {
    "duration": 6,
    "start_time": "2021-12-20T11:26:46.032Z"
   },
   {
    "duration": 31,
    "start_time": "2021-12-20T11:26:46.041Z"
   },
   {
    "duration": 1201,
    "start_time": "2021-12-20T11:26:46.074Z"
   },
   {
    "duration": 101871,
    "start_time": "2021-12-20T11:26:47.277Z"
   },
   {
    "duration": 9,
    "start_time": "2021-12-20T11:28:29.151Z"
   },
   {
    "duration": 12,
    "start_time": "2021-12-20T11:28:29.163Z"
   },
   {
    "duration": 1849796,
    "start_time": "2021-12-20T11:28:29.177Z"
   },
   {
    "duration": 8,
    "start_time": "2021-12-20T11:59:18.980Z"
   },
   {
    "duration": 10576,
    "start_time": "2021-12-20T11:59:27.573Z"
   },
   {
    "duration": 13,
    "start_time": "2021-12-20T11:59:38.152Z"
   },
   {
    "duration": 6,
    "start_time": "2021-12-20T12:00:59.195Z"
   },
   {
    "duration": 6,
    "start_time": "2021-12-20T12:01:29.692Z"
   },
   {
    "duration": 8,
    "start_time": "2021-12-20T12:01:44.649Z"
   },
   {
    "duration": 427852,
    "start_time": "2021-12-20T12:01:48.400Z"
   },
   {
    "duration": 7,
    "start_time": "2021-12-20T12:08:56.254Z"
   },
   {
    "duration": 10816,
    "start_time": "2021-12-20T12:08:56.267Z"
   },
   {
    "duration": 11,
    "start_time": "2021-12-20T12:09:07.086Z"
   },
   {
    "duration": 4,
    "start_time": "2021-12-20T12:10:00.989Z"
   },
   {
    "duration": 6,
    "start_time": "2021-12-20T12:10:06.116Z"
   },
   {
    "duration": 6,
    "start_time": "2021-12-20T12:10:21.596Z"
   },
   {
    "duration": 5,
    "start_time": "2021-12-20T12:11:18.379Z"
   },
   {
    "duration": 5,
    "start_time": "2021-12-20T12:11:36.407Z"
   },
   {
    "duration": 7,
    "start_time": "2021-12-20T12:12:01.438Z"
   },
   {
    "duration": 6,
    "start_time": "2021-12-20T12:12:09.754Z"
   },
   {
    "duration": 583569,
    "start_time": "2021-12-20T12:12:11.661Z"
   },
   {
    "duration": 18,
    "start_time": "2021-12-20T12:21:55.309Z"
   },
   {
    "duration": 10183,
    "start_time": "2021-12-20T12:21:55.330Z"
   },
   {
    "duration": 8,
    "start_time": "2021-12-20T12:22:05.516Z"
   },
   {
    "duration": 6,
    "start_time": "2021-12-20T12:24:57.663Z"
   },
   {
    "duration": 6,
    "start_time": "2021-12-20T12:25:49.915Z"
   },
   {
    "duration": 7,
    "start_time": "2021-12-20T12:25:58.655Z"
   },
   {
    "duration": 6,
    "start_time": "2021-12-20T12:26:09.949Z"
   },
   {
    "duration": 98,
    "start_time": "2021-12-20T12:26:12.279Z"
   },
   {
    "duration": 399460,
    "start_time": "2021-12-20T12:26:18.281Z"
   },
   {
    "duration": 9,
    "start_time": "2021-12-20T12:35:35.250Z"
   },
   {
    "duration": 10278,
    "start_time": "2021-12-20T12:36:08.919Z"
   },
   {
    "duration": 17,
    "start_time": "2021-12-20T12:36:19.200Z"
   },
   {
    "duration": 10065,
    "start_time": "2021-12-20T12:36:31.909Z"
   },
   {
    "duration": 17,
    "start_time": "2021-12-20T12:36:41.978Z"
   },
   {
    "duration": 1537,
    "start_time": "2021-12-20T12:40:40.436Z"
   },
   {
    "duration": 181,
    "start_time": "2021-12-20T12:40:41.976Z"
   },
   {
    "duration": 5,
    "start_time": "2021-12-20T12:40:42.160Z"
   },
   {
    "duration": 28,
    "start_time": "2021-12-20T12:40:42.167Z"
   },
   {
    "duration": 62,
    "start_time": "2021-12-20T12:40:42.197Z"
   },
   {
    "duration": 79,
    "start_time": "2021-12-20T12:40:42.261Z"
   },
   {
    "duration": 12,
    "start_time": "2021-12-20T12:40:42.343Z"
   },
   {
    "duration": 882,
    "start_time": "2021-12-20T12:40:42.359Z"
   },
   {
    "duration": 980,
    "start_time": "2021-12-20T12:40:43.244Z"
   },
   {
    "duration": 17,
    "start_time": "2021-12-20T12:40:44.226Z"
   },
   {
    "duration": 23,
    "start_time": "2021-12-20T12:40:44.246Z"
   },
   {
    "duration": 876,
    "start_time": "2021-12-20T12:40:44.271Z"
   },
   {
    "duration": 130,
    "start_time": "2021-12-20T12:40:45.149Z"
   },
   {
    "duration": 74,
    "start_time": "2021-12-20T12:40:45.281Z"
   },
   {
    "duration": 65,
    "start_time": "2021-12-20T12:40:45.358Z"
   },
   {
    "duration": 877,
    "start_time": "2021-12-20T12:40:45.426Z"
   },
   {
    "duration": 21,
    "start_time": "2021-12-20T12:40:46.306Z"
   },
   {
    "duration": 71,
    "start_time": "2021-12-20T12:40:46.329Z"
   },
   {
    "duration": 25,
    "start_time": "2021-12-20T12:40:46.403Z"
   },
   {
    "duration": 850,
    "start_time": "2021-12-20T12:40:46.431Z"
   },
   {
    "duration": 19,
    "start_time": "2021-12-20T12:40:47.283Z"
   },
   {
    "duration": 187,
    "start_time": "2021-12-20T12:40:47.304Z"
   },
   {
    "duration": 54,
    "start_time": "2021-12-20T12:40:47.498Z"
   },
   {
    "duration": 10,
    "start_time": "2021-12-20T12:40:47.556Z"
   },
   {
    "duration": 19,
    "start_time": "2021-12-20T12:40:47.569Z"
   },
   {
    "duration": 59,
    "start_time": "2021-12-20T12:40:47.591Z"
   },
   {
    "duration": 22,
    "start_time": "2021-12-20T12:40:47.654Z"
   },
   {
    "duration": 5,
    "start_time": "2021-12-20T12:40:47.679Z"
   },
   {
    "duration": 44,
    "start_time": "2021-12-20T12:40:47.686Z"
   },
   {
    "duration": 15,
    "start_time": "2021-12-20T12:40:47.733Z"
   },
   {
    "duration": 37,
    "start_time": "2021-12-20T12:40:47.751Z"
   },
   {
    "duration": 49,
    "start_time": "2021-12-20T12:40:47.790Z"
   },
   {
    "duration": 30,
    "start_time": "2021-12-20T12:40:47.842Z"
   },
   {
    "duration": 16,
    "start_time": "2021-12-20T12:40:47.874Z"
   },
   {
    "duration": 38,
    "start_time": "2021-12-20T12:40:47.893Z"
   },
   {
    "duration": 8,
    "start_time": "2021-12-20T12:40:47.934Z"
   },
   {
    "duration": 38,
    "start_time": "2021-12-20T12:40:47.944Z"
   },
   {
    "duration": 71,
    "start_time": "2021-12-20T12:40:47.985Z"
   },
   {
    "duration": 64,
    "start_time": "2021-12-20T12:40:48.060Z"
   },
   {
    "duration": 105,
    "start_time": "2021-12-20T12:40:48.127Z"
   },
   {
    "duration": 44,
    "start_time": "2021-12-20T12:40:48.235Z"
   },
   {
    "duration": 68,
    "start_time": "2021-12-20T12:40:48.282Z"
   },
   {
    "duration": 16,
    "start_time": "2021-12-20T12:40:48.352Z"
   },
   {
    "duration": 12,
    "start_time": "2021-12-20T12:40:48.370Z"
   },
   {
    "duration": 39,
    "start_time": "2021-12-20T12:40:48.384Z"
   },
   {
    "duration": 18,
    "start_time": "2021-12-20T12:40:48.426Z"
   },
   {
    "duration": 23,
    "start_time": "2021-12-20T12:40:48.446Z"
   },
   {
    "duration": 80,
    "start_time": "2021-12-20T12:40:48.472Z"
   },
   {
    "duration": 37,
    "start_time": "2021-12-20T12:40:48.555Z"
   },
   {
    "duration": 68,
    "start_time": "2021-12-20T12:40:48.595Z"
   },
   {
    "duration": 20,
    "start_time": "2021-12-20T12:40:48.666Z"
   },
   {
    "duration": 43,
    "start_time": "2021-12-20T12:40:48.689Z"
   },
   {
    "duration": 13,
    "start_time": "2021-12-20T12:40:48.735Z"
   },
   {
    "duration": 87,
    "start_time": "2021-12-20T12:40:48.751Z"
   },
   {
    "duration": 213,
    "start_time": "2021-12-20T12:40:48.841Z"
   },
   {
    "duration": 10,
    "start_time": "2021-12-20T12:40:49.057Z"
   },
   {
    "duration": 1533,
    "start_time": "2021-12-20T12:40:49.070Z"
   },
   {
    "duration": 22,
    "start_time": "2021-12-20T12:40:50.606Z"
   },
   {
    "duration": 9,
    "start_time": "2021-12-20T12:40:50.631Z"
   },
   {
    "duration": 19,
    "start_time": "2021-12-20T12:40:50.642Z"
   },
   {
    "duration": 11,
    "start_time": "2021-12-20T12:40:50.663Z"
   },
   {
    "duration": 13,
    "start_time": "2021-12-20T12:40:50.676Z"
   },
   {
    "duration": 1110,
    "start_time": "2021-12-20T12:40:50.724Z"
   },
   {
    "duration": 92970,
    "start_time": "2021-12-20T12:40:51.837Z"
   },
   {
    "duration": 5,
    "start_time": "2021-12-20T12:42:24.809Z"
   },
   {
    "duration": 7,
    "start_time": "2021-12-20T12:42:24.823Z"
   },
   {
    "duration": 10336,
    "start_time": "2021-12-20T12:42:24.833Z"
   },
   {
    "duration": 800,
    "start_time": "2021-12-20T12:42:35.176Z"
   },
   {
    "duration": 109,
    "start_time": "2021-12-20T12:42:35.978Z"
   },
   {
    "duration": 11,
    "start_time": "2021-12-20T12:42:36.080Z"
   },
   {
    "duration": 1,
    "start_time": "2021-12-20T12:42:36.091Z"
   },
   {
    "duration": -1,
    "start_time": "2021-12-20T12:42:36.095Z"
   },
   {
    "duration": -5,
    "start_time": "2021-12-20T12:42:36.100Z"
   },
   {
    "duration": -7,
    "start_time": "2021-12-20T12:42:36.104Z"
   },
   {
    "duration": 6,
    "start_time": "2021-12-20T12:44:02.898Z"
   },
   {
    "duration": 329,
    "start_time": "2021-12-20T12:44:07.604Z"
   },
   {
    "duration": 811,
    "start_time": "2021-12-20T12:44:08.437Z"
   },
   {
    "duration": 18,
    "start_time": "2021-12-20T12:44:13.484Z"
   },
   {
    "duration": 18,
    "start_time": "2021-12-20T12:44:18.563Z"
   },
   {
    "duration": 10,
    "start_time": "2021-12-20T12:44:18.973Z"
   },
   {
    "duration": 1149,
    "start_time": "2021-12-21T08:40:57.448Z"
   },
   {
    "duration": 177,
    "start_time": "2021-12-21T08:40:58.599Z"
   },
   {
    "duration": 4,
    "start_time": "2021-12-21T08:40:58.778Z"
   },
   {
    "duration": 16,
    "start_time": "2021-12-21T08:40:58.784Z"
   },
   {
    "duration": 44,
    "start_time": "2021-12-21T08:40:58.802Z"
   },
   {
    "duration": 66,
    "start_time": "2021-12-21T08:40:58.848Z"
   },
   {
    "duration": 8,
    "start_time": "2021-12-21T08:40:58.916Z"
   },
   {
    "duration": 636,
    "start_time": "2021-12-21T08:40:58.927Z"
   },
   {
    "duration": 703,
    "start_time": "2021-12-21T08:40:59.565Z"
   },
   {
    "duration": 22,
    "start_time": "2021-12-21T08:41:00.270Z"
   },
   {
    "duration": 4,
    "start_time": "2021-12-21T08:41:00.294Z"
   },
   {
    "duration": 607,
    "start_time": "2021-12-21T08:41:00.300Z"
   },
   {
    "duration": 86,
    "start_time": "2021-12-21T08:41:00.909Z"
   },
   {
    "duration": 37,
    "start_time": "2021-12-21T08:41:00.997Z"
   },
   {
    "duration": 23,
    "start_time": "2021-12-21T08:41:01.036Z"
   },
   {
    "duration": 575,
    "start_time": "2021-12-21T08:41:01.091Z"
   },
   {
    "duration": 8,
    "start_time": "2021-12-21T08:41:01.668Z"
   },
   {
    "duration": 53,
    "start_time": "2021-12-21T08:41:01.678Z"
   },
   {
    "duration": 15,
    "start_time": "2021-12-21T08:41:01.733Z"
   },
   {
    "duration": 593,
    "start_time": "2021-12-21T08:41:01.749Z"
   },
   {
    "duration": 12,
    "start_time": "2021-12-21T08:41:02.344Z"
   },
   {
    "duration": 147,
    "start_time": "2021-12-21T08:41:02.358Z"
   },
   {
    "duration": 26,
    "start_time": "2021-12-21T08:41:02.509Z"
   },
   {
    "duration": 6,
    "start_time": "2021-12-21T08:41:02.538Z"
   },
   {
    "duration": 21,
    "start_time": "2021-12-21T08:41:02.546Z"
   },
   {
    "duration": 36,
    "start_time": "2021-12-21T08:41:02.568Z"
   },
   {
    "duration": 13,
    "start_time": "2021-12-21T08:41:02.605Z"
   },
   {
    "duration": 7,
    "start_time": "2021-12-21T08:41:02.619Z"
   },
   {
    "duration": 36,
    "start_time": "2021-12-21T08:41:02.628Z"
   },
   {
    "duration": 34,
    "start_time": "2021-12-21T08:41:02.665Z"
   },
   {
    "duration": 38,
    "start_time": "2021-12-21T08:41:02.701Z"
   },
   {
    "duration": 17,
    "start_time": "2021-12-21T08:41:02.741Z"
   },
   {
    "duration": 19,
    "start_time": "2021-12-21T08:41:02.759Z"
   },
   {
    "duration": 26,
    "start_time": "2021-12-21T08:41:02.780Z"
   },
   {
    "duration": 34,
    "start_time": "2021-12-21T08:41:02.807Z"
   },
   {
    "duration": 24,
    "start_time": "2021-12-21T08:41:02.843Z"
   },
   {
    "duration": 25,
    "start_time": "2021-12-21T08:41:02.869Z"
   },
   {
    "duration": 26,
    "start_time": "2021-12-21T08:41:02.895Z"
   },
   {
    "duration": 21,
    "start_time": "2021-12-21T08:41:02.923Z"
   },
   {
    "duration": 65,
    "start_time": "2021-12-21T08:41:02.946Z"
   },
   {
    "duration": 25,
    "start_time": "2021-12-21T08:41:03.013Z"
   },
   {
    "duration": 25,
    "start_time": "2021-12-21T08:41:03.039Z"
   },
   {
    "duration": 35,
    "start_time": "2021-12-21T08:41:03.066Z"
   },
   {
    "duration": 29,
    "start_time": "2021-12-21T08:41:03.103Z"
   },
   {
    "duration": 18,
    "start_time": "2021-12-21T08:41:03.133Z"
   },
   {
    "duration": 39,
    "start_time": "2021-12-21T08:41:03.152Z"
   },
   {
    "duration": 20,
    "start_time": "2021-12-21T08:41:03.193Z"
   },
   {
    "duration": 41,
    "start_time": "2021-12-21T08:41:03.215Z"
   },
   {
    "duration": 22,
    "start_time": "2021-12-21T08:41:03.257Z"
   },
   {
    "duration": 35,
    "start_time": "2021-12-21T08:41:03.280Z"
   },
   {
    "duration": 11,
    "start_time": "2021-12-21T08:41:03.316Z"
   },
   {
    "duration": 24,
    "start_time": "2021-12-21T08:41:03.328Z"
   },
   {
    "duration": 25,
    "start_time": "2021-12-21T08:41:03.353Z"
   },
   {
    "duration": 57,
    "start_time": "2021-12-21T08:41:03.379Z"
   },
   {
    "duration": 113,
    "start_time": "2021-12-21T08:41:03.438Z"
   },
   {
    "duration": 7,
    "start_time": "2021-12-21T08:41:03.553Z"
   },
   {
    "duration": 1005,
    "start_time": "2021-12-21T08:41:03.562Z"
   },
   {
    "duration": 6,
    "start_time": "2021-12-21T08:41:04.569Z"
   },
   {
    "duration": 15,
    "start_time": "2021-12-21T08:41:04.576Z"
   },
   {
    "duration": 9,
    "start_time": "2021-12-21T08:41:04.593Z"
   },
   {
    "duration": 7,
    "start_time": "2021-12-21T08:41:04.603Z"
   },
   {
    "duration": 9,
    "start_time": "2021-12-21T08:41:04.611Z"
   },
   {
    "duration": 697,
    "start_time": "2021-12-21T08:41:04.622Z"
   },
   {
    "duration": 68054,
    "start_time": "2021-12-21T08:41:05.320Z"
   },
   {
    "duration": 3,
    "start_time": "2021-12-21T08:42:13.376Z"
   },
   {
    "duration": 13,
    "start_time": "2021-12-21T08:42:13.380Z"
   },
   {
    "duration": 7607,
    "start_time": "2021-12-21T08:42:13.394Z"
   },
   {
    "duration": 533,
    "start_time": "2021-12-21T08:42:21.006Z"
   },
   {
    "duration": 4,
    "start_time": "2021-12-21T08:42:21.540Z"
   },
   {
    "duration": 1752,
    "start_time": "2021-12-21T08:42:21.545Z"
   },
   {
    "duration": 567,
    "start_time": "2021-12-21T08:42:23.299Z"
   },
   {
    "duration": 24,
    "start_time": "2021-12-21T08:42:23.868Z"
   },
   {
    "duration": 10,
    "start_time": "2021-12-21T08:42:23.894Z"
   },
   {
    "duration": 8,
    "start_time": "2021-12-21T08:42:23.906Z"
   },
   {
    "duration": 8,
    "start_time": "2021-12-21T08:43:11.886Z"
   },
   {
    "duration": 76,
    "start_time": "2021-12-21T08:43:28.102Z"
   },
   {
    "duration": 5,
    "start_time": "2021-12-21T08:45:40.934Z"
   },
   {
    "duration": 2,
    "start_time": "2021-12-21T08:47:50.533Z"
   },
   {
    "duration": 75,
    "start_time": "2021-12-21T08:48:36.153Z"
   },
   {
    "duration": 4,
    "start_time": "2021-12-21T08:48:57.072Z"
   },
   {
    "duration": 7774,
    "start_time": "2021-12-21T08:49:15.681Z"
   },
   {
    "duration": 472,
    "start_time": "2021-12-21T08:49:23.457Z"
   },
   {
    "duration": 654,
    "start_time": "2021-12-21T08:49:33.766Z"
   },
   {
    "duration": 5,
    "start_time": "2021-12-21T08:50:13.312Z"
   },
   {
    "duration": 7,
    "start_time": "2021-12-21T08:50:39.092Z"
   },
   {
    "duration": 5,
    "start_time": "2021-12-21T08:53:45.345Z"
   },
   {
    "duration": 149,
    "start_time": "2021-12-21T08:54:00.457Z"
   },
   {
    "duration": 449,
    "start_time": "2021-12-21T08:54:01.557Z"
   },
   {
    "duration": 486,
    "start_time": "2021-12-21T08:54:07.160Z"
   },
   {
    "duration": 19,
    "start_time": "2021-12-21T08:54:19.394Z"
   },
   {
    "duration": 5,
    "start_time": "2021-12-21T08:56:37.177Z"
   },
   {
    "duration": 7238,
    "start_time": "2021-12-21T08:56:40.256Z"
   },
   {
    "duration": 467,
    "start_time": "2021-12-21T08:56:47.496Z"
   },
   {
    "duration": 8,
    "start_time": "2021-12-21T08:56:54.365Z"
   },
   {
    "duration": 181,
    "start_time": "2021-12-21T08:57:55.286Z"
   },
   {
    "duration": 214,
    "start_time": "2021-12-21T08:58:11.685Z"
   },
   {
    "duration": 5,
    "start_time": "2021-12-21T09:03:33.367Z"
   },
   {
    "duration": 748,
    "start_time": "2021-12-21T09:03:37.695Z"
   },
   {
    "duration": 449,
    "start_time": "2021-12-21T09:04:11.501Z"
   },
   {
    "duration": 4,
    "start_time": "2021-12-21T09:38:04.092Z"
   },
   {
    "duration": 4,
    "start_time": "2021-12-21T09:38:40.869Z"
   },
   {
    "duration": 4,
    "start_time": "2021-12-21T09:38:49.930Z"
   },
   {
    "duration": 4,
    "start_time": "2021-12-21T09:38:53.011Z"
   },
   {
    "duration": 4,
    "start_time": "2021-12-21T09:39:09.071Z"
   },
   {
    "duration": 5,
    "start_time": "2021-12-21T09:39:26.439Z"
   },
   {
    "duration": 4,
    "start_time": "2021-12-21T09:39:30.832Z"
   },
   {
    "duration": 4,
    "start_time": "2021-12-21T09:39:35.421Z"
   },
   {
    "duration": 65,
    "start_time": "2021-12-21T09:50:34.036Z"
   },
   {
    "duration": 6,
    "start_time": "2021-12-21T09:51:04.123Z"
   },
   {
    "duration": 650,
    "start_time": "2021-12-21T09:51:08.229Z"
   },
   {
    "duration": 92373,
    "start_time": "2021-12-21T09:51:21.444Z"
   },
   {
    "duration": 1293,
    "start_time": "2021-12-21T16:37:39.890Z"
   },
   {
    "duration": 377,
    "start_time": "2021-12-21T16:37:41.185Z"
   },
   {
    "duration": 4,
    "start_time": "2021-12-21T16:37:41.565Z"
   },
   {
    "duration": 16,
    "start_time": "2021-12-21T16:37:41.571Z"
   },
   {
    "duration": 49,
    "start_time": "2021-12-21T16:37:41.589Z"
   },
   {
    "duration": 72,
    "start_time": "2021-12-21T16:37:41.640Z"
   },
   {
    "duration": 8,
    "start_time": "2021-12-21T16:37:41.713Z"
   },
   {
    "duration": 674,
    "start_time": "2021-12-21T16:37:41.724Z"
   },
   {
    "duration": 733,
    "start_time": "2021-12-21T16:37:42.401Z"
   },
   {
    "duration": 12,
    "start_time": "2021-12-21T16:37:43.136Z"
   },
   {
    "duration": 4,
    "start_time": "2021-12-21T16:37:43.150Z"
   },
   {
    "duration": 669,
    "start_time": "2021-12-21T16:37:43.155Z"
   },
   {
    "duration": 89,
    "start_time": "2021-12-21T16:37:43.826Z"
   },
   {
    "duration": 34,
    "start_time": "2021-12-21T16:37:43.917Z"
   },
   {
    "duration": 49,
    "start_time": "2021-12-21T16:37:43.953Z"
   },
   {
    "duration": 610,
    "start_time": "2021-12-21T16:37:44.004Z"
   },
   {
    "duration": 9,
    "start_time": "2021-12-21T16:37:44.616Z"
   },
   {
    "duration": 30,
    "start_time": "2021-12-21T16:37:44.626Z"
   },
   {
    "duration": 37,
    "start_time": "2021-12-21T16:37:44.658Z"
   },
   {
    "duration": 622,
    "start_time": "2021-12-21T16:37:44.700Z"
   },
   {
    "duration": 12,
    "start_time": "2021-12-21T16:37:45.324Z"
   },
   {
    "duration": 161,
    "start_time": "2021-12-21T16:37:45.338Z"
   },
   {
    "duration": 31,
    "start_time": "2021-12-21T16:37:45.505Z"
   },
   {
    "duration": 8,
    "start_time": "2021-12-21T16:37:45.539Z"
   },
   {
    "duration": 7,
    "start_time": "2021-12-21T16:37:45.549Z"
   },
   {
    "duration": 60,
    "start_time": "2021-12-21T16:37:45.557Z"
   },
   {
    "duration": 14,
    "start_time": "2021-12-21T16:37:45.620Z"
   },
   {
    "duration": 4,
    "start_time": "2021-12-21T16:37:45.636Z"
   },
   {
    "duration": 10,
    "start_time": "2021-12-21T16:37:45.642Z"
   },
   {
    "duration": 46,
    "start_time": "2021-12-21T16:37:45.654Z"
   },
   {
    "duration": 24,
    "start_time": "2021-12-21T16:37:45.703Z"
   },
   {
    "duration": 17,
    "start_time": "2021-12-21T16:37:45.729Z"
   },
   {
    "duration": 17,
    "start_time": "2021-12-21T16:37:45.747Z"
   },
   {
    "duration": 38,
    "start_time": "2021-12-21T16:37:45.765Z"
   },
   {
    "duration": 10,
    "start_time": "2021-12-21T16:37:45.806Z"
   },
   {
    "duration": 6,
    "start_time": "2021-12-21T16:37:45.818Z"
   },
   {
    "duration": 18,
    "start_time": "2021-12-21T16:37:45.826Z"
   },
   {
    "duration": 54,
    "start_time": "2021-12-21T16:37:45.846Z"
   },
   {
    "duration": 20,
    "start_time": "2021-12-21T16:37:45.903Z"
   },
   {
    "duration": 80,
    "start_time": "2021-12-21T16:37:45.925Z"
   },
   {
    "duration": 28,
    "start_time": "2021-12-21T16:37:46.007Z"
   },
   {
    "duration": 25,
    "start_time": "2021-12-21T16:37:46.036Z"
   },
   {
    "duration": 36,
    "start_time": "2021-12-21T16:37:46.063Z"
   },
   {
    "duration": 11,
    "start_time": "2021-12-21T16:37:46.102Z"
   },
   {
    "duration": 7,
    "start_time": "2021-12-21T16:37:46.115Z"
   },
   {
    "duration": 12,
    "start_time": "2021-12-21T16:37:46.123Z"
   },
   {
    "duration": 16,
    "start_time": "2021-12-21T16:37:46.137Z"
   },
   {
    "duration": 72,
    "start_time": "2021-12-21T16:37:46.154Z"
   },
   {
    "duration": 22,
    "start_time": "2021-12-21T16:37:46.228Z"
   },
   {
    "duration": 60,
    "start_time": "2021-12-21T16:37:46.252Z"
   },
   {
    "duration": 12,
    "start_time": "2021-12-21T16:37:46.313Z"
   },
   {
    "duration": 9,
    "start_time": "2021-12-21T16:37:46.326Z"
   },
   {
    "duration": 7,
    "start_time": "2021-12-21T16:37:46.337Z"
   },
   {
    "duration": 67,
    "start_time": "2021-12-21T16:37:46.346Z"
   },
   {
    "duration": 141,
    "start_time": "2021-12-21T16:37:46.415Z"
   },
   {
    "duration": 6,
    "start_time": "2021-12-21T16:37:46.557Z"
   },
   {
    "duration": 1101,
    "start_time": "2021-12-21T16:37:46.564Z"
   },
   {
    "duration": 7,
    "start_time": "2021-12-21T16:37:47.666Z"
   },
   {
    "duration": 18,
    "start_time": "2021-12-21T16:37:47.674Z"
   },
   {
    "duration": 9,
    "start_time": "2021-12-21T16:37:47.694Z"
   },
   {
    "duration": 8,
    "start_time": "2021-12-21T16:37:47.706Z"
   },
   {
    "duration": 13,
    "start_time": "2021-12-21T16:37:47.715Z"
   },
   {
    "duration": 755,
    "start_time": "2021-12-21T16:37:51.636Z"
   },
   {
    "duration": 280,
    "start_time": "2021-12-21T16:40:06.230Z"
   },
   {
    "duration": 8,
    "start_time": "2021-12-21T16:40:49.292Z"
   },
   {
    "duration": 194,
    "start_time": "2021-12-21T16:44:13.907Z"
   },
   {
    "duration": 187,
    "start_time": "2021-12-21T16:44:48.846Z"
   },
   {
    "duration": 9,
    "start_time": "2021-12-21T16:44:59.416Z"
   },
   {
    "duration": 819,
    "start_time": "2021-12-21T16:45:00.064Z"
   },
   {
    "duration": 190,
    "start_time": "2021-12-21T16:45:01.920Z"
   },
   {
    "duration": 12,
    "start_time": "2021-12-21T16:45:35.389Z"
   },
   {
    "duration": 854,
    "start_time": "2021-12-21T16:45:36.118Z"
   },
   {
    "duration": 783,
    "start_time": "2021-12-21T16:45:37.854Z"
   },
   {
    "duration": 8,
    "start_time": "2021-12-21T16:46:32.253Z"
   },
   {
    "duration": 890,
    "start_time": "2021-12-21T16:46:32.698Z"
   },
   {
    "duration": 682,
    "start_time": "2021-12-21T16:46:33.755Z"
   },
   {
    "duration": 5,
    "start_time": "2021-12-21T16:46:59.679Z"
   },
   {
    "duration": 464,
    "start_time": "2021-12-21T16:48:08.127Z"
   },
   {
    "duration": 9,
    "start_time": "2021-12-21T16:48:23.828Z"
   },
   {
    "duration": 772,
    "start_time": "2021-12-21T16:48:24.460Z"
   },
   {
    "duration": 735,
    "start_time": "2021-12-21T16:48:26.995Z"
   },
   {
    "duration": 4,
    "start_time": "2021-12-21T16:48:28.551Z"
   },
   {
    "duration": 59342,
    "start_time": "2021-12-21T16:48:43.483Z"
   },
   {
    "duration": 8,
    "start_time": "2021-12-21T16:52:51.404Z"
   },
   {
    "duration": 780,
    "start_time": "2021-12-21T16:52:52.088Z"
   },
   {
    "duration": 728,
    "start_time": "2021-12-21T16:52:53.744Z"
   },
   {
    "duration": 4,
    "start_time": "2021-12-21T16:52:57.378Z"
   },
   {
    "duration": 4,
    "start_time": "2021-12-21T16:53:43.677Z"
   },
   {
    "duration": 8,
    "start_time": "2021-12-21T17:53:12.513Z"
   },
   {
    "duration": 7,
    "start_time": "2021-12-21T17:53:35.068Z"
   },
   {
    "duration": 6,
    "start_time": "2021-12-21T17:53:38.264Z"
   },
   {
    "duration": 1185,
    "start_time": "2021-12-21T17:53:47.608Z"
   },
   {
    "duration": 1481,
    "start_time": "2021-12-21T17:55:45.538Z"
   },
   {
    "duration": 5,
    "start_time": "2021-12-21T17:56:37.372Z"
   },
   {
    "duration": 1546,
    "start_time": "2021-12-21T17:56:39.239Z"
   },
   {
    "duration": 1184,
    "start_time": "2021-12-21T17:56:44.711Z"
   },
   {
    "duration": 6,
    "start_time": "2021-12-21T17:57:02.820Z"
   },
   {
    "duration": 7469,
    "start_time": "2021-12-21T17:57:03.884Z"
   },
   {
    "duration": 167,
    "start_time": "2021-12-21T17:57:11.355Z"
   },
   {
    "duration": 595,
    "start_time": "2021-12-21T18:54:03.024Z"
   },
   {
    "duration": 5,
    "start_time": "2021-12-21T19:28:26.439Z"
   },
   {
    "duration": 3853,
    "start_time": "2021-12-21T19:28:28.927Z"
   },
   {
    "duration": 563,
    "start_time": "2021-12-21T19:28:35.625Z"
   },
   {
    "duration": 3776,
    "start_time": "2021-12-21T19:29:27.637Z"
   },
   {
    "duration": 11,
    "start_time": "2021-12-21T19:29:50.184Z"
   },
   {
    "duration": 5,
    "start_time": "2021-12-21T19:33:25.828Z"
   },
   {
    "duration": 6,
    "start_time": "2021-12-21T19:33:44.866Z"
   },
   {
    "duration": 4540,
    "start_time": "2021-12-21T19:33:50.197Z"
   },
   {
    "duration": 794,
    "start_time": "2021-12-21T19:33:54.739Z"
   },
   {
    "duration": 4001,
    "start_time": "2021-12-21T19:34:05.822Z"
   },
   {
    "duration": 13,
    "start_time": "2021-12-21T19:34:28.578Z"
   },
   {
    "duration": 537,
    "start_time": "2021-12-21T20:15:06.502Z"
   },
   {
    "duration": 3903,
    "start_time": "2021-12-21T20:15:35.907Z"
   },
   {
    "duration": 9,
    "start_time": "2021-12-21T20:15:47.005Z"
   },
   {
    "duration": 4026,
    "start_time": "2021-12-21T20:15:57.814Z"
   },
   {
    "duration": 694,
    "start_time": "2021-12-21T20:16:01.842Z"
   },
   {
    "duration": 8,
    "start_time": "2021-12-21T20:16:03.945Z"
   },
   {
    "duration": 3727,
    "start_time": "2021-12-21T20:16:41.200Z"
   },
   {
    "duration": 503,
    "start_time": "2021-12-21T20:16:44.929Z"
   },
   {
    "duration": 7,
    "start_time": "2021-12-21T20:16:47.137Z"
   },
   {
    "duration": 3841,
    "start_time": "2021-12-21T20:16:54.444Z"
   },
   {
    "duration": 537,
    "start_time": "2021-12-21T20:16:58.286Z"
   },
   {
    "duration": 8,
    "start_time": "2021-12-21T20:16:58.825Z"
   },
   {
    "duration": 14,
    "start_time": "2021-12-21T20:17:51.669Z"
   },
   {
    "duration": 1169,
    "start_time": "2021-12-21T21:16:34.738Z"
   },
   {
    "duration": 390,
    "start_time": "2021-12-21T21:16:35.909Z"
   },
   {
    "duration": 3,
    "start_time": "2021-12-21T21:16:36.302Z"
   },
   {
    "duration": 21,
    "start_time": "2021-12-21T21:16:36.307Z"
   },
   {
    "duration": 43,
    "start_time": "2021-12-21T21:16:36.329Z"
   },
   {
    "duration": 51,
    "start_time": "2021-12-21T21:16:36.374Z"
   },
   {
    "duration": 7,
    "start_time": "2021-12-21T21:16:36.427Z"
   },
   {
    "duration": 655,
    "start_time": "2021-12-21T21:16:36.437Z"
   },
   {
    "duration": 716,
    "start_time": "2021-12-21T21:16:37.094Z"
   },
   {
    "duration": 12,
    "start_time": "2021-12-21T21:16:37.812Z"
   },
   {
    "duration": 4,
    "start_time": "2021-12-21T21:16:37.826Z"
   },
   {
    "duration": 675,
    "start_time": "2021-12-21T21:16:37.832Z"
   },
   {
    "duration": 85,
    "start_time": "2021-12-21T21:16:38.509Z"
   },
   {
    "duration": 37,
    "start_time": "2021-12-21T21:16:38.596Z"
   },
   {
    "duration": 24,
    "start_time": "2021-12-21T21:16:38.635Z"
   },
   {
    "duration": 574,
    "start_time": "2021-12-21T21:16:38.691Z"
   },
   {
    "duration": 8,
    "start_time": "2021-12-21T21:16:39.267Z"
   },
   {
    "duration": 40,
    "start_time": "2021-12-21T21:16:39.277Z"
   },
   {
    "duration": 10,
    "start_time": "2021-12-21T21:16:39.318Z"
   },
   {
    "duration": 617,
    "start_time": "2021-12-21T21:16:39.330Z"
   },
   {
    "duration": 13,
    "start_time": "2021-12-21T21:16:39.949Z"
   },
   {
    "duration": 151,
    "start_time": "2021-12-21T21:16:39.963Z"
   },
   {
    "duration": 29,
    "start_time": "2021-12-21T21:16:40.118Z"
   },
   {
    "duration": 6,
    "start_time": "2021-12-21T21:16:40.150Z"
   },
   {
    "duration": 27,
    "start_time": "2021-12-21T21:16:40.158Z"
   },
   {
    "duration": 21,
    "start_time": "2021-12-21T21:16:40.191Z"
   },
   {
    "duration": 27,
    "start_time": "2021-12-21T21:16:40.214Z"
   },
   {
    "duration": 3,
    "start_time": "2021-12-21T21:16:40.243Z"
   },
   {
    "duration": 23,
    "start_time": "2021-12-21T21:16:40.248Z"
   },
   {
    "duration": 34,
    "start_time": "2021-12-21T21:16:40.272Z"
   },
   {
    "duration": 38,
    "start_time": "2021-12-21T21:16:40.308Z"
   },
   {
    "duration": 30,
    "start_time": "2021-12-21T21:16:40.348Z"
   },
   {
    "duration": 17,
    "start_time": "2021-12-21T21:16:40.379Z"
   },
   {
    "duration": 8,
    "start_time": "2021-12-21T21:16:40.397Z"
   },
   {
    "duration": 8,
    "start_time": "2021-12-21T21:16:40.407Z"
   },
   {
    "duration": 5,
    "start_time": "2021-12-21T21:16:40.416Z"
   },
   {
    "duration": 18,
    "start_time": "2021-12-21T21:16:40.423Z"
   },
   {
    "duration": 19,
    "start_time": "2021-12-21T21:16:40.443Z"
   },
   {
    "duration": 18,
    "start_time": "2021-12-21T21:16:40.492Z"
   },
   {
    "duration": 53,
    "start_time": "2021-12-21T21:16:40.511Z"
   },
   {
    "duration": 47,
    "start_time": "2021-12-21T21:16:40.566Z"
   },
   {
    "duration": 27,
    "start_time": "2021-12-21T21:16:40.614Z"
   },
   {
    "duration": 11,
    "start_time": "2021-12-21T21:16:40.643Z"
   },
   {
    "duration": 36,
    "start_time": "2021-12-21T21:16:40.655Z"
   },
   {
    "duration": 7,
    "start_time": "2021-12-21T21:16:40.693Z"
   },
   {
    "duration": 11,
    "start_time": "2021-12-21T21:16:40.701Z"
   },
   {
    "duration": 15,
    "start_time": "2021-12-21T21:16:40.713Z"
   },
   {
    "duration": 61,
    "start_time": "2021-12-21T21:16:40.730Z"
   },
   {
    "duration": 22,
    "start_time": "2021-12-21T21:16:40.793Z"
   },
   {
    "duration": 29,
    "start_time": "2021-12-21T21:16:40.816Z"
   },
   {
    "duration": 12,
    "start_time": "2021-12-21T21:16:40.846Z"
   },
   {
    "duration": 35,
    "start_time": "2021-12-21T21:16:40.859Z"
   },
   {
    "duration": 7,
    "start_time": "2021-12-21T21:16:40.896Z"
   },
   {
    "duration": 38,
    "start_time": "2021-12-21T21:16:40.904Z"
   },
   {
    "duration": 148,
    "start_time": "2021-12-21T21:16:40.944Z"
   },
   {
    "duration": 5,
    "start_time": "2021-12-21T21:16:41.094Z"
   },
   {
    "duration": 1005,
    "start_time": "2021-12-21T21:16:41.101Z"
   },
   {
    "duration": 6,
    "start_time": "2021-12-21T21:16:42.107Z"
   },
   {
    "duration": 22,
    "start_time": "2021-12-21T21:16:42.114Z"
   },
   {
    "duration": 37,
    "start_time": "2021-12-21T21:16:42.138Z"
   },
   {
    "duration": 14,
    "start_time": "2021-12-21T21:16:42.177Z"
   },
   {
    "duration": 29,
    "start_time": "2021-12-21T21:16:42.193Z"
   },
   {
    "duration": 752,
    "start_time": "2021-12-21T21:16:42.223Z"
   },
   {
    "duration": 13,
    "start_time": "2021-12-21T21:16:42.976Z"
   },
   {
    "duration": 61794,
    "start_time": "2021-12-21T21:16:42.991Z"
   },
   {
    "duration": 8,
    "start_time": "2021-12-21T21:17:44.787Z"
   },
   {
    "duration": 8,
    "start_time": "2021-12-21T21:17:44.796Z"
   },
   {
    "duration": 3960,
    "start_time": "2021-12-21T21:17:44.809Z"
   },
   {
    "duration": 522,
    "start_time": "2021-12-21T21:17:48.771Z"
   },
   {
    "duration": 3505,
    "start_time": "2021-12-21T21:17:49.295Z"
   },
   {
    "duration": 489,
    "start_time": "2021-12-21T21:17:52.802Z"
   },
   {
    "duration": 3,
    "start_time": "2021-12-21T21:17:53.293Z"
   },
   {
    "duration": 501,
    "start_time": "2021-12-21T21:17:53.298Z"
   },
   {
    "duration": 718,
    "start_time": "2021-12-21T21:17:53.800Z"
   },
   {
    "duration": 1676,
    "start_time": "2021-12-21T21:17:54.519Z"
   },
   {
    "duration": 586,
    "start_time": "2021-12-21T21:17:56.197Z"
   },
   {
    "duration": 44,
    "start_time": "2021-12-21T21:17:56.742Z"
   },
   {
    "duration": 39,
    "start_time": "2021-12-21T21:17:56.748Z"
   },
   {
    "duration": 35,
    "start_time": "2021-12-21T21:17:56.753Z"
   },
   {
    "duration": 473,
    "start_time": "2021-12-21T21:18:25.128Z"
   },
   {
    "duration": 16,
    "start_time": "2021-12-21T21:18:28.593Z"
   },
   {
    "duration": 13,
    "start_time": "2021-12-21T21:19:43.508Z"
   },
   {
    "duration": 7,
    "start_time": "2021-12-21T21:19:44.980Z"
   },
   {
    "duration": 6,
    "start_time": "2021-12-21T21:22:09.545Z"
   },
   {
    "duration": 62082,
    "start_time": "2021-12-21T21:22:41.901Z"
   },
   {
    "duration": 9,
    "start_time": "2021-12-21T21:23:43.985Z"
   },
   {
    "duration": 1287,
    "start_time": "2021-12-21T21:25:08.491Z"
   },
   {
    "duration": 207,
    "start_time": "2021-12-21T21:25:09.780Z"
   },
   {
    "duration": 3,
    "start_time": "2021-12-21T21:25:09.989Z"
   },
   {
    "duration": 21,
    "start_time": "2021-12-21T21:25:09.994Z"
   },
   {
    "duration": 48,
    "start_time": "2021-12-21T21:25:10.017Z"
   },
   {
    "duration": 68,
    "start_time": "2021-12-21T21:25:10.067Z"
   },
   {
    "duration": 8,
    "start_time": "2021-12-21T21:25:10.137Z"
   },
   {
    "duration": 619,
    "start_time": "2021-12-21T21:25:10.147Z"
   },
   {
    "duration": 721,
    "start_time": "2021-12-21T21:25:10.768Z"
   },
   {
    "duration": 17,
    "start_time": "2021-12-21T21:25:11.492Z"
   },
   {
    "duration": 5,
    "start_time": "2021-12-21T21:25:11.511Z"
   },
   {
    "duration": 667,
    "start_time": "2021-12-21T21:25:11.518Z"
   },
   {
    "duration": 77,
    "start_time": "2021-12-21T21:25:12.186Z"
   },
   {
    "duration": 53,
    "start_time": "2021-12-21T21:25:12.264Z"
   },
   {
    "duration": 23,
    "start_time": "2021-12-21T21:25:12.319Z"
   },
   {
    "duration": 622,
    "start_time": "2021-12-21T21:25:12.343Z"
   },
   {
    "duration": 9,
    "start_time": "2021-12-21T21:25:12.967Z"
   },
   {
    "duration": 41,
    "start_time": "2021-12-21T21:25:12.977Z"
   },
   {
    "duration": 10,
    "start_time": "2021-12-21T21:25:13.019Z"
   },
   {
    "duration": 603,
    "start_time": "2021-12-21T21:25:13.031Z"
   },
   {
    "duration": 12,
    "start_time": "2021-12-21T21:25:13.636Z"
   },
   {
    "duration": 149,
    "start_time": "2021-12-21T21:25:13.650Z"
   },
   {
    "duration": 29,
    "start_time": "2021-12-21T21:25:13.803Z"
   },
   {
    "duration": 7,
    "start_time": "2021-12-21T21:25:13.835Z"
   },
   {
    "duration": 8,
    "start_time": "2021-12-21T21:25:13.844Z"
   },
   {
    "duration": 52,
    "start_time": "2021-12-21T21:25:13.853Z"
   },
   {
    "duration": 14,
    "start_time": "2021-12-21T21:25:13.907Z"
   },
   {
    "duration": 5,
    "start_time": "2021-12-21T21:25:13.923Z"
   },
   {
    "duration": 10,
    "start_time": "2021-12-21T21:25:13.929Z"
   },
   {
    "duration": 10,
    "start_time": "2021-12-21T21:25:13.941Z"
   },
   {
    "duration": 58,
    "start_time": "2021-12-21T21:25:13.953Z"
   },
   {
    "duration": 17,
    "start_time": "2021-12-21T21:25:14.013Z"
   },
   {
    "duration": 19,
    "start_time": "2021-12-21T21:25:14.032Z"
   },
   {
    "duration": 38,
    "start_time": "2021-12-21T21:25:14.053Z"
   },
   {
    "duration": 8,
    "start_time": "2021-12-21T21:25:14.092Z"
   },
   {
    "duration": 17,
    "start_time": "2021-12-21T21:25:14.102Z"
   },
   {
    "duration": 25,
    "start_time": "2021-12-21T21:25:14.120Z"
   },
   {
    "duration": 17,
    "start_time": "2021-12-21T21:25:14.147Z"
   },
   {
    "duration": 26,
    "start_time": "2021-12-21T21:25:14.165Z"
   },
   {
    "duration": 55,
    "start_time": "2021-12-21T21:25:14.193Z"
   },
   {
    "duration": 44,
    "start_time": "2021-12-21T21:25:14.249Z"
   },
   {
    "duration": 27,
    "start_time": "2021-12-21T21:25:14.295Z"
   },
   {
    "duration": 10,
    "start_time": "2021-12-21T21:25:14.324Z"
   },
   {
    "duration": 7,
    "start_time": "2021-12-21T21:25:14.336Z"
   },
   {
    "duration": 8,
    "start_time": "2021-12-21T21:25:14.344Z"
   },
   {
    "duration": 41,
    "start_time": "2021-12-21T21:25:14.353Z"
   },
   {
    "duration": 16,
    "start_time": "2021-12-21T21:25:14.396Z"
   },
   {
    "duration": 38,
    "start_time": "2021-12-21T21:25:14.414Z"
   },
   {
    "duration": 43,
    "start_time": "2021-12-21T21:25:14.453Z"
   },
   {
    "duration": 28,
    "start_time": "2021-12-21T21:25:14.498Z"
   },
   {
    "duration": 11,
    "start_time": "2021-12-21T21:25:14.528Z"
   },
   {
    "duration": 24,
    "start_time": "2021-12-21T21:25:14.541Z"
   },
   {
    "duration": 18,
    "start_time": "2021-12-21T21:25:14.567Z"
   },
   {
    "duration": 51,
    "start_time": "2021-12-21T21:25:14.586Z"
   },
   {
    "duration": 120,
    "start_time": "2021-12-21T21:25:14.639Z"
   },
   {
    "duration": 6,
    "start_time": "2021-12-21T21:25:14.760Z"
   },
   {
    "duration": 1059,
    "start_time": "2021-12-21T21:25:14.767Z"
   },
   {
    "duration": 6,
    "start_time": "2021-12-21T21:25:15.828Z"
   },
   {
    "duration": 20,
    "start_time": "2021-12-21T21:25:15.836Z"
   },
   {
    "duration": 21,
    "start_time": "2021-12-21T21:25:15.858Z"
   },
   {
    "duration": 20,
    "start_time": "2021-12-21T21:25:15.880Z"
   },
   {
    "duration": 29,
    "start_time": "2021-12-21T21:25:15.901Z"
   },
   {
    "duration": 786,
    "start_time": "2021-12-21T21:25:15.931Z"
   },
   {
    "duration": 3,
    "start_time": "2021-12-21T21:25:16.719Z"
   },
   {
    "duration": 67043,
    "start_time": "2021-12-21T21:25:16.724Z"
   },
   {
    "duration": 4,
    "start_time": "2021-12-21T21:26:23.769Z"
   },
   {
    "duration": 20,
    "start_time": "2021-12-21T21:26:23.775Z"
   },
   {
    "duration": 6,
    "start_time": "2021-12-21T21:26:23.799Z"
   },
   {
    "duration": 3539,
    "start_time": "2021-12-21T21:26:23.807Z"
   },
   {
    "duration": 525,
    "start_time": "2021-12-21T21:26:27.348Z"
   },
   {
    "duration": 3492,
    "start_time": "2021-12-21T21:26:27.875Z"
   },
   {
    "duration": 500,
    "start_time": "2021-12-21T21:26:31.369Z"
   },
   {
    "duration": 5,
    "start_time": "2021-12-21T21:26:31.871Z"
   },
   {
    "duration": 510,
    "start_time": "2021-12-21T21:26:31.890Z"
   },
   {
    "duration": 691,
    "start_time": "2021-12-21T21:26:32.402Z"
   },
   {
    "duration": 509,
    "start_time": "2021-12-21T21:26:33.094Z"
   },
   {
    "duration": 627,
    "start_time": "2021-12-21T21:26:33.605Z"
   },
   {
    "duration": 10,
    "start_time": "2021-12-21T21:26:34.234Z"
   },
   {
    "duration": 17,
    "start_time": "2021-12-21T21:26:34.246Z"
   },
   {
    "duration": 32,
    "start_time": "2021-12-21T21:26:34.265Z"
   }
  ],
  "kernelspec": {
   "display_name": "Python 3",
   "language": "python",
   "name": "python3"
  },
  "language_info": {
   "codemirror_mode": {
    "name": "ipython",
    "version": 3
   },
   "file_extension": ".py",
   "mimetype": "text/x-python",
   "name": "python",
   "nbconvert_exporter": "python",
   "pygments_lexer": "ipython3",
   "version": "3.8.8"
  },
  "toc": {
   "base_numbering": 1,
   "nav_menu": {},
   "number_sections": true,
   "sideBar": true,
   "skip_h1_title": true,
   "title_cell": "Table of Contents",
   "title_sidebar": "Contents",
   "toc_cell": false,
   "toc_position": {
    "height": "calc(100% - 180px)",
    "left": "10px",
    "top": "150px",
    "width": "229.391px"
   },
   "toc_section_display": true,
   "toc_window_display": true
  }
 },
 "nbformat": 4,
 "nbformat_minor": 5
}
